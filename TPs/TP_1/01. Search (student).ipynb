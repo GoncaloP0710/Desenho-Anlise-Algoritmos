{
 "cells": [
  {
   "cell_type": "markdown",
   "metadata": {},
   "source": [
    "### `setup`"
   ]
  },
  {
   "cell_type": "code",
   "execution_count": 74,
   "metadata": {
    "id": "4sR0-z07f5J8",
    "scrolled": true
   },
   "outputs": [],
   "source": [
    "import sys\n",
    "import matplotlib.pyplot as plt\n",
    "\n",
    "from ipywidgets import interact, widgets\n",
    "from collections import namedtuple\n",
    "from IPython.display import display\n",
    "from graphviz import Digraph\n",
    "\n",
    "# adapted from https://github.com/norvig/pytudes/blob/main/ipynb/Maze.ipynb\n",
    "from Maze import random_maze, plot_maze, edge, neighbors4"
   ]
  },
  {
   "cell_type": "markdown",
   "metadata": {
    "id": "q4Ve2xykW-XO"
   },
   "source": [
    "# Chapter - Search\n",
    "\n",
    "João Pedro Neto, DI/FCUL"
   ]
  },
  {
   "cell_type": "markdown",
   "metadata": {
    "id": "XVjWO72JpcZ-"
   },
   "source": [
    "## Introduction"
   ]
  },
  {
   "cell_type": "markdown",
   "metadata": {
    "id": "ZrVcg742nsXa"
   },
   "source": [
    "Search is a very common problem in programming. The simplest examples occur when we are given a sequence of data and want to know if a given element exists and, if it does, in which position it is located. The two most typical searches are linear search and binary search.\n",
    "\n",
    "To recap, in linear search, we need an iterator that traverses the data sequence until it finds the element or reaches the end of the sequence. The complexity of this algorithm is $\\mathcal{O}(n)$.\n",
    "\n",
    "Two implementations of linear search:"
   ]
  },
  {
   "cell_type": "code",
   "execution_count": 75,
   "metadata": {
    "id": "8bnKnxYyf0UH"
   },
   "outputs": [],
   "source": [
    "def linear_search(xs, y):\n",
    "  for x in xs:\n",
    "    if x==y:\n",
    "      return True\n",
    "  return False\n",
    "\n",
    "assert linear_search([1,4,7,9], 4)"
   ]
  },
  {
   "cell_type": "code",
   "execution_count": 76,
   "metadata": {
    "id": "BwEo720mDTFE"
   },
   "outputs": [],
   "source": [
    "def linear_search(xs, y):\n",
    "  for i,x in enumerate(xs):\n",
    "    if x==y:\n",
    "      return i\n",
    "  return None\n",
    "\n",
    "assert linear_search([1,4,7,9], 4) == 1"
   ]
  },
  {
   "cell_type": "markdown",
   "metadata": {
    "id": "OhSMrrcagS80"
   },
   "source": [
    "Binary search only works if the sequence is sorted, and the elements are comparable to each other. It's a more restricted search, but when it's possible to use, it guarantees better performance because the complexity of binary search is $\\mathcal{O}(\\log n)$.\n",
    "\n",
    "The fundamental idea is to compare the element we're looking for with the middle of the list. This way, three outcomes can occur: (a) we're lucky, and the middle of the list is the element we want, (b) the middle of the list is smaller, and we need to search in the second half of the list, (c) the middle of the list is larger, and we need to search in the first half of the list.\n",
    "\n",
    "If we repeat this process, in each iteration, the sublist to search reduces by half, ensuring logarithmic complexity."
   ]
  },
  {
   "cell_type": "markdown",
   "metadata": {},
   "source": [
    "The following image shows the search for value 12 in the given list. Notice how the search interval keeps shrinking with each comparison with the element in the middle of the remaining portion to explore:\n",
    "\n",
    "<center><img src='https://raw.githubusercontent.com/jpneto/Prog.I/master/imgs/binary_search.jpg' width=450px></center>"
   ]
  },
  {
   "cell_type": "markdown",
   "metadata": {},
   "source": [
    "Here's one implementation:"
   ]
  },
  {
   "cell_type": "code",
   "execution_count": 77,
   "metadata": {
    "id": "lShUILLWkFbe"
   },
   "outputs": [],
   "source": [
    "def binary_search(xs, y):\n",
    "  i, j = 0, len(xs)-1\n",
    "  while i <= j:\n",
    "    mid = (i+j)//2  # middle index\n",
    "    if xs[mid] == y:\n",
    "      return mid\n",
    "    if xs[mid] < y:\n",
    "      i = mid+1\n",
    "    else:\n",
    "      j = mid-1\n",
    "  return None"
   ]
  },
  {
   "cell_type": "code",
   "execution_count": 78,
   "metadata": {},
   "outputs": [],
   "source": [
    "assert binary_search([1, 4, 7, 9], 4) == 1"
   ]
  },
  {
   "cell_type": "markdown",
   "metadata": {
    "id": "eb0f851c-9609-4ffa-a22e-61dd7cf45210"
   },
   "source": [
    "### Use of `bisect` module"
   ]
  },
  {
   "cell_type": "markdown",
   "metadata": {
    "id": "49e7e09e-99a3-4f37-a13e-9f69ebdebd44"
   },
   "source": [
    "To perform binary search, Python provides module `bisect`.\n"
   ]
  },
  {
   "cell_type": "code",
   "execution_count": 79,
   "metadata": {
    "executionInfo": {
     "elapsed": 542,
     "status": "ok",
     "timestamp": 1732877620641,
     "user": {
      "displayName": "Joao Pedro Neto",
      "userId": "16588413076175252494"
     },
     "user_tz": 0
    },
    "id": "47de9704-34a4-46a9-8116-83648b3ff38f"
   },
   "outputs": [],
   "source": [
    "from bisect import bisect, bisect_left, bisect_right"
   ]
  },
  {
   "cell_type": "markdown",
   "metadata": {
    "id": "e8fa06c6-cb4b-424c-852c-379f2e515763"
   },
   "source": [
    "+ Function `bisect` receives an ordered indexed type and an element of that type, and returns the index where the element must be placed to maintain order.\n",
    "+ Function `bisect_left` returns the insertion point to left of all elements with the same order\n",
    "+ Function `bisect_right` returns the insertion point to right of all elements with the same order"
   ]
  },
  {
   "cell_type": "code",
   "execution_count": 80,
   "metadata": {
    "id": "2298a49c-0742-4d58-8977-52ec18ab6014",
    "outputId": "761b2146-ba91-4406-df34-9beb3cb61be6"
   },
   "outputs": [
    {
     "name": "stdout",
     "output_type": "stream",
     "text": [
      "3\n"
     ]
    }
   ],
   "source": [
    "xs = [10,20,30,50,60,70,80] # ordered list\n",
    "idx = bisect(xs, 40)        # which index to insert 40?\n",
    "print(idx)"
   ]
  },
  {
   "cell_type": "code",
   "execution_count": 81,
   "metadata": {},
   "outputs": [
    {
     "name": "stdout",
     "output_type": "stream",
     "text": [
      "1\n"
     ]
    }
   ],
   "source": [
    "idx = bisect('acdefg', 'b')\n",
    "print(idx)"
   ]
  },
  {
   "cell_type": "markdown",
   "metadata": {
    "id": "8bff3658-2649-41c1-b17b-01fa52feca9c"
   },
   "source": [
    "There are optional parameters `lo` and `hi` that specify the sublist to search where to insert:"
   ]
  },
  {
   "cell_type": "code",
   "execution_count": 82,
   "metadata": {
    "id": "b6269fa2-98a5-4a66-afa4-1c1f62da3e58",
    "outputId": "61b25cfc-1b3a-462b-d4fb-5ccf5bbf3da4"
   },
   "outputs": [
    {
     "name": "stdout",
     "output_type": "stream",
     "text": [
      "10\n"
     ]
    }
   ],
   "source": [
    "xs = [0, 2, 4, 6, 8, 10, 12, 14, 16, 18, 20, 22, 24, 26, 28, 30, 32, 34, 36, 38]\n",
    "\n",
    "idx = bisect(xs, 7, lo=10, hi=None) # insert inside sublist xs[10:]\n",
    "print(idx)"
   ]
  },
  {
   "cell_type": "markdown",
   "metadata": {
    "id": "e70f1610-8857-44ac-a5e7-b1f71f5e8979"
   },
   "source": [
    "The function includes an optional `key` parameter, that allow us to use more complex comparisons between items:"
   ]
  },
  {
   "cell_type": "code",
   "execution_count": 83,
   "metadata": {
    "id": "3f2166d9-3d61-4e9b-b161-47b9d0730204",
    "outputId": "b3ddbdf0-08e1-4157-8b3c-057963c1cd2e"
   },
   "outputs": [
    {
     "data": {
      "text/plain": [
       "2"
      ]
     },
     "execution_count": 83,
     "metadata": {},
     "output_type": "execute_result"
    }
   ],
   "source": [
    "records = [(1,'hannah'), (5,'john'), (7,'vicky'), (11,'theresa')] # ordered by id\n",
    "\n",
    "# at what index in id 7?\n",
    "bisect_left(records, 7, key=lambda p: p[0])"
   ]
  },
  {
   "cell_type": "markdown",
   "metadata": {
    "id": "1478be33-6d5a-4ee2-99be-d99360a6399f"
   },
   "source": [
    "The key function is not applied to the search value implicitly, we need to invoke it:"
   ]
  },
  {
   "cell_type": "code",
   "execution_count": 84,
   "metadata": {
    "id": "949f45c8-ece2-4f16-8cee-59635a92004d",
    "outputId": "ca64f298-94a6-43e8-a8b0-d2cd7609c0da"
   },
   "outputs": [
    {
     "name": "stdout",
     "output_type": "stream",
     "text": [
      "3\n"
     ]
    }
   ],
   "source": [
    "xs = [0, 7, 14, 1, 8, 15, 2, 9, 3, 10, 4, 11, 5, 12, 6, 13] # order by remainder of division by 7\n",
    "\n",
    "rem7 = lambda n: n%7\n",
    "idx = bisect(xs, rem7(21), key=rem7) # need to use key() on 21 to search where to place it\n",
    "print(idx)"
   ]
  },
  {
   "cell_type": "markdown",
   "metadata": {
    "id": "becfc6a9-f9fe-4007-b301-2c192773f750"
   },
   "source": [
    "An example that converts a numeric grade into a qualitative one:"
   ]
  },
  {
   "cell_type": "code",
   "execution_count": 85,
   "metadata": {
    "colab": {
     "base_uri": "https://localhost:8080/"
    },
    "executionInfo": {
     "elapsed": 258,
     "status": "ok",
     "timestamp": 1732124295131,
     "user": {
      "displayName": "Joao Pedro Neto",
      "userId": "16588413076175252494"
     },
     "user_tz": 0
    },
    "id": "30dd3e97-5181-4060-934e-952b4d46dfff",
    "outputId": "02050a92-fc65-42c9-fa5b-2106c8bf249f"
   },
   "outputs": [
    {
     "name": "stdout",
     "output_type": "stream",
     "text": [
      "55 --> D\n",
      "23 --> F\n",
      "82 --> B\n",
      "99 --> A\n",
      "80 --> B\n"
     ]
    }
   ],
   "source": [
    "def qualitative(grade, limits=[50,70,80,90], grades='FDCBA'):\n",
    "  return grades[bisect_right(limits, grade)]\n",
    "\n",
    "for grade in [55, 23, 82, 99, 80]:\n",
    "  print(grade, '-->', qualitative(grade))"
   ]
  },
  {
   "cell_type": "markdown",
   "metadata": {
    "id": "819a4734-6945-4f2a-af35-7778431f3fcd"
   },
   "source": [
    "The next example checks if an ordered list includes a given prefix:"
   ]
  },
  {
   "cell_type": "code",
   "execution_count": 86,
   "metadata": {
    "id": "460717c7-bf7c-463e-a3b4-48ca9488eca4"
   },
   "outputs": [],
   "source": [
    "def has_prefix(words, prefix):\n",
    "  idx = bisect_left(words, prefix)\n",
    "  return words[idx].startswith(prefix) if 0<=idx<len(words) else False\n",
    "\n",
    "words = ['and', 'begin', 'march', 'mount', 'wind', 'zebra']\n",
    "\n",
    "assert     has_prefix(words, 'an')\n",
    "assert not has_prefix(words, 'ab')\n",
    "assert not has_prefix(words, 'mu')\n",
    "assert not has_prefix(words, 'zu')"
   ]
  },
  {
   "cell_type": "markdown",
   "metadata": {
    "id": "3b079fec-f744-45da-8f8a-1c08f9488ee7"
   },
   "source": [
    "If we also need to insert the element, the module provides with `insort` functions. So instead of:"
   ]
  },
  {
   "cell_type": "code",
   "execution_count": 87,
   "metadata": {
    "colab": {
     "base_uri": "https://localhost:8080/"
    },
    "executionInfo": {
     "elapsed": 437,
     "status": "ok",
     "timestamp": 1732877622754,
     "user": {
      "displayName": "Joao Pedro Neto",
      "userId": "16588413076175252494"
     },
     "user_tz": 0
    },
    "id": "a3260afd-c85d-4017-93fc-ec69179f7538",
    "outputId": "2cc9bc43-a40b-43bd-9097-8816481d6192"
   },
   "outputs": [
    {
     "data": {
      "text/plain": [
       "[10, 20, 30, 40, 50, 60, 70, 80]"
      ]
     },
     "execution_count": 87,
     "metadata": {},
     "output_type": "execute_result"
    }
   ],
   "source": [
    "item, xs = 40, [10,20,30,50,60,70,80]\n",
    "\n",
    "idx = bisect(xs, item)\n",
    "xs.insert(idx, item)\n",
    "xs"
   ]
  },
  {
   "cell_type": "markdown",
   "metadata": {
    "id": "9fa18da7-0815-43cd-a4d5-6aeb818795e8"
   },
   "source": [
    "we can simply do:"
   ]
  },
  {
   "cell_type": "code",
   "execution_count": 88,
   "metadata": {
    "colab": {
     "base_uri": "https://localhost:8080/"
    },
    "executionInfo": {
     "elapsed": 3,
     "status": "ok",
     "timestamp": 1732877624194,
     "user": {
      "displayName": "Joao Pedro Neto",
      "userId": "16588413076175252494"
     },
     "user_tz": 0
    },
    "id": "62f83dc4-9ae2-4077-bdd2-3256aefca6a0",
    "outputId": "3feb880f-af30-42e9-cc3a-e848afb993a7"
   },
   "outputs": [
    {
     "data": {
      "text/plain": [
       "[10, 20, 30, 40, 50, 60, 70, 80]"
      ]
     },
     "execution_count": 88,
     "metadata": {},
     "output_type": "execute_result"
    }
   ],
   "source": [
    "from bisect import insort\n",
    "\n",
    "item, xs = 40, [10,20,30,50,60,70,80]\n",
    "\n",
    "insort(xs, 40)\n",
    "xs"
   ]
  },
  {
   "cell_type": "markdown",
   "metadata": {
    "id": "a6429475-faf6-46d1-a7cb-805fabcb2892"
   },
   "source": [
    "The next code inserts a value in a decreasing list,"
   ]
  },
  {
   "cell_type": "code",
   "execution_count": 89,
   "metadata": {
    "id": "61fec909-f7f9-45a2-b21d-c013c65d79fd",
    "outputId": "97f86da9-abf5-40e2-fddf-61d86dfd5a27"
   },
   "outputs": [
    {
     "data": {
      "text/plain": [
       "[20, 11, 10, 8, 6, 0]"
      ]
     },
     "execution_count": 89,
     "metadata": {},
     "output_type": "execute_result"
    }
   ],
   "source": [
    "xs = [20, 11, 10, 6, 0] # decreasing list\n",
    "insort(xs, 8, key=lambda x: -x)\n",
    "xs"
   ]
  },
  {
   "cell_type": "markdown",
   "metadata": {
    "id": "-oLx187ygvk-"
   },
   "source": [
    "### Generalizing linear and binary search"
   ]
  },
  {
   "cell_type": "markdown",
   "metadata": {
    "id": "K8LAVWBDg0Wc"
   },
   "source": [
    "Consider the following points:\n",
    "\n",
    "1. The previous linear and binary searches traverse a structure, like a list, updating the position to explore. Each solution has its particular and well-defined strategy. Why not incorporate the update strategy into a parameter?\n",
    "\n",
    "2. Do we really need to use a structure like a list? What if we want to search within a continuous range of numbers? Can't we search in a more general way?\n",
    "\n",
    "3. Why always use equality in the search strategy? Why not generalize and provide any predicate $p$ that must be satisfied? Instead of returning the index where the solution is found, let's return the two indices that define the boundary, that is, the last index where $p$ is false and the first index where $p$ is true.\n",
    "\n",
    "We assume that the structure (interval, sequence) under consideration is ordered according to a given criterion, in other words, it is monotonous."
   ]
  },
  {
   "cell_type": "markdown",
   "metadata": {
    "id": "QxfHkQB8ik-E"
   },
   "source": [
    "Let's define a function `search` that receives:\n",
    "\n",
    "+ two values, $L$ and $R$ defining the search space,\n",
    "+ a predicate $p$ to satisfy,\n",
    "+ a `next_` function with the strategy to calculate the next element/index to search (by convention, it should return `None` when the search is finished).\n",
    "\n",
    "Here's a possible implementation:"
   ]
  },
  {
   "cell_type": "code",
   "execution_count": 90,
   "metadata": {
    "id": "zxgXLTYml1q8"
   },
   "outputs": [],
   "source": [
    "def search(L, R, p, next_):\n",
    "  while True:\n",
    "    m = next_(L,R) # computes the next elemento to search\n",
    "    if m is None:\n",
    "      break        # the search ended\n",
    "    if p(m):       # if m satisfies p,\n",
    "      R = m        #   search [L,m]\n",
    "    else:          # otherwise,\n",
    "      L = m        #   search [m,R]\n",
    "  return L,R"
   ]
  },
  {
   "cell_type": "markdown",
   "metadata": {
    "id": "KEcwK6Jgmg4A"
   },
   "source": [
    "The linear search can then be defined as,"
   ]
  },
  {
   "cell_type": "code",
   "execution_count": 91,
   "metadata": {
    "id": "9UuSRYX_npuo"
   },
   "outputs": [],
   "source": [
    "def linear_search(xs, y):\n",
    "  next_ = lambda L,R: L+1 if R-L > 1 else None\n",
    "  p     = lambda i: xs[i] >= y\n",
    "  L, R  = search(-1, len(xs), p, next_)\n",
    "  return R if R < len(xs) and xs[R] == y else None"
   ]
  },
  {
   "cell_type": "markdown",
   "metadata": {
    "id": "iZkEMBRjoYrQ"
   },
   "source": [
    "The `next_` function specifies that, given bounds $L$ and $R$, we should search at the next index, $L+1$, unless there are no more elements to search (i.e., when $L+1=R$). The second situation occurs because we have either found the boundary of $p$ or reached one of the original boundaries, which indicates that we haven't found an element that satisfies $p$."
   ]
  },
  {
   "cell_type": "code",
   "execution_count": 92,
   "metadata": {
    "id": "WX8zMYtmny7t"
   },
   "outputs": [],
   "source": [
    "xs = [1,2,3,4,4,4,5,6,7]\n",
    "assert linear_search(xs, 5) == 6\n",
    "assert linear_search(xs, 8) is None"
   ]
  },
  {
   "cell_type": "markdown",
   "metadata": {
    "id": "rdPEh5jXo8QG"
   },
   "source": [
    "We can also define binary search using `search`,"
   ]
  },
  {
   "cell_type": "code",
   "execution_count": 93,
   "metadata": {
    "id": "4TQOgDl9n9Td"
   },
   "outputs": [],
   "source": [
    "def binary_search(xs, y):\n",
    "  mid = lambda L,R: (L+R)//2 if R-L > 1 else None\n",
    "  p   = lambda i: xs[i] >= y\n",
    "  L, R  = search(-1, len(xs), p, mid)\n",
    "  return R if R < len(xs) and xs[R] == y else None"
   ]
  },
  {
   "cell_type": "markdown",
   "metadata": {
    "id": "9LrMTYM4F-rd"
   },
   "source": [
    "The only change is in the new strategy definition, which represents the essence of binary search."
   ]
  },
  {
   "cell_type": "code",
   "execution_count": 94,
   "metadata": {
    "id": "v04bKOTVpHnL"
   },
   "outputs": [],
   "source": [
    "xs = [1,2,3,4,4,4,5,6,7]\n",
    "assert binary_search(xs, 5) == 6\n",
    "assert binary_search(xs, 8) is None"
   ]
  },
  {
   "cell_type": "markdown",
   "metadata": {
    "id": "yjzrYlRkpPm-"
   },
   "source": [
    "This code organization makes it more explicit what the linear and binary searches have in common and what sets them apart."
   ]
  },
  {
   "cell_type": "markdown",
   "metadata": {
    "id": "nOuG_7EytWkQ"
   },
   "source": [
    "The use of the predicate `p` opens up new possibilities. We can search for more complex patterns. \n",
    "\n",
    "The following function calculates $\\sqrt{x}$ using binary search:"
   ]
  },
  {
   "cell_type": "code",
   "execution_count": 95,
   "metadata": {
    "id": "jPPO77RWtphz"
   },
   "outputs": [],
   "source": [
    "def sqrt_search(x):\n",
    "  mid  = lambda L,R,ε=1e-9: (L+R)/2 if R-L > ε else None\n",
    "  p    = lambda i: i*i >= x\n",
    "  L, R = search(0, max(x,1), p, mid)\n",
    "  return R"
   ]
  },
  {
   "cell_type": "code",
   "execution_count": 96,
   "metadata": {
    "id": "yq5KTsTNt6tJ"
   },
   "outputs": [],
   "source": [
    "from math import isclose\n",
    "\n",
    "assert isclose(sqrt_search(2),    2**0.5)\n",
    "assert isclose(sqrt_search(0.25), 0.25**0.5)"
   ]
  },
  {
   "cell_type": "markdown",
   "metadata": {
    "id": "JcRnWG6CuA1a"
   },
   "source": [
    "<font size=\"+4\" color=\"blue;green\"><b>?</b></font> Use the `search` function to calculate $x$ such that $x^x = y$, with a maximum error of nine decimal places, given a positive value $y \\geq 0.775$."
   ]
  },
  {
   "cell_type": "code",
   "execution_count": 97,
   "metadata": {
    "id": "QqWgsK8YuX_B"
   },
   "outputs": [],
   "source": [
    "def power_x(y):\n",
    "  ..."
   ]
  },
  {
   "cell_type": "code",
   "execution_count": 98,
   "metadata": {
    "id": "qgu6sCwqu0iK"
   },
   "outputs": [
    {
     "ename": "TypeError",
     "evalue": "unsupported operand type(s) for ** or pow(): 'NoneType' and 'NoneType'",
     "output_type": "error",
     "traceback": [
      "\u001b[0;31m---------------------------------------------------------------------------\u001b[0m",
      "\u001b[0;31mTypeError\u001b[0m                                 Traceback (most recent call last)",
      "Cell \u001b[0;32mIn[98], line 3\u001b[0m\n\u001b[1;32m      1\u001b[0m y \u001b[38;5;241m=\u001b[39m \u001b[38;5;241m10\u001b[39m\n\u001b[1;32m      2\u001b[0m x \u001b[38;5;241m=\u001b[39m power_x(y)\n\u001b[0;32m----> 3\u001b[0m \u001b[38;5;28;01massert\u001b[39;00m isclose(\u001b[43mx\u001b[49m\u001b[38;5;241;43m*\u001b[39;49m\u001b[38;5;241;43m*\u001b[39;49m\u001b[43mx\u001b[49m, y)\n\u001b[1;32m      5\u001b[0m y \u001b[38;5;241m=\u001b[39m \u001b[38;5;241m0.775\u001b[39m  \u001b[38;5;66;03m# for smaller values, the function in no longer monotonous\u001b[39;00m\n\u001b[1;32m      6\u001b[0m x \u001b[38;5;241m=\u001b[39m power_x(y)\n",
      "\u001b[0;31mTypeError\u001b[0m: unsupported operand type(s) for ** or pow(): 'NoneType' and 'NoneType'"
     ]
    }
   ],
   "source": [
    "y = 10\n",
    "x = power_x(y)\n",
    "assert isclose(x**x, y)\n",
    "\n",
    "y = 0.775  # for smaller values, the function in no longer monotonous\n",
    "x = power_x(y)\n",
    "assert isclose(x**x, y)"
   ]
  },
  {
   "cell_type": "markdown",
   "metadata": {
    "id": "nn555lafXLne"
   },
   "source": [
    "We just created a function that generalizes both linear and binary searches. However, we don't have to stop at this result. What if we want to search in spaces that are not numerical or have more than one dimension?\n",
    "\n",
    "In the next sections we will explore techniques that greatly expand the universe of problems we can solve with search algorithms."
   ]
  },
  {
   "cell_type": "markdown",
   "metadata": {
    "id": "zXmcTNIQiLBr"
   },
   "source": [
    "## Searching for Solutions"
   ]
  },
  {
   "cell_type": "markdown",
   "metadata": {
    "id": "n0quhHpYjTXN"
   },
   "source": [
    "Searching is a vast subject that is not limited to finding elements in a sequence or interval. A much more interesting application is the resolution of arbitrary search problems.\n",
    "\n",
    "Now, we won't be limited to searching in lists or numeric intervals. Our goal is to solve problems in which we can represent candidates for the solution in a data structure, and there is some mechanism that allows us to explore possible candidates to find one that is a solution."
   ]
  },
  {
   "cell_type": "markdown",
   "metadata": {
    "id": "TP2p5E5ikOcQ"
   },
   "source": [
    "To make this subject more concrete, let's start with some terminology:\n",
    "\n",
    "+ A **search space** $S$ is a set of values (also referred to as candidates or states) that satisfy the problem's requirements.\n",
    "\n",
    "+ The **objective function** (also called a cost function or utility function) is a criterion that maps each candidate to a numeric value.\n",
    "\n",
    "+ A **solution** is a candidate from $S$ considered optimal according to the objective function.\n",
    "\n",
    "There can be zero, one, or more solutions. If there are no solutions, the problem is considered **unsolvable**."
   ]
  },
  {
   "cell_type": "markdown",
   "metadata": {
    "id": "gYf7xcaptHlq"
   },
   "source": [
    "An example: consider the problem of maximizing the expression $x^2 + y$, knowing that $1 \\leq x \\leq 10$, and $2 \\leq y \\leq 5$.\n",
    "\n",
    "In this case, there are two requirements given by the allowable value intervals for $x$ and $y$. The search space $S$ consists of all pairs $(x, y)$ that satisfy these requirements.\n",
    "\n",
    "$$S = \\{ (x, y) : 1 \\leq x \\leq 10, 2 \\leq y \\leq 5 \\}$$\n",
    "\n",
    "For example, $(1, 2) \\in S$, but $(1, 1) \\notin S$.\n",
    "\n",
    "The objective function is\n",
    "\n",
    "$$f(x, y) = x^2 + y$$\n",
    "\n",
    "A solution to this problem is a pair $(x^*, y^*) \\in S$ whose value of the expression $x^2 + y$ is as large as possible.\n",
    "\n",
    "$$(x^*, y^*) = \\underset{x, y}{\\text{argmax}} ~ f(x, y)$$\n",
    "\n",
    "In this case, there is a unique solution in the pair $(10, 5)$ with $f(x^*, y^*) = f(10, 5) = 105$."
   ]
  },
  {
   "cell_type": "markdown",
   "metadata": {
    "id": "cctB9x8rpaL-"
   },
   "source": [
    "Traditionally, searches for solutions are divided into the following categories:\n",
    "\n",
    "+ In an **optimization problem**, we search for the optimal solution (relative to a criterion, as seen in the previous example).\n",
    "\n",
    "+ In a **decision problem**, we search for the existence of a solution. Here, the objective function is often a predicate, partitioning the candidates into solutions and non-solutions, without a preference between existing solutions. This type of approach is useful in problems where optimizing the solution is not required. For example, if we want to find a path that leads us out of a maze, we may be satisfied with the first solution found, we may not necessarily need the shortest path.\n",
    "\n",
    "+ In an **enumeration problem**, we search for all solutions. Here, the objective function is not important because there is no need to choose between the solutions found. We need to be careful in this case, as the number of solutions can be extremely large."
   ]
  },
  {
   "cell_type": "markdown",
   "metadata": {
    "id": "vHTpR3zst6Bp"
   },
   "source": [
    "Between Mathematics (e.g., in [Operations Research](https://en.wikipedia.org/wiki/Operations_research) or [Mathematical Optimization](https://en.wikipedia.org/wiki/Mathematical_optimization)) and Computer Science (e.g., in [Artificial Intelligence](https://en.wikipedia.org/wiki/Artificial_intelligence)), there exists an extensive array of different techniques for solving these types of problems.\n",
    "\n",
    "In the following sections, we will introduce some search algorithms that can be used to find solutions in a wide variety of problems, whether they are optimization, decision, or enumeration problems."
   ]
  },
  {
   "cell_type": "markdown",
   "metadata": {
    "id": "Mn_8_MvKww2B"
   },
   "source": [
    "## Backtracking Search"
   ]
  },
  {
   "cell_type": "markdown",
   "metadata": {
    "id": "3jG07jmWwzc4"
   },
   "source": [
    "How to explore a solution space?\n",
    "\n",
    "One possibility is the so-called _brute force_ approach: list all possible candidates and evaluate each one individually. This approach is straightforward to explain and implement, but it has the disadvantage of leading to algorithms with very high complexity.\n",
    "\n",
    "As a result, these programs are too slow to be practical."
   ]
  },
  {
   "cell_type": "markdown",
   "metadata": {
    "id": "vJ1LplegiHmF"
   },
   "source": [
    "Backtracking search follows a different approach. Instead of enumerating candidates blindly, it creates partial candidates and checks if they make sense according to the problem's requirements. In other words, it doesn't construct a candidate in its entirety but adds a little bit at a time. At each addition, it checks if it is not creating a value outside the solution space.\n",
    "\n",
    "If this occurs, if we have an invalid partial candidate, we stop this branch of computation and backtrack to try other possibilities."
   ]
  },
  {
   "cell_type": "markdown",
   "metadata": {
    "id": "UaeiXMEjixEG"
   },
   "source": [
    "To better understand this search and the way we need to think, let's solve some famous problems."
   ]
  },
  {
   "cell_type": "markdown",
   "metadata": {
    "id": "MoVAHGnLPQ0F"
   },
   "source": [
    "### The Eight Queens"
   ]
  },
  {
   "cell_type": "markdown",
   "metadata": {
    "id": "QEOTVCYAPSy-"
   },
   "source": [
    "This is the classic puzzle of placing eight queens on a chessboard without any of them attacking the others.\n",
    "\n",
    "The following diagram shows one possible solution:"
   ]
  },
  {
   "cell_type": "code",
   "execution_count": null,
   "metadata": {},
   "outputs": [],
   "source": [
    "# show queen solution\n",
    "def showQueens(queens, sz=0.25):\n",
    "  styles = {\n",
    "    'white': {'shape': 'square', 'width': str(sz),  'fixedsize': 'true', 'style': 'filled', 'color': 'white'},\n",
    "    'black': {'shape': 'square', 'width': str(sz),  'fixedsize': 'true', 'style': 'filled', 'color': 'lightgray'}\n",
    "  }\n",
    "  g = Digraph(engine=\"neato\")\n",
    "  dim = len(queens)\n",
    "  for i in range(dim):\n",
    "    for j in range(dim):\n",
    "      style = 'white' if (i+j) % 2 == 0 else 'black'\n",
    "      piece = '♛' if (queens[i]==j) else ''\n",
    "      coord = str(sz*i)+','+str(sz*(dim-j))+'!'\n",
    "      g.node(str(i)+','+str(j), piece, styles[style], pos=coord)\n",
    "  display(g)"
   ]
  },
  {
   "cell_type": "code",
   "execution_count": null,
   "metadata": {
    "cellView": "form",
    "colab": {
     "base_uri": "https://localhost:8080/",
     "height": 277
    },
    "executionInfo": {
     "elapsed": 394,
     "status": "ok",
     "timestamp": 1709637234301,
     "user": {
      "displayName": "Joao Pedro Neto",
      "userId": "16588413076175252494"
     },
     "user_tz": 0
    },
    "id": "hJvlmlr5PpHe",
    "outputId": "c3ada85e-b3b6-44fa-a164-acdc3e7099e3"
   },
   "outputs": [
    {
     "data": {
      "image/svg+xml": [
       "<?xml version=\"1.0\" encoding=\"UTF-8\" standalone=\"no\"?>\n",
       "<!DOCTYPE svg PUBLIC \"-//W3C//DTD SVG 1.1//EN\"\n",
       " \"http://www.w3.org/Graphics/SVG/1.1/DTD/svg11.dtd\">\n",
       "<!-- Generated by graphviz version 12.2.1 (0)\n",
       " -->\n",
       "<!-- Pages: 1 -->\n",
       "<svg width=\"152pt\" height=\"152pt\"\n",
       " viewBox=\"0.00 0.00 152.00 152.00\" xmlns=\"http://www.w3.org/2000/svg\" xmlns:xlink=\"http://www.w3.org/1999/xlink\">\n",
       "<g id=\"graph0\" class=\"graph\" transform=\"scale(1 1) rotate(0) translate(4 148)\">\n",
       "<polygon fill=\"white\" stroke=\"none\" points=\"-4,4 -4,-148 148,-148 148,4 -4,4\"/>\n",
       "<!-- 0,0 -->\n",
       "<g id=\"node1\" class=\"node\">\n",
       "<title>0,0</title>\n",
       "<polygon fill=\"white\" stroke=\"white\" points=\"18,-144 0,-144 0,-126 18,-126 18,-144\"/>\n",
       "</g>\n",
       "<!-- 0,1 -->\n",
       "<g id=\"node2\" class=\"node\">\n",
       "<title>0,1</title>\n",
       "<polygon fill=\"lightgray\" stroke=\"lightgray\" points=\"18,-126 0,-126 0,-108 18,-108 18,-126\"/>\n",
       "</g>\n",
       "<!-- 0,2 -->\n",
       "<g id=\"node3\" class=\"node\">\n",
       "<title>0,2</title>\n",
       "<polygon fill=\"white\" stroke=\"white\" points=\"18,-108 0,-108 0,-90 18,-90 18,-108\"/>\n",
       "</g>\n",
       "<!-- 0,3 -->\n",
       "<g id=\"node4\" class=\"node\">\n",
       "<title>0,3</title>\n",
       "<polygon fill=\"lightgray\" stroke=\"lightgray\" points=\"18,-90 0,-90 0,-72 18,-72 18,-90\"/>\n",
       "</g>\n",
       "<!-- 0,4 -->\n",
       "<g id=\"node5\" class=\"node\">\n",
       "<title>0,4</title>\n",
       "<polygon fill=\"white\" stroke=\"white\" points=\"18,-72 0,-72 0,-54 18,-54 18,-72\"/>\n",
       "</g>\n",
       "<!-- 0,5 -->\n",
       "<g id=\"node6\" class=\"node\">\n",
       "<title>0,5</title>\n",
       "<polygon fill=\"lightgray\" stroke=\"lightgray\" points=\"18,-54 0,-54 0,-36 18,-36 18,-54\"/>\n",
       "</g>\n",
       "<!-- 0,6 -->\n",
       "<g id=\"node7\" class=\"node\">\n",
       "<title>0,6</title>\n",
       "<polygon fill=\"white\" stroke=\"white\" points=\"18,-36 0,-36 0,-18 18,-18 18,-36\"/>\n",
       "<text text-anchor=\"middle\" x=\"9\" y=\"-21.57\" font-family=\"Times,serif\" font-size=\"14.00\">♛</text>\n",
       "</g>\n",
       "<!-- 0,7 -->\n",
       "<g id=\"node8\" class=\"node\">\n",
       "<title>0,7</title>\n",
       "<polygon fill=\"lightgray\" stroke=\"lightgray\" points=\"18,-18 0,-18 0,0 18,0 18,-18\"/>\n",
       "</g>\n",
       "<!-- 1,0 -->\n",
       "<g id=\"node9\" class=\"node\">\n",
       "<title>1,0</title>\n",
       "<polygon fill=\"lightgray\" stroke=\"lightgray\" points=\"36,-144 18,-144 18,-126 36,-126 36,-144\"/>\n",
       "</g>\n",
       "<!-- 1,1 -->\n",
       "<g id=\"node10\" class=\"node\">\n",
       "<title>1,1</title>\n",
       "<polygon fill=\"white\" stroke=\"white\" points=\"36,-126 18,-126 18,-108 36,-108 36,-126\"/>\n",
       "</g>\n",
       "<!-- 1,2 -->\n",
       "<g id=\"node11\" class=\"node\">\n",
       "<title>1,2</title>\n",
       "<polygon fill=\"lightgray\" stroke=\"lightgray\" points=\"36,-108 18,-108 18,-90 36,-90 36,-108\"/>\n",
       "</g>\n",
       "<!-- 1,3 -->\n",
       "<g id=\"node12\" class=\"node\">\n",
       "<title>1,3</title>\n",
       "<polygon fill=\"white\" stroke=\"white\" points=\"36,-90 18,-90 18,-72 36,-72 36,-90\"/>\n",
       "</g>\n",
       "<!-- 1,4 -->\n",
       "<g id=\"node13\" class=\"node\">\n",
       "<title>1,4</title>\n",
       "<polygon fill=\"lightgray\" stroke=\"lightgray\" points=\"36,-72 18,-72 18,-54 36,-54 36,-72\"/>\n",
       "<text text-anchor=\"middle\" x=\"27\" y=\"-57.58\" font-family=\"Times,serif\" font-size=\"14.00\">♛</text>\n",
       "</g>\n",
       "<!-- 1,5 -->\n",
       "<g id=\"node14\" class=\"node\">\n",
       "<title>1,5</title>\n",
       "<polygon fill=\"white\" stroke=\"white\" points=\"36,-54 18,-54 18,-36 36,-36 36,-54\"/>\n",
       "</g>\n",
       "<!-- 1,6 -->\n",
       "<g id=\"node15\" class=\"node\">\n",
       "<title>1,6</title>\n",
       "<polygon fill=\"lightgray\" stroke=\"lightgray\" points=\"36,-36 18,-36 18,-18 36,-18 36,-36\"/>\n",
       "</g>\n",
       "<!-- 1,7 -->\n",
       "<g id=\"node16\" class=\"node\">\n",
       "<title>1,7</title>\n",
       "<polygon fill=\"white\" stroke=\"white\" points=\"36,-18 18,-18 18,0 36,0 36,-18\"/>\n",
       "</g>\n",
       "<!-- 2,0 -->\n",
       "<g id=\"node17\" class=\"node\">\n",
       "<title>2,0</title>\n",
       "<polygon fill=\"white\" stroke=\"white\" points=\"54,-144 36,-144 36,-126 54,-126 54,-144\"/>\n",
       "</g>\n",
       "<!-- 2,1 -->\n",
       "<g id=\"node18\" class=\"node\">\n",
       "<title>2,1</title>\n",
       "<polygon fill=\"lightgray\" stroke=\"lightgray\" points=\"54,-126 36,-126 36,-108 54,-108 54,-126\"/>\n",
       "</g>\n",
       "<!-- 2,2 -->\n",
       "<g id=\"node19\" class=\"node\">\n",
       "<title>2,2</title>\n",
       "<polygon fill=\"white\" stroke=\"white\" points=\"54,-108 36,-108 36,-90 54,-90 54,-108\"/>\n",
       "<text text-anchor=\"middle\" x=\"45\" y=\"-93.58\" font-family=\"Times,serif\" font-size=\"14.00\">♛</text>\n",
       "</g>\n",
       "<!-- 2,3 -->\n",
       "<g id=\"node20\" class=\"node\">\n",
       "<title>2,3</title>\n",
       "<polygon fill=\"lightgray\" stroke=\"lightgray\" points=\"54,-90 36,-90 36,-72 54,-72 54,-90\"/>\n",
       "</g>\n",
       "<!-- 2,4 -->\n",
       "<g id=\"node21\" class=\"node\">\n",
       "<title>2,4</title>\n",
       "<polygon fill=\"white\" stroke=\"white\" points=\"54,-72 36,-72 36,-54 54,-54 54,-72\"/>\n",
       "</g>\n",
       "<!-- 2,5 -->\n",
       "<g id=\"node22\" class=\"node\">\n",
       "<title>2,5</title>\n",
       "<polygon fill=\"lightgray\" stroke=\"lightgray\" points=\"54,-54 36,-54 36,-36 54,-36 54,-54\"/>\n",
       "</g>\n",
       "<!-- 2,6 -->\n",
       "<g id=\"node23\" class=\"node\">\n",
       "<title>2,6</title>\n",
       "<polygon fill=\"white\" stroke=\"white\" points=\"54,-36 36,-36 36,-18 54,-18 54,-36\"/>\n",
       "</g>\n",
       "<!-- 2,7 -->\n",
       "<g id=\"node24\" class=\"node\">\n",
       "<title>2,7</title>\n",
       "<polygon fill=\"lightgray\" stroke=\"lightgray\" points=\"54,-18 36,-18 36,0 54,0 54,-18\"/>\n",
       "</g>\n",
       "<!-- 3,0 -->\n",
       "<g id=\"node25\" class=\"node\">\n",
       "<title>3,0</title>\n",
       "<polygon fill=\"lightgray\" stroke=\"lightgray\" points=\"72,-144 54,-144 54,-126 72,-126 72,-144\"/>\n",
       "<text text-anchor=\"middle\" x=\"63\" y=\"-129.57\" font-family=\"Times,serif\" font-size=\"14.00\">♛</text>\n",
       "</g>\n",
       "<!-- 3,1 -->\n",
       "<g id=\"node26\" class=\"node\">\n",
       "<title>3,1</title>\n",
       "<polygon fill=\"white\" stroke=\"white\" points=\"72,-126 54,-126 54,-108 72,-108 72,-126\"/>\n",
       "</g>\n",
       "<!-- 3,2 -->\n",
       "<g id=\"node27\" class=\"node\">\n",
       "<title>3,2</title>\n",
       "<polygon fill=\"lightgray\" stroke=\"lightgray\" points=\"72,-108 54,-108 54,-90 72,-90 72,-108\"/>\n",
       "</g>\n",
       "<!-- 3,3 -->\n",
       "<g id=\"node28\" class=\"node\">\n",
       "<title>3,3</title>\n",
       "<polygon fill=\"white\" stroke=\"white\" points=\"72,-90 54,-90 54,-72 72,-72 72,-90\"/>\n",
       "</g>\n",
       "<!-- 3,4 -->\n",
       "<g id=\"node29\" class=\"node\">\n",
       "<title>3,4</title>\n",
       "<polygon fill=\"lightgray\" stroke=\"lightgray\" points=\"72,-72 54,-72 54,-54 72,-54 72,-72\"/>\n",
       "</g>\n",
       "<!-- 3,5 -->\n",
       "<g id=\"node30\" class=\"node\">\n",
       "<title>3,5</title>\n",
       "<polygon fill=\"white\" stroke=\"white\" points=\"72,-54 54,-54 54,-36 72,-36 72,-54\"/>\n",
       "</g>\n",
       "<!-- 3,6 -->\n",
       "<g id=\"node31\" class=\"node\">\n",
       "<title>3,6</title>\n",
       "<polygon fill=\"lightgray\" stroke=\"lightgray\" points=\"72,-36 54,-36 54,-18 72,-18 72,-36\"/>\n",
       "</g>\n",
       "<!-- 3,7 -->\n",
       "<g id=\"node32\" class=\"node\">\n",
       "<title>3,7</title>\n",
       "<polygon fill=\"white\" stroke=\"white\" points=\"72,-18 54,-18 54,0 72,0 72,-18\"/>\n",
       "</g>\n",
       "<!-- 4,0 -->\n",
       "<g id=\"node33\" class=\"node\">\n",
       "<title>4,0</title>\n",
       "<polygon fill=\"white\" stroke=\"white\" points=\"90,-144 72,-144 72,-126 90,-126 90,-144\"/>\n",
       "</g>\n",
       "<!-- 4,1 -->\n",
       "<g id=\"node34\" class=\"node\">\n",
       "<title>4,1</title>\n",
       "<polygon fill=\"lightgray\" stroke=\"lightgray\" points=\"90,-126 72,-126 72,-108 90,-108 90,-126\"/>\n",
       "</g>\n",
       "<!-- 4,2 -->\n",
       "<g id=\"node35\" class=\"node\">\n",
       "<title>4,2</title>\n",
       "<polygon fill=\"white\" stroke=\"white\" points=\"90,-108 72,-108 72,-90 90,-90 90,-108\"/>\n",
       "</g>\n",
       "<!-- 4,3 -->\n",
       "<g id=\"node36\" class=\"node\">\n",
       "<title>4,3</title>\n",
       "<polygon fill=\"lightgray\" stroke=\"lightgray\" points=\"90,-90 72,-90 72,-72 90,-72 90,-90\"/>\n",
       "</g>\n",
       "<!-- 4,4 -->\n",
       "<g id=\"node37\" class=\"node\">\n",
       "<title>4,4</title>\n",
       "<polygon fill=\"white\" stroke=\"white\" points=\"90,-72 72,-72 72,-54 90,-54 90,-72\"/>\n",
       "</g>\n",
       "<!-- 4,5 -->\n",
       "<g id=\"node38\" class=\"node\">\n",
       "<title>4,5</title>\n",
       "<polygon fill=\"lightgray\" stroke=\"lightgray\" points=\"90,-54 72,-54 72,-36 90,-36 90,-54\"/>\n",
       "<text text-anchor=\"middle\" x=\"81\" y=\"-39.58\" font-family=\"Times,serif\" font-size=\"14.00\">♛</text>\n",
       "</g>\n",
       "<!-- 4,6 -->\n",
       "<g id=\"node39\" class=\"node\">\n",
       "<title>4,6</title>\n",
       "<polygon fill=\"white\" stroke=\"white\" points=\"90,-36 72,-36 72,-18 90,-18 90,-36\"/>\n",
       "</g>\n",
       "<!-- 4,7 -->\n",
       "<g id=\"node40\" class=\"node\">\n",
       "<title>4,7</title>\n",
       "<polygon fill=\"lightgray\" stroke=\"lightgray\" points=\"90,-18 72,-18 72,0 90,0 90,-18\"/>\n",
       "</g>\n",
       "<!-- 5,0 -->\n",
       "<g id=\"node41\" class=\"node\">\n",
       "<title>5,0</title>\n",
       "<polygon fill=\"lightgray\" stroke=\"lightgray\" points=\"108,-144 90,-144 90,-126 108,-126 108,-144\"/>\n",
       "</g>\n",
       "<!-- 5,1 -->\n",
       "<g id=\"node42\" class=\"node\">\n",
       "<title>5,1</title>\n",
       "<polygon fill=\"white\" stroke=\"white\" points=\"108,-126 90,-126 90,-108 108,-108 108,-126\"/>\n",
       "</g>\n",
       "<!-- 5,2 -->\n",
       "<g id=\"node43\" class=\"node\">\n",
       "<title>5,2</title>\n",
       "<polygon fill=\"lightgray\" stroke=\"lightgray\" points=\"108,-108 90,-108 90,-90 108,-90 108,-108\"/>\n",
       "</g>\n",
       "<!-- 5,3 -->\n",
       "<g id=\"node44\" class=\"node\">\n",
       "<title>5,3</title>\n",
       "<polygon fill=\"white\" stroke=\"white\" points=\"108,-90 90,-90 90,-72 108,-72 108,-90\"/>\n",
       "</g>\n",
       "<!-- 5,4 -->\n",
       "<g id=\"node45\" class=\"node\">\n",
       "<title>5,4</title>\n",
       "<polygon fill=\"lightgray\" stroke=\"lightgray\" points=\"108,-72 90,-72 90,-54 108,-54 108,-72\"/>\n",
       "</g>\n",
       "<!-- 5,5 -->\n",
       "<g id=\"node46\" class=\"node\">\n",
       "<title>5,5</title>\n",
       "<polygon fill=\"white\" stroke=\"white\" points=\"108,-54 90,-54 90,-36 108,-36 108,-54\"/>\n",
       "</g>\n",
       "<!-- 5,6 -->\n",
       "<g id=\"node47\" class=\"node\">\n",
       "<title>5,6</title>\n",
       "<polygon fill=\"lightgray\" stroke=\"lightgray\" points=\"108,-36 90,-36 90,-18 108,-18 108,-36\"/>\n",
       "</g>\n",
       "<!-- 5,7 -->\n",
       "<g id=\"node48\" class=\"node\">\n",
       "<title>5,7</title>\n",
       "<polygon fill=\"white\" stroke=\"white\" points=\"108,-18 90,-18 90,0 108,0 108,-18\"/>\n",
       "<text text-anchor=\"middle\" x=\"99\" y=\"-3.58\" font-family=\"Times,serif\" font-size=\"14.00\">♛</text>\n",
       "</g>\n",
       "<!-- 6,0 -->\n",
       "<g id=\"node49\" class=\"node\">\n",
       "<title>6,0</title>\n",
       "<polygon fill=\"white\" stroke=\"white\" points=\"126,-144 108,-144 108,-126 126,-126 126,-144\"/>\n",
       "</g>\n",
       "<!-- 6,1 -->\n",
       "<g id=\"node50\" class=\"node\">\n",
       "<title>6,1</title>\n",
       "<polygon fill=\"lightgray\" stroke=\"lightgray\" points=\"126,-126 108,-126 108,-108 126,-108 126,-126\"/>\n",
       "<text text-anchor=\"middle\" x=\"117\" y=\"-111.58\" font-family=\"Times,serif\" font-size=\"14.00\">♛</text>\n",
       "</g>\n",
       "<!-- 6,2 -->\n",
       "<g id=\"node51\" class=\"node\">\n",
       "<title>6,2</title>\n",
       "<polygon fill=\"white\" stroke=\"white\" points=\"126,-108 108,-108 108,-90 126,-90 126,-108\"/>\n",
       "</g>\n",
       "<!-- 6,3 -->\n",
       "<g id=\"node52\" class=\"node\">\n",
       "<title>6,3</title>\n",
       "<polygon fill=\"lightgray\" stroke=\"lightgray\" points=\"126,-90 108,-90 108,-72 126,-72 126,-90\"/>\n",
       "</g>\n",
       "<!-- 6,4 -->\n",
       "<g id=\"node53\" class=\"node\">\n",
       "<title>6,4</title>\n",
       "<polygon fill=\"white\" stroke=\"white\" points=\"126,-72 108,-72 108,-54 126,-54 126,-72\"/>\n",
       "</g>\n",
       "<!-- 6,5 -->\n",
       "<g id=\"node54\" class=\"node\">\n",
       "<title>6,5</title>\n",
       "<polygon fill=\"lightgray\" stroke=\"lightgray\" points=\"126,-54 108,-54 108,-36 126,-36 126,-54\"/>\n",
       "</g>\n",
       "<!-- 6,6 -->\n",
       "<g id=\"node55\" class=\"node\">\n",
       "<title>6,6</title>\n",
       "<polygon fill=\"white\" stroke=\"white\" points=\"126,-36 108,-36 108,-18 126,-18 126,-36\"/>\n",
       "</g>\n",
       "<!-- 6,7 -->\n",
       "<g id=\"node56\" class=\"node\">\n",
       "<title>6,7</title>\n",
       "<polygon fill=\"lightgray\" stroke=\"lightgray\" points=\"126,-18 108,-18 108,0 126,0 126,-18\"/>\n",
       "</g>\n",
       "<!-- 7,0 -->\n",
       "<g id=\"node57\" class=\"node\">\n",
       "<title>7,0</title>\n",
       "<polygon fill=\"lightgray\" stroke=\"lightgray\" points=\"144,-144 126,-144 126,-126 144,-126 144,-144\"/>\n",
       "</g>\n",
       "<!-- 7,1 -->\n",
       "<g id=\"node58\" class=\"node\">\n",
       "<title>7,1</title>\n",
       "<polygon fill=\"white\" stroke=\"white\" points=\"144,-126 126,-126 126,-108 144,-108 144,-126\"/>\n",
       "</g>\n",
       "<!-- 7,2 -->\n",
       "<g id=\"node59\" class=\"node\">\n",
       "<title>7,2</title>\n",
       "<polygon fill=\"lightgray\" stroke=\"lightgray\" points=\"144,-108 126,-108 126,-90 144,-90 144,-108\"/>\n",
       "</g>\n",
       "<!-- 7,3 -->\n",
       "<g id=\"node60\" class=\"node\">\n",
       "<title>7,3</title>\n",
       "<polygon fill=\"white\" stroke=\"white\" points=\"144,-90 126,-90 126,-72 144,-72 144,-90\"/>\n",
       "<text text-anchor=\"middle\" x=\"135\" y=\"-75.58\" font-family=\"Times,serif\" font-size=\"14.00\">♛</text>\n",
       "</g>\n",
       "<!-- 7,4 -->\n",
       "<g id=\"node61\" class=\"node\">\n",
       "<title>7,4</title>\n",
       "<polygon fill=\"lightgray\" stroke=\"lightgray\" points=\"144,-72 126,-72 126,-54 144,-54 144,-72\"/>\n",
       "</g>\n",
       "<!-- 7,5 -->\n",
       "<g id=\"node62\" class=\"node\">\n",
       "<title>7,5</title>\n",
       "<polygon fill=\"white\" stroke=\"white\" points=\"144,-54 126,-54 126,-36 144,-36 144,-54\"/>\n",
       "</g>\n",
       "<!-- 7,6 -->\n",
       "<g id=\"node63\" class=\"node\">\n",
       "<title>7,6</title>\n",
       "<polygon fill=\"lightgray\" stroke=\"lightgray\" points=\"144,-36 126,-36 126,-18 144,-18 144,-36\"/>\n",
       "</g>\n",
       "<!-- 7,7 -->\n",
       "<g id=\"node64\" class=\"node\">\n",
       "<title>7,7</title>\n",
       "<polygon fill=\"white\" stroke=\"white\" points=\"144,-18 126,-18 126,0 144,0 144,-18\"/>\n",
       "</g>\n",
       "</g>\n",
       "</svg>\n"
      ],
      "text/plain": [
       "<graphviz.graphs.Digraph at 0x7e3178fc3360>"
      ]
     },
     "metadata": {},
     "output_type": "display_data"
    }
   ],
   "source": [
    "showQueens([6,4,2,0,5,7,1,3], 0.25)"
   ]
  },
  {
   "cell_type": "markdown",
   "metadata": {
    "id": "mPEdd1BIu8gD"
   },
   "source": [
    "How to represent a chessboard with queens? It's not always easy to find a good representation for the problem. This decision is crucial because a good representation makes the implementation easier and even has consequences in the algorithm's efficiency.\n",
    "\n",
    "The chosen option here is to represent the board with lists of numbers. Each list index corresponds to a column, and each number indicates the position -- i.e., the row -- of the queen in that column. The representation of the previous board is given by the list `[6, 4, 2, 0, 5, 7, 1, 3]`.\n",
    "\n",
    "This representation saves memory (only eight numbers to represent 64 squares) and enforces an invariant: by definition, there can't be two queens in the same column.\n",
    "\n",
    "It also helps us define partial candidates. For example, the list `[3, 1, 7]` represents the situation where we have placed only the first three queens:"
   ]
  },
  {
   "cell_type": "code",
   "execution_count": null,
   "metadata": {
    "cellView": "form",
    "colab": {
     "base_uri": "https://localhost:8080/",
     "height": 277
    },
    "executionInfo": {
     "elapsed": 7,
     "status": "ok",
     "timestamp": 1709042038994,
     "user": {
      "displayName": "Joao Pedro Neto",
      "userId": "16588413076175252494"
     },
     "user_tz": 0
    },
    "id": "qL5OrlCiRyIB",
    "outputId": "487630ba-5fec-4b0e-9601-656aae469d4f"
   },
   "outputs": [
    {
     "data": {
      "image/svg+xml": [
       "<?xml version=\"1.0\" encoding=\"UTF-8\" standalone=\"no\"?>\n",
       "<!DOCTYPE svg PUBLIC \"-//W3C//DTD SVG 1.1//EN\"\n",
       " \"http://www.w3.org/Graphics/SVG/1.1/DTD/svg11.dtd\">\n",
       "<!-- Generated by graphviz version 9.0.0 (0)\n",
       " -->\n",
       "<!-- Pages: 1 -->\n",
       "<svg width=\"152pt\" height=\"152pt\"\n",
       " viewBox=\"0.00 0.00 152.00 152.00\" xmlns=\"http://www.w3.org/2000/svg\" xmlns:xlink=\"http://www.w3.org/1999/xlink\">\n",
       "<g id=\"graph0\" class=\"graph\" transform=\"scale(1 1) rotate(0) translate(4 148)\">\n",
       "<polygon fill=\"white\" stroke=\"none\" points=\"-4,4 -4,-148 148,-148 148,4 -4,4\"/>\n",
       "<!-- 0,0 -->\n",
       "<g id=\"node1\" class=\"node\">\n",
       "<title>0,0</title>\n",
       "<polygon fill=\"white\" stroke=\"white\" points=\"18,-144 0,-144 0,-126 18,-126 18,-144\"/>\n",
       "</g>\n",
       "<!-- 0,1 -->\n",
       "<g id=\"node2\" class=\"node\">\n",
       "<title>0,1</title>\n",
       "<polygon fill=\"lightgray\" stroke=\"lightgray\" points=\"18,-126 0,-126 0,-108 18,-108 18,-126\"/>\n",
       "</g>\n",
       "<!-- 0,2 -->\n",
       "<g id=\"node3\" class=\"node\">\n",
       "<title>0,2</title>\n",
       "<polygon fill=\"white\" stroke=\"white\" points=\"18,-108 0,-108 0,-90 18,-90 18,-108\"/>\n",
       "</g>\n",
       "<!-- 0,3 -->\n",
       "<g id=\"node4\" class=\"node\">\n",
       "<title>0,3</title>\n",
       "<polygon fill=\"lightgray\" stroke=\"lightgray\" points=\"18,-90 0,-90 0,-72 18,-72 18,-90\"/>\n",
       "<text text-anchor=\"middle\" x=\"9\" y=\"-74.83\" font-family=\"Times New Roman,serif\" font-size=\"14.00\">♛</text>\n",
       "</g>\n",
       "<!-- 0,4 -->\n",
       "<g id=\"node5\" class=\"node\">\n",
       "<title>0,4</title>\n",
       "<polygon fill=\"white\" stroke=\"white\" points=\"18,-72 0,-72 0,-54 18,-54 18,-72\"/>\n",
       "</g>\n",
       "<!-- 0,5 -->\n",
       "<g id=\"node6\" class=\"node\">\n",
       "<title>0,5</title>\n",
       "<polygon fill=\"lightgray\" stroke=\"lightgray\" points=\"18,-54 0,-54 0,-36 18,-36 18,-54\"/>\n",
       "</g>\n",
       "<!-- 0,6 -->\n",
       "<g id=\"node7\" class=\"node\">\n",
       "<title>0,6</title>\n",
       "<polygon fill=\"white\" stroke=\"white\" points=\"18,-36 0,-36 0,-18 18,-18 18,-36\"/>\n",
       "</g>\n",
       "<!-- 0,7 -->\n",
       "<g id=\"node8\" class=\"node\">\n",
       "<title>0,7</title>\n",
       "<polygon fill=\"lightgray\" stroke=\"lightgray\" points=\"18,-18 0,-18 0,0 18,0 18,-18\"/>\n",
       "</g>\n",
       "<!-- 1,0 -->\n",
       "<g id=\"node9\" class=\"node\">\n",
       "<title>1,0</title>\n",
       "<polygon fill=\"lightgray\" stroke=\"lightgray\" points=\"36,-144 18,-144 18,-126 36,-126 36,-144\"/>\n",
       "</g>\n",
       "<!-- 1,1 -->\n",
       "<g id=\"node10\" class=\"node\">\n",
       "<title>1,1</title>\n",
       "<polygon fill=\"white\" stroke=\"white\" points=\"36,-126 18,-126 18,-108 36,-108 36,-126\"/>\n",
       "<text text-anchor=\"middle\" x=\"27\" y=\"-110.83\" font-family=\"Times New Roman,serif\" font-size=\"14.00\">♛</text>\n",
       "</g>\n",
       "<!-- 1,2 -->\n",
       "<g id=\"node11\" class=\"node\">\n",
       "<title>1,2</title>\n",
       "<polygon fill=\"lightgray\" stroke=\"lightgray\" points=\"36,-108 18,-108 18,-90 36,-90 36,-108\"/>\n",
       "</g>\n",
       "<!-- 1,3 -->\n",
       "<g id=\"node12\" class=\"node\">\n",
       "<title>1,3</title>\n",
       "<polygon fill=\"white\" stroke=\"white\" points=\"36,-90 18,-90 18,-72 36,-72 36,-90\"/>\n",
       "</g>\n",
       "<!-- 1,4 -->\n",
       "<g id=\"node13\" class=\"node\">\n",
       "<title>1,4</title>\n",
       "<polygon fill=\"lightgray\" stroke=\"lightgray\" points=\"36,-72 18,-72 18,-54 36,-54 36,-72\"/>\n",
       "</g>\n",
       "<!-- 1,5 -->\n",
       "<g id=\"node14\" class=\"node\">\n",
       "<title>1,5</title>\n",
       "<polygon fill=\"white\" stroke=\"white\" points=\"36,-54 18,-54 18,-36 36,-36 36,-54\"/>\n",
       "</g>\n",
       "<!-- 1,6 -->\n",
       "<g id=\"node15\" class=\"node\">\n",
       "<title>1,6</title>\n",
       "<polygon fill=\"lightgray\" stroke=\"lightgray\" points=\"36,-36 18,-36 18,-18 36,-18 36,-36\"/>\n",
       "</g>\n",
       "<!-- 1,7 -->\n",
       "<g id=\"node16\" class=\"node\">\n",
       "<title>1,7</title>\n",
       "<polygon fill=\"white\" stroke=\"white\" points=\"36,-18 18,-18 18,0 36,0 36,-18\"/>\n",
       "</g>\n",
       "<!-- 2,0 -->\n",
       "<g id=\"node17\" class=\"node\">\n",
       "<title>2,0</title>\n",
       "<polygon fill=\"white\" stroke=\"white\" points=\"54,-144 36,-144 36,-126 54,-126 54,-144\"/>\n",
       "</g>\n",
       "<!-- 2,1 -->\n",
       "<g id=\"node18\" class=\"node\">\n",
       "<title>2,1</title>\n",
       "<polygon fill=\"lightgray\" stroke=\"lightgray\" points=\"54,-126 36,-126 36,-108 54,-108 54,-126\"/>\n",
       "</g>\n",
       "<!-- 2,2 -->\n",
       "<g id=\"node19\" class=\"node\">\n",
       "<title>2,2</title>\n",
       "<polygon fill=\"white\" stroke=\"white\" points=\"54,-108 36,-108 36,-90 54,-90 54,-108\"/>\n",
       "</g>\n",
       "<!-- 2,3 -->\n",
       "<g id=\"node20\" class=\"node\">\n",
       "<title>2,3</title>\n",
       "<polygon fill=\"lightgray\" stroke=\"lightgray\" points=\"54,-90 36,-90 36,-72 54,-72 54,-90\"/>\n",
       "</g>\n",
       "<!-- 2,4 -->\n",
       "<g id=\"node21\" class=\"node\">\n",
       "<title>2,4</title>\n",
       "<polygon fill=\"white\" stroke=\"white\" points=\"54,-72 36,-72 36,-54 54,-54 54,-72\"/>\n",
       "</g>\n",
       "<!-- 2,5 -->\n",
       "<g id=\"node22\" class=\"node\">\n",
       "<title>2,5</title>\n",
       "<polygon fill=\"lightgray\" stroke=\"lightgray\" points=\"54,-54 36,-54 36,-36 54,-36 54,-54\"/>\n",
       "</g>\n",
       "<!-- 2,6 -->\n",
       "<g id=\"node23\" class=\"node\">\n",
       "<title>2,6</title>\n",
       "<polygon fill=\"white\" stroke=\"white\" points=\"54,-36 36,-36 36,-18 54,-18 54,-36\"/>\n",
       "</g>\n",
       "<!-- 2,7 -->\n",
       "<g id=\"node24\" class=\"node\">\n",
       "<title>2,7</title>\n",
       "<polygon fill=\"lightgray\" stroke=\"lightgray\" points=\"54,-18 36,-18 36,0 54,0 54,-18\"/>\n",
       "<text text-anchor=\"middle\" x=\"45\" y=\"-2.83\" font-family=\"Times New Roman,serif\" font-size=\"14.00\">♛</text>\n",
       "</g>\n",
       "<!-- 3,0 -->\n",
       "<g id=\"node25\" class=\"node\">\n",
       "<title>3,0</title>\n",
       "<polygon fill=\"lightgray\" stroke=\"lightgray\" points=\"72,-144 54,-144 54,-126 72,-126 72,-144\"/>\n",
       "</g>\n",
       "<!-- 3,1 -->\n",
       "<g id=\"node26\" class=\"node\">\n",
       "<title>3,1</title>\n",
       "<polygon fill=\"white\" stroke=\"white\" points=\"72,-126 54,-126 54,-108 72,-108 72,-126\"/>\n",
       "</g>\n",
       "<!-- 3,2 -->\n",
       "<g id=\"node27\" class=\"node\">\n",
       "<title>3,2</title>\n",
       "<polygon fill=\"lightgray\" stroke=\"lightgray\" points=\"72,-108 54,-108 54,-90 72,-90 72,-108\"/>\n",
       "</g>\n",
       "<!-- 3,3 -->\n",
       "<g id=\"node28\" class=\"node\">\n",
       "<title>3,3</title>\n",
       "<polygon fill=\"white\" stroke=\"white\" points=\"72,-90 54,-90 54,-72 72,-72 72,-90\"/>\n",
       "</g>\n",
       "<!-- 3,4 -->\n",
       "<g id=\"node29\" class=\"node\">\n",
       "<title>3,4</title>\n",
       "<polygon fill=\"lightgray\" stroke=\"lightgray\" points=\"72,-72 54,-72 54,-54 72,-54 72,-72\"/>\n",
       "</g>\n",
       "<!-- 3,5 -->\n",
       "<g id=\"node30\" class=\"node\">\n",
       "<title>3,5</title>\n",
       "<polygon fill=\"white\" stroke=\"white\" points=\"72,-54 54,-54 54,-36 72,-36 72,-54\"/>\n",
       "</g>\n",
       "<!-- 3,6 -->\n",
       "<g id=\"node31\" class=\"node\">\n",
       "<title>3,6</title>\n",
       "<polygon fill=\"lightgray\" stroke=\"lightgray\" points=\"72,-36 54,-36 54,-18 72,-18 72,-36\"/>\n",
       "</g>\n",
       "<!-- 3,7 -->\n",
       "<g id=\"node32\" class=\"node\">\n",
       "<title>3,7</title>\n",
       "<polygon fill=\"white\" stroke=\"white\" points=\"72,-18 54,-18 54,0 72,0 72,-18\"/>\n",
       "</g>\n",
       "<!-- 4,0 -->\n",
       "<g id=\"node33\" class=\"node\">\n",
       "<title>4,0</title>\n",
       "<polygon fill=\"white\" stroke=\"white\" points=\"90,-144 72,-144 72,-126 90,-126 90,-144\"/>\n",
       "</g>\n",
       "<!-- 4,1 -->\n",
       "<g id=\"node34\" class=\"node\">\n",
       "<title>4,1</title>\n",
       "<polygon fill=\"lightgray\" stroke=\"lightgray\" points=\"90,-126 72,-126 72,-108 90,-108 90,-126\"/>\n",
       "</g>\n",
       "<!-- 4,2 -->\n",
       "<g id=\"node35\" class=\"node\">\n",
       "<title>4,2</title>\n",
       "<polygon fill=\"white\" stroke=\"white\" points=\"90,-108 72,-108 72,-90 90,-90 90,-108\"/>\n",
       "</g>\n",
       "<!-- 4,3 -->\n",
       "<g id=\"node36\" class=\"node\">\n",
       "<title>4,3</title>\n",
       "<polygon fill=\"lightgray\" stroke=\"lightgray\" points=\"90,-90 72,-90 72,-72 90,-72 90,-90\"/>\n",
       "</g>\n",
       "<!-- 4,4 -->\n",
       "<g id=\"node37\" class=\"node\">\n",
       "<title>4,4</title>\n",
       "<polygon fill=\"white\" stroke=\"white\" points=\"90,-72 72,-72 72,-54 90,-54 90,-72\"/>\n",
       "</g>\n",
       "<!-- 4,5 -->\n",
       "<g id=\"node38\" class=\"node\">\n",
       "<title>4,5</title>\n",
       "<polygon fill=\"lightgray\" stroke=\"lightgray\" points=\"90,-54 72,-54 72,-36 90,-36 90,-54\"/>\n",
       "</g>\n",
       "<!-- 4,6 -->\n",
       "<g id=\"node39\" class=\"node\">\n",
       "<title>4,6</title>\n",
       "<polygon fill=\"white\" stroke=\"white\" points=\"90,-36 72,-36 72,-18 90,-18 90,-36\"/>\n",
       "</g>\n",
       "<!-- 4,7 -->\n",
       "<g id=\"node40\" class=\"node\">\n",
       "<title>4,7</title>\n",
       "<polygon fill=\"lightgray\" stroke=\"lightgray\" points=\"90,-18 72,-18 72,0 90,0 90,-18\"/>\n",
       "</g>\n",
       "<!-- 5,0 -->\n",
       "<g id=\"node41\" class=\"node\">\n",
       "<title>5,0</title>\n",
       "<polygon fill=\"lightgray\" stroke=\"lightgray\" points=\"108,-144 90,-144 90,-126 108,-126 108,-144\"/>\n",
       "</g>\n",
       "<!-- 5,1 -->\n",
       "<g id=\"node42\" class=\"node\">\n",
       "<title>5,1</title>\n",
       "<polygon fill=\"white\" stroke=\"white\" points=\"108,-126 90,-126 90,-108 108,-108 108,-126\"/>\n",
       "</g>\n",
       "<!-- 5,2 -->\n",
       "<g id=\"node43\" class=\"node\">\n",
       "<title>5,2</title>\n",
       "<polygon fill=\"lightgray\" stroke=\"lightgray\" points=\"108,-108 90,-108 90,-90 108,-90 108,-108\"/>\n",
       "</g>\n",
       "<!-- 5,3 -->\n",
       "<g id=\"node44\" class=\"node\">\n",
       "<title>5,3</title>\n",
       "<polygon fill=\"white\" stroke=\"white\" points=\"108,-90 90,-90 90,-72 108,-72 108,-90\"/>\n",
       "</g>\n",
       "<!-- 5,4 -->\n",
       "<g id=\"node45\" class=\"node\">\n",
       "<title>5,4</title>\n",
       "<polygon fill=\"lightgray\" stroke=\"lightgray\" points=\"108,-72 90,-72 90,-54 108,-54 108,-72\"/>\n",
       "</g>\n",
       "<!-- 5,5 -->\n",
       "<g id=\"node46\" class=\"node\">\n",
       "<title>5,5</title>\n",
       "<polygon fill=\"white\" stroke=\"white\" points=\"108,-54 90,-54 90,-36 108,-36 108,-54\"/>\n",
       "</g>\n",
       "<!-- 5,6 -->\n",
       "<g id=\"node47\" class=\"node\">\n",
       "<title>5,6</title>\n",
       "<polygon fill=\"lightgray\" stroke=\"lightgray\" points=\"108,-36 90,-36 90,-18 108,-18 108,-36\"/>\n",
       "</g>\n",
       "<!-- 5,7 -->\n",
       "<g id=\"node48\" class=\"node\">\n",
       "<title>5,7</title>\n",
       "<polygon fill=\"white\" stroke=\"white\" points=\"108,-18 90,-18 90,0 108,0 108,-18\"/>\n",
       "</g>\n",
       "<!-- 6,0 -->\n",
       "<g id=\"node49\" class=\"node\">\n",
       "<title>6,0</title>\n",
       "<polygon fill=\"white\" stroke=\"white\" points=\"126,-144 108,-144 108,-126 126,-126 126,-144\"/>\n",
       "</g>\n",
       "<!-- 6,1 -->\n",
       "<g id=\"node50\" class=\"node\">\n",
       "<title>6,1</title>\n",
       "<polygon fill=\"lightgray\" stroke=\"lightgray\" points=\"126,-126 108,-126 108,-108 126,-108 126,-126\"/>\n",
       "</g>\n",
       "<!-- 6,2 -->\n",
       "<g id=\"node51\" class=\"node\">\n",
       "<title>6,2</title>\n",
       "<polygon fill=\"white\" stroke=\"white\" points=\"126,-108 108,-108 108,-90 126,-90 126,-108\"/>\n",
       "</g>\n",
       "<!-- 6,3 -->\n",
       "<g id=\"node52\" class=\"node\">\n",
       "<title>6,3</title>\n",
       "<polygon fill=\"lightgray\" stroke=\"lightgray\" points=\"126,-90 108,-90 108,-72 126,-72 126,-90\"/>\n",
       "</g>\n",
       "<!-- 6,4 -->\n",
       "<g id=\"node53\" class=\"node\">\n",
       "<title>6,4</title>\n",
       "<polygon fill=\"white\" stroke=\"white\" points=\"126,-72 108,-72 108,-54 126,-54 126,-72\"/>\n",
       "</g>\n",
       "<!-- 6,5 -->\n",
       "<g id=\"node54\" class=\"node\">\n",
       "<title>6,5</title>\n",
       "<polygon fill=\"lightgray\" stroke=\"lightgray\" points=\"126,-54 108,-54 108,-36 126,-36 126,-54\"/>\n",
       "</g>\n",
       "<!-- 6,6 -->\n",
       "<g id=\"node55\" class=\"node\">\n",
       "<title>6,6</title>\n",
       "<polygon fill=\"white\" stroke=\"white\" points=\"126,-36 108,-36 108,-18 126,-18 126,-36\"/>\n",
       "</g>\n",
       "<!-- 6,7 -->\n",
       "<g id=\"node56\" class=\"node\">\n",
       "<title>6,7</title>\n",
       "<polygon fill=\"lightgray\" stroke=\"lightgray\" points=\"126,-18 108,-18 108,0 126,0 126,-18\"/>\n",
       "</g>\n",
       "<!-- 7,0 -->\n",
       "<g id=\"node57\" class=\"node\">\n",
       "<title>7,0</title>\n",
       "<polygon fill=\"lightgray\" stroke=\"lightgray\" points=\"144,-144 126,-144 126,-126 144,-126 144,-144\"/>\n",
       "</g>\n",
       "<!-- 7,1 -->\n",
       "<g id=\"node58\" class=\"node\">\n",
       "<title>7,1</title>\n",
       "<polygon fill=\"white\" stroke=\"white\" points=\"144,-126 126,-126 126,-108 144,-108 144,-126\"/>\n",
       "</g>\n",
       "<!-- 7,2 -->\n",
       "<g id=\"node59\" class=\"node\">\n",
       "<title>7,2</title>\n",
       "<polygon fill=\"lightgray\" stroke=\"lightgray\" points=\"144,-108 126,-108 126,-90 144,-90 144,-108\"/>\n",
       "</g>\n",
       "<!-- 7,3 -->\n",
       "<g id=\"node60\" class=\"node\">\n",
       "<title>7,3</title>\n",
       "<polygon fill=\"white\" stroke=\"white\" points=\"144,-90 126,-90 126,-72 144,-72 144,-90\"/>\n",
       "</g>\n",
       "<!-- 7,4 -->\n",
       "<g id=\"node61\" class=\"node\">\n",
       "<title>7,4</title>\n",
       "<polygon fill=\"lightgray\" stroke=\"lightgray\" points=\"144,-72 126,-72 126,-54 144,-54 144,-72\"/>\n",
       "</g>\n",
       "<!-- 7,5 -->\n",
       "<g id=\"node62\" class=\"node\">\n",
       "<title>7,5</title>\n",
       "<polygon fill=\"white\" stroke=\"white\" points=\"144,-54 126,-54 126,-36 144,-36 144,-54\"/>\n",
       "</g>\n",
       "<!-- 7,6 -->\n",
       "<g id=\"node63\" class=\"node\">\n",
       "<title>7,6</title>\n",
       "<polygon fill=\"lightgray\" stroke=\"lightgray\" points=\"144,-36 126,-36 126,-18 144,-18 144,-36\"/>\n",
       "</g>\n",
       "<!-- 7,7 -->\n",
       "<g id=\"node64\" class=\"node\">\n",
       "<title>7,7</title>\n",
       "<polygon fill=\"white\" stroke=\"white\" points=\"144,-18 126,-18 126,0 144,0 144,-18\"/>\n",
       "</g>\n",
       "</g>\n",
       "</svg>\n"
      ],
      "text/plain": [
       "<graphviz.graphs.Digraph at 0x1ff6453f190>"
      ]
     },
     "metadata": {},
     "output_type": "display_data"
    }
   ],
   "source": [
    "showQueens([3,1,7,-1,-1,-1,-1,-1]) # -1 means empty column"
   ]
  },
  {
   "cell_type": "markdown",
   "metadata": {
    "id": "j3dzFzVxpP9I"
   },
   "source": [
    "Now we need a function that tells us whether a representation of the chessboard state respects the puzzle. In other words, whether the queens already placed attack each other or not.\n",
    "\n",
    "The `isValid` predicate checks if the queen at index `n` attacks the previous ones. Notice that it doesn't check between all queens. We will see that this validation is sufficient for the algorithm we are going to implement."
   ]
  },
  {
   "cell_type": "code",
   "execution_count": null,
   "metadata": {
    "id": "fcddlJHvZHrt"
   },
   "outputs": [],
   "source": [
    "def isValid(state, n):\n",
    "  for i in range(n):\n",
    "    if ( state[i] == state[n] or         # if there's a queen in the same row\n",
    "         state[i] - state[n] == n - i or #  or in the same / diagonal\n",
    "         state[n] - state[i] == n - i ): #  or in the same \\ diagonal\n",
    "      return False\n",
    "  return True"
   ]
  },
  {
   "cell_type": "code",
   "execution_count": null,
   "metadata": {
    "id": "EpmoauM_SVVw"
   },
   "outputs": [],
   "source": [
    "# invalid: a 4th queen (index 3) attacks the 1st queen (index 0)\n",
    "assert not isValid([3,1,7,0], 3)"
   ]
  },
  {
   "cell_type": "markdown",
   "metadata": {
    "id": "x5Lwzf-_v_sb"
   },
   "source": [
    "The next function implements the search. The central idea is to create a proposal of a candidate, step by step. The function does this by placing one queen on the board at a time. In other words, these are *partial candidates* (the queens are not all placed yet).\n",
    "\n",
    "And now, here's the trick that makes this work: *if a partial candidate is invalid, there's no need to continue down that path*. This will save us a lot of computation because we avoid constructing candidates that we already know in advance are invalid.\n",
    "\n",
    "If we create a complete candidate that has been validated at every step, then we have found a solution!\n",
    "\n",
    "This search technique, where we backtrack when we encounter invalid partial candidates, is called **backtracking**."
   ]
  },
  {
   "cell_type": "code",
   "execution_count": null,
   "metadata": {
    "id": "dNw6chjzaenm"
   },
   "outputs": [],
   "source": [
    "def backtrackQueens(n=8, state=None, col=0):\n",
    "  \"\"\"  n     : board size\n",
    "       state : current board\n",
    "       col   : the column to place the next queen\n",
    "    requires : 0 < n < ~25 (greater values take too long to compute) \"\"\"\n",
    "  if state is None:\n",
    "    state = [0]*n\n",
    "\n",
    "  if col == n:\n",
    "    yield state               # found a complete solution\n",
    "  else:\n",
    "    for i in range(n):        # for each board column,\n",
    "      state[col] = i          #  place current queen at i-th row\n",
    "      if isValid(state, col): #  if this placement is valid\n",
    "        yield from backtrackQueens(n, state, col+1)  # place next queen"
   ]
  },
  {
   "cell_type": "markdown",
   "metadata": {
    "id": "2vg6R-nZUEwG"
   },
   "source": [
    "Let's find a solution:"
   ]
  },
  {
   "cell_type": "code",
   "execution_count": null,
   "metadata": {
    "colab": {
     "base_uri": "https://localhost:8080/",
     "height": 144
    },
    "executionInfo": {
     "elapsed": 300,
     "status": "error",
     "timestamp": 1710930481184,
     "user": {
      "displayName": "Joao Pedro Neto",
      "userId": "16588413076175252494"
     },
     "user_tz": 0
    },
    "id": "l-p-g8Bj20GN",
    "outputId": "e774fb2b-6794-4847-ddcb-c06ae71c8b5f"
   },
   "outputs": [],
   "source": [
    "gen = backtrackQueens(8)"
   ]
  },
  {
   "cell_type": "code",
   "execution_count": null,
   "metadata": {
    "colab": {
     "base_uri": "https://localhost:8080/",
     "height": 277
    },
    "executionInfo": {
     "elapsed": 352,
     "status": "ok",
     "timestamp": 1709042057304,
     "user": {
      "displayName": "Joao Pedro Neto",
      "userId": "16588413076175252494"
     },
     "user_tz": 0
    },
    "id": "rh8D3njT3HJt",
    "outputId": "580dc368-2adf-49e4-b931-61fdc498cab6"
   },
   "outputs": [
    {
     "data": {
      "image/svg+xml": [
       "<?xml version=\"1.0\" encoding=\"UTF-8\" standalone=\"no\"?>\n",
       "<!DOCTYPE svg PUBLIC \"-//W3C//DTD SVG 1.1//EN\"\n",
       " \"http://www.w3.org/Graphics/SVG/1.1/DTD/svg11.dtd\">\n",
       "<!-- Generated by graphviz version 9.0.0 (0)\n",
       " -->\n",
       "<!-- Pages: 1 -->\n",
       "<svg width=\"152pt\" height=\"152pt\"\n",
       " viewBox=\"0.00 0.00 152.00 152.00\" xmlns=\"http://www.w3.org/2000/svg\" xmlns:xlink=\"http://www.w3.org/1999/xlink\">\n",
       "<g id=\"graph0\" class=\"graph\" transform=\"scale(1 1) rotate(0) translate(4 148)\">\n",
       "<polygon fill=\"white\" stroke=\"none\" points=\"-4,4 -4,-148 148,-148 148,4 -4,4\"/>\n",
       "<!-- 0,0 -->\n",
       "<g id=\"node1\" class=\"node\">\n",
       "<title>0,0</title>\n",
       "<polygon fill=\"white\" stroke=\"white\" points=\"18,-144 0,-144 0,-126 18,-126 18,-144\"/>\n",
       "</g>\n",
       "<!-- 0,1 -->\n",
       "<g id=\"node2\" class=\"node\">\n",
       "<title>0,1</title>\n",
       "<polygon fill=\"lightgray\" stroke=\"lightgray\" points=\"18,-126 0,-126 0,-108 18,-108 18,-126\"/>\n",
       "<text text-anchor=\"middle\" x=\"9\" y=\"-110.83\" font-family=\"Times New Roman,serif\" font-size=\"14.00\">♛</text>\n",
       "</g>\n",
       "<!-- 0,2 -->\n",
       "<g id=\"node3\" class=\"node\">\n",
       "<title>0,2</title>\n",
       "<polygon fill=\"white\" stroke=\"white\" points=\"18,-108 0,-108 0,-90 18,-90 18,-108\"/>\n",
       "</g>\n",
       "<!-- 0,3 -->\n",
       "<g id=\"node4\" class=\"node\">\n",
       "<title>0,3</title>\n",
       "<polygon fill=\"lightgray\" stroke=\"lightgray\" points=\"18,-90 0,-90 0,-72 18,-72 18,-90\"/>\n",
       "</g>\n",
       "<!-- 0,4 -->\n",
       "<g id=\"node5\" class=\"node\">\n",
       "<title>0,4</title>\n",
       "<polygon fill=\"white\" stroke=\"white\" points=\"18,-72 0,-72 0,-54 18,-54 18,-72\"/>\n",
       "</g>\n",
       "<!-- 0,5 -->\n",
       "<g id=\"node6\" class=\"node\">\n",
       "<title>0,5</title>\n",
       "<polygon fill=\"lightgray\" stroke=\"lightgray\" points=\"18,-54 0,-54 0,-36 18,-36 18,-54\"/>\n",
       "</g>\n",
       "<!-- 0,6 -->\n",
       "<g id=\"node7\" class=\"node\">\n",
       "<title>0,6</title>\n",
       "<polygon fill=\"white\" stroke=\"white\" points=\"18,-36 0,-36 0,-18 18,-18 18,-36\"/>\n",
       "</g>\n",
       "<!-- 0,7 -->\n",
       "<g id=\"node8\" class=\"node\">\n",
       "<title>0,7</title>\n",
       "<polygon fill=\"lightgray\" stroke=\"lightgray\" points=\"18,-18 0,-18 0,0 18,0 18,-18\"/>\n",
       "</g>\n",
       "<!-- 1,0 -->\n",
       "<g id=\"node9\" class=\"node\">\n",
       "<title>1,0</title>\n",
       "<polygon fill=\"lightgray\" stroke=\"lightgray\" points=\"36,-144 18,-144 18,-126 36,-126 36,-144\"/>\n",
       "</g>\n",
       "<!-- 1,1 -->\n",
       "<g id=\"node10\" class=\"node\">\n",
       "<title>1,1</title>\n",
       "<polygon fill=\"white\" stroke=\"white\" points=\"36,-126 18,-126 18,-108 36,-108 36,-126\"/>\n",
       "</g>\n",
       "<!-- 1,2 -->\n",
       "<g id=\"node11\" class=\"node\">\n",
       "<title>1,2</title>\n",
       "<polygon fill=\"lightgray\" stroke=\"lightgray\" points=\"36,-108 18,-108 18,-90 36,-90 36,-108\"/>\n",
       "</g>\n",
       "<!-- 1,3 -->\n",
       "<g id=\"node12\" class=\"node\">\n",
       "<title>1,3</title>\n",
       "<polygon fill=\"white\" stroke=\"white\" points=\"36,-90 18,-90 18,-72 36,-72 36,-90\"/>\n",
       "</g>\n",
       "<!-- 1,4 -->\n",
       "<g id=\"node13\" class=\"node\">\n",
       "<title>1,4</title>\n",
       "<polygon fill=\"lightgray\" stroke=\"lightgray\" points=\"36,-72 18,-72 18,-54 36,-54 36,-72\"/>\n",
       "<text text-anchor=\"middle\" x=\"27\" y=\"-56.83\" font-family=\"Times New Roman,serif\" font-size=\"14.00\">♛</text>\n",
       "</g>\n",
       "<!-- 1,5 -->\n",
       "<g id=\"node14\" class=\"node\">\n",
       "<title>1,5</title>\n",
       "<polygon fill=\"white\" stroke=\"white\" points=\"36,-54 18,-54 18,-36 36,-36 36,-54\"/>\n",
       "</g>\n",
       "<!-- 1,6 -->\n",
       "<g id=\"node15\" class=\"node\">\n",
       "<title>1,6</title>\n",
       "<polygon fill=\"lightgray\" stroke=\"lightgray\" points=\"36,-36 18,-36 18,-18 36,-18 36,-36\"/>\n",
       "</g>\n",
       "<!-- 1,7 -->\n",
       "<g id=\"node16\" class=\"node\">\n",
       "<title>1,7</title>\n",
       "<polygon fill=\"white\" stroke=\"white\" points=\"36,-18 18,-18 18,0 36,0 36,-18\"/>\n",
       "</g>\n",
       "<!-- 2,0 -->\n",
       "<g id=\"node17\" class=\"node\">\n",
       "<title>2,0</title>\n",
       "<polygon fill=\"white\" stroke=\"white\" points=\"54,-144 36,-144 36,-126 54,-126 54,-144\"/>\n",
       "</g>\n",
       "<!-- 2,1 -->\n",
       "<g id=\"node18\" class=\"node\">\n",
       "<title>2,1</title>\n",
       "<polygon fill=\"lightgray\" stroke=\"lightgray\" points=\"54,-126 36,-126 36,-108 54,-108 54,-126\"/>\n",
       "</g>\n",
       "<!-- 2,2 -->\n",
       "<g id=\"node19\" class=\"node\">\n",
       "<title>2,2</title>\n",
       "<polygon fill=\"white\" stroke=\"white\" points=\"54,-108 36,-108 36,-90 54,-90 54,-108\"/>\n",
       "</g>\n",
       "<!-- 2,3 -->\n",
       "<g id=\"node20\" class=\"node\">\n",
       "<title>2,3</title>\n",
       "<polygon fill=\"lightgray\" stroke=\"lightgray\" points=\"54,-90 36,-90 36,-72 54,-72 54,-90\"/>\n",
       "</g>\n",
       "<!-- 2,4 -->\n",
       "<g id=\"node21\" class=\"node\">\n",
       "<title>2,4</title>\n",
       "<polygon fill=\"white\" stroke=\"white\" points=\"54,-72 36,-72 36,-54 54,-54 54,-72\"/>\n",
       "</g>\n",
       "<!-- 2,5 -->\n",
       "<g id=\"node22\" class=\"node\">\n",
       "<title>2,5</title>\n",
       "<polygon fill=\"lightgray\" stroke=\"lightgray\" points=\"54,-54 36,-54 36,-36 54,-36 54,-54\"/>\n",
       "</g>\n",
       "<!-- 2,6 -->\n",
       "<g id=\"node23\" class=\"node\">\n",
       "<title>2,6</title>\n",
       "<polygon fill=\"white\" stroke=\"white\" points=\"54,-36 36,-36 36,-18 54,-18 54,-36\"/>\n",
       "<text text-anchor=\"middle\" x=\"45\" y=\"-20.82\" font-family=\"Times New Roman,serif\" font-size=\"14.00\">♛</text>\n",
       "</g>\n",
       "<!-- 2,7 -->\n",
       "<g id=\"node24\" class=\"node\">\n",
       "<title>2,7</title>\n",
       "<polygon fill=\"lightgray\" stroke=\"lightgray\" points=\"54,-18 36,-18 36,0 54,0 54,-18\"/>\n",
       "</g>\n",
       "<!-- 3,0 -->\n",
       "<g id=\"node25\" class=\"node\">\n",
       "<title>3,0</title>\n",
       "<polygon fill=\"lightgray\" stroke=\"lightgray\" points=\"72,-144 54,-144 54,-126 72,-126 72,-144\"/>\n",
       "<text text-anchor=\"middle\" x=\"63\" y=\"-128.82\" font-family=\"Times New Roman,serif\" font-size=\"14.00\">♛</text>\n",
       "</g>\n",
       "<!-- 3,1 -->\n",
       "<g id=\"node26\" class=\"node\">\n",
       "<title>3,1</title>\n",
       "<polygon fill=\"white\" stroke=\"white\" points=\"72,-126 54,-126 54,-108 72,-108 72,-126\"/>\n",
       "</g>\n",
       "<!-- 3,2 -->\n",
       "<g id=\"node27\" class=\"node\">\n",
       "<title>3,2</title>\n",
       "<polygon fill=\"lightgray\" stroke=\"lightgray\" points=\"72,-108 54,-108 54,-90 72,-90 72,-108\"/>\n",
       "</g>\n",
       "<!-- 3,3 -->\n",
       "<g id=\"node28\" class=\"node\">\n",
       "<title>3,3</title>\n",
       "<polygon fill=\"white\" stroke=\"white\" points=\"72,-90 54,-90 54,-72 72,-72 72,-90\"/>\n",
       "</g>\n",
       "<!-- 3,4 -->\n",
       "<g id=\"node29\" class=\"node\">\n",
       "<title>3,4</title>\n",
       "<polygon fill=\"lightgray\" stroke=\"lightgray\" points=\"72,-72 54,-72 54,-54 72,-54 72,-72\"/>\n",
       "</g>\n",
       "<!-- 3,5 -->\n",
       "<g id=\"node30\" class=\"node\">\n",
       "<title>3,5</title>\n",
       "<polygon fill=\"white\" stroke=\"white\" points=\"72,-54 54,-54 54,-36 72,-36 72,-54\"/>\n",
       "</g>\n",
       "<!-- 3,6 -->\n",
       "<g id=\"node31\" class=\"node\">\n",
       "<title>3,6</title>\n",
       "<polygon fill=\"lightgray\" stroke=\"lightgray\" points=\"72,-36 54,-36 54,-18 72,-18 72,-36\"/>\n",
       "</g>\n",
       "<!-- 3,7 -->\n",
       "<g id=\"node32\" class=\"node\">\n",
       "<title>3,7</title>\n",
       "<polygon fill=\"white\" stroke=\"white\" points=\"72,-18 54,-18 54,0 72,0 72,-18\"/>\n",
       "</g>\n",
       "<!-- 4,0 -->\n",
       "<g id=\"node33\" class=\"node\">\n",
       "<title>4,0</title>\n",
       "<polygon fill=\"white\" stroke=\"white\" points=\"90,-144 72,-144 72,-126 90,-126 90,-144\"/>\n",
       "</g>\n",
       "<!-- 4,1 -->\n",
       "<g id=\"node34\" class=\"node\">\n",
       "<title>4,1</title>\n",
       "<polygon fill=\"lightgray\" stroke=\"lightgray\" points=\"90,-126 72,-126 72,-108 90,-108 90,-126\"/>\n",
       "</g>\n",
       "<!-- 4,2 -->\n",
       "<g id=\"node35\" class=\"node\">\n",
       "<title>4,2</title>\n",
       "<polygon fill=\"white\" stroke=\"white\" points=\"90,-108 72,-108 72,-90 90,-90 90,-108\"/>\n",
       "<text text-anchor=\"middle\" x=\"81\" y=\"-92.83\" font-family=\"Times New Roman,serif\" font-size=\"14.00\">♛</text>\n",
       "</g>\n",
       "<!-- 4,3 -->\n",
       "<g id=\"node36\" class=\"node\">\n",
       "<title>4,3</title>\n",
       "<polygon fill=\"lightgray\" stroke=\"lightgray\" points=\"90,-90 72,-90 72,-72 90,-72 90,-90\"/>\n",
       "</g>\n",
       "<!-- 4,4 -->\n",
       "<g id=\"node37\" class=\"node\">\n",
       "<title>4,4</title>\n",
       "<polygon fill=\"white\" stroke=\"white\" points=\"90,-72 72,-72 72,-54 90,-54 90,-72\"/>\n",
       "</g>\n",
       "<!-- 4,5 -->\n",
       "<g id=\"node38\" class=\"node\">\n",
       "<title>4,5</title>\n",
       "<polygon fill=\"lightgray\" stroke=\"lightgray\" points=\"90,-54 72,-54 72,-36 90,-36 90,-54\"/>\n",
       "</g>\n",
       "<!-- 4,6 -->\n",
       "<g id=\"node39\" class=\"node\">\n",
       "<title>4,6</title>\n",
       "<polygon fill=\"white\" stroke=\"white\" points=\"90,-36 72,-36 72,-18 90,-18 90,-36\"/>\n",
       "</g>\n",
       "<!-- 4,7 -->\n",
       "<g id=\"node40\" class=\"node\">\n",
       "<title>4,7</title>\n",
       "<polygon fill=\"lightgray\" stroke=\"lightgray\" points=\"90,-18 72,-18 72,0 90,0 90,-18\"/>\n",
       "</g>\n",
       "<!-- 5,0 -->\n",
       "<g id=\"node41\" class=\"node\">\n",
       "<title>5,0</title>\n",
       "<polygon fill=\"lightgray\" stroke=\"lightgray\" points=\"108,-144 90,-144 90,-126 108,-126 108,-144\"/>\n",
       "</g>\n",
       "<!-- 5,1 -->\n",
       "<g id=\"node42\" class=\"node\">\n",
       "<title>5,1</title>\n",
       "<polygon fill=\"white\" stroke=\"white\" points=\"108,-126 90,-126 90,-108 108,-108 108,-126\"/>\n",
       "</g>\n",
       "<!-- 5,2 -->\n",
       "<g id=\"node43\" class=\"node\">\n",
       "<title>5,2</title>\n",
       "<polygon fill=\"lightgray\" stroke=\"lightgray\" points=\"108,-108 90,-108 90,-90 108,-90 108,-108\"/>\n",
       "</g>\n",
       "<!-- 5,3 -->\n",
       "<g id=\"node44\" class=\"node\">\n",
       "<title>5,3</title>\n",
       "<polygon fill=\"white\" stroke=\"white\" points=\"108,-90 90,-90 90,-72 108,-72 108,-90\"/>\n",
       "</g>\n",
       "<!-- 5,4 -->\n",
       "<g id=\"node45\" class=\"node\">\n",
       "<title>5,4</title>\n",
       "<polygon fill=\"lightgray\" stroke=\"lightgray\" points=\"108,-72 90,-72 90,-54 108,-54 108,-72\"/>\n",
       "</g>\n",
       "<!-- 5,5 -->\n",
       "<g id=\"node46\" class=\"node\">\n",
       "<title>5,5</title>\n",
       "<polygon fill=\"white\" stroke=\"white\" points=\"108,-54 90,-54 90,-36 108,-36 108,-54\"/>\n",
       "</g>\n",
       "<!-- 5,6 -->\n",
       "<g id=\"node47\" class=\"node\">\n",
       "<title>5,6</title>\n",
       "<polygon fill=\"lightgray\" stroke=\"lightgray\" points=\"108,-36 90,-36 90,-18 108,-18 108,-36\"/>\n",
       "</g>\n",
       "<!-- 5,7 -->\n",
       "<g id=\"node48\" class=\"node\">\n",
       "<title>5,7</title>\n",
       "<polygon fill=\"white\" stroke=\"white\" points=\"108,-18 90,-18 90,0 108,0 108,-18\"/>\n",
       "<text text-anchor=\"middle\" x=\"99\" y=\"-2.83\" font-family=\"Times New Roman,serif\" font-size=\"14.00\">♛</text>\n",
       "</g>\n",
       "<!-- 6,0 -->\n",
       "<g id=\"node49\" class=\"node\">\n",
       "<title>6,0</title>\n",
       "<polygon fill=\"white\" stroke=\"white\" points=\"126,-144 108,-144 108,-126 126,-126 126,-144\"/>\n",
       "</g>\n",
       "<!-- 6,1 -->\n",
       "<g id=\"node50\" class=\"node\">\n",
       "<title>6,1</title>\n",
       "<polygon fill=\"lightgray\" stroke=\"lightgray\" points=\"126,-126 108,-126 108,-108 126,-108 126,-126\"/>\n",
       "</g>\n",
       "<!-- 6,2 -->\n",
       "<g id=\"node51\" class=\"node\">\n",
       "<title>6,2</title>\n",
       "<polygon fill=\"white\" stroke=\"white\" points=\"126,-108 108,-108 108,-90 126,-90 126,-108\"/>\n",
       "</g>\n",
       "<!-- 6,3 -->\n",
       "<g id=\"node52\" class=\"node\">\n",
       "<title>6,3</title>\n",
       "<polygon fill=\"lightgray\" stroke=\"lightgray\" points=\"126,-90 108,-90 108,-72 126,-72 126,-90\"/>\n",
       "</g>\n",
       "<!-- 6,4 -->\n",
       "<g id=\"node53\" class=\"node\">\n",
       "<title>6,4</title>\n",
       "<polygon fill=\"white\" stroke=\"white\" points=\"126,-72 108,-72 108,-54 126,-54 126,-72\"/>\n",
       "</g>\n",
       "<!-- 6,5 -->\n",
       "<g id=\"node54\" class=\"node\">\n",
       "<title>6,5</title>\n",
       "<polygon fill=\"lightgray\" stroke=\"lightgray\" points=\"126,-54 108,-54 108,-36 126,-36 126,-54\"/>\n",
       "<text text-anchor=\"middle\" x=\"117\" y=\"-38.83\" font-family=\"Times New Roman,serif\" font-size=\"14.00\">♛</text>\n",
       "</g>\n",
       "<!-- 6,6 -->\n",
       "<g id=\"node55\" class=\"node\">\n",
       "<title>6,6</title>\n",
       "<polygon fill=\"white\" stroke=\"white\" points=\"126,-36 108,-36 108,-18 126,-18 126,-36\"/>\n",
       "</g>\n",
       "<!-- 6,7 -->\n",
       "<g id=\"node56\" class=\"node\">\n",
       "<title>6,7</title>\n",
       "<polygon fill=\"lightgray\" stroke=\"lightgray\" points=\"126,-18 108,-18 108,0 126,0 126,-18\"/>\n",
       "</g>\n",
       "<!-- 7,0 -->\n",
       "<g id=\"node57\" class=\"node\">\n",
       "<title>7,0</title>\n",
       "<polygon fill=\"lightgray\" stroke=\"lightgray\" points=\"144,-144 126,-144 126,-126 144,-126 144,-144\"/>\n",
       "</g>\n",
       "<!-- 7,1 -->\n",
       "<g id=\"node58\" class=\"node\">\n",
       "<title>7,1</title>\n",
       "<polygon fill=\"white\" stroke=\"white\" points=\"144,-126 126,-126 126,-108 144,-108 144,-126\"/>\n",
       "</g>\n",
       "<!-- 7,2 -->\n",
       "<g id=\"node59\" class=\"node\">\n",
       "<title>7,2</title>\n",
       "<polygon fill=\"lightgray\" stroke=\"lightgray\" points=\"144,-108 126,-108 126,-90 144,-90 144,-108\"/>\n",
       "</g>\n",
       "<!-- 7,3 -->\n",
       "<g id=\"node60\" class=\"node\">\n",
       "<title>7,3</title>\n",
       "<polygon fill=\"white\" stroke=\"white\" points=\"144,-90 126,-90 126,-72 144,-72 144,-90\"/>\n",
       "<text text-anchor=\"middle\" x=\"135\" y=\"-74.83\" font-family=\"Times New Roman,serif\" font-size=\"14.00\">♛</text>\n",
       "</g>\n",
       "<!-- 7,4 -->\n",
       "<g id=\"node61\" class=\"node\">\n",
       "<title>7,4</title>\n",
       "<polygon fill=\"lightgray\" stroke=\"lightgray\" points=\"144,-72 126,-72 126,-54 144,-54 144,-72\"/>\n",
       "</g>\n",
       "<!-- 7,5 -->\n",
       "<g id=\"node62\" class=\"node\">\n",
       "<title>7,5</title>\n",
       "<polygon fill=\"white\" stroke=\"white\" points=\"144,-54 126,-54 126,-36 144,-36 144,-54\"/>\n",
       "</g>\n",
       "<!-- 7,6 -->\n",
       "<g id=\"node63\" class=\"node\">\n",
       "<title>7,6</title>\n",
       "<polygon fill=\"lightgray\" stroke=\"lightgray\" points=\"144,-36 126,-36 126,-18 144,-18 144,-36\"/>\n",
       "</g>\n",
       "<!-- 7,7 -->\n",
       "<g id=\"node64\" class=\"node\">\n",
       "<title>7,7</title>\n",
       "<polygon fill=\"white\" stroke=\"white\" points=\"144,-18 126,-18 126,0 144,0 144,-18\"/>\n",
       "</g>\n",
       "</g>\n",
       "</svg>\n"
      ],
      "text/plain": [
       "<graphviz.graphs.Digraph at 0x1ff64535690>"
      ]
     },
     "metadata": {},
     "output_type": "display_data"
    }
   ],
   "source": [
    "showQueens(next(gen)) # rerun it for more solutions"
   ]
  },
  {
   "cell_type": "markdown",
   "metadata": {
    "id": "wpqmGBfqRc9Q"
   },
   "source": [
    "### A General Backtracking Algorithm"
   ]
  },
  {
   "cell_type": "markdown",
   "metadata": {
    "id": "U5QmeEyjRiWw"
   },
   "source": [
    "After studying this first example, we can highlight the components necessary for a backtracking search to work:\n",
    "\n",
    "+ An initial candidate that starts the search.\n",
    "\n",
    "+ A predicate that determines whether a partial candidate is valid or not.\n",
    "\n",
    "+ A predicate that determines whether a candidate is a solution.\n",
    "\n",
    "+ A function capable of generating the next parts of the candidate."
   ]
  },
  {
   "cell_type": "markdown",
   "metadata": {
    "id": "rXKZjl_8-Kzf"
   },
   "source": [
    "Let's organize these requirements into an abstract class. We will denote candidates as _states_:"
   ]
  },
  {
   "cell_type": "code",
   "execution_count": null,
   "metadata": {
    "id": "3JHGqf5h9qsi"
   },
   "outputs": [],
   "source": [
    "from abc import ABC, abstractmethod\n",
    "\n",
    "class BacktrackProblem(ABC):\n",
    "  @abstractmethod\n",
    "  def start(self): ...\n",
    "\n",
    "  @abstractmethod\n",
    "  def reject(self, state): ...\n",
    "\n",
    "  @abstractmethod\n",
    "  def accept(self, state): ...\n",
    "\n",
    "  @abstractmethod\n",
    "  def next_moves(self, state): ..."
   ]
  },
  {
   "cell_type": "markdown",
   "metadata": {
    "id": "y4aegMPlxtes"
   },
   "source": [
    "In the Queens example, the initial candidate was an empty chessboard, the `isValid` predicate validated the correctness of a partial candidate, and it implicitly validated the solution if we advanced to the last Queen. Lastly, the generation of new candidates corresponded to placing the Queen in the various rows of the next column of the chessboard.\n",
    "\n",
    "However, this approach is very ad-hoc. It would be better to separate the essence of the backtracking search algorithm from the problem details.\n",
    "\n",
    "The general search function should be capable of finding a solution to a problem if we provide it with all the necessary problem-specific data. In our case, we can achieve this by passing a properly filled `BacktrackProblem` object.\n",
    "\n",
    "The following `backtrack` function receives a problem and applies a backtracking search to find solutions. It has been designed as a generator, which means we can request as many solutions as we want (as long as they exist, of course).\n",
    "\n",
    "Since we will have a cache to avoid repeating calculations, the choice of the state representation must be immutable (or Python will complain)."
   ]
  },
  {
   "cell_type": "code",
   "execution_count": null,
   "metadata": {
    "id": "-TnvAM8uXytB"
   },
   "outputs": [],
   "source": [
    "def backtrack(problem, state=None, cache=None):\n",
    "  # state : current state/candidate (must be immutable)\n",
    "  # cache : set of previous candidates\n",
    "  if state is None:\n",
    "    state = problem.start()\n",
    "    cache = set()\n",
    "\n",
    "  if not problem.reject(state):            # if the state is not rejected,\n",
    "    if problem.accept(state):              #  check if it is a solution\n",
    "      yield state                          #  if so, yield it\n",
    "    else:\n",
    "      for s2 in problem.next_moves(state): # otherwise, build more of the state\n",
    "        if s2 not in cache:                # and if it is a new original state,\n",
    "          cache.add(s2)                    #  cache it to prevent infinite loops\n",
    "          yield from backtrack(problem, s2, cache) #  and search it"
   ]
  },
  {
   "cell_type": "markdown",
   "metadata": {
    "id": "O-WZFcRktZMK"
   },
   "source": [
    "### The Eight Queens (again)"
   ]
  },
  {
   "cell_type": "markdown",
   "metadata": {
    "id": "OVJnj81Ln0yW"
   },
   "source": [
    "We define the Queens _puzzle_ as a subclass of `BacktrackProblem`,"
   ]
  },
  {
   "cell_type": "code",
   "execution_count": null,
   "metadata": {
    "id": "iV2hnT5TN5hf"
   },
   "outputs": [],
   "source": [
    "class Queens(BacktrackProblem):\n",
    "  def __init__(self, n):\n",
    "    self._n = n\n",
    "\n",
    "  def start(self):\n",
    "    return tuple() # state is a tuple to be added in set 'cache'\n",
    "\n",
    "  def reject(self, state):\n",
    "    last = len(state)-1\n",
    "    for i in range(last):\n",
    "      if ( state[i]   == state[last] or           # same row\n",
    "           state[i]    - state[last] == last-i or # same diagonal /\n",
    "           state[last] - state[i]    == last-i ): # same diagonal \\\n",
    "        return True\n",
    "    return False\n",
    "\n",
    "  def accept(self, state):\n",
    "    return len(state) == self._n\n",
    "\n",
    "  def next_moves(self, state):\n",
    "    return [state+(i,) for i in range(self._n)]"
   ]
  },
  {
   "cell_type": "markdown",
   "metadata": {
    "id": "DoZ7qYtT1EmI"
   },
   "source": [
    "Each component of the problem is described separately. The constructor of the `Queens` class returns a `BacktrackProblem` object with everything necessary to perform the search."
   ]
  },
  {
   "cell_type": "markdown",
   "metadata": {
    "id": "EhtX3gT0tf4w"
   },
   "source": [
    "Helper function `solveQueens` finds and prints a solution for a $n\\times n$ board:"
   ]
  },
  {
   "cell_type": "code",
   "execution_count": null,
   "metadata": {
    "id": "IvdszfXGoJiI"
   },
   "outputs": [],
   "source": [
    "def solveQueens(n):\n",
    "  try:\n",
    "    showQueens(next(backtrack(Queens(n))))\n",
    "  except StopIteration:\n",
    "    print(f'No solution for {n} queens.')"
   ]
  },
  {
   "cell_type": "code",
   "execution_count": null,
   "metadata": {
    "colab": {
     "base_uri": "https://localhost:8080/",
     "height": 325
    },
    "executionInfo": {
     "elapsed": 413,
     "status": "ok",
     "timestamp": 1709637240208,
     "user": {
      "displayName": "Joao Pedro Neto",
      "userId": "16588413076175252494"
     },
     "user_tz": 0
    },
    "id": "pqHInqsttkht",
    "outputId": "5d843316-1696-4866-cecc-14c87c945fa0"
   },
   "outputs": [
    {
     "name": "stdout",
     "output_type": "stream",
     "text": [
      "No solution for 3 queens.\n"
     ]
    },
    {
     "data": {
      "image/svg+xml": [
       "<?xml version=\"1.0\" encoding=\"UTF-8\" standalone=\"no\"?>\n",
       "<!DOCTYPE svg PUBLIC \"-//W3C//DTD SVG 1.1//EN\"\n",
       " \"http://www.w3.org/Graphics/SVG/1.1/DTD/svg11.dtd\">\n",
       "<!-- Generated by graphviz version 9.0.0 (0)\n",
       " -->\n",
       "<!-- Pages: 1 -->\n",
       "<svg width=\"170pt\" height=\"170pt\"\n",
       " viewBox=\"0.00 0.00 170.00 170.00\" xmlns=\"http://www.w3.org/2000/svg\" xmlns:xlink=\"http://www.w3.org/1999/xlink\">\n",
       "<g id=\"graph0\" class=\"graph\" transform=\"scale(1 1) rotate(0) translate(4 166)\">\n",
       "<polygon fill=\"white\" stroke=\"none\" points=\"-4,4 -4,-166 166,-166 166,4 -4,4\"/>\n",
       "<!-- 0,0 -->\n",
       "<g id=\"node1\" class=\"node\">\n",
       "<title>0,0</title>\n",
       "<polygon fill=\"white\" stroke=\"white\" points=\"18,-162 0,-162 0,-144 18,-144 18,-162\"/>\n",
       "<text text-anchor=\"middle\" x=\"9\" y=\"-146.82\" font-family=\"Times New Roman,serif\" font-size=\"14.00\">♛</text>\n",
       "</g>\n",
       "<!-- 0,1 -->\n",
       "<g id=\"node2\" class=\"node\">\n",
       "<title>0,1</title>\n",
       "<polygon fill=\"lightgray\" stroke=\"lightgray\" points=\"18,-144 0,-144 0,-126 18,-126 18,-144\"/>\n",
       "</g>\n",
       "<!-- 0,2 -->\n",
       "<g id=\"node3\" class=\"node\">\n",
       "<title>0,2</title>\n",
       "<polygon fill=\"white\" stroke=\"white\" points=\"18,-126 0,-126 0,-108 18,-108 18,-126\"/>\n",
       "</g>\n",
       "<!-- 0,3 -->\n",
       "<g id=\"node4\" class=\"node\">\n",
       "<title>0,3</title>\n",
       "<polygon fill=\"lightgray\" stroke=\"lightgray\" points=\"18,-108 0,-108 0,-90 18,-90 18,-108\"/>\n",
       "</g>\n",
       "<!-- 0,4 -->\n",
       "<g id=\"node5\" class=\"node\">\n",
       "<title>0,4</title>\n",
       "<polygon fill=\"white\" stroke=\"white\" points=\"18,-90 0,-90 0,-72 18,-72 18,-90\"/>\n",
       "</g>\n",
       "<!-- 0,5 -->\n",
       "<g id=\"node6\" class=\"node\">\n",
       "<title>0,5</title>\n",
       "<polygon fill=\"lightgray\" stroke=\"lightgray\" points=\"18,-72 0,-72 0,-54 18,-54 18,-72\"/>\n",
       "</g>\n",
       "<!-- 0,6 -->\n",
       "<g id=\"node7\" class=\"node\">\n",
       "<title>0,6</title>\n",
       "<polygon fill=\"white\" stroke=\"white\" points=\"18,-54 0,-54 0,-36 18,-36 18,-54\"/>\n",
       "</g>\n",
       "<!-- 0,7 -->\n",
       "<g id=\"node8\" class=\"node\">\n",
       "<title>0,7</title>\n",
       "<polygon fill=\"lightgray\" stroke=\"lightgray\" points=\"18,-36 0,-36 0,-18 18,-18 18,-36\"/>\n",
       "</g>\n",
       "<!-- 0,8 -->\n",
       "<g id=\"node9\" class=\"node\">\n",
       "<title>0,8</title>\n",
       "<polygon fill=\"white\" stroke=\"white\" points=\"18,-18 0,-18 0,0 18,0 18,-18\"/>\n",
       "</g>\n",
       "<!-- 1,0 -->\n",
       "<g id=\"node10\" class=\"node\">\n",
       "<title>1,0</title>\n",
       "<polygon fill=\"lightgray\" stroke=\"lightgray\" points=\"36,-162 18,-162 18,-144 36,-144 36,-162\"/>\n",
       "</g>\n",
       "<!-- 1,1 -->\n",
       "<g id=\"node11\" class=\"node\">\n",
       "<title>1,1</title>\n",
       "<polygon fill=\"white\" stroke=\"white\" points=\"36,-144 18,-144 18,-126 36,-126 36,-144\"/>\n",
       "</g>\n",
       "<!-- 1,2 -->\n",
       "<g id=\"node12\" class=\"node\">\n",
       "<title>1,2</title>\n",
       "<polygon fill=\"lightgray\" stroke=\"lightgray\" points=\"36,-126 18,-126 18,-108 36,-108 36,-126\"/>\n",
       "<text text-anchor=\"middle\" x=\"27\" y=\"-110.83\" font-family=\"Times New Roman,serif\" font-size=\"14.00\">♛</text>\n",
       "</g>\n",
       "<!-- 1,3 -->\n",
       "<g id=\"node13\" class=\"node\">\n",
       "<title>1,3</title>\n",
       "<polygon fill=\"white\" stroke=\"white\" points=\"36,-108 18,-108 18,-90 36,-90 36,-108\"/>\n",
       "</g>\n",
       "<!-- 1,4 -->\n",
       "<g id=\"node14\" class=\"node\">\n",
       "<title>1,4</title>\n",
       "<polygon fill=\"lightgray\" stroke=\"lightgray\" points=\"36,-90 18,-90 18,-72 36,-72 36,-90\"/>\n",
       "</g>\n",
       "<!-- 1,5 -->\n",
       "<g id=\"node15\" class=\"node\">\n",
       "<title>1,5</title>\n",
       "<polygon fill=\"white\" stroke=\"white\" points=\"36,-72 18,-72 18,-54 36,-54 36,-72\"/>\n",
       "</g>\n",
       "<!-- 1,6 -->\n",
       "<g id=\"node16\" class=\"node\">\n",
       "<title>1,6</title>\n",
       "<polygon fill=\"lightgray\" stroke=\"lightgray\" points=\"36,-54 18,-54 18,-36 36,-36 36,-54\"/>\n",
       "</g>\n",
       "<!-- 1,7 -->\n",
       "<g id=\"node17\" class=\"node\">\n",
       "<title>1,7</title>\n",
       "<polygon fill=\"white\" stroke=\"white\" points=\"36,-36 18,-36 18,-18 36,-18 36,-36\"/>\n",
       "</g>\n",
       "<!-- 1,8 -->\n",
       "<g id=\"node18\" class=\"node\">\n",
       "<title>1,8</title>\n",
       "<polygon fill=\"lightgray\" stroke=\"lightgray\" points=\"36,-18 18,-18 18,0 36,0 36,-18\"/>\n",
       "</g>\n",
       "<!-- 2,0 -->\n",
       "<g id=\"node19\" class=\"node\">\n",
       "<title>2,0</title>\n",
       "<polygon fill=\"white\" stroke=\"white\" points=\"54,-162 36,-162 36,-144 54,-144 54,-162\"/>\n",
       "</g>\n",
       "<!-- 2,1 -->\n",
       "<g id=\"node20\" class=\"node\">\n",
       "<title>2,1</title>\n",
       "<polygon fill=\"lightgray\" stroke=\"lightgray\" points=\"54,-144 36,-144 36,-126 54,-126 54,-144\"/>\n",
       "</g>\n",
       "<!-- 2,2 -->\n",
       "<g id=\"node21\" class=\"node\">\n",
       "<title>2,2</title>\n",
       "<polygon fill=\"white\" stroke=\"white\" points=\"54,-126 36,-126 36,-108 54,-108 54,-126\"/>\n",
       "</g>\n",
       "<!-- 2,3 -->\n",
       "<g id=\"node22\" class=\"node\">\n",
       "<title>2,3</title>\n",
       "<polygon fill=\"lightgray\" stroke=\"lightgray\" points=\"54,-108 36,-108 36,-90 54,-90 54,-108\"/>\n",
       "</g>\n",
       "<!-- 2,4 -->\n",
       "<g id=\"node23\" class=\"node\">\n",
       "<title>2,4</title>\n",
       "<polygon fill=\"white\" stroke=\"white\" points=\"54,-90 36,-90 36,-72 54,-72 54,-90\"/>\n",
       "</g>\n",
       "<!-- 2,5 -->\n",
       "<g id=\"node24\" class=\"node\">\n",
       "<title>2,5</title>\n",
       "<polygon fill=\"lightgray\" stroke=\"lightgray\" points=\"54,-72 36,-72 36,-54 54,-54 54,-72\"/>\n",
       "<text text-anchor=\"middle\" x=\"45\" y=\"-56.83\" font-family=\"Times New Roman,serif\" font-size=\"14.00\">♛</text>\n",
       "</g>\n",
       "<!-- 2,6 -->\n",
       "<g id=\"node25\" class=\"node\">\n",
       "<title>2,6</title>\n",
       "<polygon fill=\"white\" stroke=\"white\" points=\"54,-54 36,-54 36,-36 54,-36 54,-54\"/>\n",
       "</g>\n",
       "<!-- 2,7 -->\n",
       "<g id=\"node26\" class=\"node\">\n",
       "<title>2,7</title>\n",
       "<polygon fill=\"lightgray\" stroke=\"lightgray\" points=\"54,-36 36,-36 36,-18 54,-18 54,-36\"/>\n",
       "</g>\n",
       "<!-- 2,8 -->\n",
       "<g id=\"node27\" class=\"node\">\n",
       "<title>2,8</title>\n",
       "<polygon fill=\"white\" stroke=\"white\" points=\"54,-18 36,-18 36,0 54,0 54,-18\"/>\n",
       "</g>\n",
       "<!-- 3,0 -->\n",
       "<g id=\"node28\" class=\"node\">\n",
       "<title>3,0</title>\n",
       "<polygon fill=\"lightgray\" stroke=\"lightgray\" points=\"72,-162 54,-162 54,-144 72,-144 72,-162\"/>\n",
       "</g>\n",
       "<!-- 3,1 -->\n",
       "<g id=\"node29\" class=\"node\">\n",
       "<title>3,1</title>\n",
       "<polygon fill=\"white\" stroke=\"white\" points=\"72,-144 54,-144 54,-126 72,-126 72,-144\"/>\n",
       "</g>\n",
       "<!-- 3,2 -->\n",
       "<g id=\"node30\" class=\"node\">\n",
       "<title>3,2</title>\n",
       "<polygon fill=\"lightgray\" stroke=\"lightgray\" points=\"72,-126 54,-126 54,-108 72,-108 72,-126\"/>\n",
       "</g>\n",
       "<!-- 3,3 -->\n",
       "<g id=\"node31\" class=\"node\">\n",
       "<title>3,3</title>\n",
       "<polygon fill=\"white\" stroke=\"white\" points=\"72,-108 54,-108 54,-90 72,-90 72,-108\"/>\n",
       "</g>\n",
       "<!-- 3,4 -->\n",
       "<g id=\"node32\" class=\"node\">\n",
       "<title>3,4</title>\n",
       "<polygon fill=\"lightgray\" stroke=\"lightgray\" points=\"72,-90 54,-90 54,-72 72,-72 72,-90\"/>\n",
       "</g>\n",
       "<!-- 3,5 -->\n",
       "<g id=\"node33\" class=\"node\">\n",
       "<title>3,5</title>\n",
       "<polygon fill=\"white\" stroke=\"white\" points=\"72,-72 54,-72 54,-54 72,-54 72,-72\"/>\n",
       "</g>\n",
       "<!-- 3,6 -->\n",
       "<g id=\"node34\" class=\"node\">\n",
       "<title>3,6</title>\n",
       "<polygon fill=\"lightgray\" stroke=\"lightgray\" points=\"72,-54 54,-54 54,-36 72,-36 72,-54\"/>\n",
       "</g>\n",
       "<!-- 3,7 -->\n",
       "<g id=\"node35\" class=\"node\">\n",
       "<title>3,7</title>\n",
       "<polygon fill=\"white\" stroke=\"white\" points=\"72,-36 54,-36 54,-18 72,-18 72,-36\"/>\n",
       "<text text-anchor=\"middle\" x=\"63\" y=\"-20.82\" font-family=\"Times New Roman,serif\" font-size=\"14.00\">♛</text>\n",
       "</g>\n",
       "<!-- 3,8 -->\n",
       "<g id=\"node36\" class=\"node\">\n",
       "<title>3,8</title>\n",
       "<polygon fill=\"lightgray\" stroke=\"lightgray\" points=\"72,-18 54,-18 54,0 72,0 72,-18\"/>\n",
       "</g>\n",
       "<!-- 4,0 -->\n",
       "<g id=\"node37\" class=\"node\">\n",
       "<title>4,0</title>\n",
       "<polygon fill=\"white\" stroke=\"white\" points=\"90,-162 72,-162 72,-144 90,-144 90,-162\"/>\n",
       "</g>\n",
       "<!-- 4,1 -->\n",
       "<g id=\"node38\" class=\"node\">\n",
       "<title>4,1</title>\n",
       "<polygon fill=\"lightgray\" stroke=\"lightgray\" points=\"90,-144 72,-144 72,-126 90,-126 90,-144\"/>\n",
       "<text text-anchor=\"middle\" x=\"81\" y=\"-128.82\" font-family=\"Times New Roman,serif\" font-size=\"14.00\">♛</text>\n",
       "</g>\n",
       "<!-- 4,2 -->\n",
       "<g id=\"node39\" class=\"node\">\n",
       "<title>4,2</title>\n",
       "<polygon fill=\"white\" stroke=\"white\" points=\"90,-126 72,-126 72,-108 90,-108 90,-126\"/>\n",
       "</g>\n",
       "<!-- 4,3 -->\n",
       "<g id=\"node40\" class=\"node\">\n",
       "<title>4,3</title>\n",
       "<polygon fill=\"lightgray\" stroke=\"lightgray\" points=\"90,-108 72,-108 72,-90 90,-90 90,-108\"/>\n",
       "</g>\n",
       "<!-- 4,4 -->\n",
       "<g id=\"node41\" class=\"node\">\n",
       "<title>4,4</title>\n",
       "<polygon fill=\"white\" stroke=\"white\" points=\"90,-90 72,-90 72,-72 90,-72 90,-90\"/>\n",
       "</g>\n",
       "<!-- 4,5 -->\n",
       "<g id=\"node42\" class=\"node\">\n",
       "<title>4,5</title>\n",
       "<polygon fill=\"lightgray\" stroke=\"lightgray\" points=\"90,-72 72,-72 72,-54 90,-54 90,-72\"/>\n",
       "</g>\n",
       "<!-- 4,6 -->\n",
       "<g id=\"node43\" class=\"node\">\n",
       "<title>4,6</title>\n",
       "<polygon fill=\"white\" stroke=\"white\" points=\"90,-54 72,-54 72,-36 90,-36 90,-54\"/>\n",
       "</g>\n",
       "<!-- 4,7 -->\n",
       "<g id=\"node44\" class=\"node\">\n",
       "<title>4,7</title>\n",
       "<polygon fill=\"lightgray\" stroke=\"lightgray\" points=\"90,-36 72,-36 72,-18 90,-18 90,-36\"/>\n",
       "</g>\n",
       "<!-- 4,8 -->\n",
       "<g id=\"node45\" class=\"node\">\n",
       "<title>4,8</title>\n",
       "<polygon fill=\"white\" stroke=\"white\" points=\"90,-18 72,-18 72,0 90,0 90,-18\"/>\n",
       "</g>\n",
       "<!-- 5,0 -->\n",
       "<g id=\"node46\" class=\"node\">\n",
       "<title>5,0</title>\n",
       "<polygon fill=\"lightgray\" stroke=\"lightgray\" points=\"108,-162 90,-162 90,-144 108,-144 108,-162\"/>\n",
       "</g>\n",
       "<!-- 5,1 -->\n",
       "<g id=\"node47\" class=\"node\">\n",
       "<title>5,1</title>\n",
       "<polygon fill=\"white\" stroke=\"white\" points=\"108,-144 90,-144 90,-126 108,-126 108,-144\"/>\n",
       "</g>\n",
       "<!-- 5,2 -->\n",
       "<g id=\"node48\" class=\"node\">\n",
       "<title>5,2</title>\n",
       "<polygon fill=\"lightgray\" stroke=\"lightgray\" points=\"108,-126 90,-126 90,-108 108,-108 108,-126\"/>\n",
       "</g>\n",
       "<!-- 5,3 -->\n",
       "<g id=\"node49\" class=\"node\">\n",
       "<title>5,3</title>\n",
       "<polygon fill=\"white\" stroke=\"white\" points=\"108,-108 90,-108 90,-90 108,-90 108,-108\"/>\n",
       "<text text-anchor=\"middle\" x=\"99\" y=\"-92.83\" font-family=\"Times New Roman,serif\" font-size=\"14.00\">♛</text>\n",
       "</g>\n",
       "<!-- 5,4 -->\n",
       "<g id=\"node50\" class=\"node\">\n",
       "<title>5,4</title>\n",
       "<polygon fill=\"lightgray\" stroke=\"lightgray\" points=\"108,-90 90,-90 90,-72 108,-72 108,-90\"/>\n",
       "</g>\n",
       "<!-- 5,5 -->\n",
       "<g id=\"node51\" class=\"node\">\n",
       "<title>5,5</title>\n",
       "<polygon fill=\"white\" stroke=\"white\" points=\"108,-72 90,-72 90,-54 108,-54 108,-72\"/>\n",
       "</g>\n",
       "<!-- 5,6 -->\n",
       "<g id=\"node52\" class=\"node\">\n",
       "<title>5,6</title>\n",
       "<polygon fill=\"lightgray\" stroke=\"lightgray\" points=\"108,-54 90,-54 90,-36 108,-36 108,-54\"/>\n",
       "</g>\n",
       "<!-- 5,7 -->\n",
       "<g id=\"node53\" class=\"node\">\n",
       "<title>5,7</title>\n",
       "<polygon fill=\"white\" stroke=\"white\" points=\"108,-36 90,-36 90,-18 108,-18 108,-36\"/>\n",
       "</g>\n",
       "<!-- 5,8 -->\n",
       "<g id=\"node54\" class=\"node\">\n",
       "<title>5,8</title>\n",
       "<polygon fill=\"lightgray\" stroke=\"lightgray\" points=\"108,-18 90,-18 90,0 108,0 108,-18\"/>\n",
       "</g>\n",
       "<!-- 6,0 -->\n",
       "<g id=\"node55\" class=\"node\">\n",
       "<title>6,0</title>\n",
       "<polygon fill=\"white\" stroke=\"white\" points=\"126,-162 108,-162 108,-144 126,-144 126,-162\"/>\n",
       "</g>\n",
       "<!-- 6,1 -->\n",
       "<g id=\"node56\" class=\"node\">\n",
       "<title>6,1</title>\n",
       "<polygon fill=\"lightgray\" stroke=\"lightgray\" points=\"126,-144 108,-144 108,-126 126,-126 126,-144\"/>\n",
       "</g>\n",
       "<!-- 6,2 -->\n",
       "<g id=\"node57\" class=\"node\">\n",
       "<title>6,2</title>\n",
       "<polygon fill=\"white\" stroke=\"white\" points=\"126,-126 108,-126 108,-108 126,-108 126,-126\"/>\n",
       "</g>\n",
       "<!-- 6,3 -->\n",
       "<g id=\"node58\" class=\"node\">\n",
       "<title>6,3</title>\n",
       "<polygon fill=\"lightgray\" stroke=\"lightgray\" points=\"126,-108 108,-108 108,-90 126,-90 126,-108\"/>\n",
       "</g>\n",
       "<!-- 6,4 -->\n",
       "<g id=\"node59\" class=\"node\">\n",
       "<title>6,4</title>\n",
       "<polygon fill=\"white\" stroke=\"white\" points=\"126,-90 108,-90 108,-72 126,-72 126,-90\"/>\n",
       "</g>\n",
       "<!-- 6,5 -->\n",
       "<g id=\"node60\" class=\"node\">\n",
       "<title>6,5</title>\n",
       "<polygon fill=\"lightgray\" stroke=\"lightgray\" points=\"126,-72 108,-72 108,-54 126,-54 126,-72\"/>\n",
       "</g>\n",
       "<!-- 6,6 -->\n",
       "<g id=\"node61\" class=\"node\">\n",
       "<title>6,6</title>\n",
       "<polygon fill=\"white\" stroke=\"white\" points=\"126,-54 108,-54 108,-36 126,-36 126,-54\"/>\n",
       "</g>\n",
       "<!-- 6,7 -->\n",
       "<g id=\"node62\" class=\"node\">\n",
       "<title>6,7</title>\n",
       "<polygon fill=\"lightgray\" stroke=\"lightgray\" points=\"126,-36 108,-36 108,-18 126,-18 126,-36\"/>\n",
       "</g>\n",
       "<!-- 6,8 -->\n",
       "<g id=\"node63\" class=\"node\">\n",
       "<title>6,8</title>\n",
       "<polygon fill=\"white\" stroke=\"white\" points=\"126,-18 108,-18 108,0 126,0 126,-18\"/>\n",
       "<text text-anchor=\"middle\" x=\"117\" y=\"-2.83\" font-family=\"Times New Roman,serif\" font-size=\"14.00\">♛</text>\n",
       "</g>\n",
       "<!-- 7,0 -->\n",
       "<g id=\"node64\" class=\"node\">\n",
       "<title>7,0</title>\n",
       "<polygon fill=\"lightgray\" stroke=\"lightgray\" points=\"144,-162 126,-162 126,-144 144,-144 144,-162\"/>\n",
       "</g>\n",
       "<!-- 7,1 -->\n",
       "<g id=\"node65\" class=\"node\">\n",
       "<title>7,1</title>\n",
       "<polygon fill=\"white\" stroke=\"white\" points=\"144,-144 126,-144 126,-126 144,-126 144,-144\"/>\n",
       "</g>\n",
       "<!-- 7,2 -->\n",
       "<g id=\"node66\" class=\"node\">\n",
       "<title>7,2</title>\n",
       "<polygon fill=\"lightgray\" stroke=\"lightgray\" points=\"144,-126 126,-126 126,-108 144,-108 144,-126\"/>\n",
       "</g>\n",
       "<!-- 7,3 -->\n",
       "<g id=\"node67\" class=\"node\">\n",
       "<title>7,3</title>\n",
       "<polygon fill=\"white\" stroke=\"white\" points=\"144,-108 126,-108 126,-90 144,-90 144,-108\"/>\n",
       "</g>\n",
       "<!-- 7,4 -->\n",
       "<g id=\"node68\" class=\"node\">\n",
       "<title>7,4</title>\n",
       "<polygon fill=\"lightgray\" stroke=\"lightgray\" points=\"144,-90 126,-90 126,-72 144,-72 144,-90\"/>\n",
       "</g>\n",
       "<!-- 7,5 -->\n",
       "<g id=\"node69\" class=\"node\">\n",
       "<title>7,5</title>\n",
       "<polygon fill=\"white\" stroke=\"white\" points=\"144,-72 126,-72 126,-54 144,-54 144,-72\"/>\n",
       "</g>\n",
       "<!-- 7,6 -->\n",
       "<g id=\"node70\" class=\"node\">\n",
       "<title>7,6</title>\n",
       "<polygon fill=\"lightgray\" stroke=\"lightgray\" points=\"144,-54 126,-54 126,-36 144,-36 144,-54\"/>\n",
       "<text text-anchor=\"middle\" x=\"135\" y=\"-38.83\" font-family=\"Times New Roman,serif\" font-size=\"14.00\">♛</text>\n",
       "</g>\n",
       "<!-- 7,7 -->\n",
       "<g id=\"node71\" class=\"node\">\n",
       "<title>7,7</title>\n",
       "<polygon fill=\"white\" stroke=\"white\" points=\"144,-36 126,-36 126,-18 144,-18 144,-36\"/>\n",
       "</g>\n",
       "<!-- 7,8 -->\n",
       "<g id=\"node72\" class=\"node\">\n",
       "<title>7,8</title>\n",
       "<polygon fill=\"lightgray\" stroke=\"lightgray\" points=\"144,-18 126,-18 126,0 144,0 144,-18\"/>\n",
       "</g>\n",
       "<!-- 8,0 -->\n",
       "<g id=\"node73\" class=\"node\">\n",
       "<title>8,0</title>\n",
       "<polygon fill=\"white\" stroke=\"white\" points=\"162,-162 144,-162 144,-144 162,-144 162,-162\"/>\n",
       "</g>\n",
       "<!-- 8,1 -->\n",
       "<g id=\"node74\" class=\"node\">\n",
       "<title>8,1</title>\n",
       "<polygon fill=\"lightgray\" stroke=\"lightgray\" points=\"162,-144 144,-144 144,-126 162,-126 162,-144\"/>\n",
       "</g>\n",
       "<!-- 8,2 -->\n",
       "<g id=\"node75\" class=\"node\">\n",
       "<title>8,2</title>\n",
       "<polygon fill=\"white\" stroke=\"white\" points=\"162,-126 144,-126 144,-108 162,-108 162,-126\"/>\n",
       "</g>\n",
       "<!-- 8,3 -->\n",
       "<g id=\"node76\" class=\"node\">\n",
       "<title>8,3</title>\n",
       "<polygon fill=\"lightgray\" stroke=\"lightgray\" points=\"162,-108 144,-108 144,-90 162,-90 162,-108\"/>\n",
       "</g>\n",
       "<!-- 8,4 -->\n",
       "<g id=\"node77\" class=\"node\">\n",
       "<title>8,4</title>\n",
       "<polygon fill=\"white\" stroke=\"white\" points=\"162,-90 144,-90 144,-72 162,-72 162,-90\"/>\n",
       "<text text-anchor=\"middle\" x=\"153\" y=\"-74.83\" font-family=\"Times New Roman,serif\" font-size=\"14.00\">♛</text>\n",
       "</g>\n",
       "<!-- 8,5 -->\n",
       "<g id=\"node78\" class=\"node\">\n",
       "<title>8,5</title>\n",
       "<polygon fill=\"lightgray\" stroke=\"lightgray\" points=\"162,-72 144,-72 144,-54 162,-54 162,-72\"/>\n",
       "</g>\n",
       "<!-- 8,6 -->\n",
       "<g id=\"node79\" class=\"node\">\n",
       "<title>8,6</title>\n",
       "<polygon fill=\"white\" stroke=\"white\" points=\"162,-54 144,-54 144,-36 162,-36 162,-54\"/>\n",
       "</g>\n",
       "<!-- 8,7 -->\n",
       "<g id=\"node80\" class=\"node\">\n",
       "<title>8,7</title>\n",
       "<polygon fill=\"lightgray\" stroke=\"lightgray\" points=\"162,-36 144,-36 144,-18 162,-18 162,-36\"/>\n",
       "</g>\n",
       "<!-- 8,8 -->\n",
       "<g id=\"node81\" class=\"node\">\n",
       "<title>8,8</title>\n",
       "<polygon fill=\"white\" stroke=\"white\" points=\"162,-18 144,-18 144,0 162,0 162,-18\"/>\n",
       "</g>\n",
       "</g>\n",
       "</svg>\n"
      ],
      "text/plain": [
       "<graphviz.graphs.Digraph at 0x1ff64539cd0>"
      ]
     },
     "metadata": {},
     "output_type": "display_data"
    }
   ],
   "source": [
    "solveQueens(3)\n",
    "solveQueens(9)"
   ]
  },
  {
   "cell_type": "markdown",
   "metadata": {
    "id": "I_f9-t4s12sW"
   },
   "source": [
    "Separation of responsibilities helps keep the code organized and also makes it easier for us to reuse it.\n",
    "\n",
    "Now, let's use the `backtrack` function to solve a completely different puzzle."
   ]
  },
  {
   "cell_type": "markdown",
   "metadata": {
    "id": "zV4Yfg8K090V"
   },
   "source": [
    "### The Two Jugs\n"
   ]
  },
  {
   "cell_type": "markdown",
   "metadata": {
    "id": "tqoEhIOHZXij"
   },
   "source": [
    "<center><img src='https://raw.githubusercontent.com/jpneto/Prog.I/master/imgs/jugs.png' width=400px></center>\n",
    "\n",
    "This is a puzzle where you have two buckets or containers (jugs) with different capacities. You can empty them, fill them completely, or pour as much as possible from one into the other until the second one is full. This results in six different operations to choose from.\n",
    "\n",
    "The puzzle asks you to find a valid sequence of actions to obtain an exact amount of liquid.\n",
    "\n",
    "For example, with two jugs with capacities of four and three liters, what should we do to obtain two liters?"
   ]
  },
  {
   "cell_type": "markdown",
   "metadata": {
    "id": "zPHiPQXmz1fn"
   },
   "source": [
    "What do we need to specify this problem?\n",
    "\n",
    "First, what is a state in this problem? The important information is how many liters each bucket has. We encode this in a pair of integers. But because we want to know what moves are needed to reach the goal, our state will be a sequence of pairs, from the initial state (both buckets empty) to the current state, which we hope will lead to solving the puzzle (i.e., one of the buckets has the desired amount).\n",
    "\n",
    "So, our choice is to represent a state as a tuple with multiple pairs (we can't use a list of pairs because lists are mutable).\n",
    "\n",
    "+ The initial state starts with both buckets empty, so it's given by the value `((0, 0),)`, i.e., a tuple with only the pair `(0, 0)`.\n",
    "\n",
    "+ The rejection function will not accept states with repeated pairs. We cannot accept these to avoid infinite loops (this would represent a circular sequence of bucket fillings).\n",
    "\n",
    "+ The acceptance function will only accept states where the last pair has one of the buckets with the correct amount of liters.\n",
    "\n",
    "+ Finally, the function that generates new states must consider the six possible moves (pour from one of the two buckets, fill one of the two buckets, transfer from one bucket to the other).\n",
    "\n",
    "Now, let's take a deep breath and write these four components in a class:"
   ]
  },
  {
   "cell_type": "code",
   "execution_count": null,
   "metadata": {
    "id": "H94cdQawQV9l"
   },
   "outputs": [],
   "source": [
    "class Jugs(BacktrackProblem):\n",
    "  def __init__(self, goal, cap1, cap2):\n",
    "    self._goal = goal\n",
    "    self._cap1 = cap1\n",
    "    self._cap2 = cap2\n",
    "\n",
    "  def start(self):\n",
    "    return ((0,0), )\n",
    "\n",
    "  def reject(self, state):\n",
    "    return state[-1] in state[:-1] # reject if last pair is repeated\n",
    "\n",
    "  def accept(self, state):\n",
    "    return self._goal in state[-1] # accept solution only if the goal is achieved\n",
    "\n",
    "  def next_moves(self, state):\n",
    "    cap1, cap2 = self._cap1, self._cap2\n",
    "    jug1, jug2 = state[-1] # get current jugs\n",
    "    moves = [(cap1, jug2), (jug1, cap2), (0, jug2), (jug1, 0)]\n",
    "    if jug1 > 0 and jug2 < cap2:\n",
    "      transfer = min(cap2 - jug2, jug1)\n",
    "      moves.append( (jug1-transfer, jug2+transfer) )\n",
    "    if jug2 > 0 and jug1 < cap1:\n",
    "      transfer = min(cap1 - jug1, jug2)\n",
    "      moves.append( (jug1+transfer, jug2-transfer) )\n",
    "    return [state+(move,) for move in moves] # adding each one of six possible moves"
   ]
  },
  {
   "cell_type": "code",
   "execution_count": null,
   "metadata": {
    "cellView": "form",
    "id": "nkn4205nseHg"
   },
   "outputs": [],
   "source": [
    "# show Jugs puzzle solutions \n",
    "def drawJugs(moves):\n",
    "  styles = {\n",
    "    'ref': {'shape': 'invtrapezium', 'width': '.25',  'fixedsize': 'true'},\n",
    "    'val': {'shape': 'ellipse'}\n",
    "  }\n",
    "  g = Digraph(engine=\"neato\")\n",
    "  xcoord = 0\n",
    "\n",
    "  for (i,(j1,j2)) in enumerate(moves):\n",
    "    g.node('cup1'+str(i), str(j1), styles['ref'], pos=str(xcoord)    +',0!')\n",
    "    g.node('cup2'+str(i), str(j2), styles['ref'], pos=str(xcoord+0.3)+',0!')\n",
    "    xcoord = xcoord + 0.75\n",
    "\n",
    "  for i in range(1,len(moves)):\n",
    "    g.edge('cup2'+str(i-1), 'cup1'+str(i), penwidth ='.5', arrowsize='.5')\n",
    "\n",
    "  display(g)\n",
    "\n",
    "# A função `showJugs` resolve o problema e mostra a primeira  solução encontrada.\n",
    "def showJugs(goal, cup1, cup2):\n",
    "  try:\n",
    "    gen = backtrack(Jugs(goal, cup1, cup2))\n",
    "    drawJugs(next(gen))\n",
    "  except StopIteration:\n",
    "    print(\"Não há solução!\")"
   ]
  },
  {
   "cell_type": "markdown",
   "metadata": {
    "id": "BGyholGOLgEz"
   },
   "source": [
    "We can now find solutions for instances of this puzzle.\n",
    "\n",
    "> <i>With two jugs of four and three liters, how can we obtain two liters?</i>\n",
    "\n",
    "Let's find the solution for this problem."
   ]
  },
  {
   "cell_type": "code",
   "execution_count": null,
   "metadata": {
    "colab": {
     "base_uri": "https://localhost:8080/",
     "height": 80
    },
    "executionInfo": {
     "elapsed": 389,
     "status": "ok",
     "timestamp": 1709042858757,
     "user": {
      "displayName": "Joao Pedro Neto",
      "userId": "16588413076175252494"
     },
     "user_tz": 0
    },
    "id": "UXYJ6k_ANhrl",
    "outputId": "39343d4f-5423-42a3-a311-2888caab65b9"
   },
   "outputs": [
    {
     "data": {
      "image/svg+xml": [
       "<?xml version=\"1.0\" encoding=\"UTF-8\" standalone=\"no\"?>\n",
       "<!DOCTYPE svg PUBLIC \"-//W3C//DTD SVG 1.1//EN\"\n",
       " \"http://www.w3.org/Graphics/SVG/1.1/DTD/svg11.dtd\">\n",
       "<!-- Generated by graphviz version 9.0.0 (0)\n",
       " -->\n",
       "<!-- Pages: 1 -->\n",
       "<svg width=\"372pt\" height=\"44pt\"\n",
       " viewBox=\"0.00 0.00 371.60 44.00\" xmlns=\"http://www.w3.org/2000/svg\" xmlns:xlink=\"http://www.w3.org/1999/xlink\">\n",
       "<g id=\"graph0\" class=\"graph\" transform=\"scale(1 1) rotate(0) translate(4 40)\">\n",
       "<polygon fill=\"white\" stroke=\"none\" points=\"-4,4 -4,-40 367.6,-40 367.6,4 -4,4\"/>\n",
       "<!-- cup10 -->\n",
       "<g id=\"node1\" class=\"node\">\n",
       "<title>cup10</title>\n",
       "<polygon fill=\"none\" stroke=\"black\" points=\"3.74,0 14.26,0 18,-36 0,-36 3.74,0\"/>\n",
       "<text text-anchor=\"middle\" x=\"9\" y=\"-12.95\" font-family=\"Times New Roman,serif\" font-size=\"14.00\">0</text>\n",
       "</g>\n",
       "<!-- cup20 -->\n",
       "<g id=\"node2\" class=\"node\">\n",
       "<title>cup20</title>\n",
       "<polygon fill=\"none\" stroke=\"black\" points=\"25.34,0 35.86,0 39.6,-36 21.6,-36 25.34,0\"/>\n",
       "<text text-anchor=\"middle\" x=\"30.6\" y=\"-12.95\" font-family=\"Times New Roman,serif\" font-size=\"14.00\">0</text>\n",
       "</g>\n",
       "<!-- cup11 -->\n",
       "<g id=\"node3\" class=\"node\">\n",
       "<title>cup11</title>\n",
       "<polygon fill=\"none\" stroke=\"black\" points=\"57.74,0 68.26,0 72,-36 54,-36 57.74,0\"/>\n",
       "<text text-anchor=\"middle\" x=\"63\" y=\"-12.95\" font-family=\"Times New Roman,serif\" font-size=\"14.00\">4</text>\n",
       "</g>\n",
       "<!-- cup20&#45;&gt;cup11 -->\n",
       "<g id=\"edge1\" class=\"edge\">\n",
       "<title>cup20&#45;&gt;cup11</title>\n",
       "<path fill=\"none\" stroke=\"black\" stroke-width=\"0.5\" d=\"M38.11,-18C41.63,-18 45.92,-18 49.95,-18\"/>\n",
       "<polygon fill=\"black\" stroke=\"black\" stroke-width=\"0.5\" points=\"49.77,-19.75 54.77,-18 49.77,-16.25 49.77,-19.75\"/>\n",
       "</g>\n",
       "<!-- cup21 -->\n",
       "<g id=\"node4\" class=\"node\">\n",
       "<title>cup21</title>\n",
       "<polygon fill=\"none\" stroke=\"black\" points=\"79.34,0 89.86,0 93.6,-36 75.6,-36 79.34,0\"/>\n",
       "<text text-anchor=\"middle\" x=\"84.6\" y=\"-12.95\" font-family=\"Times New Roman,serif\" font-size=\"14.00\">0</text>\n",
       "</g>\n",
       "<!-- cup12 -->\n",
       "<g id=\"node5\" class=\"node\">\n",
       "<title>cup12</title>\n",
       "<polygon fill=\"none\" stroke=\"black\" points=\"111.74,0 122.26,0 126,-36 108,-36 111.74,0\"/>\n",
       "<text text-anchor=\"middle\" x=\"117\" y=\"-12.95\" font-family=\"Times New Roman,serif\" font-size=\"14.00\">4</text>\n",
       "</g>\n",
       "<!-- cup21&#45;&gt;cup12 -->\n",
       "<g id=\"edge2\" class=\"edge\">\n",
       "<title>cup21&#45;&gt;cup12</title>\n",
       "<path fill=\"none\" stroke=\"black\" stroke-width=\"0.5\" d=\"M92.11,-18C95.63,-18 99.92,-18 103.95,-18\"/>\n",
       "<polygon fill=\"black\" stroke=\"black\" stroke-width=\"0.5\" points=\"103.77,-19.75 108.77,-18 103.77,-16.25 103.77,-19.75\"/>\n",
       "</g>\n",
       "<!-- cup22 -->\n",
       "<g id=\"node6\" class=\"node\">\n",
       "<title>cup22</title>\n",
       "<polygon fill=\"none\" stroke=\"black\" points=\"133.34,0 143.86,0 147.6,-36 129.6,-36 133.34,0\"/>\n",
       "<text text-anchor=\"middle\" x=\"138.6\" y=\"-12.95\" font-family=\"Times New Roman,serif\" font-size=\"14.00\">3</text>\n",
       "</g>\n",
       "<!-- cup13 -->\n",
       "<g id=\"node7\" class=\"node\">\n",
       "<title>cup13</title>\n",
       "<polygon fill=\"none\" stroke=\"black\" points=\"165.74,0 176.26,0 180,-36 162,-36 165.74,0\"/>\n",
       "<text text-anchor=\"middle\" x=\"171\" y=\"-12.95\" font-family=\"Times New Roman,serif\" font-size=\"14.00\">0</text>\n",
       "</g>\n",
       "<!-- cup22&#45;&gt;cup13 -->\n",
       "<g id=\"edge3\" class=\"edge\">\n",
       "<title>cup22&#45;&gt;cup13</title>\n",
       "<path fill=\"none\" stroke=\"black\" stroke-width=\"0.5\" d=\"M146.11,-18C149.63,-18 153.92,-18 157.95,-18\"/>\n",
       "<polygon fill=\"black\" stroke=\"black\" stroke-width=\"0.5\" points=\"157.77,-19.75 162.77,-18 157.77,-16.25 157.77,-19.75\"/>\n",
       "</g>\n",
       "<!-- cup23 -->\n",
       "<g id=\"node8\" class=\"node\">\n",
       "<title>cup23</title>\n",
       "<polygon fill=\"none\" stroke=\"black\" points=\"187.34,0 197.86,0 201.6,-36 183.6,-36 187.34,0\"/>\n",
       "<text text-anchor=\"middle\" x=\"192.6\" y=\"-12.95\" font-family=\"Times New Roman,serif\" font-size=\"14.00\">3</text>\n",
       "</g>\n",
       "<!-- cup14 -->\n",
       "<g id=\"node9\" class=\"node\">\n",
       "<title>cup14</title>\n",
       "<polygon fill=\"none\" stroke=\"black\" points=\"219.74,0 230.26,0 234,-36 216,-36 219.74,0\"/>\n",
       "<text text-anchor=\"middle\" x=\"225\" y=\"-12.95\" font-family=\"Times New Roman,serif\" font-size=\"14.00\">3</text>\n",
       "</g>\n",
       "<!-- cup23&#45;&gt;cup14 -->\n",
       "<g id=\"edge4\" class=\"edge\">\n",
       "<title>cup23&#45;&gt;cup14</title>\n",
       "<path fill=\"none\" stroke=\"black\" stroke-width=\"0.5\" d=\"M200.11,-18C203.63,-18 207.92,-18 211.95,-18\"/>\n",
       "<polygon fill=\"black\" stroke=\"black\" stroke-width=\"0.5\" points=\"211.77,-19.75 216.77,-18 211.77,-16.25 211.77,-19.75\"/>\n",
       "</g>\n",
       "<!-- cup24 -->\n",
       "<g id=\"node10\" class=\"node\">\n",
       "<title>cup24</title>\n",
       "<polygon fill=\"none\" stroke=\"black\" points=\"241.34,0 251.86,0 255.6,-36 237.6,-36 241.34,0\"/>\n",
       "<text text-anchor=\"middle\" x=\"246.6\" y=\"-12.95\" font-family=\"Times New Roman,serif\" font-size=\"14.00\">0</text>\n",
       "</g>\n",
       "<!-- cup15 -->\n",
       "<g id=\"node11\" class=\"node\">\n",
       "<title>cup15</title>\n",
       "<polygon fill=\"none\" stroke=\"black\" points=\"273.74,0 284.26,0 288,-36 270,-36 273.74,0\"/>\n",
       "<text text-anchor=\"middle\" x=\"279\" y=\"-12.95\" font-family=\"Times New Roman,serif\" font-size=\"14.00\">3</text>\n",
       "</g>\n",
       "<!-- cup24&#45;&gt;cup15 -->\n",
       "<g id=\"edge5\" class=\"edge\">\n",
       "<title>cup24&#45;&gt;cup15</title>\n",
       "<path fill=\"none\" stroke=\"black\" stroke-width=\"0.5\" d=\"M254.11,-18C257.63,-18 261.92,-18 265.95,-18\"/>\n",
       "<polygon fill=\"black\" stroke=\"black\" stroke-width=\"0.5\" points=\"265.77,-19.75 270.77,-18 265.77,-16.25 265.77,-19.75\"/>\n",
       "</g>\n",
       "<!-- cup25 -->\n",
       "<g id=\"node12\" class=\"node\">\n",
       "<title>cup25</title>\n",
       "<polygon fill=\"none\" stroke=\"black\" points=\"295.34,0 305.86,0 309.6,-36 291.6,-36 295.34,0\"/>\n",
       "<text text-anchor=\"middle\" x=\"300.6\" y=\"-12.95\" font-family=\"Times New Roman,serif\" font-size=\"14.00\">3</text>\n",
       "</g>\n",
       "<!-- cup16 -->\n",
       "<g id=\"node13\" class=\"node\">\n",
       "<title>cup16</title>\n",
       "<polygon fill=\"none\" stroke=\"black\" points=\"327.74,0 338.26,0 342,-36 324,-36 327.74,0\"/>\n",
       "<text text-anchor=\"middle\" x=\"333\" y=\"-12.95\" font-family=\"Times New Roman,serif\" font-size=\"14.00\">4</text>\n",
       "</g>\n",
       "<!-- cup25&#45;&gt;cup16 -->\n",
       "<g id=\"edge6\" class=\"edge\">\n",
       "<title>cup25&#45;&gt;cup16</title>\n",
       "<path fill=\"none\" stroke=\"black\" stroke-width=\"0.5\" d=\"M308.11,-18C311.63,-18 315.92,-18 319.95,-18\"/>\n",
       "<polygon fill=\"black\" stroke=\"black\" stroke-width=\"0.5\" points=\"319.77,-19.75 324.77,-18 319.77,-16.25 319.77,-19.75\"/>\n",
       "</g>\n",
       "<!-- cup26 -->\n",
       "<g id=\"node14\" class=\"node\">\n",
       "<title>cup26</title>\n",
       "<polygon fill=\"none\" stroke=\"black\" points=\"349.34,0 359.86,0 363.6,-36 345.6,-36 349.34,0\"/>\n",
       "<text text-anchor=\"middle\" x=\"354.6\" y=\"-12.95\" font-family=\"Times New Roman,serif\" font-size=\"14.00\">2</text>\n",
       "</g>\n",
       "</g>\n",
       "</svg>\n"
      ],
      "text/plain": [
       "<graphviz.graphs.Digraph at 0x1ff65b1b0d0>"
      ]
     },
     "metadata": {},
     "output_type": "display_data"
    }
   ],
   "source": [
    "showJugs(2, 4, 3)"
   ]
  },
  {
   "cell_type": "markdown",
   "metadata": {
    "id": "MSBSysCG0eFE"
   },
   "source": [
    "yes! 💪"
   ]
  },
  {
   "cell_type": "markdown",
   "metadata": {
    "id": "ipJw6kNzbdCf"
   },
   "source": [
    "On this [page](https://m4maths.com/20059-You-have-two-buckets-of-11-liter-and-6-liter-How-can-you-measure-exactly-8-liter.html), we find the following question:\n",
    "\n",
    "> <i>You have two buckets of 11 liter and 6 liters. How can you measure exactly 8 liters?</i>\n",
    "\n",
    "This is another instance of the general problem; only the values have changed. We are prepared for this:"
   ]
  },
  {
   "cell_type": "code",
   "execution_count": null,
   "metadata": {
    "colab": {
     "base_uri": "https://localhost:8080/",
     "height": 99
    },
    "executionInfo": {
     "elapsed": 395,
     "status": "ok",
     "timestamp": 1698925019193,
     "user": {
      "displayName": "Joao Pedro Neto",
      "userId": "16588413076175252494"
     },
     "user_tz": 0
    },
    "id": "_eCa57cLbpV1",
    "outputId": "d45bee57-169b-4c55-9e32-d9e1c3a2dfa0"
   },
   "outputs": [
    {
     "data": {
      "image/svg+xml": [
       "<?xml version=\"1.0\" encoding=\"UTF-8\" standalone=\"no\"?>\n",
       "<!DOCTYPE svg PUBLIC \"-//W3C//DTD SVG 1.1//EN\"\n",
       " \"http://www.w3.org/Graphics/SVG/1.1/DTD/svg11.dtd\">\n",
       "<!-- Generated by graphviz version 9.0.0 (0)\n",
       " -->\n",
       "<!-- Pages: 1 -->\n",
       "<svg width=\"1128pt\" height=\"44pt\"\n",
       " viewBox=\"0.00 0.00 1127.60 44.00\" xmlns=\"http://www.w3.org/2000/svg\" xmlns:xlink=\"http://www.w3.org/1999/xlink\">\n",
       "<g id=\"graph0\" class=\"graph\" transform=\"scale(1 1) rotate(0) translate(4 40)\">\n",
       "<polygon fill=\"white\" stroke=\"none\" points=\"-4,4 -4,-40 1123.6,-40 1123.6,4 -4,4\"/>\n",
       "<!-- cup10 -->\n",
       "<g id=\"node1\" class=\"node\">\n",
       "<title>cup10</title>\n",
       "<polygon fill=\"none\" stroke=\"black\" points=\"3.74,0 14.26,0 18,-36 0,-36 3.74,0\"/>\n",
       "<text text-anchor=\"middle\" x=\"9\" y=\"-12.95\" font-family=\"Times New Roman,serif\" font-size=\"14.00\">0</text>\n",
       "</g>\n",
       "<!-- cup20 -->\n",
       "<g id=\"node2\" class=\"node\">\n",
       "<title>cup20</title>\n",
       "<polygon fill=\"none\" stroke=\"black\" points=\"25.34,0 35.86,0 39.6,-36 21.6,-36 25.34,0\"/>\n",
       "<text text-anchor=\"middle\" x=\"30.6\" y=\"-12.95\" font-family=\"Times New Roman,serif\" font-size=\"14.00\">0</text>\n",
       "</g>\n",
       "<!-- cup11 -->\n",
       "<g id=\"node3\" class=\"node\">\n",
       "<title>cup11</title>\n",
       "<polygon fill=\"none\" stroke=\"black\" points=\"57.74,0 68.26,0 72,-36 54,-36 57.74,0\"/>\n",
       "<text text-anchor=\"middle\" x=\"63\" y=\"-12.95\" font-family=\"Times New Roman,serif\" font-size=\"14.00\">6</text>\n",
       "</g>\n",
       "<!-- cup20&#45;&gt;cup11 -->\n",
       "<g id=\"edge1\" class=\"edge\">\n",
       "<title>cup20&#45;&gt;cup11</title>\n",
       "<path fill=\"none\" stroke=\"black\" stroke-width=\"0.5\" d=\"M38.11,-18C41.63,-18 45.92,-18 49.95,-18\"/>\n",
       "<polygon fill=\"black\" stroke=\"black\" stroke-width=\"0.5\" points=\"49.77,-19.75 54.77,-18 49.77,-16.25 49.77,-19.75\"/>\n",
       "</g>\n",
       "<!-- cup21 -->\n",
       "<g id=\"node4\" class=\"node\">\n",
       "<title>cup21</title>\n",
       "<polygon fill=\"none\" stroke=\"black\" points=\"79.34,0 89.86,0 93.6,-36 75.6,-36 79.34,0\"/>\n",
       "<text text-anchor=\"middle\" x=\"84.6\" y=\"-12.95\" font-family=\"Times New Roman,serif\" font-size=\"14.00\">0</text>\n",
       "</g>\n",
       "<!-- cup12 -->\n",
       "<g id=\"node5\" class=\"node\">\n",
       "<title>cup12</title>\n",
       "<polygon fill=\"none\" stroke=\"black\" points=\"111.74,0 122.26,0 126,-36 108,-36 111.74,0\"/>\n",
       "<text text-anchor=\"middle\" x=\"117\" y=\"-12.95\" font-family=\"Times New Roman,serif\" font-size=\"14.00\">6</text>\n",
       "</g>\n",
       "<!-- cup21&#45;&gt;cup12 -->\n",
       "<g id=\"edge2\" class=\"edge\">\n",
       "<title>cup21&#45;&gt;cup12</title>\n",
       "<path fill=\"none\" stroke=\"black\" stroke-width=\"0.5\" d=\"M92.11,-18C95.63,-18 99.92,-18 103.95,-18\"/>\n",
       "<polygon fill=\"black\" stroke=\"black\" stroke-width=\"0.5\" points=\"103.77,-19.75 108.77,-18 103.77,-16.25 103.77,-19.75\"/>\n",
       "</g>\n",
       "<!-- cup22 -->\n",
       "<g id=\"node6\" class=\"node\">\n",
       "<title>cup22</title>\n",
       "<polygon fill=\"none\" stroke=\"black\" points=\"133.34,0 143.86,0 147.6,-36 129.6,-36 133.34,0\"/>\n",
       "<text text-anchor=\"middle\" x=\"138.6\" y=\"-12.95\" font-family=\"Times New Roman,serif\" font-size=\"14.00\">11</text>\n",
       "</g>\n",
       "<!-- cup13 -->\n",
       "<g id=\"node7\" class=\"node\">\n",
       "<title>cup13</title>\n",
       "<polygon fill=\"none\" stroke=\"black\" points=\"165.74,0 176.26,0 180,-36 162,-36 165.74,0\"/>\n",
       "<text text-anchor=\"middle\" x=\"171\" y=\"-12.95\" font-family=\"Times New Roman,serif\" font-size=\"14.00\">0</text>\n",
       "</g>\n",
       "<!-- cup22&#45;&gt;cup13 -->\n",
       "<g id=\"edge3\" class=\"edge\">\n",
       "<title>cup22&#45;&gt;cup13</title>\n",
       "<path fill=\"none\" stroke=\"black\" stroke-width=\"0.5\" d=\"M146.11,-18C149.63,-18 153.92,-18 157.95,-18\"/>\n",
       "<polygon fill=\"black\" stroke=\"black\" stroke-width=\"0.5\" points=\"157.77,-19.75 162.77,-18 157.77,-16.25 157.77,-19.75\"/>\n",
       "</g>\n",
       "<!-- cup23 -->\n",
       "<g id=\"node8\" class=\"node\">\n",
       "<title>cup23</title>\n",
       "<polygon fill=\"none\" stroke=\"black\" points=\"187.34,0 197.86,0 201.6,-36 183.6,-36 187.34,0\"/>\n",
       "<text text-anchor=\"middle\" x=\"192.6\" y=\"-12.95\" font-family=\"Times New Roman,serif\" font-size=\"14.00\">11</text>\n",
       "</g>\n",
       "<!-- cup14 -->\n",
       "<g id=\"node9\" class=\"node\">\n",
       "<title>cup14</title>\n",
       "<polygon fill=\"none\" stroke=\"black\" points=\"219.74,0 230.26,0 234,-36 216,-36 219.74,0\"/>\n",
       "<text text-anchor=\"middle\" x=\"225\" y=\"-12.95\" font-family=\"Times New Roman,serif\" font-size=\"14.00\">6</text>\n",
       "</g>\n",
       "<!-- cup23&#45;&gt;cup14 -->\n",
       "<g id=\"edge4\" class=\"edge\">\n",
       "<title>cup23&#45;&gt;cup14</title>\n",
       "<path fill=\"none\" stroke=\"black\" stroke-width=\"0.5\" d=\"M200.11,-18C203.63,-18 207.92,-18 211.95,-18\"/>\n",
       "<polygon fill=\"black\" stroke=\"black\" stroke-width=\"0.5\" points=\"211.77,-19.75 216.77,-18 211.77,-16.25 211.77,-19.75\"/>\n",
       "</g>\n",
       "<!-- cup24 -->\n",
       "<g id=\"node10\" class=\"node\">\n",
       "<title>cup24</title>\n",
       "<polygon fill=\"none\" stroke=\"black\" points=\"241.34,0 251.86,0 255.6,-36 237.6,-36 241.34,0\"/>\n",
       "<text text-anchor=\"middle\" x=\"246.6\" y=\"-12.95\" font-family=\"Times New Roman,serif\" font-size=\"14.00\">5</text>\n",
       "</g>\n",
       "<!-- cup15 -->\n",
       "<g id=\"node11\" class=\"node\">\n",
       "<title>cup15</title>\n",
       "<polygon fill=\"none\" stroke=\"black\" points=\"273.74,0 284.26,0 288,-36 270,-36 273.74,0\"/>\n",
       "<text text-anchor=\"middle\" x=\"279\" y=\"-12.95\" font-family=\"Times New Roman,serif\" font-size=\"14.00\">0</text>\n",
       "</g>\n",
       "<!-- cup24&#45;&gt;cup15 -->\n",
       "<g id=\"edge5\" class=\"edge\">\n",
       "<title>cup24&#45;&gt;cup15</title>\n",
       "<path fill=\"none\" stroke=\"black\" stroke-width=\"0.5\" d=\"M254.11,-18C257.63,-18 261.92,-18 265.95,-18\"/>\n",
       "<polygon fill=\"black\" stroke=\"black\" stroke-width=\"0.5\" points=\"265.77,-19.75 270.77,-18 265.77,-16.25 265.77,-19.75\"/>\n",
       "</g>\n",
       "<!-- cup25 -->\n",
       "<g id=\"node12\" class=\"node\">\n",
       "<title>cup25</title>\n",
       "<polygon fill=\"none\" stroke=\"black\" points=\"295.34,0 305.86,0 309.6,-36 291.6,-36 295.34,0\"/>\n",
       "<text text-anchor=\"middle\" x=\"300.6\" y=\"-12.95\" font-family=\"Times New Roman,serif\" font-size=\"14.00\">5</text>\n",
       "</g>\n",
       "<!-- cup16 -->\n",
       "<g id=\"node13\" class=\"node\">\n",
       "<title>cup16</title>\n",
       "<polygon fill=\"none\" stroke=\"black\" points=\"327.74,0 338.26,0 342,-36 324,-36 327.74,0\"/>\n",
       "<text text-anchor=\"middle\" x=\"333\" y=\"-12.95\" font-family=\"Times New Roman,serif\" font-size=\"14.00\">5</text>\n",
       "</g>\n",
       "<!-- cup25&#45;&gt;cup16 -->\n",
       "<g id=\"edge6\" class=\"edge\">\n",
       "<title>cup25&#45;&gt;cup16</title>\n",
       "<path fill=\"none\" stroke=\"black\" stroke-width=\"0.5\" d=\"M308.11,-18C311.63,-18 315.92,-18 319.95,-18\"/>\n",
       "<polygon fill=\"black\" stroke=\"black\" stroke-width=\"0.5\" points=\"319.77,-19.75 324.77,-18 319.77,-16.25 319.77,-19.75\"/>\n",
       "</g>\n",
       "<!-- cup26 -->\n",
       "<g id=\"node14\" class=\"node\">\n",
       "<title>cup26</title>\n",
       "<polygon fill=\"none\" stroke=\"black\" points=\"349.34,0 359.86,0 363.6,-36 345.6,-36 349.34,0\"/>\n",
       "<text text-anchor=\"middle\" x=\"354.6\" y=\"-12.95\" font-family=\"Times New Roman,serif\" font-size=\"14.00\">0</text>\n",
       "</g>\n",
       "<!-- cup17 -->\n",
       "<g id=\"node15\" class=\"node\">\n",
       "<title>cup17</title>\n",
       "<polygon fill=\"none\" stroke=\"black\" points=\"381.74,0 392.26,0 396,-36 378,-36 381.74,0\"/>\n",
       "<text text-anchor=\"middle\" x=\"387\" y=\"-12.95\" font-family=\"Times New Roman,serif\" font-size=\"14.00\">5</text>\n",
       "</g>\n",
       "<!-- cup26&#45;&gt;cup17 -->\n",
       "<g id=\"edge7\" class=\"edge\">\n",
       "<title>cup26&#45;&gt;cup17</title>\n",
       "<path fill=\"none\" stroke=\"black\" stroke-width=\"0.5\" d=\"M362.11,-18C365.63,-18 369.92,-18 373.95,-18\"/>\n",
       "<polygon fill=\"black\" stroke=\"black\" stroke-width=\"0.5\" points=\"373.77,-19.75 378.77,-18 373.77,-16.25 373.77,-19.75\"/>\n",
       "</g>\n",
       "<!-- cup27 -->\n",
       "<g id=\"node16\" class=\"node\">\n",
       "<title>cup27</title>\n",
       "<polygon fill=\"none\" stroke=\"black\" points=\"403.34,0 413.86,0 417.6,-36 399.6,-36 403.34,0\"/>\n",
       "<text text-anchor=\"middle\" x=\"408.6\" y=\"-12.95\" font-family=\"Times New Roman,serif\" font-size=\"14.00\">11</text>\n",
       "</g>\n",
       "<!-- cup18 -->\n",
       "<g id=\"node17\" class=\"node\">\n",
       "<title>cup18</title>\n",
       "<polygon fill=\"none\" stroke=\"black\" points=\"435.74,0 446.26,0 450,-36 432,-36 435.74,0\"/>\n",
       "<text text-anchor=\"middle\" x=\"441\" y=\"-12.95\" font-family=\"Times New Roman,serif\" font-size=\"14.00\">6</text>\n",
       "</g>\n",
       "<!-- cup27&#45;&gt;cup18 -->\n",
       "<g id=\"edge8\" class=\"edge\">\n",
       "<title>cup27&#45;&gt;cup18</title>\n",
       "<path fill=\"none\" stroke=\"black\" stroke-width=\"0.5\" d=\"M416.11,-18C419.63,-18 423.92,-18 427.95,-18\"/>\n",
       "<polygon fill=\"black\" stroke=\"black\" stroke-width=\"0.5\" points=\"427.77,-19.75 432.77,-18 427.77,-16.25 427.77,-19.75\"/>\n",
       "</g>\n",
       "<!-- cup28 -->\n",
       "<g id=\"node18\" class=\"node\">\n",
       "<title>cup28</title>\n",
       "<polygon fill=\"none\" stroke=\"black\" points=\"457.34,0 467.86,0 471.6,-36 453.6,-36 457.34,0\"/>\n",
       "<text text-anchor=\"middle\" x=\"462.6\" y=\"-12.95\" font-family=\"Times New Roman,serif\" font-size=\"14.00\">10</text>\n",
       "</g>\n",
       "<!-- cup19 -->\n",
       "<g id=\"node19\" class=\"node\">\n",
       "<title>cup19</title>\n",
       "<polygon fill=\"none\" stroke=\"black\" points=\"489.74,0 500.26,0 504,-36 486,-36 489.74,0\"/>\n",
       "<text text-anchor=\"middle\" x=\"495\" y=\"-12.95\" font-family=\"Times New Roman,serif\" font-size=\"14.00\">0</text>\n",
       "</g>\n",
       "<!-- cup28&#45;&gt;cup19 -->\n",
       "<g id=\"edge9\" class=\"edge\">\n",
       "<title>cup28&#45;&gt;cup19</title>\n",
       "<path fill=\"none\" stroke=\"black\" stroke-width=\"0.5\" d=\"M470.11,-18C473.63,-18 477.92,-18 481.95,-18\"/>\n",
       "<polygon fill=\"black\" stroke=\"black\" stroke-width=\"0.5\" points=\"481.77,-19.75 486.77,-18 481.77,-16.25 481.77,-19.75\"/>\n",
       "</g>\n",
       "<!-- cup29 -->\n",
       "<g id=\"node20\" class=\"node\">\n",
       "<title>cup29</title>\n",
       "<polygon fill=\"none\" stroke=\"black\" points=\"511.34,0 521.86,0 525.6,-36 507.6,-36 511.34,0\"/>\n",
       "<text text-anchor=\"middle\" x=\"516.6\" y=\"-12.95\" font-family=\"Times New Roman,serif\" font-size=\"14.00\">10</text>\n",
       "</g>\n",
       "<!-- cup110 -->\n",
       "<g id=\"node21\" class=\"node\">\n",
       "<title>cup110</title>\n",
       "<polygon fill=\"none\" stroke=\"black\" points=\"543.74,0 554.26,0 558,-36 540,-36 543.74,0\"/>\n",
       "<text text-anchor=\"middle\" x=\"549\" y=\"-12.95\" font-family=\"Times New Roman,serif\" font-size=\"14.00\">6</text>\n",
       "</g>\n",
       "<!-- cup29&#45;&gt;cup110 -->\n",
       "<g id=\"edge10\" class=\"edge\">\n",
       "<title>cup29&#45;&gt;cup110</title>\n",
       "<path fill=\"none\" stroke=\"black\" stroke-width=\"0.5\" d=\"M524.11,-18C527.63,-18 531.92,-18 535.95,-18\"/>\n",
       "<polygon fill=\"black\" stroke=\"black\" stroke-width=\"0.5\" points=\"535.77,-19.75 540.77,-18 535.77,-16.25 535.77,-19.75\"/>\n",
       "</g>\n",
       "<!-- cup210 -->\n",
       "<g id=\"node22\" class=\"node\">\n",
       "<title>cup210</title>\n",
       "<polygon fill=\"none\" stroke=\"black\" points=\"565.34,0 575.86,0 579.6,-36 561.6,-36 565.34,0\"/>\n",
       "<text text-anchor=\"middle\" x=\"570.6\" y=\"-12.95\" font-family=\"Times New Roman,serif\" font-size=\"14.00\">4</text>\n",
       "</g>\n",
       "<!-- cup111 -->\n",
       "<g id=\"node23\" class=\"node\">\n",
       "<title>cup111</title>\n",
       "<polygon fill=\"none\" stroke=\"black\" points=\"597.74,0 608.26,0 612,-36 594,-36 597.74,0\"/>\n",
       "<text text-anchor=\"middle\" x=\"603\" y=\"-12.95\" font-family=\"Times New Roman,serif\" font-size=\"14.00\">0</text>\n",
       "</g>\n",
       "<!-- cup210&#45;&gt;cup111 -->\n",
       "<g id=\"edge11\" class=\"edge\">\n",
       "<title>cup210&#45;&gt;cup111</title>\n",
       "<path fill=\"none\" stroke=\"black\" stroke-width=\"0.5\" d=\"M578.11,-18C581.63,-18 585.92,-18 589.95,-18\"/>\n",
       "<polygon fill=\"black\" stroke=\"black\" stroke-width=\"0.5\" points=\"589.77,-19.75 594.77,-18 589.77,-16.25 589.77,-19.75\"/>\n",
       "</g>\n",
       "<!-- cup211 -->\n",
       "<g id=\"node24\" class=\"node\">\n",
       "<title>cup211</title>\n",
       "<polygon fill=\"none\" stroke=\"black\" points=\"619.34,0 629.86,0 633.6,-36 615.6,-36 619.34,0\"/>\n",
       "<text text-anchor=\"middle\" x=\"624.6\" y=\"-12.95\" font-family=\"Times New Roman,serif\" font-size=\"14.00\">4</text>\n",
       "</g>\n",
       "<!-- cup112 -->\n",
       "<g id=\"node25\" class=\"node\">\n",
       "<title>cup112</title>\n",
       "<polygon fill=\"none\" stroke=\"black\" points=\"651.74,0 662.26,0 666,-36 648,-36 651.74,0\"/>\n",
       "<text text-anchor=\"middle\" x=\"657\" y=\"-12.95\" font-family=\"Times New Roman,serif\" font-size=\"14.00\">4</text>\n",
       "</g>\n",
       "<!-- cup211&#45;&gt;cup112 -->\n",
       "<g id=\"edge12\" class=\"edge\">\n",
       "<title>cup211&#45;&gt;cup112</title>\n",
       "<path fill=\"none\" stroke=\"black\" stroke-width=\"0.5\" d=\"M632.11,-18C635.63,-18 639.92,-18 643.95,-18\"/>\n",
       "<polygon fill=\"black\" stroke=\"black\" stroke-width=\"0.5\" points=\"643.77,-19.75 648.77,-18 643.77,-16.25 643.77,-19.75\"/>\n",
       "</g>\n",
       "<!-- cup212 -->\n",
       "<g id=\"node26\" class=\"node\">\n",
       "<title>cup212</title>\n",
       "<polygon fill=\"none\" stroke=\"black\" points=\"673.34,0 683.86,0 687.6,-36 669.6,-36 673.34,0\"/>\n",
       "<text text-anchor=\"middle\" x=\"678.6\" y=\"-12.95\" font-family=\"Times New Roman,serif\" font-size=\"14.00\">0</text>\n",
       "</g>\n",
       "<!-- cup113 -->\n",
       "<g id=\"node27\" class=\"node\">\n",
       "<title>cup113</title>\n",
       "<polygon fill=\"none\" stroke=\"black\" points=\"705.74,0 716.26,0 720,-36 702,-36 705.74,0\"/>\n",
       "<text text-anchor=\"middle\" x=\"711\" y=\"-12.95\" font-family=\"Times New Roman,serif\" font-size=\"14.00\">4</text>\n",
       "</g>\n",
       "<!-- cup212&#45;&gt;cup113 -->\n",
       "<g id=\"edge13\" class=\"edge\">\n",
       "<title>cup212&#45;&gt;cup113</title>\n",
       "<path fill=\"none\" stroke=\"black\" stroke-width=\"0.5\" d=\"M686.11,-18C689.63,-18 693.92,-18 697.95,-18\"/>\n",
       "<polygon fill=\"black\" stroke=\"black\" stroke-width=\"0.5\" points=\"697.77,-19.75 702.77,-18 697.77,-16.25 697.77,-19.75\"/>\n",
       "</g>\n",
       "<!-- cup213 -->\n",
       "<g id=\"node28\" class=\"node\">\n",
       "<title>cup213</title>\n",
       "<polygon fill=\"none\" stroke=\"black\" points=\"727.34,0 737.86,0 741.6,-36 723.6,-36 727.34,0\"/>\n",
       "<text text-anchor=\"middle\" x=\"732.6\" y=\"-12.95\" font-family=\"Times New Roman,serif\" font-size=\"14.00\">11</text>\n",
       "</g>\n",
       "<!-- cup114 -->\n",
       "<g id=\"node29\" class=\"node\">\n",
       "<title>cup114</title>\n",
       "<polygon fill=\"none\" stroke=\"black\" points=\"759.74,0 770.26,0 774,-36 756,-36 759.74,0\"/>\n",
       "<text text-anchor=\"middle\" x=\"765\" y=\"-12.95\" font-family=\"Times New Roman,serif\" font-size=\"14.00\">6</text>\n",
       "</g>\n",
       "<!-- cup213&#45;&gt;cup114 -->\n",
       "<g id=\"edge14\" class=\"edge\">\n",
       "<title>cup213&#45;&gt;cup114</title>\n",
       "<path fill=\"none\" stroke=\"black\" stroke-width=\"0.5\" d=\"M740.11,-18C743.63,-18 747.92,-18 751.95,-18\"/>\n",
       "<polygon fill=\"black\" stroke=\"black\" stroke-width=\"0.5\" points=\"751.77,-19.75 756.77,-18 751.77,-16.25 751.77,-19.75\"/>\n",
       "</g>\n",
       "<!-- cup214 -->\n",
       "<g id=\"node30\" class=\"node\">\n",
       "<title>cup214</title>\n",
       "<polygon fill=\"none\" stroke=\"black\" points=\"781.34,0 791.86,0 795.6,-36 777.6,-36 781.34,0\"/>\n",
       "<text text-anchor=\"middle\" x=\"786.6\" y=\"-12.95\" font-family=\"Times New Roman,serif\" font-size=\"14.00\">9</text>\n",
       "</g>\n",
       "<!-- cup115 -->\n",
       "<g id=\"node31\" class=\"node\">\n",
       "<title>cup115</title>\n",
       "<polygon fill=\"none\" stroke=\"black\" points=\"813.74,0 824.26,0 828,-36 810,-36 813.74,0\"/>\n",
       "<text text-anchor=\"middle\" x=\"819\" y=\"-12.95\" font-family=\"Times New Roman,serif\" font-size=\"14.00\">0</text>\n",
       "</g>\n",
       "<!-- cup214&#45;&gt;cup115 -->\n",
       "<g id=\"edge15\" class=\"edge\">\n",
       "<title>cup214&#45;&gt;cup115</title>\n",
       "<path fill=\"none\" stroke=\"black\" stroke-width=\"0.5\" d=\"M794.11,-18C797.63,-18 801.92,-18 805.95,-18\"/>\n",
       "<polygon fill=\"black\" stroke=\"black\" stroke-width=\"0.5\" points=\"805.77,-19.75 810.77,-18 805.77,-16.25 805.77,-19.75\"/>\n",
       "</g>\n",
       "<!-- cup215 -->\n",
       "<g id=\"node32\" class=\"node\">\n",
       "<title>cup215</title>\n",
       "<polygon fill=\"none\" stroke=\"black\" points=\"835.34,0 845.86,0 849.6,-36 831.6,-36 835.34,0\"/>\n",
       "<text text-anchor=\"middle\" x=\"840.6\" y=\"-12.95\" font-family=\"Times New Roman,serif\" font-size=\"14.00\">9</text>\n",
       "</g>\n",
       "<!-- cup116 -->\n",
       "<g id=\"node33\" class=\"node\">\n",
       "<title>cup116</title>\n",
       "<polygon fill=\"none\" stroke=\"black\" points=\"867.74,0 878.26,0 882,-36 864,-36 867.74,0\"/>\n",
       "<text text-anchor=\"middle\" x=\"873\" y=\"-12.95\" font-family=\"Times New Roman,serif\" font-size=\"14.00\">6</text>\n",
       "</g>\n",
       "<!-- cup215&#45;&gt;cup116 -->\n",
       "<g id=\"edge16\" class=\"edge\">\n",
       "<title>cup215&#45;&gt;cup116</title>\n",
       "<path fill=\"none\" stroke=\"black\" stroke-width=\"0.5\" d=\"M848.11,-18C851.63,-18 855.92,-18 859.95,-18\"/>\n",
       "<polygon fill=\"black\" stroke=\"black\" stroke-width=\"0.5\" points=\"859.77,-19.75 864.77,-18 859.77,-16.25 859.77,-19.75\"/>\n",
       "</g>\n",
       "<!-- cup216 -->\n",
       "<g id=\"node34\" class=\"node\">\n",
       "<title>cup216</title>\n",
       "<polygon fill=\"none\" stroke=\"black\" points=\"889.34,0 899.86,0 903.6,-36 885.6,-36 889.34,0\"/>\n",
       "<text text-anchor=\"middle\" x=\"894.6\" y=\"-12.95\" font-family=\"Times New Roman,serif\" font-size=\"14.00\">3</text>\n",
       "</g>\n",
       "<!-- cup117 -->\n",
       "<g id=\"node35\" class=\"node\">\n",
       "<title>cup117</title>\n",
       "<polygon fill=\"none\" stroke=\"black\" points=\"921.74,0 932.26,0 936,-36 918,-36 921.74,0\"/>\n",
       "<text text-anchor=\"middle\" x=\"927\" y=\"-12.95\" font-family=\"Times New Roman,serif\" font-size=\"14.00\">0</text>\n",
       "</g>\n",
       "<!-- cup216&#45;&gt;cup117 -->\n",
       "<g id=\"edge17\" class=\"edge\">\n",
       "<title>cup216&#45;&gt;cup117</title>\n",
       "<path fill=\"none\" stroke=\"black\" stroke-width=\"0.5\" d=\"M902.11,-18C905.63,-18 909.92,-18 913.95,-18\"/>\n",
       "<polygon fill=\"black\" stroke=\"black\" stroke-width=\"0.5\" points=\"913.77,-19.75 918.77,-18 913.77,-16.25 913.77,-19.75\"/>\n",
       "</g>\n",
       "<!-- cup217 -->\n",
       "<g id=\"node36\" class=\"node\">\n",
       "<title>cup217</title>\n",
       "<polygon fill=\"none\" stroke=\"black\" points=\"943.34,0 953.86,0 957.6,-36 939.6,-36 943.34,0\"/>\n",
       "<text text-anchor=\"middle\" x=\"948.6\" y=\"-12.95\" font-family=\"Times New Roman,serif\" font-size=\"14.00\">3</text>\n",
       "</g>\n",
       "<!-- cup118 -->\n",
       "<g id=\"node37\" class=\"node\">\n",
       "<title>cup118</title>\n",
       "<polygon fill=\"none\" stroke=\"black\" points=\"975.74,0 986.26,0 990,-36 972,-36 975.74,0\"/>\n",
       "<text text-anchor=\"middle\" x=\"981\" y=\"-12.95\" font-family=\"Times New Roman,serif\" font-size=\"14.00\">3</text>\n",
       "</g>\n",
       "<!-- cup217&#45;&gt;cup118 -->\n",
       "<g id=\"edge18\" class=\"edge\">\n",
       "<title>cup217&#45;&gt;cup118</title>\n",
       "<path fill=\"none\" stroke=\"black\" stroke-width=\"0.5\" d=\"M956.11,-18C959.63,-18 963.92,-18 967.95,-18\"/>\n",
       "<polygon fill=\"black\" stroke=\"black\" stroke-width=\"0.5\" points=\"967.77,-19.75 972.77,-18 967.77,-16.25 967.77,-19.75\"/>\n",
       "</g>\n",
       "<!-- cup218 -->\n",
       "<g id=\"node38\" class=\"node\">\n",
       "<title>cup218</title>\n",
       "<polygon fill=\"none\" stroke=\"black\" points=\"997.34,0 1007.86,0 1011.6,-36 993.6,-36 997.34,0\"/>\n",
       "<text text-anchor=\"middle\" x=\"1002.6\" y=\"-12.95\" font-family=\"Times New Roman,serif\" font-size=\"14.00\">0</text>\n",
       "</g>\n",
       "<!-- cup119 -->\n",
       "<g id=\"node39\" class=\"node\">\n",
       "<title>cup119</title>\n",
       "<polygon fill=\"none\" stroke=\"black\" points=\"1029.74,0 1040.26,0 1044,-36 1026,-36 1029.74,0\"/>\n",
       "<text text-anchor=\"middle\" x=\"1035\" y=\"-12.95\" font-family=\"Times New Roman,serif\" font-size=\"14.00\">3</text>\n",
       "</g>\n",
       "<!-- cup218&#45;&gt;cup119 -->\n",
       "<g id=\"edge19\" class=\"edge\">\n",
       "<title>cup218&#45;&gt;cup119</title>\n",
       "<path fill=\"none\" stroke=\"black\" stroke-width=\"0.5\" d=\"M1010.11,-18C1013.63,-18 1017.92,-18 1021.95,-18\"/>\n",
       "<polygon fill=\"black\" stroke=\"black\" stroke-width=\"0.5\" points=\"1021.77,-19.75 1026.77,-18 1021.77,-16.25 1021.77,-19.75\"/>\n",
       "</g>\n",
       "<!-- cup219 -->\n",
       "<g id=\"node40\" class=\"node\">\n",
       "<title>cup219</title>\n",
       "<polygon fill=\"none\" stroke=\"black\" points=\"1051.34,0 1061.86,0 1065.6,-36 1047.6,-36 1051.34,0\"/>\n",
       "<text text-anchor=\"middle\" x=\"1056.6\" y=\"-12.95\" font-family=\"Times New Roman,serif\" font-size=\"14.00\">11</text>\n",
       "</g>\n",
       "<!-- cup120 -->\n",
       "<g id=\"node41\" class=\"node\">\n",
       "<title>cup120</title>\n",
       "<polygon fill=\"none\" stroke=\"black\" points=\"1083.74,0 1094.26,0 1098,-36 1080,-36 1083.74,0\"/>\n",
       "<text text-anchor=\"middle\" x=\"1089\" y=\"-12.95\" font-family=\"Times New Roman,serif\" font-size=\"14.00\">6</text>\n",
       "</g>\n",
       "<!-- cup219&#45;&gt;cup120 -->\n",
       "<g id=\"edge20\" class=\"edge\">\n",
       "<title>cup219&#45;&gt;cup120</title>\n",
       "<path fill=\"none\" stroke=\"black\" stroke-width=\"0.5\" d=\"M1064.11,-18C1067.63,-18 1071.92,-18 1075.95,-18\"/>\n",
       "<polygon fill=\"black\" stroke=\"black\" stroke-width=\"0.5\" points=\"1075.77,-19.75 1080.77,-18 1075.77,-16.25 1075.77,-19.75\"/>\n",
       "</g>\n",
       "<!-- cup220 -->\n",
       "<g id=\"node42\" class=\"node\">\n",
       "<title>cup220</title>\n",
       "<polygon fill=\"none\" stroke=\"black\" points=\"1105.34,0 1115.86,0 1119.6,-36 1101.6,-36 1105.34,0\"/>\n",
       "<text text-anchor=\"middle\" x=\"1110.6\" y=\"-12.95\" font-family=\"Times New Roman,serif\" font-size=\"14.00\">8</text>\n",
       "</g>\n",
       "</g>\n",
       "</svg>\n"
      ],
      "text/plain": [
       "<graphviz.graphs.Digraph at 0x1ff646397d0>"
      ]
     },
     "metadata": {},
     "output_type": "display_data"
    }
   ],
   "source": [
    "showJugs(8, 6, 11)"
   ]
  },
  {
   "cell_type": "markdown",
   "metadata": {
    "id": "YqIGTxuFr2gr"
   },
   "source": [
    "And [this](http://numb3rs.wolfram.com/501/puzzle.html):\n",
    "\n",
    "> <i>You have a 7 liter bottle, an 11 liter bottle, and a bathtub filled with water. How can 2 liters of water be measured into the smaller bottle?</i>"
   ]
  },
  {
   "cell_type": "code",
   "execution_count": null,
   "metadata": {
    "colab": {
     "base_uri": "https://localhost:8080/",
     "height": 99
    },
    "executionInfo": {
     "elapsed": 269,
     "status": "ok",
     "timestamp": 1698925037934,
     "user": {
      "displayName": "Joao Pedro Neto",
      "userId": "16588413076175252494"
     },
     "user_tz": 0
    },
    "id": "_6edicfur-kq",
    "outputId": "415f338e-9f7d-40a8-9e03-7b12ddf26153"
   },
   "outputs": [
    {
     "data": {
      "image/svg+xml": [
       "<?xml version=\"1.0\" encoding=\"UTF-8\" standalone=\"no\"?>\n",
       "<!DOCTYPE svg PUBLIC \"-//W3C//DTD SVG 1.1//EN\"\n",
       " \"http://www.w3.org/Graphics/SVG/1.1/DTD/svg11.dtd\">\n",
       "<!-- Generated by graphviz version 9.0.0 (0)\n",
       " -->\n",
       "<!-- Pages: 1 -->\n",
       "<svg width=\"1128pt\" height=\"44pt\"\n",
       " viewBox=\"0.00 0.00 1127.60 44.00\" xmlns=\"http://www.w3.org/2000/svg\" xmlns:xlink=\"http://www.w3.org/1999/xlink\">\n",
       "<g id=\"graph0\" class=\"graph\" transform=\"scale(1 1) rotate(0) translate(4 40)\">\n",
       "<polygon fill=\"white\" stroke=\"none\" points=\"-4,4 -4,-40 1123.6,-40 1123.6,4 -4,4\"/>\n",
       "<!-- cup10 -->\n",
       "<g id=\"node1\" class=\"node\">\n",
       "<title>cup10</title>\n",
       "<polygon fill=\"none\" stroke=\"black\" points=\"3.74,0 14.26,0 18,-36 0,-36 3.74,0\"/>\n",
       "<text text-anchor=\"middle\" x=\"9\" y=\"-12.95\" font-family=\"Times New Roman,serif\" font-size=\"14.00\">0</text>\n",
       "</g>\n",
       "<!-- cup20 -->\n",
       "<g id=\"node2\" class=\"node\">\n",
       "<title>cup20</title>\n",
       "<polygon fill=\"none\" stroke=\"black\" points=\"25.34,0 35.86,0 39.6,-36 21.6,-36 25.34,0\"/>\n",
       "<text text-anchor=\"middle\" x=\"30.6\" y=\"-12.95\" font-family=\"Times New Roman,serif\" font-size=\"14.00\">0</text>\n",
       "</g>\n",
       "<!-- cup11 -->\n",
       "<g id=\"node3\" class=\"node\">\n",
       "<title>cup11</title>\n",
       "<polygon fill=\"none\" stroke=\"black\" points=\"57.74,0 68.26,0 72,-36 54,-36 57.74,0\"/>\n",
       "<text text-anchor=\"middle\" x=\"63\" y=\"-12.95\" font-family=\"Times New Roman,serif\" font-size=\"14.00\">7</text>\n",
       "</g>\n",
       "<!-- cup20&#45;&gt;cup11 -->\n",
       "<g id=\"edge1\" class=\"edge\">\n",
       "<title>cup20&#45;&gt;cup11</title>\n",
       "<path fill=\"none\" stroke=\"black\" stroke-width=\"0.5\" d=\"M38.11,-18C41.63,-18 45.92,-18 49.95,-18\"/>\n",
       "<polygon fill=\"black\" stroke=\"black\" stroke-width=\"0.5\" points=\"49.77,-19.75 54.77,-18 49.77,-16.25 49.77,-19.75\"/>\n",
       "</g>\n",
       "<!-- cup21 -->\n",
       "<g id=\"node4\" class=\"node\">\n",
       "<title>cup21</title>\n",
       "<polygon fill=\"none\" stroke=\"black\" points=\"79.34,0 89.86,0 93.6,-36 75.6,-36 79.34,0\"/>\n",
       "<text text-anchor=\"middle\" x=\"84.6\" y=\"-12.95\" font-family=\"Times New Roman,serif\" font-size=\"14.00\">0</text>\n",
       "</g>\n",
       "<!-- cup12 -->\n",
       "<g id=\"node5\" class=\"node\">\n",
       "<title>cup12</title>\n",
       "<polygon fill=\"none\" stroke=\"black\" points=\"111.74,0 122.26,0 126,-36 108,-36 111.74,0\"/>\n",
       "<text text-anchor=\"middle\" x=\"117\" y=\"-12.95\" font-family=\"Times New Roman,serif\" font-size=\"14.00\">7</text>\n",
       "</g>\n",
       "<!-- cup21&#45;&gt;cup12 -->\n",
       "<g id=\"edge2\" class=\"edge\">\n",
       "<title>cup21&#45;&gt;cup12</title>\n",
       "<path fill=\"none\" stroke=\"black\" stroke-width=\"0.5\" d=\"M92.11,-18C95.63,-18 99.92,-18 103.95,-18\"/>\n",
       "<polygon fill=\"black\" stroke=\"black\" stroke-width=\"0.5\" points=\"103.77,-19.75 108.77,-18 103.77,-16.25 103.77,-19.75\"/>\n",
       "</g>\n",
       "<!-- cup22 -->\n",
       "<g id=\"node6\" class=\"node\">\n",
       "<title>cup22</title>\n",
       "<polygon fill=\"none\" stroke=\"black\" points=\"133.34,0 143.86,0 147.6,-36 129.6,-36 133.34,0\"/>\n",
       "<text text-anchor=\"middle\" x=\"138.6\" y=\"-12.95\" font-family=\"Times New Roman,serif\" font-size=\"14.00\">11</text>\n",
       "</g>\n",
       "<!-- cup13 -->\n",
       "<g id=\"node7\" class=\"node\">\n",
       "<title>cup13</title>\n",
       "<polygon fill=\"none\" stroke=\"black\" points=\"165.74,0 176.26,0 180,-36 162,-36 165.74,0\"/>\n",
       "<text text-anchor=\"middle\" x=\"171\" y=\"-12.95\" font-family=\"Times New Roman,serif\" font-size=\"14.00\">0</text>\n",
       "</g>\n",
       "<!-- cup22&#45;&gt;cup13 -->\n",
       "<g id=\"edge3\" class=\"edge\">\n",
       "<title>cup22&#45;&gt;cup13</title>\n",
       "<path fill=\"none\" stroke=\"black\" stroke-width=\"0.5\" d=\"M146.11,-18C149.63,-18 153.92,-18 157.95,-18\"/>\n",
       "<polygon fill=\"black\" stroke=\"black\" stroke-width=\"0.5\" points=\"157.77,-19.75 162.77,-18 157.77,-16.25 157.77,-19.75\"/>\n",
       "</g>\n",
       "<!-- cup23 -->\n",
       "<g id=\"node8\" class=\"node\">\n",
       "<title>cup23</title>\n",
       "<polygon fill=\"none\" stroke=\"black\" points=\"187.34,0 197.86,0 201.6,-36 183.6,-36 187.34,0\"/>\n",
       "<text text-anchor=\"middle\" x=\"192.6\" y=\"-12.95\" font-family=\"Times New Roman,serif\" font-size=\"14.00\">11</text>\n",
       "</g>\n",
       "<!-- cup14 -->\n",
       "<g id=\"node9\" class=\"node\">\n",
       "<title>cup14</title>\n",
       "<polygon fill=\"none\" stroke=\"black\" points=\"219.74,0 230.26,0 234,-36 216,-36 219.74,0\"/>\n",
       "<text text-anchor=\"middle\" x=\"225\" y=\"-12.95\" font-family=\"Times New Roman,serif\" font-size=\"14.00\">7</text>\n",
       "</g>\n",
       "<!-- cup23&#45;&gt;cup14 -->\n",
       "<g id=\"edge4\" class=\"edge\">\n",
       "<title>cup23&#45;&gt;cup14</title>\n",
       "<path fill=\"none\" stroke=\"black\" stroke-width=\"0.5\" d=\"M200.11,-18C203.63,-18 207.92,-18 211.95,-18\"/>\n",
       "<polygon fill=\"black\" stroke=\"black\" stroke-width=\"0.5\" points=\"211.77,-19.75 216.77,-18 211.77,-16.25 211.77,-19.75\"/>\n",
       "</g>\n",
       "<!-- cup24 -->\n",
       "<g id=\"node10\" class=\"node\">\n",
       "<title>cup24</title>\n",
       "<polygon fill=\"none\" stroke=\"black\" points=\"241.34,0 251.86,0 255.6,-36 237.6,-36 241.34,0\"/>\n",
       "<text text-anchor=\"middle\" x=\"246.6\" y=\"-12.95\" font-family=\"Times New Roman,serif\" font-size=\"14.00\">4</text>\n",
       "</g>\n",
       "<!-- cup15 -->\n",
       "<g id=\"node11\" class=\"node\">\n",
       "<title>cup15</title>\n",
       "<polygon fill=\"none\" stroke=\"black\" points=\"273.74,0 284.26,0 288,-36 270,-36 273.74,0\"/>\n",
       "<text text-anchor=\"middle\" x=\"279\" y=\"-12.95\" font-family=\"Times New Roman,serif\" font-size=\"14.00\">0</text>\n",
       "</g>\n",
       "<!-- cup24&#45;&gt;cup15 -->\n",
       "<g id=\"edge5\" class=\"edge\">\n",
       "<title>cup24&#45;&gt;cup15</title>\n",
       "<path fill=\"none\" stroke=\"black\" stroke-width=\"0.5\" d=\"M254.11,-18C257.63,-18 261.92,-18 265.95,-18\"/>\n",
       "<polygon fill=\"black\" stroke=\"black\" stroke-width=\"0.5\" points=\"265.77,-19.75 270.77,-18 265.77,-16.25 265.77,-19.75\"/>\n",
       "</g>\n",
       "<!-- cup25 -->\n",
       "<g id=\"node12\" class=\"node\">\n",
       "<title>cup25</title>\n",
       "<polygon fill=\"none\" stroke=\"black\" points=\"295.34,0 305.86,0 309.6,-36 291.6,-36 295.34,0\"/>\n",
       "<text text-anchor=\"middle\" x=\"300.6\" y=\"-12.95\" font-family=\"Times New Roman,serif\" font-size=\"14.00\">4</text>\n",
       "</g>\n",
       "<!-- cup16 -->\n",
       "<g id=\"node13\" class=\"node\">\n",
       "<title>cup16</title>\n",
       "<polygon fill=\"none\" stroke=\"black\" points=\"327.74,0 338.26,0 342,-36 324,-36 327.74,0\"/>\n",
       "<text text-anchor=\"middle\" x=\"333\" y=\"-12.95\" font-family=\"Times New Roman,serif\" font-size=\"14.00\">4</text>\n",
       "</g>\n",
       "<!-- cup25&#45;&gt;cup16 -->\n",
       "<g id=\"edge6\" class=\"edge\">\n",
       "<title>cup25&#45;&gt;cup16</title>\n",
       "<path fill=\"none\" stroke=\"black\" stroke-width=\"0.5\" d=\"M308.11,-18C311.63,-18 315.92,-18 319.95,-18\"/>\n",
       "<polygon fill=\"black\" stroke=\"black\" stroke-width=\"0.5\" points=\"319.77,-19.75 324.77,-18 319.77,-16.25 319.77,-19.75\"/>\n",
       "</g>\n",
       "<!-- cup26 -->\n",
       "<g id=\"node14\" class=\"node\">\n",
       "<title>cup26</title>\n",
       "<polygon fill=\"none\" stroke=\"black\" points=\"349.34,0 359.86,0 363.6,-36 345.6,-36 349.34,0\"/>\n",
       "<text text-anchor=\"middle\" x=\"354.6\" y=\"-12.95\" font-family=\"Times New Roman,serif\" font-size=\"14.00\">0</text>\n",
       "</g>\n",
       "<!-- cup17 -->\n",
       "<g id=\"node15\" class=\"node\">\n",
       "<title>cup17</title>\n",
       "<polygon fill=\"none\" stroke=\"black\" points=\"381.74,0 392.26,0 396,-36 378,-36 381.74,0\"/>\n",
       "<text text-anchor=\"middle\" x=\"387\" y=\"-12.95\" font-family=\"Times New Roman,serif\" font-size=\"14.00\">4</text>\n",
       "</g>\n",
       "<!-- cup26&#45;&gt;cup17 -->\n",
       "<g id=\"edge7\" class=\"edge\">\n",
       "<title>cup26&#45;&gt;cup17</title>\n",
       "<path fill=\"none\" stroke=\"black\" stroke-width=\"0.5\" d=\"M362.11,-18C365.63,-18 369.92,-18 373.95,-18\"/>\n",
       "<polygon fill=\"black\" stroke=\"black\" stroke-width=\"0.5\" points=\"373.77,-19.75 378.77,-18 373.77,-16.25 373.77,-19.75\"/>\n",
       "</g>\n",
       "<!-- cup27 -->\n",
       "<g id=\"node16\" class=\"node\">\n",
       "<title>cup27</title>\n",
       "<polygon fill=\"none\" stroke=\"black\" points=\"403.34,0 413.86,0 417.6,-36 399.6,-36 403.34,0\"/>\n",
       "<text text-anchor=\"middle\" x=\"408.6\" y=\"-12.95\" font-family=\"Times New Roman,serif\" font-size=\"14.00\">11</text>\n",
       "</g>\n",
       "<!-- cup18 -->\n",
       "<g id=\"node17\" class=\"node\">\n",
       "<title>cup18</title>\n",
       "<polygon fill=\"none\" stroke=\"black\" points=\"435.74,0 446.26,0 450,-36 432,-36 435.74,0\"/>\n",
       "<text text-anchor=\"middle\" x=\"441\" y=\"-12.95\" font-family=\"Times New Roman,serif\" font-size=\"14.00\">7</text>\n",
       "</g>\n",
       "<!-- cup27&#45;&gt;cup18 -->\n",
       "<g id=\"edge8\" class=\"edge\">\n",
       "<title>cup27&#45;&gt;cup18</title>\n",
       "<path fill=\"none\" stroke=\"black\" stroke-width=\"0.5\" d=\"M416.11,-18C419.63,-18 423.92,-18 427.95,-18\"/>\n",
       "<polygon fill=\"black\" stroke=\"black\" stroke-width=\"0.5\" points=\"427.77,-19.75 432.77,-18 427.77,-16.25 427.77,-19.75\"/>\n",
       "</g>\n",
       "<!-- cup28 -->\n",
       "<g id=\"node18\" class=\"node\">\n",
       "<title>cup28</title>\n",
       "<polygon fill=\"none\" stroke=\"black\" points=\"457.34,0 467.86,0 471.6,-36 453.6,-36 457.34,0\"/>\n",
       "<text text-anchor=\"middle\" x=\"462.6\" y=\"-12.95\" font-family=\"Times New Roman,serif\" font-size=\"14.00\">8</text>\n",
       "</g>\n",
       "<!-- cup19 -->\n",
       "<g id=\"node19\" class=\"node\">\n",
       "<title>cup19</title>\n",
       "<polygon fill=\"none\" stroke=\"black\" points=\"489.74,0 500.26,0 504,-36 486,-36 489.74,0\"/>\n",
       "<text text-anchor=\"middle\" x=\"495\" y=\"-12.95\" font-family=\"Times New Roman,serif\" font-size=\"14.00\">0</text>\n",
       "</g>\n",
       "<!-- cup28&#45;&gt;cup19 -->\n",
       "<g id=\"edge9\" class=\"edge\">\n",
       "<title>cup28&#45;&gt;cup19</title>\n",
       "<path fill=\"none\" stroke=\"black\" stroke-width=\"0.5\" d=\"M470.11,-18C473.63,-18 477.92,-18 481.95,-18\"/>\n",
       "<polygon fill=\"black\" stroke=\"black\" stroke-width=\"0.5\" points=\"481.77,-19.75 486.77,-18 481.77,-16.25 481.77,-19.75\"/>\n",
       "</g>\n",
       "<!-- cup29 -->\n",
       "<g id=\"node20\" class=\"node\">\n",
       "<title>cup29</title>\n",
       "<polygon fill=\"none\" stroke=\"black\" points=\"511.34,0 521.86,0 525.6,-36 507.6,-36 511.34,0\"/>\n",
       "<text text-anchor=\"middle\" x=\"516.6\" y=\"-12.95\" font-family=\"Times New Roman,serif\" font-size=\"14.00\">8</text>\n",
       "</g>\n",
       "<!-- cup110 -->\n",
       "<g id=\"node21\" class=\"node\">\n",
       "<title>cup110</title>\n",
       "<polygon fill=\"none\" stroke=\"black\" points=\"543.74,0 554.26,0 558,-36 540,-36 543.74,0\"/>\n",
       "<text text-anchor=\"middle\" x=\"549\" y=\"-12.95\" font-family=\"Times New Roman,serif\" font-size=\"14.00\">7</text>\n",
       "</g>\n",
       "<!-- cup29&#45;&gt;cup110 -->\n",
       "<g id=\"edge10\" class=\"edge\">\n",
       "<title>cup29&#45;&gt;cup110</title>\n",
       "<path fill=\"none\" stroke=\"black\" stroke-width=\"0.5\" d=\"M524.11,-18C527.63,-18 531.92,-18 535.95,-18\"/>\n",
       "<polygon fill=\"black\" stroke=\"black\" stroke-width=\"0.5\" points=\"535.77,-19.75 540.77,-18 535.77,-16.25 535.77,-19.75\"/>\n",
       "</g>\n",
       "<!-- cup210 -->\n",
       "<g id=\"node22\" class=\"node\">\n",
       "<title>cup210</title>\n",
       "<polygon fill=\"none\" stroke=\"black\" points=\"565.34,0 575.86,0 579.6,-36 561.6,-36 565.34,0\"/>\n",
       "<text text-anchor=\"middle\" x=\"570.6\" y=\"-12.95\" font-family=\"Times New Roman,serif\" font-size=\"14.00\">1</text>\n",
       "</g>\n",
       "<!-- cup111 -->\n",
       "<g id=\"node23\" class=\"node\">\n",
       "<title>cup111</title>\n",
       "<polygon fill=\"none\" stroke=\"black\" points=\"597.74,0 608.26,0 612,-36 594,-36 597.74,0\"/>\n",
       "<text text-anchor=\"middle\" x=\"603\" y=\"-12.95\" font-family=\"Times New Roman,serif\" font-size=\"14.00\">0</text>\n",
       "</g>\n",
       "<!-- cup210&#45;&gt;cup111 -->\n",
       "<g id=\"edge11\" class=\"edge\">\n",
       "<title>cup210&#45;&gt;cup111</title>\n",
       "<path fill=\"none\" stroke=\"black\" stroke-width=\"0.5\" d=\"M578.11,-18C581.63,-18 585.92,-18 589.95,-18\"/>\n",
       "<polygon fill=\"black\" stroke=\"black\" stroke-width=\"0.5\" points=\"589.77,-19.75 594.77,-18 589.77,-16.25 589.77,-19.75\"/>\n",
       "</g>\n",
       "<!-- cup211 -->\n",
       "<g id=\"node24\" class=\"node\">\n",
       "<title>cup211</title>\n",
       "<polygon fill=\"none\" stroke=\"black\" points=\"619.34,0 629.86,0 633.6,-36 615.6,-36 619.34,0\"/>\n",
       "<text text-anchor=\"middle\" x=\"624.6\" y=\"-12.95\" font-family=\"Times New Roman,serif\" font-size=\"14.00\">1</text>\n",
       "</g>\n",
       "<!-- cup112 -->\n",
       "<g id=\"node25\" class=\"node\">\n",
       "<title>cup112</title>\n",
       "<polygon fill=\"none\" stroke=\"black\" points=\"651.74,0 662.26,0 666,-36 648,-36 651.74,0\"/>\n",
       "<text text-anchor=\"middle\" x=\"657\" y=\"-12.95\" font-family=\"Times New Roman,serif\" font-size=\"14.00\">1</text>\n",
       "</g>\n",
       "<!-- cup211&#45;&gt;cup112 -->\n",
       "<g id=\"edge12\" class=\"edge\">\n",
       "<title>cup211&#45;&gt;cup112</title>\n",
       "<path fill=\"none\" stroke=\"black\" stroke-width=\"0.5\" d=\"M632.11,-18C635.63,-18 639.92,-18 643.95,-18\"/>\n",
       "<polygon fill=\"black\" stroke=\"black\" stroke-width=\"0.5\" points=\"643.77,-19.75 648.77,-18 643.77,-16.25 643.77,-19.75\"/>\n",
       "</g>\n",
       "<!-- cup212 -->\n",
       "<g id=\"node26\" class=\"node\">\n",
       "<title>cup212</title>\n",
       "<polygon fill=\"none\" stroke=\"black\" points=\"673.34,0 683.86,0 687.6,-36 669.6,-36 673.34,0\"/>\n",
       "<text text-anchor=\"middle\" x=\"678.6\" y=\"-12.95\" font-family=\"Times New Roman,serif\" font-size=\"14.00\">0</text>\n",
       "</g>\n",
       "<!-- cup113 -->\n",
       "<g id=\"node27\" class=\"node\">\n",
       "<title>cup113</title>\n",
       "<polygon fill=\"none\" stroke=\"black\" points=\"705.74,0 716.26,0 720,-36 702,-36 705.74,0\"/>\n",
       "<text text-anchor=\"middle\" x=\"711\" y=\"-12.95\" font-family=\"Times New Roman,serif\" font-size=\"14.00\">1</text>\n",
       "</g>\n",
       "<!-- cup212&#45;&gt;cup113 -->\n",
       "<g id=\"edge13\" class=\"edge\">\n",
       "<title>cup212&#45;&gt;cup113</title>\n",
       "<path fill=\"none\" stroke=\"black\" stroke-width=\"0.5\" d=\"M686.11,-18C689.63,-18 693.92,-18 697.95,-18\"/>\n",
       "<polygon fill=\"black\" stroke=\"black\" stroke-width=\"0.5\" points=\"697.77,-19.75 702.77,-18 697.77,-16.25 697.77,-19.75\"/>\n",
       "</g>\n",
       "<!-- cup213 -->\n",
       "<g id=\"node28\" class=\"node\">\n",
       "<title>cup213</title>\n",
       "<polygon fill=\"none\" stroke=\"black\" points=\"727.34,0 737.86,0 741.6,-36 723.6,-36 727.34,0\"/>\n",
       "<text text-anchor=\"middle\" x=\"732.6\" y=\"-12.95\" font-family=\"Times New Roman,serif\" font-size=\"14.00\">11</text>\n",
       "</g>\n",
       "<!-- cup114 -->\n",
       "<g id=\"node29\" class=\"node\">\n",
       "<title>cup114</title>\n",
       "<polygon fill=\"none\" stroke=\"black\" points=\"759.74,0 770.26,0 774,-36 756,-36 759.74,0\"/>\n",
       "<text text-anchor=\"middle\" x=\"765\" y=\"-12.95\" font-family=\"Times New Roman,serif\" font-size=\"14.00\">7</text>\n",
       "</g>\n",
       "<!-- cup213&#45;&gt;cup114 -->\n",
       "<g id=\"edge14\" class=\"edge\">\n",
       "<title>cup213&#45;&gt;cup114</title>\n",
       "<path fill=\"none\" stroke=\"black\" stroke-width=\"0.5\" d=\"M740.11,-18C743.63,-18 747.92,-18 751.95,-18\"/>\n",
       "<polygon fill=\"black\" stroke=\"black\" stroke-width=\"0.5\" points=\"751.77,-19.75 756.77,-18 751.77,-16.25 751.77,-19.75\"/>\n",
       "</g>\n",
       "<!-- cup214 -->\n",
       "<g id=\"node30\" class=\"node\">\n",
       "<title>cup214</title>\n",
       "<polygon fill=\"none\" stroke=\"black\" points=\"781.34,0 791.86,0 795.6,-36 777.6,-36 781.34,0\"/>\n",
       "<text text-anchor=\"middle\" x=\"786.6\" y=\"-12.95\" font-family=\"Times New Roman,serif\" font-size=\"14.00\">5</text>\n",
       "</g>\n",
       "<!-- cup115 -->\n",
       "<g id=\"node31\" class=\"node\">\n",
       "<title>cup115</title>\n",
       "<polygon fill=\"none\" stroke=\"black\" points=\"813.74,0 824.26,0 828,-36 810,-36 813.74,0\"/>\n",
       "<text text-anchor=\"middle\" x=\"819\" y=\"-12.95\" font-family=\"Times New Roman,serif\" font-size=\"14.00\">0</text>\n",
       "</g>\n",
       "<!-- cup214&#45;&gt;cup115 -->\n",
       "<g id=\"edge15\" class=\"edge\">\n",
       "<title>cup214&#45;&gt;cup115</title>\n",
       "<path fill=\"none\" stroke=\"black\" stroke-width=\"0.5\" d=\"M794.11,-18C797.63,-18 801.92,-18 805.95,-18\"/>\n",
       "<polygon fill=\"black\" stroke=\"black\" stroke-width=\"0.5\" points=\"805.77,-19.75 810.77,-18 805.77,-16.25 805.77,-19.75\"/>\n",
       "</g>\n",
       "<!-- cup215 -->\n",
       "<g id=\"node32\" class=\"node\">\n",
       "<title>cup215</title>\n",
       "<polygon fill=\"none\" stroke=\"black\" points=\"835.34,0 845.86,0 849.6,-36 831.6,-36 835.34,0\"/>\n",
       "<text text-anchor=\"middle\" x=\"840.6\" y=\"-12.95\" font-family=\"Times New Roman,serif\" font-size=\"14.00\">5</text>\n",
       "</g>\n",
       "<!-- cup116 -->\n",
       "<g id=\"node33\" class=\"node\">\n",
       "<title>cup116</title>\n",
       "<polygon fill=\"none\" stroke=\"black\" points=\"867.74,0 878.26,0 882,-36 864,-36 867.74,0\"/>\n",
       "<text text-anchor=\"middle\" x=\"873\" y=\"-12.95\" font-family=\"Times New Roman,serif\" font-size=\"14.00\">5</text>\n",
       "</g>\n",
       "<!-- cup215&#45;&gt;cup116 -->\n",
       "<g id=\"edge16\" class=\"edge\">\n",
       "<title>cup215&#45;&gt;cup116</title>\n",
       "<path fill=\"none\" stroke=\"black\" stroke-width=\"0.5\" d=\"M848.11,-18C851.63,-18 855.92,-18 859.95,-18\"/>\n",
       "<polygon fill=\"black\" stroke=\"black\" stroke-width=\"0.5\" points=\"859.77,-19.75 864.77,-18 859.77,-16.25 859.77,-19.75\"/>\n",
       "</g>\n",
       "<!-- cup216 -->\n",
       "<g id=\"node34\" class=\"node\">\n",
       "<title>cup216</title>\n",
       "<polygon fill=\"none\" stroke=\"black\" points=\"889.34,0 899.86,0 903.6,-36 885.6,-36 889.34,0\"/>\n",
       "<text text-anchor=\"middle\" x=\"894.6\" y=\"-12.95\" font-family=\"Times New Roman,serif\" font-size=\"14.00\">0</text>\n",
       "</g>\n",
       "<!-- cup117 -->\n",
       "<g id=\"node35\" class=\"node\">\n",
       "<title>cup117</title>\n",
       "<polygon fill=\"none\" stroke=\"black\" points=\"921.74,0 932.26,0 936,-36 918,-36 921.74,0\"/>\n",
       "<text text-anchor=\"middle\" x=\"927\" y=\"-12.95\" font-family=\"Times New Roman,serif\" font-size=\"14.00\">5</text>\n",
       "</g>\n",
       "<!-- cup216&#45;&gt;cup117 -->\n",
       "<g id=\"edge17\" class=\"edge\">\n",
       "<title>cup216&#45;&gt;cup117</title>\n",
       "<path fill=\"none\" stroke=\"black\" stroke-width=\"0.5\" d=\"M902.11,-18C905.63,-18 909.92,-18 913.95,-18\"/>\n",
       "<polygon fill=\"black\" stroke=\"black\" stroke-width=\"0.5\" points=\"913.77,-19.75 918.77,-18 913.77,-16.25 913.77,-19.75\"/>\n",
       "</g>\n",
       "<!-- cup217 -->\n",
       "<g id=\"node36\" class=\"node\">\n",
       "<title>cup217</title>\n",
       "<polygon fill=\"none\" stroke=\"black\" points=\"943.34,0 953.86,0 957.6,-36 939.6,-36 943.34,0\"/>\n",
       "<text text-anchor=\"middle\" x=\"948.6\" y=\"-12.95\" font-family=\"Times New Roman,serif\" font-size=\"14.00\">11</text>\n",
       "</g>\n",
       "<!-- cup118 -->\n",
       "<g id=\"node37\" class=\"node\">\n",
       "<title>cup118</title>\n",
       "<polygon fill=\"none\" stroke=\"black\" points=\"975.74,0 986.26,0 990,-36 972,-36 975.74,0\"/>\n",
       "<text text-anchor=\"middle\" x=\"981\" y=\"-12.95\" font-family=\"Times New Roman,serif\" font-size=\"14.00\">7</text>\n",
       "</g>\n",
       "<!-- cup217&#45;&gt;cup118 -->\n",
       "<g id=\"edge18\" class=\"edge\">\n",
       "<title>cup217&#45;&gt;cup118</title>\n",
       "<path fill=\"none\" stroke=\"black\" stroke-width=\"0.5\" d=\"M956.11,-18C959.63,-18 963.92,-18 967.95,-18\"/>\n",
       "<polygon fill=\"black\" stroke=\"black\" stroke-width=\"0.5\" points=\"967.77,-19.75 972.77,-18 967.77,-16.25 967.77,-19.75\"/>\n",
       "</g>\n",
       "<!-- cup218 -->\n",
       "<g id=\"node38\" class=\"node\">\n",
       "<title>cup218</title>\n",
       "<polygon fill=\"none\" stroke=\"black\" points=\"997.34,0 1007.86,0 1011.6,-36 993.6,-36 997.34,0\"/>\n",
       "<text text-anchor=\"middle\" x=\"1002.6\" y=\"-12.95\" font-family=\"Times New Roman,serif\" font-size=\"14.00\">9</text>\n",
       "</g>\n",
       "<!-- cup119 -->\n",
       "<g id=\"node39\" class=\"node\">\n",
       "<title>cup119</title>\n",
       "<polygon fill=\"none\" stroke=\"black\" points=\"1029.74,0 1040.26,0 1044,-36 1026,-36 1029.74,0\"/>\n",
       "<text text-anchor=\"middle\" x=\"1035\" y=\"-12.95\" font-family=\"Times New Roman,serif\" font-size=\"14.00\">0</text>\n",
       "</g>\n",
       "<!-- cup218&#45;&gt;cup119 -->\n",
       "<g id=\"edge19\" class=\"edge\">\n",
       "<title>cup218&#45;&gt;cup119</title>\n",
       "<path fill=\"none\" stroke=\"black\" stroke-width=\"0.5\" d=\"M1010.11,-18C1013.63,-18 1017.92,-18 1021.95,-18\"/>\n",
       "<polygon fill=\"black\" stroke=\"black\" stroke-width=\"0.5\" points=\"1021.77,-19.75 1026.77,-18 1021.77,-16.25 1021.77,-19.75\"/>\n",
       "</g>\n",
       "<!-- cup219 -->\n",
       "<g id=\"node40\" class=\"node\">\n",
       "<title>cup219</title>\n",
       "<polygon fill=\"none\" stroke=\"black\" points=\"1051.34,0 1061.86,0 1065.6,-36 1047.6,-36 1051.34,0\"/>\n",
       "<text text-anchor=\"middle\" x=\"1056.6\" y=\"-12.95\" font-family=\"Times New Roman,serif\" font-size=\"14.00\">9</text>\n",
       "</g>\n",
       "<!-- cup120 -->\n",
       "<g id=\"node41\" class=\"node\">\n",
       "<title>cup120</title>\n",
       "<polygon fill=\"none\" stroke=\"black\" points=\"1083.74,0 1094.26,0 1098,-36 1080,-36 1083.74,0\"/>\n",
       "<text text-anchor=\"middle\" x=\"1089\" y=\"-12.95\" font-family=\"Times New Roman,serif\" font-size=\"14.00\">7</text>\n",
       "</g>\n",
       "<!-- cup219&#45;&gt;cup120 -->\n",
       "<g id=\"edge20\" class=\"edge\">\n",
       "<title>cup219&#45;&gt;cup120</title>\n",
       "<path fill=\"none\" stroke=\"black\" stroke-width=\"0.5\" d=\"M1064.11,-18C1067.63,-18 1071.92,-18 1075.95,-18\"/>\n",
       "<polygon fill=\"black\" stroke=\"black\" stroke-width=\"0.5\" points=\"1075.77,-19.75 1080.77,-18 1075.77,-16.25 1075.77,-19.75\"/>\n",
       "</g>\n",
       "<!-- cup220 -->\n",
       "<g id=\"node42\" class=\"node\">\n",
       "<title>cup220</title>\n",
       "<polygon fill=\"none\" stroke=\"black\" points=\"1105.34,0 1115.86,0 1119.6,-36 1101.6,-36 1105.34,0\"/>\n",
       "<text text-anchor=\"middle\" x=\"1110.6\" y=\"-12.95\" font-family=\"Times New Roman,serif\" font-size=\"14.00\">2</text>\n",
       "</g>\n",
       "</g>\n",
       "</svg>\n"
      ],
      "text/plain": [
       "<graphviz.graphs.Digraph at 0x1ff64535dd0>"
      ]
     },
     "metadata": {},
     "output_type": "display_data"
    }
   ],
   "source": [
    "showJugs(2, 7, 11)"
   ]
  },
  {
   "cell_type": "markdown",
   "metadata": {
    "id": "6Axfc6E-sP4U"
   },
   "source": [
    "One [more](https://www.mathsisfun.com/puzzles/measuring-6-liters-solution.html):\n",
    "\n",
    "> <i>You are going to mix up some concrete, and in order to get it just right you need exactly 6 liters. But you only have a 4-liter and a 9-liter bucket.</i>"
   ]
  },
  {
   "cell_type": "code",
   "execution_count": null,
   "metadata": {
    "colab": {
     "base_uri": "https://localhost:8080/",
     "height": 99
    },
    "executionInfo": {
     "elapsed": 325,
     "status": "ok",
     "timestamp": 1698925055015,
     "user": {
      "displayName": "Joao Pedro Neto",
      "userId": "16588413076175252494"
     },
     "user_tz": 0
    },
    "id": "bKqZbJALsXsv",
    "outputId": "b9d974f0-133a-40de-df33-894d6975ba15"
   },
   "outputs": [
    {
     "data": {
      "image/svg+xml": [
       "<?xml version=\"1.0\" encoding=\"UTF-8\" standalone=\"no\"?>\n",
       "<!DOCTYPE svg PUBLIC \"-//W3C//DTD SVG 1.1//EN\"\n",
       " \"http://www.w3.org/Graphics/SVG/1.1/DTD/svg11.dtd\">\n",
       "<!-- Generated by graphviz version 9.0.0 (0)\n",
       " -->\n",
       "<!-- Pages: 1 -->\n",
       "<svg width=\"588pt\" height=\"44pt\"\n",
       " viewBox=\"0.00 0.00 587.60 44.00\" xmlns=\"http://www.w3.org/2000/svg\" xmlns:xlink=\"http://www.w3.org/1999/xlink\">\n",
       "<g id=\"graph0\" class=\"graph\" transform=\"scale(1 1) rotate(0) translate(4 40)\">\n",
       "<polygon fill=\"white\" stroke=\"none\" points=\"-4,4 -4,-40 583.6,-40 583.6,4 -4,4\"/>\n",
       "<!-- cup10 -->\n",
       "<g id=\"node1\" class=\"node\">\n",
       "<title>cup10</title>\n",
       "<polygon fill=\"none\" stroke=\"black\" points=\"3.74,0 14.26,0 18,-36 0,-36 3.74,0\"/>\n",
       "<text text-anchor=\"middle\" x=\"9\" y=\"-12.95\" font-family=\"Times New Roman,serif\" font-size=\"14.00\">0</text>\n",
       "</g>\n",
       "<!-- cup20 -->\n",
       "<g id=\"node2\" class=\"node\">\n",
       "<title>cup20</title>\n",
       "<polygon fill=\"none\" stroke=\"black\" points=\"25.34,0 35.86,0 39.6,-36 21.6,-36 25.34,0\"/>\n",
       "<text text-anchor=\"middle\" x=\"30.6\" y=\"-12.95\" font-family=\"Times New Roman,serif\" font-size=\"14.00\">0</text>\n",
       "</g>\n",
       "<!-- cup11 -->\n",
       "<g id=\"node3\" class=\"node\">\n",
       "<title>cup11</title>\n",
       "<polygon fill=\"none\" stroke=\"black\" points=\"57.74,0 68.26,0 72,-36 54,-36 57.74,0\"/>\n",
       "<text text-anchor=\"middle\" x=\"63\" y=\"-12.95\" font-family=\"Times New Roman,serif\" font-size=\"14.00\">4</text>\n",
       "</g>\n",
       "<!-- cup20&#45;&gt;cup11 -->\n",
       "<g id=\"edge1\" class=\"edge\">\n",
       "<title>cup20&#45;&gt;cup11</title>\n",
       "<path fill=\"none\" stroke=\"black\" stroke-width=\"0.5\" d=\"M38.11,-18C41.63,-18 45.92,-18 49.95,-18\"/>\n",
       "<polygon fill=\"black\" stroke=\"black\" stroke-width=\"0.5\" points=\"49.77,-19.75 54.77,-18 49.77,-16.25 49.77,-19.75\"/>\n",
       "</g>\n",
       "<!-- cup21 -->\n",
       "<g id=\"node4\" class=\"node\">\n",
       "<title>cup21</title>\n",
       "<polygon fill=\"none\" stroke=\"black\" points=\"79.34,0 89.86,0 93.6,-36 75.6,-36 79.34,0\"/>\n",
       "<text text-anchor=\"middle\" x=\"84.6\" y=\"-12.95\" font-family=\"Times New Roman,serif\" font-size=\"14.00\">0</text>\n",
       "</g>\n",
       "<!-- cup12 -->\n",
       "<g id=\"node5\" class=\"node\">\n",
       "<title>cup12</title>\n",
       "<polygon fill=\"none\" stroke=\"black\" points=\"111.74,0 122.26,0 126,-36 108,-36 111.74,0\"/>\n",
       "<text text-anchor=\"middle\" x=\"117\" y=\"-12.95\" font-family=\"Times New Roman,serif\" font-size=\"14.00\">4</text>\n",
       "</g>\n",
       "<!-- cup21&#45;&gt;cup12 -->\n",
       "<g id=\"edge2\" class=\"edge\">\n",
       "<title>cup21&#45;&gt;cup12</title>\n",
       "<path fill=\"none\" stroke=\"black\" stroke-width=\"0.5\" d=\"M92.11,-18C95.63,-18 99.92,-18 103.95,-18\"/>\n",
       "<polygon fill=\"black\" stroke=\"black\" stroke-width=\"0.5\" points=\"103.77,-19.75 108.77,-18 103.77,-16.25 103.77,-19.75\"/>\n",
       "</g>\n",
       "<!-- cup22 -->\n",
       "<g id=\"node6\" class=\"node\">\n",
       "<title>cup22</title>\n",
       "<polygon fill=\"none\" stroke=\"black\" points=\"133.34,0 143.86,0 147.6,-36 129.6,-36 133.34,0\"/>\n",
       "<text text-anchor=\"middle\" x=\"138.6\" y=\"-12.95\" font-family=\"Times New Roman,serif\" font-size=\"14.00\">9</text>\n",
       "</g>\n",
       "<!-- cup13 -->\n",
       "<g id=\"node7\" class=\"node\">\n",
       "<title>cup13</title>\n",
       "<polygon fill=\"none\" stroke=\"black\" points=\"165.74,0 176.26,0 180,-36 162,-36 165.74,0\"/>\n",
       "<text text-anchor=\"middle\" x=\"171\" y=\"-12.95\" font-family=\"Times New Roman,serif\" font-size=\"14.00\">0</text>\n",
       "</g>\n",
       "<!-- cup22&#45;&gt;cup13 -->\n",
       "<g id=\"edge3\" class=\"edge\">\n",
       "<title>cup22&#45;&gt;cup13</title>\n",
       "<path fill=\"none\" stroke=\"black\" stroke-width=\"0.5\" d=\"M146.11,-18C149.63,-18 153.92,-18 157.95,-18\"/>\n",
       "<polygon fill=\"black\" stroke=\"black\" stroke-width=\"0.5\" points=\"157.77,-19.75 162.77,-18 157.77,-16.25 157.77,-19.75\"/>\n",
       "</g>\n",
       "<!-- cup23 -->\n",
       "<g id=\"node8\" class=\"node\">\n",
       "<title>cup23</title>\n",
       "<polygon fill=\"none\" stroke=\"black\" points=\"187.34,0 197.86,0 201.6,-36 183.6,-36 187.34,0\"/>\n",
       "<text text-anchor=\"middle\" x=\"192.6\" y=\"-12.95\" font-family=\"Times New Roman,serif\" font-size=\"14.00\">9</text>\n",
       "</g>\n",
       "<!-- cup14 -->\n",
       "<g id=\"node9\" class=\"node\">\n",
       "<title>cup14</title>\n",
       "<polygon fill=\"none\" stroke=\"black\" points=\"219.74,0 230.26,0 234,-36 216,-36 219.74,0\"/>\n",
       "<text text-anchor=\"middle\" x=\"225\" y=\"-12.95\" font-family=\"Times New Roman,serif\" font-size=\"14.00\">4</text>\n",
       "</g>\n",
       "<!-- cup23&#45;&gt;cup14 -->\n",
       "<g id=\"edge4\" class=\"edge\">\n",
       "<title>cup23&#45;&gt;cup14</title>\n",
       "<path fill=\"none\" stroke=\"black\" stroke-width=\"0.5\" d=\"M200.11,-18C203.63,-18 207.92,-18 211.95,-18\"/>\n",
       "<polygon fill=\"black\" stroke=\"black\" stroke-width=\"0.5\" points=\"211.77,-19.75 216.77,-18 211.77,-16.25 211.77,-19.75\"/>\n",
       "</g>\n",
       "<!-- cup24 -->\n",
       "<g id=\"node10\" class=\"node\">\n",
       "<title>cup24</title>\n",
       "<polygon fill=\"none\" stroke=\"black\" points=\"241.34,0 251.86,0 255.6,-36 237.6,-36 241.34,0\"/>\n",
       "<text text-anchor=\"middle\" x=\"246.6\" y=\"-12.95\" font-family=\"Times New Roman,serif\" font-size=\"14.00\">5</text>\n",
       "</g>\n",
       "<!-- cup15 -->\n",
       "<g id=\"node11\" class=\"node\">\n",
       "<title>cup15</title>\n",
       "<polygon fill=\"none\" stroke=\"black\" points=\"273.74,0 284.26,0 288,-36 270,-36 273.74,0\"/>\n",
       "<text text-anchor=\"middle\" x=\"279\" y=\"-12.95\" font-family=\"Times New Roman,serif\" font-size=\"14.00\">0</text>\n",
       "</g>\n",
       "<!-- cup24&#45;&gt;cup15 -->\n",
       "<g id=\"edge5\" class=\"edge\">\n",
       "<title>cup24&#45;&gt;cup15</title>\n",
       "<path fill=\"none\" stroke=\"black\" stroke-width=\"0.5\" d=\"M254.11,-18C257.63,-18 261.92,-18 265.95,-18\"/>\n",
       "<polygon fill=\"black\" stroke=\"black\" stroke-width=\"0.5\" points=\"265.77,-19.75 270.77,-18 265.77,-16.25 265.77,-19.75\"/>\n",
       "</g>\n",
       "<!-- cup25 -->\n",
       "<g id=\"node12\" class=\"node\">\n",
       "<title>cup25</title>\n",
       "<polygon fill=\"none\" stroke=\"black\" points=\"295.34,0 305.86,0 309.6,-36 291.6,-36 295.34,0\"/>\n",
       "<text text-anchor=\"middle\" x=\"300.6\" y=\"-12.95\" font-family=\"Times New Roman,serif\" font-size=\"14.00\">5</text>\n",
       "</g>\n",
       "<!-- cup16 -->\n",
       "<g id=\"node13\" class=\"node\">\n",
       "<title>cup16</title>\n",
       "<polygon fill=\"none\" stroke=\"black\" points=\"327.74,0 338.26,0 342,-36 324,-36 327.74,0\"/>\n",
       "<text text-anchor=\"middle\" x=\"333\" y=\"-12.95\" font-family=\"Times New Roman,serif\" font-size=\"14.00\">4</text>\n",
       "</g>\n",
       "<!-- cup25&#45;&gt;cup16 -->\n",
       "<g id=\"edge6\" class=\"edge\">\n",
       "<title>cup25&#45;&gt;cup16</title>\n",
       "<path fill=\"none\" stroke=\"black\" stroke-width=\"0.5\" d=\"M308.11,-18C311.63,-18 315.92,-18 319.95,-18\"/>\n",
       "<polygon fill=\"black\" stroke=\"black\" stroke-width=\"0.5\" points=\"319.77,-19.75 324.77,-18 319.77,-16.25 319.77,-19.75\"/>\n",
       "</g>\n",
       "<!-- cup26 -->\n",
       "<g id=\"node14\" class=\"node\">\n",
       "<title>cup26</title>\n",
       "<polygon fill=\"none\" stroke=\"black\" points=\"349.34,0 359.86,0 363.6,-36 345.6,-36 349.34,0\"/>\n",
       "<text text-anchor=\"middle\" x=\"354.6\" y=\"-12.95\" font-family=\"Times New Roman,serif\" font-size=\"14.00\">1</text>\n",
       "</g>\n",
       "<!-- cup17 -->\n",
       "<g id=\"node15\" class=\"node\">\n",
       "<title>cup17</title>\n",
       "<polygon fill=\"none\" stroke=\"black\" points=\"381.74,0 392.26,0 396,-36 378,-36 381.74,0\"/>\n",
       "<text text-anchor=\"middle\" x=\"387\" y=\"-12.95\" font-family=\"Times New Roman,serif\" font-size=\"14.00\">0</text>\n",
       "</g>\n",
       "<!-- cup26&#45;&gt;cup17 -->\n",
       "<g id=\"edge7\" class=\"edge\">\n",
       "<title>cup26&#45;&gt;cup17</title>\n",
       "<path fill=\"none\" stroke=\"black\" stroke-width=\"0.5\" d=\"M362.11,-18C365.63,-18 369.92,-18 373.95,-18\"/>\n",
       "<polygon fill=\"black\" stroke=\"black\" stroke-width=\"0.5\" points=\"373.77,-19.75 378.77,-18 373.77,-16.25 373.77,-19.75\"/>\n",
       "</g>\n",
       "<!-- cup27 -->\n",
       "<g id=\"node16\" class=\"node\">\n",
       "<title>cup27</title>\n",
       "<polygon fill=\"none\" stroke=\"black\" points=\"403.34,0 413.86,0 417.6,-36 399.6,-36 403.34,0\"/>\n",
       "<text text-anchor=\"middle\" x=\"408.6\" y=\"-12.95\" font-family=\"Times New Roman,serif\" font-size=\"14.00\">1</text>\n",
       "</g>\n",
       "<!-- cup18 -->\n",
       "<g id=\"node17\" class=\"node\">\n",
       "<title>cup18</title>\n",
       "<polygon fill=\"none\" stroke=\"black\" points=\"435.74,0 446.26,0 450,-36 432,-36 435.74,0\"/>\n",
       "<text text-anchor=\"middle\" x=\"441\" y=\"-12.95\" font-family=\"Times New Roman,serif\" font-size=\"14.00\">1</text>\n",
       "</g>\n",
       "<!-- cup27&#45;&gt;cup18 -->\n",
       "<g id=\"edge8\" class=\"edge\">\n",
       "<title>cup27&#45;&gt;cup18</title>\n",
       "<path fill=\"none\" stroke=\"black\" stroke-width=\"0.5\" d=\"M416.11,-18C419.63,-18 423.92,-18 427.95,-18\"/>\n",
       "<polygon fill=\"black\" stroke=\"black\" stroke-width=\"0.5\" points=\"427.77,-19.75 432.77,-18 427.77,-16.25 427.77,-19.75\"/>\n",
       "</g>\n",
       "<!-- cup28 -->\n",
       "<g id=\"node18\" class=\"node\">\n",
       "<title>cup28</title>\n",
       "<polygon fill=\"none\" stroke=\"black\" points=\"457.34,0 467.86,0 471.6,-36 453.6,-36 457.34,0\"/>\n",
       "<text text-anchor=\"middle\" x=\"462.6\" y=\"-12.95\" font-family=\"Times New Roman,serif\" font-size=\"14.00\">0</text>\n",
       "</g>\n",
       "<!-- cup19 -->\n",
       "<g id=\"node19\" class=\"node\">\n",
       "<title>cup19</title>\n",
       "<polygon fill=\"none\" stroke=\"black\" points=\"489.74,0 500.26,0 504,-36 486,-36 489.74,0\"/>\n",
       "<text text-anchor=\"middle\" x=\"495\" y=\"-12.95\" font-family=\"Times New Roman,serif\" font-size=\"14.00\">1</text>\n",
       "</g>\n",
       "<!-- cup28&#45;&gt;cup19 -->\n",
       "<g id=\"edge9\" class=\"edge\">\n",
       "<title>cup28&#45;&gt;cup19</title>\n",
       "<path fill=\"none\" stroke=\"black\" stroke-width=\"0.5\" d=\"M470.11,-18C473.63,-18 477.92,-18 481.95,-18\"/>\n",
       "<polygon fill=\"black\" stroke=\"black\" stroke-width=\"0.5\" points=\"481.77,-19.75 486.77,-18 481.77,-16.25 481.77,-19.75\"/>\n",
       "</g>\n",
       "<!-- cup29 -->\n",
       "<g id=\"node20\" class=\"node\">\n",
       "<title>cup29</title>\n",
       "<polygon fill=\"none\" stroke=\"black\" points=\"511.34,0 521.86,0 525.6,-36 507.6,-36 511.34,0\"/>\n",
       "<text text-anchor=\"middle\" x=\"516.6\" y=\"-12.95\" font-family=\"Times New Roman,serif\" font-size=\"14.00\">9</text>\n",
       "</g>\n",
       "<!-- cup110 -->\n",
       "<g id=\"node21\" class=\"node\">\n",
       "<title>cup110</title>\n",
       "<polygon fill=\"none\" stroke=\"black\" points=\"543.74,0 554.26,0 558,-36 540,-36 543.74,0\"/>\n",
       "<text text-anchor=\"middle\" x=\"549\" y=\"-12.95\" font-family=\"Times New Roman,serif\" font-size=\"14.00\">4</text>\n",
       "</g>\n",
       "<!-- cup29&#45;&gt;cup110 -->\n",
       "<g id=\"edge10\" class=\"edge\">\n",
       "<title>cup29&#45;&gt;cup110</title>\n",
       "<path fill=\"none\" stroke=\"black\" stroke-width=\"0.5\" d=\"M524.11,-18C527.63,-18 531.92,-18 535.95,-18\"/>\n",
       "<polygon fill=\"black\" stroke=\"black\" stroke-width=\"0.5\" points=\"535.77,-19.75 540.77,-18 535.77,-16.25 535.77,-19.75\"/>\n",
       "</g>\n",
       "<!-- cup210 -->\n",
       "<g id=\"node22\" class=\"node\">\n",
       "<title>cup210</title>\n",
       "<polygon fill=\"none\" stroke=\"black\" points=\"565.34,0 575.86,0 579.6,-36 561.6,-36 565.34,0\"/>\n",
       "<text text-anchor=\"middle\" x=\"570.6\" y=\"-12.95\" font-family=\"Times New Roman,serif\" font-size=\"14.00\">6</text>\n",
       "</g>\n",
       "</g>\n",
       "</svg>\n"
      ],
      "text/plain": [
       "<graphviz.graphs.Digraph at 0x1ff646397d0>"
      ]
     },
     "metadata": {},
     "output_type": "display_data"
    }
   ],
   "source": [
    "showJugs(6, 4, 9)"
   ]
  },
  {
   "cell_type": "markdown",
   "metadata": {
    "id": "3YbUwByfs4ri"
   },
   "source": [
    "They are falling like flies!\n",
    "\n",
    "Notice the advantage of using function parameters to represent the initial values of the puzzle. This is a very effective method for reusing code to solve similar problems.\n",
    "\n",
    "And since we implemented a generator, we can list all possible solutions for a given instance of the problem:"
   ]
  },
  {
   "cell_type": "code",
   "execution_count": null,
   "metadata": {
    "colab": {
     "base_uri": "https://localhost:8080/",
     "height": 516
    },
    "executionInfo": {
     "elapsed": 266,
     "status": "ok",
     "timestamp": 1698927809264,
     "user": {
      "displayName": "Joao Pedro Neto",
      "userId": "16588413076175252494"
     },
     "user_tz": 0
    },
    "id": "82vM27DF23vL",
    "outputId": "2b4a9914-e9b8-4b21-d421-9a42b68bb2ed"
   },
   "outputs": [
    {
     "data": {
      "image/svg+xml": [
       "<?xml version=\"1.0\" encoding=\"UTF-8\" standalone=\"no\"?>\n",
       "<!DOCTYPE svg PUBLIC \"-//W3C//DTD SVG 1.1//EN\"\n",
       " \"http://www.w3.org/Graphics/SVG/1.1/DTD/svg11.dtd\">\n",
       "<!-- Generated by graphviz version 9.0.0 (0)\n",
       " -->\n",
       "<!-- Pages: 1 -->\n",
       "<svg width=\"480pt\" height=\"44pt\"\n",
       " viewBox=\"0.00 0.00 479.60 44.00\" xmlns=\"http://www.w3.org/2000/svg\" xmlns:xlink=\"http://www.w3.org/1999/xlink\">\n",
       "<g id=\"graph0\" class=\"graph\" transform=\"scale(1 1) rotate(0) translate(4 40)\">\n",
       "<polygon fill=\"white\" stroke=\"none\" points=\"-4,4 -4,-40 475.6,-40 475.6,4 -4,4\"/>\n",
       "<!-- cup10 -->\n",
       "<g id=\"node1\" class=\"node\">\n",
       "<title>cup10</title>\n",
       "<polygon fill=\"none\" stroke=\"black\" points=\"3.74,0 14.26,0 18,-36 0,-36 3.74,0\"/>\n",
       "<text text-anchor=\"middle\" x=\"9\" y=\"-12.95\" font-family=\"Times New Roman,serif\" font-size=\"14.00\">0</text>\n",
       "</g>\n",
       "<!-- cup20 -->\n",
       "<g id=\"node2\" class=\"node\">\n",
       "<title>cup20</title>\n",
       "<polygon fill=\"none\" stroke=\"black\" points=\"25.34,0 35.86,0 39.6,-36 21.6,-36 25.34,0\"/>\n",
       "<text text-anchor=\"middle\" x=\"30.6\" y=\"-12.95\" font-family=\"Times New Roman,serif\" font-size=\"14.00\">0</text>\n",
       "</g>\n",
       "<!-- cup11 -->\n",
       "<g id=\"node3\" class=\"node\">\n",
       "<title>cup11</title>\n",
       "<polygon fill=\"none\" stroke=\"black\" points=\"57.74,0 68.26,0 72,-36 54,-36 57.74,0\"/>\n",
       "<text text-anchor=\"middle\" x=\"63\" y=\"-12.95\" font-family=\"Times New Roman,serif\" font-size=\"14.00\">8</text>\n",
       "</g>\n",
       "<!-- cup20&#45;&gt;cup11 -->\n",
       "<g id=\"edge1\" class=\"edge\">\n",
       "<title>cup20&#45;&gt;cup11</title>\n",
       "<path fill=\"none\" stroke=\"black\" stroke-width=\"0.5\" d=\"M38.11,-18C41.63,-18 45.92,-18 49.95,-18\"/>\n",
       "<polygon fill=\"black\" stroke=\"black\" stroke-width=\"0.5\" points=\"49.77,-19.75 54.77,-18 49.77,-16.25 49.77,-19.75\"/>\n",
       "</g>\n",
       "<!-- cup21 -->\n",
       "<g id=\"node4\" class=\"node\">\n",
       "<title>cup21</title>\n",
       "<polygon fill=\"none\" stroke=\"black\" points=\"79.34,0 89.86,0 93.6,-36 75.6,-36 79.34,0\"/>\n",
       "<text text-anchor=\"middle\" x=\"84.6\" y=\"-12.95\" font-family=\"Times New Roman,serif\" font-size=\"14.00\">0</text>\n",
       "</g>\n",
       "<!-- cup12 -->\n",
       "<g id=\"node5\" class=\"node\">\n",
       "<title>cup12</title>\n",
       "<polygon fill=\"none\" stroke=\"black\" points=\"111.74,0 122.26,0 126,-36 108,-36 111.74,0\"/>\n",
       "<text text-anchor=\"middle\" x=\"117\" y=\"-12.95\" font-family=\"Times New Roman,serif\" font-size=\"14.00\">8</text>\n",
       "</g>\n",
       "<!-- cup21&#45;&gt;cup12 -->\n",
       "<g id=\"edge2\" class=\"edge\">\n",
       "<title>cup21&#45;&gt;cup12</title>\n",
       "<path fill=\"none\" stroke=\"black\" stroke-width=\"0.5\" d=\"M92.11,-18C95.63,-18 99.92,-18 103.95,-18\"/>\n",
       "<polygon fill=\"black\" stroke=\"black\" stroke-width=\"0.5\" points=\"103.77,-19.75 108.77,-18 103.77,-16.25 103.77,-19.75\"/>\n",
       "</g>\n",
       "<!-- cup22 -->\n",
       "<g id=\"node6\" class=\"node\">\n",
       "<title>cup22</title>\n",
       "<polygon fill=\"none\" stroke=\"black\" points=\"133.34,0 143.86,0 147.6,-36 129.6,-36 133.34,0\"/>\n",
       "<text text-anchor=\"middle\" x=\"138.6\" y=\"-12.95\" font-family=\"Times New Roman,serif\" font-size=\"14.00\">2</text>\n",
       "</g>\n",
       "<!-- cup13 -->\n",
       "<g id=\"node7\" class=\"node\">\n",
       "<title>cup13</title>\n",
       "<polygon fill=\"none\" stroke=\"black\" points=\"165.74,0 176.26,0 180,-36 162,-36 165.74,0\"/>\n",
       "<text text-anchor=\"middle\" x=\"171\" y=\"-12.95\" font-family=\"Times New Roman,serif\" font-size=\"14.00\">0</text>\n",
       "</g>\n",
       "<!-- cup22&#45;&gt;cup13 -->\n",
       "<g id=\"edge3\" class=\"edge\">\n",
       "<title>cup22&#45;&gt;cup13</title>\n",
       "<path fill=\"none\" stroke=\"black\" stroke-width=\"0.5\" d=\"M146.11,-18C149.63,-18 153.92,-18 157.95,-18\"/>\n",
       "<polygon fill=\"black\" stroke=\"black\" stroke-width=\"0.5\" points=\"157.77,-19.75 162.77,-18 157.77,-16.25 157.77,-19.75\"/>\n",
       "</g>\n",
       "<!-- cup23 -->\n",
       "<g id=\"node8\" class=\"node\">\n",
       "<title>cup23</title>\n",
       "<polygon fill=\"none\" stroke=\"black\" points=\"187.34,0 197.86,0 201.6,-36 183.6,-36 187.34,0\"/>\n",
       "<text text-anchor=\"middle\" x=\"192.6\" y=\"-12.95\" font-family=\"Times New Roman,serif\" font-size=\"14.00\">2</text>\n",
       "</g>\n",
       "<!-- cup14 -->\n",
       "<g id=\"node9\" class=\"node\">\n",
       "<title>cup14</title>\n",
       "<polygon fill=\"none\" stroke=\"black\" points=\"219.74,0 230.26,0 234,-36 216,-36 219.74,0\"/>\n",
       "<text text-anchor=\"middle\" x=\"225\" y=\"-12.95\" font-family=\"Times New Roman,serif\" font-size=\"14.00\">2</text>\n",
       "</g>\n",
       "<!-- cup23&#45;&gt;cup14 -->\n",
       "<g id=\"edge4\" class=\"edge\">\n",
       "<title>cup23&#45;&gt;cup14</title>\n",
       "<path fill=\"none\" stroke=\"black\" stroke-width=\"0.5\" d=\"M200.11,-18C203.63,-18 207.92,-18 211.95,-18\"/>\n",
       "<polygon fill=\"black\" stroke=\"black\" stroke-width=\"0.5\" points=\"211.77,-19.75 216.77,-18 211.77,-16.25 211.77,-19.75\"/>\n",
       "</g>\n",
       "<!-- cup24 -->\n",
       "<g id=\"node10\" class=\"node\">\n",
       "<title>cup24</title>\n",
       "<polygon fill=\"none\" stroke=\"black\" points=\"241.34,0 251.86,0 255.6,-36 237.6,-36 241.34,0\"/>\n",
       "<text text-anchor=\"middle\" x=\"246.6\" y=\"-12.95\" font-family=\"Times New Roman,serif\" font-size=\"14.00\">0</text>\n",
       "</g>\n",
       "<!-- cup15 -->\n",
       "<g id=\"node11\" class=\"node\">\n",
       "<title>cup15</title>\n",
       "<polygon fill=\"none\" stroke=\"black\" points=\"273.74,0 284.26,0 288,-36 270,-36 273.74,0\"/>\n",
       "<text text-anchor=\"middle\" x=\"279\" y=\"-12.95\" font-family=\"Times New Roman,serif\" font-size=\"14.00\">2</text>\n",
       "</g>\n",
       "<!-- cup24&#45;&gt;cup15 -->\n",
       "<g id=\"edge5\" class=\"edge\">\n",
       "<title>cup24&#45;&gt;cup15</title>\n",
       "<path fill=\"none\" stroke=\"black\" stroke-width=\"0.5\" d=\"M254.11,-18C257.63,-18 261.92,-18 265.95,-18\"/>\n",
       "<polygon fill=\"black\" stroke=\"black\" stroke-width=\"0.5\" points=\"265.77,-19.75 270.77,-18 265.77,-16.25 265.77,-19.75\"/>\n",
       "</g>\n",
       "<!-- cup25 -->\n",
       "<g id=\"node12\" class=\"node\">\n",
       "<title>cup25</title>\n",
       "<polygon fill=\"none\" stroke=\"black\" points=\"295.34,0 305.86,0 309.6,-36 291.6,-36 295.34,0\"/>\n",
       "<text text-anchor=\"middle\" x=\"300.6\" y=\"-12.95\" font-family=\"Times New Roman,serif\" font-size=\"14.00\">2</text>\n",
       "</g>\n",
       "<!-- cup16 -->\n",
       "<g id=\"node13\" class=\"node\">\n",
       "<title>cup16</title>\n",
       "<polygon fill=\"none\" stroke=\"black\" points=\"327.74,0 338.26,0 342,-36 324,-36 327.74,0\"/>\n",
       "<text text-anchor=\"middle\" x=\"333\" y=\"-12.95\" font-family=\"Times New Roman,serif\" font-size=\"14.00\">4</text>\n",
       "</g>\n",
       "<!-- cup25&#45;&gt;cup16 -->\n",
       "<g id=\"edge6\" class=\"edge\">\n",
       "<title>cup25&#45;&gt;cup16</title>\n",
       "<path fill=\"none\" stroke=\"black\" stroke-width=\"0.5\" d=\"M308.11,-18C311.63,-18 315.92,-18 319.95,-18\"/>\n",
       "<polygon fill=\"black\" stroke=\"black\" stroke-width=\"0.5\" points=\"319.77,-19.75 324.77,-18 319.77,-16.25 319.77,-19.75\"/>\n",
       "</g>\n",
       "<!-- cup26 -->\n",
       "<g id=\"node14\" class=\"node\">\n",
       "<title>cup26</title>\n",
       "<polygon fill=\"none\" stroke=\"black\" points=\"349.34,0 359.86,0 363.6,-36 345.6,-36 349.34,0\"/>\n",
       "<text text-anchor=\"middle\" x=\"354.6\" y=\"-12.95\" font-family=\"Times New Roman,serif\" font-size=\"14.00\">0</text>\n",
       "</g>\n",
       "<!-- cup17 -->\n",
       "<g id=\"node15\" class=\"node\">\n",
       "<title>cup17</title>\n",
       "<polygon fill=\"none\" stroke=\"black\" points=\"381.74,0 392.26,0 396,-36 378,-36 381.74,0\"/>\n",
       "<text text-anchor=\"middle\" x=\"387\" y=\"-12.95\" font-family=\"Times New Roman,serif\" font-size=\"14.00\">4</text>\n",
       "</g>\n",
       "<!-- cup26&#45;&gt;cup17 -->\n",
       "<g id=\"edge7\" class=\"edge\">\n",
       "<title>cup26&#45;&gt;cup17</title>\n",
       "<path fill=\"none\" stroke=\"black\" stroke-width=\"0.5\" d=\"M362.11,-18C365.63,-18 369.92,-18 373.95,-18\"/>\n",
       "<polygon fill=\"black\" stroke=\"black\" stroke-width=\"0.5\" points=\"373.77,-19.75 378.77,-18 373.77,-16.25 373.77,-19.75\"/>\n",
       "</g>\n",
       "<!-- cup27 -->\n",
       "<g id=\"node16\" class=\"node\">\n",
       "<title>cup27</title>\n",
       "<polygon fill=\"none\" stroke=\"black\" points=\"403.34,0 413.86,0 417.6,-36 399.6,-36 403.34,0\"/>\n",
       "<text text-anchor=\"middle\" x=\"408.6\" y=\"-12.95\" font-family=\"Times New Roman,serif\" font-size=\"14.00\">2</text>\n",
       "</g>\n",
       "<!-- cup18 -->\n",
       "<g id=\"node17\" class=\"node\">\n",
       "<title>cup18</title>\n",
       "<polygon fill=\"none\" stroke=\"black\" points=\"435.74,0 446.26,0 450,-36 432,-36 435.74,0\"/>\n",
       "<text text-anchor=\"middle\" x=\"441\" y=\"-12.95\" font-family=\"Times New Roman,serif\" font-size=\"14.00\">6</text>\n",
       "</g>\n",
       "<!-- cup27&#45;&gt;cup18 -->\n",
       "<g id=\"edge8\" class=\"edge\">\n",
       "<title>cup27&#45;&gt;cup18</title>\n",
       "<path fill=\"none\" stroke=\"black\" stroke-width=\"0.5\" d=\"M416.11,-18C419.63,-18 423.92,-18 427.95,-18\"/>\n",
       "<polygon fill=\"black\" stroke=\"black\" stroke-width=\"0.5\" points=\"427.77,-19.75 432.77,-18 427.77,-16.25 427.77,-19.75\"/>\n",
       "</g>\n",
       "<!-- cup28 -->\n",
       "<g id=\"node18\" class=\"node\">\n",
       "<title>cup28</title>\n",
       "<polygon fill=\"none\" stroke=\"black\" points=\"457.34,0 467.86,0 471.6,-36 453.6,-36 457.34,0\"/>\n",
       "<text text-anchor=\"middle\" x=\"462.6\" y=\"-12.95\" font-family=\"Times New Roman,serif\" font-size=\"14.00\">0</text>\n",
       "</g>\n",
       "</g>\n",
       "</svg>\n"
      ],
      "text/plain": [
       "<graphviz.graphs.Digraph at 0x1ff646397d0>"
      ]
     },
     "metadata": {},
     "output_type": "display_data"
    },
    {
     "data": {
      "image/svg+xml": [
       "<?xml version=\"1.0\" encoding=\"UTF-8\" standalone=\"no\"?>\n",
       "<!DOCTYPE svg PUBLIC \"-//W3C//DTD SVG 1.1//EN\"\n",
       " \"http://www.w3.org/Graphics/SVG/1.1/DTD/svg11.dtd\">\n",
       "<!-- Generated by graphviz version 9.0.0 (0)\n",
       " -->\n",
       "<!-- Pages: 1 -->\n",
       "<svg width=\"156pt\" height=\"44pt\"\n",
       " viewBox=\"0.00 0.00 155.60 44.00\" xmlns=\"http://www.w3.org/2000/svg\" xmlns:xlink=\"http://www.w3.org/1999/xlink\">\n",
       "<g id=\"graph0\" class=\"graph\" transform=\"scale(1 1) rotate(0) translate(4 40)\">\n",
       "<polygon fill=\"white\" stroke=\"none\" points=\"-4,4 -4,-40 151.6,-40 151.6,4 -4,4\"/>\n",
       "<!-- cup10 -->\n",
       "<g id=\"node1\" class=\"node\">\n",
       "<title>cup10</title>\n",
       "<polygon fill=\"none\" stroke=\"black\" points=\"3.74,0 14.26,0 18,-36 0,-36 3.74,0\"/>\n",
       "<text text-anchor=\"middle\" x=\"9\" y=\"-12.95\" font-family=\"Times New Roman,serif\" font-size=\"14.00\">0</text>\n",
       "</g>\n",
       "<!-- cup20 -->\n",
       "<g id=\"node2\" class=\"node\">\n",
       "<title>cup20</title>\n",
       "<polygon fill=\"none\" stroke=\"black\" points=\"25.34,0 35.86,0 39.6,-36 21.6,-36 25.34,0\"/>\n",
       "<text text-anchor=\"middle\" x=\"30.6\" y=\"-12.95\" font-family=\"Times New Roman,serif\" font-size=\"14.00\">0</text>\n",
       "</g>\n",
       "<!-- cup11 -->\n",
       "<g id=\"node3\" class=\"node\">\n",
       "<title>cup11</title>\n",
       "<polygon fill=\"none\" stroke=\"black\" points=\"57.74,0 68.26,0 72,-36 54,-36 57.74,0\"/>\n",
       "<text text-anchor=\"middle\" x=\"63\" y=\"-12.95\" font-family=\"Times New Roman,serif\" font-size=\"14.00\">8</text>\n",
       "</g>\n",
       "<!-- cup20&#45;&gt;cup11 -->\n",
       "<g id=\"edge1\" class=\"edge\">\n",
       "<title>cup20&#45;&gt;cup11</title>\n",
       "<path fill=\"none\" stroke=\"black\" stroke-width=\"0.5\" d=\"M38.11,-18C41.63,-18 45.92,-18 49.95,-18\"/>\n",
       "<polygon fill=\"black\" stroke=\"black\" stroke-width=\"0.5\" points=\"49.77,-19.75 54.77,-18 49.77,-16.25 49.77,-19.75\"/>\n",
       "</g>\n",
       "<!-- cup21 -->\n",
       "<g id=\"node4\" class=\"node\">\n",
       "<title>cup21</title>\n",
       "<polygon fill=\"none\" stroke=\"black\" points=\"79.34,0 89.86,0 93.6,-36 75.6,-36 79.34,0\"/>\n",
       "<text text-anchor=\"middle\" x=\"84.6\" y=\"-12.95\" font-family=\"Times New Roman,serif\" font-size=\"14.00\">0</text>\n",
       "</g>\n",
       "<!-- cup12 -->\n",
       "<g id=\"node5\" class=\"node\">\n",
       "<title>cup12</title>\n",
       "<polygon fill=\"none\" stroke=\"black\" points=\"111.74,0 122.26,0 126,-36 108,-36 111.74,0\"/>\n",
       "<text text-anchor=\"middle\" x=\"117\" y=\"-12.95\" font-family=\"Times New Roman,serif\" font-size=\"14.00\">6</text>\n",
       "</g>\n",
       "<!-- cup21&#45;&gt;cup12 -->\n",
       "<g id=\"edge2\" class=\"edge\">\n",
       "<title>cup21&#45;&gt;cup12</title>\n",
       "<path fill=\"none\" stroke=\"black\" stroke-width=\"0.5\" d=\"M92.11,-18C95.63,-18 99.92,-18 103.95,-18\"/>\n",
       "<polygon fill=\"black\" stroke=\"black\" stroke-width=\"0.5\" points=\"103.77,-19.75 108.77,-18 103.77,-16.25 103.77,-19.75\"/>\n",
       "</g>\n",
       "<!-- cup22 -->\n",
       "<g id=\"node6\" class=\"node\">\n",
       "<title>cup22</title>\n",
       "<polygon fill=\"none\" stroke=\"black\" points=\"133.34,0 143.86,0 147.6,-36 129.6,-36 133.34,0\"/>\n",
       "<text text-anchor=\"middle\" x=\"138.6\" y=\"-12.95\" font-family=\"Times New Roman,serif\" font-size=\"14.00\">2</text>\n",
       "</g>\n",
       "</g>\n",
       "</svg>\n"
      ],
      "text/plain": [
       "<graphviz.graphs.Digraph at 0x1ff63153650>"
      ]
     },
     "metadata": {},
     "output_type": "display_data"
    },
    {
     "data": {
      "image/svg+xml": [
       "<?xml version=\"1.0\" encoding=\"UTF-8\" standalone=\"no\"?>\n",
       "<!DOCTYPE svg PUBLIC \"-//W3C//DTD SVG 1.1//EN\"\n",
       " \"http://www.w3.org/Graphics/SVG/1.1/DTD/svg11.dtd\">\n",
       "<!-- Generated by graphviz version 9.0.0 (0)\n",
       " -->\n",
       "<!-- Pages: 1 -->\n",
       "<svg width=\"264pt\" height=\"44pt\"\n",
       " viewBox=\"0.00 0.00 263.60 44.00\" xmlns=\"http://www.w3.org/2000/svg\" xmlns:xlink=\"http://www.w3.org/1999/xlink\">\n",
       "<g id=\"graph0\" class=\"graph\" transform=\"scale(1 1) rotate(0) translate(4 40)\">\n",
       "<polygon fill=\"white\" stroke=\"none\" points=\"-4,4 -4,-40 259.6,-40 259.6,4 -4,4\"/>\n",
       "<!-- cup10 -->\n",
       "<g id=\"node1\" class=\"node\">\n",
       "<title>cup10</title>\n",
       "<polygon fill=\"none\" stroke=\"black\" points=\"3.74,0 14.26,0 18,-36 0,-36 3.74,0\"/>\n",
       "<text text-anchor=\"middle\" x=\"9\" y=\"-12.95\" font-family=\"Times New Roman,serif\" font-size=\"14.00\">0</text>\n",
       "</g>\n",
       "<!-- cup20 -->\n",
       "<g id=\"node2\" class=\"node\">\n",
       "<title>cup20</title>\n",
       "<polygon fill=\"none\" stroke=\"black\" points=\"25.34,0 35.86,0 39.6,-36 21.6,-36 25.34,0\"/>\n",
       "<text text-anchor=\"middle\" x=\"30.6\" y=\"-12.95\" font-family=\"Times New Roman,serif\" font-size=\"14.00\">0</text>\n",
       "</g>\n",
       "<!-- cup11 -->\n",
       "<g id=\"node3\" class=\"node\">\n",
       "<title>cup11</title>\n",
       "<polygon fill=\"none\" stroke=\"black\" points=\"57.74,0 68.26,0 72,-36 54,-36 57.74,0\"/>\n",
       "<text text-anchor=\"middle\" x=\"63\" y=\"-12.95\" font-family=\"Times New Roman,serif\" font-size=\"14.00\">0</text>\n",
       "</g>\n",
       "<!-- cup20&#45;&gt;cup11 -->\n",
       "<g id=\"edge1\" class=\"edge\">\n",
       "<title>cup20&#45;&gt;cup11</title>\n",
       "<path fill=\"none\" stroke=\"black\" stroke-width=\"0.5\" d=\"M38.11,-18C41.63,-18 45.92,-18 49.95,-18\"/>\n",
       "<polygon fill=\"black\" stroke=\"black\" stroke-width=\"0.5\" points=\"49.77,-19.75 54.77,-18 49.77,-16.25 49.77,-19.75\"/>\n",
       "</g>\n",
       "<!-- cup21 -->\n",
       "<g id=\"node4\" class=\"node\">\n",
       "<title>cup21</title>\n",
       "<polygon fill=\"none\" stroke=\"black\" points=\"79.34,0 89.86,0 93.6,-36 75.6,-36 79.34,0\"/>\n",
       "<text text-anchor=\"middle\" x=\"84.6\" y=\"-12.95\" font-family=\"Times New Roman,serif\" font-size=\"14.00\">2</text>\n",
       "</g>\n",
       "<!-- cup12 -->\n",
       "<g id=\"node5\" class=\"node\">\n",
       "<title>cup12</title>\n",
       "<polygon fill=\"none\" stroke=\"black\" points=\"111.74,0 122.26,0 126,-36 108,-36 111.74,0\"/>\n",
       "<text text-anchor=\"middle\" x=\"117\" y=\"-12.95\" font-family=\"Times New Roman,serif\" font-size=\"14.00\">8</text>\n",
       "</g>\n",
       "<!-- cup21&#45;&gt;cup12 -->\n",
       "<g id=\"edge2\" class=\"edge\">\n",
       "<title>cup21&#45;&gt;cup12</title>\n",
       "<path fill=\"none\" stroke=\"black\" stroke-width=\"0.5\" d=\"M92.11,-18C95.63,-18 99.92,-18 103.95,-18\"/>\n",
       "<polygon fill=\"black\" stroke=\"black\" stroke-width=\"0.5\" points=\"103.77,-19.75 108.77,-18 103.77,-16.25 103.77,-19.75\"/>\n",
       "</g>\n",
       "<!-- cup22 -->\n",
       "<g id=\"node6\" class=\"node\">\n",
       "<title>cup22</title>\n",
       "<polygon fill=\"none\" stroke=\"black\" points=\"133.34,0 143.86,0 147.6,-36 129.6,-36 133.34,0\"/>\n",
       "<text text-anchor=\"middle\" x=\"138.6\" y=\"-12.95\" font-family=\"Times New Roman,serif\" font-size=\"14.00\">2</text>\n",
       "</g>\n",
       "<!-- cup13 -->\n",
       "<g id=\"node7\" class=\"node\">\n",
       "<title>cup13</title>\n",
       "<polygon fill=\"none\" stroke=\"black\" points=\"165.74,0 176.26,0 180,-36 162,-36 165.74,0\"/>\n",
       "<text text-anchor=\"middle\" x=\"171\" y=\"-12.95\" font-family=\"Times New Roman,serif\" font-size=\"14.00\">8</text>\n",
       "</g>\n",
       "<!-- cup22&#45;&gt;cup13 -->\n",
       "<g id=\"edge3\" class=\"edge\">\n",
       "<title>cup22&#45;&gt;cup13</title>\n",
       "<path fill=\"none\" stroke=\"black\" stroke-width=\"0.5\" d=\"M146.11,-18C149.63,-18 153.92,-18 157.95,-18\"/>\n",
       "<polygon fill=\"black\" stroke=\"black\" stroke-width=\"0.5\" points=\"157.77,-19.75 162.77,-18 157.77,-16.25 157.77,-19.75\"/>\n",
       "</g>\n",
       "<!-- cup23 -->\n",
       "<g id=\"node8\" class=\"node\">\n",
       "<title>cup23</title>\n",
       "<polygon fill=\"none\" stroke=\"black\" points=\"187.34,0 197.86,0 201.6,-36 183.6,-36 187.34,0\"/>\n",
       "<text text-anchor=\"middle\" x=\"192.6\" y=\"-12.95\" font-family=\"Times New Roman,serif\" font-size=\"14.00\">0</text>\n",
       "</g>\n",
       "<!-- cup14 -->\n",
       "<g id=\"node9\" class=\"node\">\n",
       "<title>cup14</title>\n",
       "<polygon fill=\"none\" stroke=\"black\" points=\"219.74,0 230.26,0 234,-36 216,-36 219.74,0\"/>\n",
       "<text text-anchor=\"middle\" x=\"225\" y=\"-12.95\" font-family=\"Times New Roman,serif\" font-size=\"14.00\">6</text>\n",
       "</g>\n",
       "<!-- cup23&#45;&gt;cup14 -->\n",
       "<g id=\"edge4\" class=\"edge\">\n",
       "<title>cup23&#45;&gt;cup14</title>\n",
       "<path fill=\"none\" stroke=\"black\" stroke-width=\"0.5\" d=\"M200.11,-18C203.63,-18 207.92,-18 211.95,-18\"/>\n",
       "<polygon fill=\"black\" stroke=\"black\" stroke-width=\"0.5\" points=\"211.77,-19.75 216.77,-18 211.77,-16.25 211.77,-19.75\"/>\n",
       "</g>\n",
       "<!-- cup24 -->\n",
       "<g id=\"node10\" class=\"node\">\n",
       "<title>cup24</title>\n",
       "<polygon fill=\"none\" stroke=\"black\" points=\"241.34,0 251.86,0 255.6,-36 237.6,-36 241.34,0\"/>\n",
       "<text text-anchor=\"middle\" x=\"246.6\" y=\"-12.95\" font-family=\"Times New Roman,serif\" font-size=\"14.00\">2</text>\n",
       "</g>\n",
       "</g>\n",
       "</svg>\n"
      ],
      "text/plain": [
       "<graphviz.graphs.Digraph at 0x1ff63153650>"
      ]
     },
     "metadata": {},
     "output_type": "display_data"
    },
    {
     "data": {
      "image/svg+xml": [
       "<?xml version=\"1.0\" encoding=\"UTF-8\" standalone=\"no\"?>\n",
       "<!DOCTYPE svg PUBLIC \"-//W3C//DTD SVG 1.1//EN\"\n",
       " \"http://www.w3.org/Graphics/SVG/1.1/DTD/svg11.dtd\">\n",
       "<!-- Generated by graphviz version 9.0.0 (0)\n",
       " -->\n",
       "<!-- Pages: 1 -->\n",
       "<svg width=\"264pt\" height=\"44pt\"\n",
       " viewBox=\"0.00 0.00 263.60 44.00\" xmlns=\"http://www.w3.org/2000/svg\" xmlns:xlink=\"http://www.w3.org/1999/xlink\">\n",
       "<g id=\"graph0\" class=\"graph\" transform=\"scale(1 1) rotate(0) translate(4 40)\">\n",
       "<polygon fill=\"white\" stroke=\"none\" points=\"-4,4 -4,-40 259.6,-40 259.6,4 -4,4\"/>\n",
       "<!-- cup10 -->\n",
       "<g id=\"node1\" class=\"node\">\n",
       "<title>cup10</title>\n",
       "<polygon fill=\"none\" stroke=\"black\" points=\"3.74,0 14.26,0 18,-36 0,-36 3.74,0\"/>\n",
       "<text text-anchor=\"middle\" x=\"9\" y=\"-12.95\" font-family=\"Times New Roman,serif\" font-size=\"14.00\">0</text>\n",
       "</g>\n",
       "<!-- cup20 -->\n",
       "<g id=\"node2\" class=\"node\">\n",
       "<title>cup20</title>\n",
       "<polygon fill=\"none\" stroke=\"black\" points=\"25.34,0 35.86,0 39.6,-36 21.6,-36 25.34,0\"/>\n",
       "<text text-anchor=\"middle\" x=\"30.6\" y=\"-12.95\" font-family=\"Times New Roman,serif\" font-size=\"14.00\">0</text>\n",
       "</g>\n",
       "<!-- cup11 -->\n",
       "<g id=\"node3\" class=\"node\">\n",
       "<title>cup11</title>\n",
       "<polygon fill=\"none\" stroke=\"black\" points=\"57.74,0 68.26,0 72,-36 54,-36 57.74,0\"/>\n",
       "<text text-anchor=\"middle\" x=\"63\" y=\"-12.95\" font-family=\"Times New Roman,serif\" font-size=\"14.00\">0</text>\n",
       "</g>\n",
       "<!-- cup20&#45;&gt;cup11 -->\n",
       "<g id=\"edge1\" class=\"edge\">\n",
       "<title>cup20&#45;&gt;cup11</title>\n",
       "<path fill=\"none\" stroke=\"black\" stroke-width=\"0.5\" d=\"M38.11,-18C41.63,-18 45.92,-18 49.95,-18\"/>\n",
       "<polygon fill=\"black\" stroke=\"black\" stroke-width=\"0.5\" points=\"49.77,-19.75 54.77,-18 49.77,-16.25 49.77,-19.75\"/>\n",
       "</g>\n",
       "<!-- cup21 -->\n",
       "<g id=\"node4\" class=\"node\">\n",
       "<title>cup21</title>\n",
       "<polygon fill=\"none\" stroke=\"black\" points=\"79.34,0 89.86,0 93.6,-36 75.6,-36 79.34,0\"/>\n",
       "<text text-anchor=\"middle\" x=\"84.6\" y=\"-12.95\" font-family=\"Times New Roman,serif\" font-size=\"14.00\">2</text>\n",
       "</g>\n",
       "<!-- cup12 -->\n",
       "<g id=\"node5\" class=\"node\">\n",
       "<title>cup12</title>\n",
       "<polygon fill=\"none\" stroke=\"black\" points=\"111.74,0 122.26,0 126,-36 108,-36 111.74,0\"/>\n",
       "<text text-anchor=\"middle\" x=\"117\" y=\"-12.95\" font-family=\"Times New Roman,serif\" font-size=\"14.00\">2</text>\n",
       "</g>\n",
       "<!-- cup21&#45;&gt;cup12 -->\n",
       "<g id=\"edge2\" class=\"edge\">\n",
       "<title>cup21&#45;&gt;cup12</title>\n",
       "<path fill=\"none\" stroke=\"black\" stroke-width=\"0.5\" d=\"M92.11,-18C95.63,-18 99.92,-18 103.95,-18\"/>\n",
       "<polygon fill=\"black\" stroke=\"black\" stroke-width=\"0.5\" points=\"103.77,-19.75 108.77,-18 103.77,-16.25 103.77,-19.75\"/>\n",
       "</g>\n",
       "<!-- cup22 -->\n",
       "<g id=\"node6\" class=\"node\">\n",
       "<title>cup22</title>\n",
       "<polygon fill=\"none\" stroke=\"black\" points=\"133.34,0 143.86,0 147.6,-36 129.6,-36 133.34,0\"/>\n",
       "<text text-anchor=\"middle\" x=\"138.6\" y=\"-12.95\" font-family=\"Times New Roman,serif\" font-size=\"14.00\">0</text>\n",
       "</g>\n",
       "<!-- cup13 -->\n",
       "<g id=\"node7\" class=\"node\">\n",
       "<title>cup13</title>\n",
       "<polygon fill=\"none\" stroke=\"black\" points=\"165.74,0 176.26,0 180,-36 162,-36 165.74,0\"/>\n",
       "<text text-anchor=\"middle\" x=\"171\" y=\"-12.95\" font-family=\"Times New Roman,serif\" font-size=\"14.00\">8</text>\n",
       "</g>\n",
       "<!-- cup22&#45;&gt;cup13 -->\n",
       "<g id=\"edge3\" class=\"edge\">\n",
       "<title>cup22&#45;&gt;cup13</title>\n",
       "<path fill=\"none\" stroke=\"black\" stroke-width=\"0.5\" d=\"M146.11,-18C149.63,-18 153.92,-18 157.95,-18\"/>\n",
       "<polygon fill=\"black\" stroke=\"black\" stroke-width=\"0.5\" points=\"157.77,-19.75 162.77,-18 157.77,-16.25 157.77,-19.75\"/>\n",
       "</g>\n",
       "<!-- cup23 -->\n",
       "<g id=\"node8\" class=\"node\">\n",
       "<title>cup23</title>\n",
       "<polygon fill=\"none\" stroke=\"black\" points=\"187.34,0 197.86,0 201.6,-36 183.6,-36 187.34,0\"/>\n",
       "<text text-anchor=\"middle\" x=\"192.6\" y=\"-12.95\" font-family=\"Times New Roman,serif\" font-size=\"14.00\">0</text>\n",
       "</g>\n",
       "<!-- cup14 -->\n",
       "<g id=\"node9\" class=\"node\">\n",
       "<title>cup14</title>\n",
       "<polygon fill=\"none\" stroke=\"black\" points=\"219.74,0 230.26,0 234,-36 216,-36 219.74,0\"/>\n",
       "<text text-anchor=\"middle\" x=\"225\" y=\"-12.95\" font-family=\"Times New Roman,serif\" font-size=\"14.00\">6</text>\n",
       "</g>\n",
       "<!-- cup23&#45;&gt;cup14 -->\n",
       "<g id=\"edge4\" class=\"edge\">\n",
       "<title>cup23&#45;&gt;cup14</title>\n",
       "<path fill=\"none\" stroke=\"black\" stroke-width=\"0.5\" d=\"M200.11,-18C203.63,-18 207.92,-18 211.95,-18\"/>\n",
       "<polygon fill=\"black\" stroke=\"black\" stroke-width=\"0.5\" points=\"211.77,-19.75 216.77,-18 211.77,-16.25 211.77,-19.75\"/>\n",
       "</g>\n",
       "<!-- cup24 -->\n",
       "<g id=\"node10\" class=\"node\">\n",
       "<title>cup24</title>\n",
       "<polygon fill=\"none\" stroke=\"black\" points=\"241.34,0 251.86,0 255.6,-36 237.6,-36 241.34,0\"/>\n",
       "<text text-anchor=\"middle\" x=\"246.6\" y=\"-12.95\" font-family=\"Times New Roman,serif\" font-size=\"14.00\">2</text>\n",
       "</g>\n",
       "</g>\n",
       "</svg>\n"
      ],
      "text/plain": [
       "<graphviz.graphs.Digraph at 0x1ff63153650>"
      ]
     },
     "metadata": {},
     "output_type": "display_data"
    },
    {
     "data": {
      "image/svg+xml": [
       "<?xml version=\"1.0\" encoding=\"UTF-8\" standalone=\"no\"?>\n",
       "<!DOCTYPE svg PUBLIC \"-//W3C//DTD SVG 1.1//EN\"\n",
       " \"http://www.w3.org/Graphics/SVG/1.1/DTD/svg11.dtd\">\n",
       "<!-- Generated by graphviz version 9.0.0 (0)\n",
       " -->\n",
       "<!-- Pages: 1 -->\n",
       "<svg width=\"372pt\" height=\"44pt\"\n",
       " viewBox=\"0.00 0.00 371.60 44.00\" xmlns=\"http://www.w3.org/2000/svg\" xmlns:xlink=\"http://www.w3.org/1999/xlink\">\n",
       "<g id=\"graph0\" class=\"graph\" transform=\"scale(1 1) rotate(0) translate(4 40)\">\n",
       "<polygon fill=\"white\" stroke=\"none\" points=\"-4,4 -4,-40 367.6,-40 367.6,4 -4,4\"/>\n",
       "<!-- cup10 -->\n",
       "<g id=\"node1\" class=\"node\">\n",
       "<title>cup10</title>\n",
       "<polygon fill=\"none\" stroke=\"black\" points=\"3.74,0 14.26,0 18,-36 0,-36 3.74,0\"/>\n",
       "<text text-anchor=\"middle\" x=\"9\" y=\"-12.95\" font-family=\"Times New Roman,serif\" font-size=\"14.00\">0</text>\n",
       "</g>\n",
       "<!-- cup20 -->\n",
       "<g id=\"node2\" class=\"node\">\n",
       "<title>cup20</title>\n",
       "<polygon fill=\"none\" stroke=\"black\" points=\"25.34,0 35.86,0 39.6,-36 21.6,-36 25.34,0\"/>\n",
       "<text text-anchor=\"middle\" x=\"30.6\" y=\"-12.95\" font-family=\"Times New Roman,serif\" font-size=\"14.00\">0</text>\n",
       "</g>\n",
       "<!-- cup11 -->\n",
       "<g id=\"node3\" class=\"node\">\n",
       "<title>cup11</title>\n",
       "<polygon fill=\"none\" stroke=\"black\" points=\"57.74,0 68.26,0 72,-36 54,-36 57.74,0\"/>\n",
       "<text text-anchor=\"middle\" x=\"63\" y=\"-12.95\" font-family=\"Times New Roman,serif\" font-size=\"14.00\">0</text>\n",
       "</g>\n",
       "<!-- cup20&#45;&gt;cup11 -->\n",
       "<g id=\"edge1\" class=\"edge\">\n",
       "<title>cup20&#45;&gt;cup11</title>\n",
       "<path fill=\"none\" stroke=\"black\" stroke-width=\"0.5\" d=\"M38.11,-18C41.63,-18 45.92,-18 49.95,-18\"/>\n",
       "<polygon fill=\"black\" stroke=\"black\" stroke-width=\"0.5\" points=\"49.77,-19.75 54.77,-18 49.77,-16.25 49.77,-19.75\"/>\n",
       "</g>\n",
       "<!-- cup21 -->\n",
       "<g id=\"node4\" class=\"node\">\n",
       "<title>cup21</title>\n",
       "<polygon fill=\"none\" stroke=\"black\" points=\"79.34,0 89.86,0 93.6,-36 75.6,-36 79.34,0\"/>\n",
       "<text text-anchor=\"middle\" x=\"84.6\" y=\"-12.95\" font-family=\"Times New Roman,serif\" font-size=\"14.00\">2</text>\n",
       "</g>\n",
       "<!-- cup12 -->\n",
       "<g id=\"node5\" class=\"node\">\n",
       "<title>cup12</title>\n",
       "<polygon fill=\"none\" stroke=\"black\" points=\"111.74,0 122.26,0 126,-36 108,-36 111.74,0\"/>\n",
       "<text text-anchor=\"middle\" x=\"117\" y=\"-12.95\" font-family=\"Times New Roman,serif\" font-size=\"14.00\">2</text>\n",
       "</g>\n",
       "<!-- cup21&#45;&gt;cup12 -->\n",
       "<g id=\"edge2\" class=\"edge\">\n",
       "<title>cup21&#45;&gt;cup12</title>\n",
       "<path fill=\"none\" stroke=\"black\" stroke-width=\"0.5\" d=\"M92.11,-18C95.63,-18 99.92,-18 103.95,-18\"/>\n",
       "<polygon fill=\"black\" stroke=\"black\" stroke-width=\"0.5\" points=\"103.77,-19.75 108.77,-18 103.77,-16.25 103.77,-19.75\"/>\n",
       "</g>\n",
       "<!-- cup22 -->\n",
       "<g id=\"node6\" class=\"node\">\n",
       "<title>cup22</title>\n",
       "<polygon fill=\"none\" stroke=\"black\" points=\"133.34,0 143.86,0 147.6,-36 129.6,-36 133.34,0\"/>\n",
       "<text text-anchor=\"middle\" x=\"138.6\" y=\"-12.95\" font-family=\"Times New Roman,serif\" font-size=\"14.00\">0</text>\n",
       "</g>\n",
       "<!-- cup13 -->\n",
       "<g id=\"node7\" class=\"node\">\n",
       "<title>cup13</title>\n",
       "<polygon fill=\"none\" stroke=\"black\" points=\"165.74,0 176.26,0 180,-36 162,-36 165.74,0\"/>\n",
       "<text text-anchor=\"middle\" x=\"171\" y=\"-12.95\" font-family=\"Times New Roman,serif\" font-size=\"14.00\">2</text>\n",
       "</g>\n",
       "<!-- cup22&#45;&gt;cup13 -->\n",
       "<g id=\"edge3\" class=\"edge\">\n",
       "<title>cup22&#45;&gt;cup13</title>\n",
       "<path fill=\"none\" stroke=\"black\" stroke-width=\"0.5\" d=\"M146.11,-18C149.63,-18 153.92,-18 157.95,-18\"/>\n",
       "<polygon fill=\"black\" stroke=\"black\" stroke-width=\"0.5\" points=\"157.77,-19.75 162.77,-18 157.77,-16.25 157.77,-19.75\"/>\n",
       "</g>\n",
       "<!-- cup23 -->\n",
       "<g id=\"node8\" class=\"node\">\n",
       "<title>cup23</title>\n",
       "<polygon fill=\"none\" stroke=\"black\" points=\"187.34,0 197.86,0 201.6,-36 183.6,-36 187.34,0\"/>\n",
       "<text text-anchor=\"middle\" x=\"192.6\" y=\"-12.95\" font-family=\"Times New Roman,serif\" font-size=\"14.00\">2</text>\n",
       "</g>\n",
       "<!-- cup14 -->\n",
       "<g id=\"node9\" class=\"node\">\n",
       "<title>cup14</title>\n",
       "<polygon fill=\"none\" stroke=\"black\" points=\"219.74,0 230.26,0 234,-36 216,-36 219.74,0\"/>\n",
       "<text text-anchor=\"middle\" x=\"225\" y=\"-12.95\" font-family=\"Times New Roman,serif\" font-size=\"14.00\">8</text>\n",
       "</g>\n",
       "<!-- cup23&#45;&gt;cup14 -->\n",
       "<g id=\"edge4\" class=\"edge\">\n",
       "<title>cup23&#45;&gt;cup14</title>\n",
       "<path fill=\"none\" stroke=\"black\" stroke-width=\"0.5\" d=\"M200.11,-18C203.63,-18 207.92,-18 211.95,-18\"/>\n",
       "<polygon fill=\"black\" stroke=\"black\" stroke-width=\"0.5\" points=\"211.77,-19.75 216.77,-18 211.77,-16.25 211.77,-19.75\"/>\n",
       "</g>\n",
       "<!-- cup24 -->\n",
       "<g id=\"node10\" class=\"node\">\n",
       "<title>cup24</title>\n",
       "<polygon fill=\"none\" stroke=\"black\" points=\"241.34,0 251.86,0 255.6,-36 237.6,-36 241.34,0\"/>\n",
       "<text text-anchor=\"middle\" x=\"246.6\" y=\"-12.95\" font-family=\"Times New Roman,serif\" font-size=\"14.00\">2</text>\n",
       "</g>\n",
       "<!-- cup15 -->\n",
       "<g id=\"node11\" class=\"node\">\n",
       "<title>cup15</title>\n",
       "<polygon fill=\"none\" stroke=\"black\" points=\"273.74,0 284.26,0 288,-36 270,-36 273.74,0\"/>\n",
       "<text text-anchor=\"middle\" x=\"279\" y=\"-12.95\" font-family=\"Times New Roman,serif\" font-size=\"14.00\">8</text>\n",
       "</g>\n",
       "<!-- cup24&#45;&gt;cup15 -->\n",
       "<g id=\"edge5\" class=\"edge\">\n",
       "<title>cup24&#45;&gt;cup15</title>\n",
       "<path fill=\"none\" stroke=\"black\" stroke-width=\"0.5\" d=\"M254.11,-18C257.63,-18 261.92,-18 265.95,-18\"/>\n",
       "<polygon fill=\"black\" stroke=\"black\" stroke-width=\"0.5\" points=\"265.77,-19.75 270.77,-18 265.77,-16.25 265.77,-19.75\"/>\n",
       "</g>\n",
       "<!-- cup25 -->\n",
       "<g id=\"node12\" class=\"node\">\n",
       "<title>cup25</title>\n",
       "<polygon fill=\"none\" stroke=\"black\" points=\"295.34,0 305.86,0 309.6,-36 291.6,-36 295.34,0\"/>\n",
       "<text text-anchor=\"middle\" x=\"300.6\" y=\"-12.95\" font-family=\"Times New Roman,serif\" font-size=\"14.00\">0</text>\n",
       "</g>\n",
       "<!-- cup16 -->\n",
       "<g id=\"node13\" class=\"node\">\n",
       "<title>cup16</title>\n",
       "<polygon fill=\"none\" stroke=\"black\" points=\"327.74,0 338.26,0 342,-36 324,-36 327.74,0\"/>\n",
       "<text text-anchor=\"middle\" x=\"333\" y=\"-12.95\" font-family=\"Times New Roman,serif\" font-size=\"14.00\">6</text>\n",
       "</g>\n",
       "<!-- cup25&#45;&gt;cup16 -->\n",
       "<g id=\"edge6\" class=\"edge\">\n",
       "<title>cup25&#45;&gt;cup16</title>\n",
       "<path fill=\"none\" stroke=\"black\" stroke-width=\"0.5\" d=\"M308.11,-18C311.63,-18 315.92,-18 319.95,-18\"/>\n",
       "<polygon fill=\"black\" stroke=\"black\" stroke-width=\"0.5\" points=\"319.77,-19.75 324.77,-18 319.77,-16.25 319.77,-19.75\"/>\n",
       "</g>\n",
       "<!-- cup26 -->\n",
       "<g id=\"node14\" class=\"node\">\n",
       "<title>cup26</title>\n",
       "<polygon fill=\"none\" stroke=\"black\" points=\"349.34,0 359.86,0 363.6,-36 345.6,-36 349.34,0\"/>\n",
       "<text text-anchor=\"middle\" x=\"354.6\" y=\"-12.95\" font-family=\"Times New Roman,serif\" font-size=\"14.00\">2</text>\n",
       "</g>\n",
       "</g>\n",
       "</svg>\n"
      ],
      "text/plain": [
       "<graphviz.graphs.Digraph at 0x1ff63153650>"
      ]
     },
     "metadata": {},
     "output_type": "display_data"
    },
    {
     "data": {
      "image/svg+xml": [
       "<?xml version=\"1.0\" encoding=\"UTF-8\" standalone=\"no\"?>\n",
       "<!DOCTYPE svg PUBLIC \"-//W3C//DTD SVG 1.1//EN\"\n",
       " \"http://www.w3.org/Graphics/SVG/1.1/DTD/svg11.dtd\">\n",
       "<!-- Generated by graphviz version 9.0.0 (0)\n",
       " -->\n",
       "<!-- Pages: 1 -->\n",
       "<svg width=\"372pt\" height=\"44pt\"\n",
       " viewBox=\"0.00 0.00 371.60 44.00\" xmlns=\"http://www.w3.org/2000/svg\" xmlns:xlink=\"http://www.w3.org/1999/xlink\">\n",
       "<g id=\"graph0\" class=\"graph\" transform=\"scale(1 1) rotate(0) translate(4 40)\">\n",
       "<polygon fill=\"white\" stroke=\"none\" points=\"-4,4 -4,-40 367.6,-40 367.6,4 -4,4\"/>\n",
       "<!-- cup10 -->\n",
       "<g id=\"node1\" class=\"node\">\n",
       "<title>cup10</title>\n",
       "<polygon fill=\"none\" stroke=\"black\" points=\"3.74,0 14.26,0 18,-36 0,-36 3.74,0\"/>\n",
       "<text text-anchor=\"middle\" x=\"9\" y=\"-12.95\" font-family=\"Times New Roman,serif\" font-size=\"14.00\">0</text>\n",
       "</g>\n",
       "<!-- cup20 -->\n",
       "<g id=\"node2\" class=\"node\">\n",
       "<title>cup20</title>\n",
       "<polygon fill=\"none\" stroke=\"black\" points=\"25.34,0 35.86,0 39.6,-36 21.6,-36 25.34,0\"/>\n",
       "<text text-anchor=\"middle\" x=\"30.6\" y=\"-12.95\" font-family=\"Times New Roman,serif\" font-size=\"14.00\">0</text>\n",
       "</g>\n",
       "<!-- cup11 -->\n",
       "<g id=\"node3\" class=\"node\">\n",
       "<title>cup11</title>\n",
       "<polygon fill=\"none\" stroke=\"black\" points=\"57.74,0 68.26,0 72,-36 54,-36 57.74,0\"/>\n",
       "<text text-anchor=\"middle\" x=\"63\" y=\"-12.95\" font-family=\"Times New Roman,serif\" font-size=\"14.00\">0</text>\n",
       "</g>\n",
       "<!-- cup20&#45;&gt;cup11 -->\n",
       "<g id=\"edge1\" class=\"edge\">\n",
       "<title>cup20&#45;&gt;cup11</title>\n",
       "<path fill=\"none\" stroke=\"black\" stroke-width=\"0.5\" d=\"M38.11,-18C41.63,-18 45.92,-18 49.95,-18\"/>\n",
       "<polygon fill=\"black\" stroke=\"black\" stroke-width=\"0.5\" points=\"49.77,-19.75 54.77,-18 49.77,-16.25 49.77,-19.75\"/>\n",
       "</g>\n",
       "<!-- cup21 -->\n",
       "<g id=\"node4\" class=\"node\">\n",
       "<title>cup21</title>\n",
       "<polygon fill=\"none\" stroke=\"black\" points=\"79.34,0 89.86,0 93.6,-36 75.6,-36 79.34,0\"/>\n",
       "<text text-anchor=\"middle\" x=\"84.6\" y=\"-12.95\" font-family=\"Times New Roman,serif\" font-size=\"14.00\">2</text>\n",
       "</g>\n",
       "<!-- cup12 -->\n",
       "<g id=\"node5\" class=\"node\">\n",
       "<title>cup12</title>\n",
       "<polygon fill=\"none\" stroke=\"black\" points=\"111.74,0 122.26,0 126,-36 108,-36 111.74,0\"/>\n",
       "<text text-anchor=\"middle\" x=\"117\" y=\"-12.95\" font-family=\"Times New Roman,serif\" font-size=\"14.00\">2</text>\n",
       "</g>\n",
       "<!-- cup21&#45;&gt;cup12 -->\n",
       "<g id=\"edge2\" class=\"edge\">\n",
       "<title>cup21&#45;&gt;cup12</title>\n",
       "<path fill=\"none\" stroke=\"black\" stroke-width=\"0.5\" d=\"M92.11,-18C95.63,-18 99.92,-18 103.95,-18\"/>\n",
       "<polygon fill=\"black\" stroke=\"black\" stroke-width=\"0.5\" points=\"103.77,-19.75 108.77,-18 103.77,-16.25 103.77,-19.75\"/>\n",
       "</g>\n",
       "<!-- cup22 -->\n",
       "<g id=\"node6\" class=\"node\">\n",
       "<title>cup22</title>\n",
       "<polygon fill=\"none\" stroke=\"black\" points=\"133.34,0 143.86,0 147.6,-36 129.6,-36 133.34,0\"/>\n",
       "<text text-anchor=\"middle\" x=\"138.6\" y=\"-12.95\" font-family=\"Times New Roman,serif\" font-size=\"14.00\">0</text>\n",
       "</g>\n",
       "<!-- cup13 -->\n",
       "<g id=\"node7\" class=\"node\">\n",
       "<title>cup13</title>\n",
       "<polygon fill=\"none\" stroke=\"black\" points=\"165.74,0 176.26,0 180,-36 162,-36 165.74,0\"/>\n",
       "<text text-anchor=\"middle\" x=\"171\" y=\"-12.95\" font-family=\"Times New Roman,serif\" font-size=\"14.00\">2</text>\n",
       "</g>\n",
       "<!-- cup22&#45;&gt;cup13 -->\n",
       "<g id=\"edge3\" class=\"edge\">\n",
       "<title>cup22&#45;&gt;cup13</title>\n",
       "<path fill=\"none\" stroke=\"black\" stroke-width=\"0.5\" d=\"M146.11,-18C149.63,-18 153.92,-18 157.95,-18\"/>\n",
       "<polygon fill=\"black\" stroke=\"black\" stroke-width=\"0.5\" points=\"157.77,-19.75 162.77,-18 157.77,-16.25 157.77,-19.75\"/>\n",
       "</g>\n",
       "<!-- cup23 -->\n",
       "<g id=\"node8\" class=\"node\">\n",
       "<title>cup23</title>\n",
       "<polygon fill=\"none\" stroke=\"black\" points=\"187.34,0 197.86,0 201.6,-36 183.6,-36 187.34,0\"/>\n",
       "<text text-anchor=\"middle\" x=\"192.6\" y=\"-12.95\" font-family=\"Times New Roman,serif\" font-size=\"14.00\">2</text>\n",
       "</g>\n",
       "<!-- cup14 -->\n",
       "<g id=\"node9\" class=\"node\">\n",
       "<title>cup14</title>\n",
       "<polygon fill=\"none\" stroke=\"black\" points=\"219.74,0 230.26,0 234,-36 216,-36 219.74,0\"/>\n",
       "<text text-anchor=\"middle\" x=\"225\" y=\"-12.95\" font-family=\"Times New Roman,serif\" font-size=\"14.00\">4</text>\n",
       "</g>\n",
       "<!-- cup23&#45;&gt;cup14 -->\n",
       "<g id=\"edge4\" class=\"edge\">\n",
       "<title>cup23&#45;&gt;cup14</title>\n",
       "<path fill=\"none\" stroke=\"black\" stroke-width=\"0.5\" d=\"M200.11,-18C203.63,-18 207.92,-18 211.95,-18\"/>\n",
       "<polygon fill=\"black\" stroke=\"black\" stroke-width=\"0.5\" points=\"211.77,-19.75 216.77,-18 211.77,-16.25 211.77,-19.75\"/>\n",
       "</g>\n",
       "<!-- cup24 -->\n",
       "<g id=\"node10\" class=\"node\">\n",
       "<title>cup24</title>\n",
       "<polygon fill=\"none\" stroke=\"black\" points=\"241.34,0 251.86,0 255.6,-36 237.6,-36 241.34,0\"/>\n",
       "<text text-anchor=\"middle\" x=\"246.6\" y=\"-12.95\" font-family=\"Times New Roman,serif\" font-size=\"14.00\">0</text>\n",
       "</g>\n",
       "<!-- cup15 -->\n",
       "<g id=\"node11\" class=\"node\">\n",
       "<title>cup15</title>\n",
       "<polygon fill=\"none\" stroke=\"black\" points=\"273.74,0 284.26,0 288,-36 270,-36 273.74,0\"/>\n",
       "<text text-anchor=\"middle\" x=\"279\" y=\"-12.95\" font-family=\"Times New Roman,serif\" font-size=\"14.00\">8</text>\n",
       "</g>\n",
       "<!-- cup24&#45;&gt;cup15 -->\n",
       "<g id=\"edge5\" class=\"edge\">\n",
       "<title>cup24&#45;&gt;cup15</title>\n",
       "<path fill=\"none\" stroke=\"black\" stroke-width=\"0.5\" d=\"M254.11,-18C257.63,-18 261.92,-18 265.95,-18\"/>\n",
       "<polygon fill=\"black\" stroke=\"black\" stroke-width=\"0.5\" points=\"265.77,-19.75 270.77,-18 265.77,-16.25 265.77,-19.75\"/>\n",
       "</g>\n",
       "<!-- cup25 -->\n",
       "<g id=\"node12\" class=\"node\">\n",
       "<title>cup25</title>\n",
       "<polygon fill=\"none\" stroke=\"black\" points=\"295.34,0 305.86,0 309.6,-36 291.6,-36 295.34,0\"/>\n",
       "<text text-anchor=\"middle\" x=\"300.6\" y=\"-12.95\" font-family=\"Times New Roman,serif\" font-size=\"14.00\">0</text>\n",
       "</g>\n",
       "<!-- cup16 -->\n",
       "<g id=\"node13\" class=\"node\">\n",
       "<title>cup16</title>\n",
       "<polygon fill=\"none\" stroke=\"black\" points=\"327.74,0 338.26,0 342,-36 324,-36 327.74,0\"/>\n",
       "<text text-anchor=\"middle\" x=\"333\" y=\"-12.95\" font-family=\"Times New Roman,serif\" font-size=\"14.00\">6</text>\n",
       "</g>\n",
       "<!-- cup25&#45;&gt;cup16 -->\n",
       "<g id=\"edge6\" class=\"edge\">\n",
       "<title>cup25&#45;&gt;cup16</title>\n",
       "<path fill=\"none\" stroke=\"black\" stroke-width=\"0.5\" d=\"M308.11,-18C311.63,-18 315.92,-18 319.95,-18\"/>\n",
       "<polygon fill=\"black\" stroke=\"black\" stroke-width=\"0.5\" points=\"319.77,-19.75 324.77,-18 319.77,-16.25 319.77,-19.75\"/>\n",
       "</g>\n",
       "<!-- cup26 -->\n",
       "<g id=\"node14\" class=\"node\">\n",
       "<title>cup26</title>\n",
       "<polygon fill=\"none\" stroke=\"black\" points=\"349.34,0 359.86,0 363.6,-36 345.6,-36 349.34,0\"/>\n",
       "<text text-anchor=\"middle\" x=\"354.6\" y=\"-12.95\" font-family=\"Times New Roman,serif\" font-size=\"14.00\">2</text>\n",
       "</g>\n",
       "</g>\n",
       "</svg>\n"
      ],
      "text/plain": [
       "<graphviz.graphs.Digraph at 0x1ff65b18510>"
      ]
     },
     "metadata": {},
     "output_type": "display_data"
    },
    {
     "data": {
      "image/svg+xml": [
       "<?xml version=\"1.0\" encoding=\"UTF-8\" standalone=\"no\"?>\n",
       "<!DOCTYPE svg PUBLIC \"-//W3C//DTD SVG 1.1//EN\"\n",
       " \"http://www.w3.org/Graphics/SVG/1.1/DTD/svg11.dtd\">\n",
       "<!-- Generated by graphviz version 9.0.0 (0)\n",
       " -->\n",
       "<!-- Pages: 1 -->\n",
       "<svg width=\"480pt\" height=\"44pt\"\n",
       " viewBox=\"0.00 0.00 479.60 44.00\" xmlns=\"http://www.w3.org/2000/svg\" xmlns:xlink=\"http://www.w3.org/1999/xlink\">\n",
       "<g id=\"graph0\" class=\"graph\" transform=\"scale(1 1) rotate(0) translate(4 40)\">\n",
       "<polygon fill=\"white\" stroke=\"none\" points=\"-4,4 -4,-40 475.6,-40 475.6,4 -4,4\"/>\n",
       "<!-- cup10 -->\n",
       "<g id=\"node1\" class=\"node\">\n",
       "<title>cup10</title>\n",
       "<polygon fill=\"none\" stroke=\"black\" points=\"3.74,0 14.26,0 18,-36 0,-36 3.74,0\"/>\n",
       "<text text-anchor=\"middle\" x=\"9\" y=\"-12.95\" font-family=\"Times New Roman,serif\" font-size=\"14.00\">0</text>\n",
       "</g>\n",
       "<!-- cup20 -->\n",
       "<g id=\"node2\" class=\"node\">\n",
       "<title>cup20</title>\n",
       "<polygon fill=\"none\" stroke=\"black\" points=\"25.34,0 35.86,0 39.6,-36 21.6,-36 25.34,0\"/>\n",
       "<text text-anchor=\"middle\" x=\"30.6\" y=\"-12.95\" font-family=\"Times New Roman,serif\" font-size=\"14.00\">0</text>\n",
       "</g>\n",
       "<!-- cup11 -->\n",
       "<g id=\"node3\" class=\"node\">\n",
       "<title>cup11</title>\n",
       "<polygon fill=\"none\" stroke=\"black\" points=\"57.74,0 68.26,0 72,-36 54,-36 57.74,0\"/>\n",
       "<text text-anchor=\"middle\" x=\"63\" y=\"-12.95\" font-family=\"Times New Roman,serif\" font-size=\"14.00\">0</text>\n",
       "</g>\n",
       "<!-- cup20&#45;&gt;cup11 -->\n",
       "<g id=\"edge1\" class=\"edge\">\n",
       "<title>cup20&#45;&gt;cup11</title>\n",
       "<path fill=\"none\" stroke=\"black\" stroke-width=\"0.5\" d=\"M38.11,-18C41.63,-18 45.92,-18 49.95,-18\"/>\n",
       "<polygon fill=\"black\" stroke=\"black\" stroke-width=\"0.5\" points=\"49.77,-19.75 54.77,-18 49.77,-16.25 49.77,-19.75\"/>\n",
       "</g>\n",
       "<!-- cup21 -->\n",
       "<g id=\"node4\" class=\"node\">\n",
       "<title>cup21</title>\n",
       "<polygon fill=\"none\" stroke=\"black\" points=\"79.34,0 89.86,0 93.6,-36 75.6,-36 79.34,0\"/>\n",
       "<text text-anchor=\"middle\" x=\"84.6\" y=\"-12.95\" font-family=\"Times New Roman,serif\" font-size=\"14.00\">2</text>\n",
       "</g>\n",
       "<!-- cup12 -->\n",
       "<g id=\"node5\" class=\"node\">\n",
       "<title>cup12</title>\n",
       "<polygon fill=\"none\" stroke=\"black\" points=\"111.74,0 122.26,0 126,-36 108,-36 111.74,0\"/>\n",
       "<text text-anchor=\"middle\" x=\"117\" y=\"-12.95\" font-family=\"Times New Roman,serif\" font-size=\"14.00\">2</text>\n",
       "</g>\n",
       "<!-- cup21&#45;&gt;cup12 -->\n",
       "<g id=\"edge2\" class=\"edge\">\n",
       "<title>cup21&#45;&gt;cup12</title>\n",
       "<path fill=\"none\" stroke=\"black\" stroke-width=\"0.5\" d=\"M92.11,-18C95.63,-18 99.92,-18 103.95,-18\"/>\n",
       "<polygon fill=\"black\" stroke=\"black\" stroke-width=\"0.5\" points=\"103.77,-19.75 108.77,-18 103.77,-16.25 103.77,-19.75\"/>\n",
       "</g>\n",
       "<!-- cup22 -->\n",
       "<g id=\"node6\" class=\"node\">\n",
       "<title>cup22</title>\n",
       "<polygon fill=\"none\" stroke=\"black\" points=\"133.34,0 143.86,0 147.6,-36 129.6,-36 133.34,0\"/>\n",
       "<text text-anchor=\"middle\" x=\"138.6\" y=\"-12.95\" font-family=\"Times New Roman,serif\" font-size=\"14.00\">0</text>\n",
       "</g>\n",
       "<!-- cup13 -->\n",
       "<g id=\"node7\" class=\"node\">\n",
       "<title>cup13</title>\n",
       "<polygon fill=\"none\" stroke=\"black\" points=\"165.74,0 176.26,0 180,-36 162,-36 165.74,0\"/>\n",
       "<text text-anchor=\"middle\" x=\"171\" y=\"-12.95\" font-family=\"Times New Roman,serif\" font-size=\"14.00\">2</text>\n",
       "</g>\n",
       "<!-- cup22&#45;&gt;cup13 -->\n",
       "<g id=\"edge3\" class=\"edge\">\n",
       "<title>cup22&#45;&gt;cup13</title>\n",
       "<path fill=\"none\" stroke=\"black\" stroke-width=\"0.5\" d=\"M146.11,-18C149.63,-18 153.92,-18 157.95,-18\"/>\n",
       "<polygon fill=\"black\" stroke=\"black\" stroke-width=\"0.5\" points=\"157.77,-19.75 162.77,-18 157.77,-16.25 157.77,-19.75\"/>\n",
       "</g>\n",
       "<!-- cup23 -->\n",
       "<g id=\"node8\" class=\"node\">\n",
       "<title>cup23</title>\n",
       "<polygon fill=\"none\" stroke=\"black\" points=\"187.34,0 197.86,0 201.6,-36 183.6,-36 187.34,0\"/>\n",
       "<text text-anchor=\"middle\" x=\"192.6\" y=\"-12.95\" font-family=\"Times New Roman,serif\" font-size=\"14.00\">2</text>\n",
       "</g>\n",
       "<!-- cup14 -->\n",
       "<g id=\"node9\" class=\"node\">\n",
       "<title>cup14</title>\n",
       "<polygon fill=\"none\" stroke=\"black\" points=\"219.74,0 230.26,0 234,-36 216,-36 219.74,0\"/>\n",
       "<text text-anchor=\"middle\" x=\"225\" y=\"-12.95\" font-family=\"Times New Roman,serif\" font-size=\"14.00\">4</text>\n",
       "</g>\n",
       "<!-- cup23&#45;&gt;cup14 -->\n",
       "<g id=\"edge4\" class=\"edge\">\n",
       "<title>cup23&#45;&gt;cup14</title>\n",
       "<path fill=\"none\" stroke=\"black\" stroke-width=\"0.5\" d=\"M200.11,-18C203.63,-18 207.92,-18 211.95,-18\"/>\n",
       "<polygon fill=\"black\" stroke=\"black\" stroke-width=\"0.5\" points=\"211.77,-19.75 216.77,-18 211.77,-16.25 211.77,-19.75\"/>\n",
       "</g>\n",
       "<!-- cup24 -->\n",
       "<g id=\"node10\" class=\"node\">\n",
       "<title>cup24</title>\n",
       "<polygon fill=\"none\" stroke=\"black\" points=\"241.34,0 251.86,0 255.6,-36 237.6,-36 241.34,0\"/>\n",
       "<text text-anchor=\"middle\" x=\"246.6\" y=\"-12.95\" font-family=\"Times New Roman,serif\" font-size=\"14.00\">0</text>\n",
       "</g>\n",
       "<!-- cup15 -->\n",
       "<g id=\"node11\" class=\"node\">\n",
       "<title>cup15</title>\n",
       "<polygon fill=\"none\" stroke=\"black\" points=\"273.74,0 284.26,0 288,-36 270,-36 273.74,0\"/>\n",
       "<text text-anchor=\"middle\" x=\"279\" y=\"-12.95\" font-family=\"Times New Roman,serif\" font-size=\"14.00\">4</text>\n",
       "</g>\n",
       "<!-- cup24&#45;&gt;cup15 -->\n",
       "<g id=\"edge5\" class=\"edge\">\n",
       "<title>cup24&#45;&gt;cup15</title>\n",
       "<path fill=\"none\" stroke=\"black\" stroke-width=\"0.5\" d=\"M254.11,-18C257.63,-18 261.92,-18 265.95,-18\"/>\n",
       "<polygon fill=\"black\" stroke=\"black\" stroke-width=\"0.5\" points=\"265.77,-19.75 270.77,-18 265.77,-16.25 265.77,-19.75\"/>\n",
       "</g>\n",
       "<!-- cup25 -->\n",
       "<g id=\"node12\" class=\"node\">\n",
       "<title>cup25</title>\n",
       "<polygon fill=\"none\" stroke=\"black\" points=\"295.34,0 305.86,0 309.6,-36 291.6,-36 295.34,0\"/>\n",
       "<text text-anchor=\"middle\" x=\"300.6\" y=\"-12.95\" font-family=\"Times New Roman,serif\" font-size=\"14.00\">2</text>\n",
       "</g>\n",
       "<!-- cup16 -->\n",
       "<g id=\"node13\" class=\"node\">\n",
       "<title>cup16</title>\n",
       "<polygon fill=\"none\" stroke=\"black\" points=\"327.74,0 338.26,0 342,-36 324,-36 327.74,0\"/>\n",
       "<text text-anchor=\"middle\" x=\"333\" y=\"-12.95\" font-family=\"Times New Roman,serif\" font-size=\"14.00\">8</text>\n",
       "</g>\n",
       "<!-- cup25&#45;&gt;cup16 -->\n",
       "<g id=\"edge6\" class=\"edge\">\n",
       "<title>cup25&#45;&gt;cup16</title>\n",
       "<path fill=\"none\" stroke=\"black\" stroke-width=\"0.5\" d=\"M308.11,-18C311.63,-18 315.92,-18 319.95,-18\"/>\n",
       "<polygon fill=\"black\" stroke=\"black\" stroke-width=\"0.5\" points=\"319.77,-19.75 324.77,-18 319.77,-16.25 319.77,-19.75\"/>\n",
       "</g>\n",
       "<!-- cup26 -->\n",
       "<g id=\"node14\" class=\"node\">\n",
       "<title>cup26</title>\n",
       "<polygon fill=\"none\" stroke=\"black\" points=\"349.34,0 359.86,0 363.6,-36 345.6,-36 349.34,0\"/>\n",
       "<text text-anchor=\"middle\" x=\"354.6\" y=\"-12.95\" font-family=\"Times New Roman,serif\" font-size=\"14.00\">2</text>\n",
       "</g>\n",
       "<!-- cup17 -->\n",
       "<g id=\"node15\" class=\"node\">\n",
       "<title>cup17</title>\n",
       "<polygon fill=\"none\" stroke=\"black\" points=\"381.74,0 392.26,0 396,-36 378,-36 381.74,0\"/>\n",
       "<text text-anchor=\"middle\" x=\"387\" y=\"-12.95\" font-family=\"Times New Roman,serif\" font-size=\"14.00\">8</text>\n",
       "</g>\n",
       "<!-- cup26&#45;&gt;cup17 -->\n",
       "<g id=\"edge7\" class=\"edge\">\n",
       "<title>cup26&#45;&gt;cup17</title>\n",
       "<path fill=\"none\" stroke=\"black\" stroke-width=\"0.5\" d=\"M362.11,-18C365.63,-18 369.92,-18 373.95,-18\"/>\n",
       "<polygon fill=\"black\" stroke=\"black\" stroke-width=\"0.5\" points=\"373.77,-19.75 378.77,-18 373.77,-16.25 373.77,-19.75\"/>\n",
       "</g>\n",
       "<!-- cup27 -->\n",
       "<g id=\"node16\" class=\"node\">\n",
       "<title>cup27</title>\n",
       "<polygon fill=\"none\" stroke=\"black\" points=\"403.34,0 413.86,0 417.6,-36 399.6,-36 403.34,0\"/>\n",
       "<text text-anchor=\"middle\" x=\"408.6\" y=\"-12.95\" font-family=\"Times New Roman,serif\" font-size=\"14.00\">0</text>\n",
       "</g>\n",
       "<!-- cup18 -->\n",
       "<g id=\"node17\" class=\"node\">\n",
       "<title>cup18</title>\n",
       "<polygon fill=\"none\" stroke=\"black\" points=\"435.74,0 446.26,0 450,-36 432,-36 435.74,0\"/>\n",
       "<text text-anchor=\"middle\" x=\"441\" y=\"-12.95\" font-family=\"Times New Roman,serif\" font-size=\"14.00\">6</text>\n",
       "</g>\n",
       "<!-- cup27&#45;&gt;cup18 -->\n",
       "<g id=\"edge8\" class=\"edge\">\n",
       "<title>cup27&#45;&gt;cup18</title>\n",
       "<path fill=\"none\" stroke=\"black\" stroke-width=\"0.5\" d=\"M416.11,-18C419.63,-18 423.92,-18 427.95,-18\"/>\n",
       "<polygon fill=\"black\" stroke=\"black\" stroke-width=\"0.5\" points=\"427.77,-19.75 432.77,-18 427.77,-16.25 427.77,-19.75\"/>\n",
       "</g>\n",
       "<!-- cup28 -->\n",
       "<g id=\"node18\" class=\"node\">\n",
       "<title>cup28</title>\n",
       "<polygon fill=\"none\" stroke=\"black\" points=\"457.34,0 467.86,0 471.6,-36 453.6,-36 457.34,0\"/>\n",
       "<text text-anchor=\"middle\" x=\"462.6\" y=\"-12.95\" font-family=\"Times New Roman,serif\" font-size=\"14.00\">2</text>\n",
       "</g>\n",
       "</g>\n",
       "</svg>\n"
      ],
      "text/plain": [
       "<graphviz.graphs.Digraph at 0x1ff65b7bad0>"
      ]
     },
     "metadata": {},
     "output_type": "display_data"
    },
    {
     "data": {
      "image/svg+xml": [
       "<?xml version=\"1.0\" encoding=\"UTF-8\" standalone=\"no\"?>\n",
       "<!DOCTYPE svg PUBLIC \"-//W3C//DTD SVG 1.1//EN\"\n",
       " \"http://www.w3.org/Graphics/SVG/1.1/DTD/svg11.dtd\">\n",
       "<!-- Generated by graphviz version 9.0.0 (0)\n",
       " -->\n",
       "<!-- Pages: 1 -->\n",
       "<svg width=\"372pt\" height=\"44pt\"\n",
       " viewBox=\"0.00 0.00 371.60 44.00\" xmlns=\"http://www.w3.org/2000/svg\" xmlns:xlink=\"http://www.w3.org/1999/xlink\">\n",
       "<g id=\"graph0\" class=\"graph\" transform=\"scale(1 1) rotate(0) translate(4 40)\">\n",
       "<polygon fill=\"white\" stroke=\"none\" points=\"-4,4 -4,-40 367.6,-40 367.6,4 -4,4\"/>\n",
       "<!-- cup10 -->\n",
       "<g id=\"node1\" class=\"node\">\n",
       "<title>cup10</title>\n",
       "<polygon fill=\"none\" stroke=\"black\" points=\"3.74,0 14.26,0 18,-36 0,-36 3.74,0\"/>\n",
       "<text text-anchor=\"middle\" x=\"9\" y=\"-12.95\" font-family=\"Times New Roman,serif\" font-size=\"14.00\">0</text>\n",
       "</g>\n",
       "<!-- cup20 -->\n",
       "<g id=\"node2\" class=\"node\">\n",
       "<title>cup20</title>\n",
       "<polygon fill=\"none\" stroke=\"black\" points=\"25.34,0 35.86,0 39.6,-36 21.6,-36 25.34,0\"/>\n",
       "<text text-anchor=\"middle\" x=\"30.6\" y=\"-12.95\" font-family=\"Times New Roman,serif\" font-size=\"14.00\">0</text>\n",
       "</g>\n",
       "<!-- cup11 -->\n",
       "<g id=\"node3\" class=\"node\">\n",
       "<title>cup11</title>\n",
       "<polygon fill=\"none\" stroke=\"black\" points=\"57.74,0 68.26,0 72,-36 54,-36 57.74,0\"/>\n",
       "<text text-anchor=\"middle\" x=\"63\" y=\"-12.95\" font-family=\"Times New Roman,serif\" font-size=\"14.00\">0</text>\n",
       "</g>\n",
       "<!-- cup20&#45;&gt;cup11 -->\n",
       "<g id=\"edge1\" class=\"edge\">\n",
       "<title>cup20&#45;&gt;cup11</title>\n",
       "<path fill=\"none\" stroke=\"black\" stroke-width=\"0.5\" d=\"M38.11,-18C41.63,-18 45.92,-18 49.95,-18\"/>\n",
       "<polygon fill=\"black\" stroke=\"black\" stroke-width=\"0.5\" points=\"49.77,-19.75 54.77,-18 49.77,-16.25 49.77,-19.75\"/>\n",
       "</g>\n",
       "<!-- cup21 -->\n",
       "<g id=\"node4\" class=\"node\">\n",
       "<title>cup21</title>\n",
       "<polygon fill=\"none\" stroke=\"black\" points=\"79.34,0 89.86,0 93.6,-36 75.6,-36 79.34,0\"/>\n",
       "<text text-anchor=\"middle\" x=\"84.6\" y=\"-12.95\" font-family=\"Times New Roman,serif\" font-size=\"14.00\">2</text>\n",
       "</g>\n",
       "<!-- cup12 -->\n",
       "<g id=\"node5\" class=\"node\">\n",
       "<title>cup12</title>\n",
       "<polygon fill=\"none\" stroke=\"black\" points=\"111.74,0 122.26,0 126,-36 108,-36 111.74,0\"/>\n",
       "<text text-anchor=\"middle\" x=\"117\" y=\"-12.95\" font-family=\"Times New Roman,serif\" font-size=\"14.00\">2</text>\n",
       "</g>\n",
       "<!-- cup21&#45;&gt;cup12 -->\n",
       "<g id=\"edge2\" class=\"edge\">\n",
       "<title>cup21&#45;&gt;cup12</title>\n",
       "<path fill=\"none\" stroke=\"black\" stroke-width=\"0.5\" d=\"M92.11,-18C95.63,-18 99.92,-18 103.95,-18\"/>\n",
       "<polygon fill=\"black\" stroke=\"black\" stroke-width=\"0.5\" points=\"103.77,-19.75 108.77,-18 103.77,-16.25 103.77,-19.75\"/>\n",
       "</g>\n",
       "<!-- cup22 -->\n",
       "<g id=\"node6\" class=\"node\">\n",
       "<title>cup22</title>\n",
       "<polygon fill=\"none\" stroke=\"black\" points=\"133.34,0 143.86,0 147.6,-36 129.6,-36 133.34,0\"/>\n",
       "<text text-anchor=\"middle\" x=\"138.6\" y=\"-12.95\" font-family=\"Times New Roman,serif\" font-size=\"14.00\">0</text>\n",
       "</g>\n",
       "<!-- cup13 -->\n",
       "<g id=\"node7\" class=\"node\">\n",
       "<title>cup13</title>\n",
       "<polygon fill=\"none\" stroke=\"black\" points=\"165.74,0 176.26,0 180,-36 162,-36 165.74,0\"/>\n",
       "<text text-anchor=\"middle\" x=\"171\" y=\"-12.95\" font-family=\"Times New Roman,serif\" font-size=\"14.00\">2</text>\n",
       "</g>\n",
       "<!-- cup22&#45;&gt;cup13 -->\n",
       "<g id=\"edge3\" class=\"edge\">\n",
       "<title>cup22&#45;&gt;cup13</title>\n",
       "<path fill=\"none\" stroke=\"black\" stroke-width=\"0.5\" d=\"M146.11,-18C149.63,-18 153.92,-18 157.95,-18\"/>\n",
       "<polygon fill=\"black\" stroke=\"black\" stroke-width=\"0.5\" points=\"157.77,-19.75 162.77,-18 157.77,-16.25 157.77,-19.75\"/>\n",
       "</g>\n",
       "<!-- cup23 -->\n",
       "<g id=\"node8\" class=\"node\">\n",
       "<title>cup23</title>\n",
       "<polygon fill=\"none\" stroke=\"black\" points=\"187.34,0 197.86,0 201.6,-36 183.6,-36 187.34,0\"/>\n",
       "<text text-anchor=\"middle\" x=\"192.6\" y=\"-12.95\" font-family=\"Times New Roman,serif\" font-size=\"14.00\">2</text>\n",
       "</g>\n",
       "<!-- cup14 -->\n",
       "<g id=\"node9\" class=\"node\">\n",
       "<title>cup14</title>\n",
       "<polygon fill=\"none\" stroke=\"black\" points=\"219.74,0 230.26,0 234,-36 216,-36 219.74,0\"/>\n",
       "<text text-anchor=\"middle\" x=\"225\" y=\"-12.95\" font-family=\"Times New Roman,serif\" font-size=\"14.00\">4</text>\n",
       "</g>\n",
       "<!-- cup23&#45;&gt;cup14 -->\n",
       "<g id=\"edge4\" class=\"edge\">\n",
       "<title>cup23&#45;&gt;cup14</title>\n",
       "<path fill=\"none\" stroke=\"black\" stroke-width=\"0.5\" d=\"M200.11,-18C203.63,-18 207.92,-18 211.95,-18\"/>\n",
       "<polygon fill=\"black\" stroke=\"black\" stroke-width=\"0.5\" points=\"211.77,-19.75 216.77,-18 211.77,-16.25 211.77,-19.75\"/>\n",
       "</g>\n",
       "<!-- cup24 -->\n",
       "<g id=\"node10\" class=\"node\">\n",
       "<title>cup24</title>\n",
       "<polygon fill=\"none\" stroke=\"black\" points=\"241.34,0 251.86,0 255.6,-36 237.6,-36 241.34,0\"/>\n",
       "<text text-anchor=\"middle\" x=\"246.6\" y=\"-12.95\" font-family=\"Times New Roman,serif\" font-size=\"14.00\">0</text>\n",
       "</g>\n",
       "<!-- cup15 -->\n",
       "<g id=\"node11\" class=\"node\">\n",
       "<title>cup15</title>\n",
       "<polygon fill=\"none\" stroke=\"black\" points=\"273.74,0 284.26,0 288,-36 270,-36 273.74,0\"/>\n",
       "<text text-anchor=\"middle\" x=\"279\" y=\"-12.95\" font-family=\"Times New Roman,serif\" font-size=\"14.00\">4</text>\n",
       "</g>\n",
       "<!-- cup24&#45;&gt;cup15 -->\n",
       "<g id=\"edge5\" class=\"edge\">\n",
       "<title>cup24&#45;&gt;cup15</title>\n",
       "<path fill=\"none\" stroke=\"black\" stroke-width=\"0.5\" d=\"M254.11,-18C257.63,-18 261.92,-18 265.95,-18\"/>\n",
       "<polygon fill=\"black\" stroke=\"black\" stroke-width=\"0.5\" points=\"265.77,-19.75 270.77,-18 265.77,-16.25 265.77,-19.75\"/>\n",
       "</g>\n",
       "<!-- cup25 -->\n",
       "<g id=\"node12\" class=\"node\">\n",
       "<title>cup25</title>\n",
       "<polygon fill=\"none\" stroke=\"black\" points=\"295.34,0 305.86,0 309.6,-36 291.6,-36 295.34,0\"/>\n",
       "<text text-anchor=\"middle\" x=\"300.6\" y=\"-12.95\" font-family=\"Times New Roman,serif\" font-size=\"14.00\">2</text>\n",
       "</g>\n",
       "<!-- cup16 -->\n",
       "<g id=\"node13\" class=\"node\">\n",
       "<title>cup16</title>\n",
       "<polygon fill=\"none\" stroke=\"black\" points=\"327.74,0 338.26,0 342,-36 324,-36 327.74,0\"/>\n",
       "<text text-anchor=\"middle\" x=\"333\" y=\"-12.95\" font-family=\"Times New Roman,serif\" font-size=\"14.00\">6</text>\n",
       "</g>\n",
       "<!-- cup25&#45;&gt;cup16 -->\n",
       "<g id=\"edge6\" class=\"edge\">\n",
       "<title>cup25&#45;&gt;cup16</title>\n",
       "<path fill=\"none\" stroke=\"black\" stroke-width=\"0.5\" d=\"M308.11,-18C311.63,-18 315.92,-18 319.95,-18\"/>\n",
       "<polygon fill=\"black\" stroke=\"black\" stroke-width=\"0.5\" points=\"319.77,-19.75 324.77,-18 319.77,-16.25 319.77,-19.75\"/>\n",
       "</g>\n",
       "<!-- cup26 -->\n",
       "<g id=\"node14\" class=\"node\">\n",
       "<title>cup26</title>\n",
       "<polygon fill=\"none\" stroke=\"black\" points=\"349.34,0 359.86,0 363.6,-36 345.6,-36 349.34,0\"/>\n",
       "<text text-anchor=\"middle\" x=\"354.6\" y=\"-12.95\" font-family=\"Times New Roman,serif\" font-size=\"14.00\">0</text>\n",
       "</g>\n",
       "</g>\n",
       "</svg>\n"
      ],
      "text/plain": [
       "<graphviz.graphs.Digraph at 0x1ff65b7bad0>"
      ]
     },
     "metadata": {},
     "output_type": "display_data"
    }
   ],
   "source": [
    "for solution in backtrack(Jugs(6, 8, 2)):\n",
    "  drawJugs(solution)"
   ]
  },
  {
   "cell_type": "markdown",
   "metadata": {
    "id": "UEWdhqv-Yjit"
   },
   "source": [
    "## Breadth Search"
   ]
  },
  {
   "cell_type": "markdown",
   "metadata": {
    "id": "rot3H4gFhWY-"
   },
   "source": [
    "Let's assume we have the following information:\n",
    "\n",
    "+ An **initial state** from which to start the search.\n",
    "\n",
    "+ One or more **final states** to terminate the search.\n",
    "\n",
    "+ A **transition function** that, given a state, returns a sequence of next states."
   ]
  },
  {
   "cell_type": "markdown",
   "metadata": {
    "id": "V-t0g3QwjANS"
   },
   "source": [
    "These three elements, when combined, *turn the search space into a tree*!\n",
    "\n",
    "Here's an example for Tic-Tac-Toe, where the initial state is the empty board, and the transition function is defined according to the rules of the game:\n",
    "\n",
    "<center><img src='https://raw.githubusercontent.com/jpneto/Prog.I/master/imgs/tree_tictactoe_full.png' width=500px></center>\n",
    "\n",
    "> this diagram is not technically a tree, but it could be transformed into one by duplicating some of the branches."
   ]
  },
  {
   "cell_type": "markdown",
   "metadata": {
    "id": "TrlSBAN1lTyb"
   },
   "source": [
    "The realization that we can interpret a search problem as if it were a tree is of utmost importance in computer science.\n",
    "\n",
    "A very important consequence is that we can use tree traversal techniques to search for solutions in many different types of problems, *as long as we know how to convert the problem into this format*."
   ]
  },
  {
   "cell_type": "markdown",
   "metadata": {
    "id": "xDwxCFgWEU_P"
   },
   "source": [
    "We can traverse trees in depth and breadth. In this section, we will focus on breadth-first traversal.\n",
    "\n",
    "Some points:\n",
    "\n",
    "+ We will analyze one state at a time. Therefore, we need to store the states that are waiting for analysis. The set of states waiting for analysis is called the **frontier**. If the frontier becomes empty without finding a solution, the search has failed!\n",
    "\n",
    "+ The frontier will be stored in a waiting queue. The state that has been waiting the longest will be the next to be analyzed.\n",
    "\n",
    "+ Analyzing a state involves performing the following tasks:\n",
    "\n",
    "  1. Check if it is one of the final states. If it is, we terminate the search and return the appropriate answer. If not:\n",
    "  1. Calculate its next states using the transition function.\n",
    "  1. For each next state, if we haven't encountered it yet, we store it in the queue, i.e., we add it to the frontier.\n",
    "  + It is important not to put a state back in the queue if it has already been there, as we risk entering an infinite loop.\n",
    "  + From the perspective of the tree, this care corresponds to not entering repeated branches, resulting in faster searching."
   ]
  },
  {
   "cell_type": "markdown",
   "metadata": {
    "id": "8smGwmJ2Wegw"
   },
   "source": [
    "This algorithm is called **breadth-first search** or **BFS**.\n",
    "\n",
    "The following abstract class defines the methods to implement in order to define a search problem:\n",
    "\n",
    "+ `start` returns the initial state.\n",
    "\n",
    "+ `is_goal` is a predicate that checks if a given state is a final state.\n",
    "\n",
    "+ `next_moves` is the transition function."
   ]
  },
  {
   "cell_type": "code",
   "execution_count": null,
   "metadata": {
    "id": "Di_g6RPbWEbm"
   },
   "outputs": [],
   "source": [
    "from abc import ABC, abstractmethod\n",
    "\n",
    "class TreeSearchProblem(ABC):\n",
    "  @abstractmethod\n",
    "  def start(self): ...\n",
    "\n",
    "  @abstractmethod\n",
    "  def is_goal(self, state): ...\n",
    "\n",
    "  @abstractmethod\n",
    "  def next_moves(self, state): ..."
   ]
  },
  {
   "cell_type": "markdown",
   "metadata": {
    "id": "RYhB6F26oIIT"
   },
   "source": [
    "Function `bfs` receives an object of this class, and executes the BFS algorithm:"
   ]
  },
  {
   "cell_type": "code",
   "execution_count": null,
   "metadata": {
    "id": "7M_EMDto5Mtj"
   },
   "outputs": [],
   "source": [
    "from collections import deque\n",
    "\n",
    "def bfs(problem):\n",
    "  start, next_moves, is_goal = problem.start(), problem.next_moves, problem.is_goal\n",
    "\n",
    "  frontier = deque([start])    # current states to evaluate, FIFO access\n",
    "  paths = {start: [start]}     # path[s] gives the path from start to s\n",
    "  while frontier:              # while there are states in the frontier,\n",
    "    s = frontier.popleft()     #  get first state in the frontier\n",
    "    if is_goal(s):             #  if it's the goal, the search ended\n",
    "      yield paths[s]\n",
    "    else:\n",
    "      for s2 in next_moves(s): #  if it's not the goal, iterate all next moves from s,\n",
    "        if s2 not in paths:    #   if it is a new state,\n",
    "          frontier.append(s2)  #    add it to frontier\n",
    "          paths[s2] = paths[s] + [s2]  # and create a new path for s2 based on path s"
   ]
  },
  {
   "cell_type": "markdown",
   "metadata": {
    "id": "5evJGH8GppLf"
   },
   "source": [
    "Variable `paths` is a dictionary used to store the path from the initial state `start` to each of the analyzed states. When we find a final state, its complete path, starting from the initial state, will be returned."
   ]
  },
  {
   "cell_type": "markdown",
   "metadata": {
    "id": "pQOSeSpNO4f8"
   },
   "source": [
    "### Solving a Labyrinth"
   ]
  },
  {
   "cell_type": "markdown",
   "metadata": {
    "id": "eahj0V-_xVJ_"
   },
   "source": [
    "Our use case will be solving a maze.\n",
    "\n",
    "To help us, the `random_maze` function creates a random maze, and `plot_maze` uses the `matplotlib` module to visualize the maze (both imported from the `maze_maker` module). These mazes always start at coordinate `(0,0)` and end in the opposite corner."
   ]
  },
  {
   "cell_type": "code",
   "execution_count": null,
   "metadata": {
    "colab": {
     "base_uri": "https://localhost:8080/",
     "height": 268
    },
    "executionInfo": {
     "elapsed": 474,
     "status": "ok",
     "timestamp": 1709657291387,
     "user": {
      "displayName": "Joao Pedro Neto",
      "userId": "16588413076175252494"
     },
     "user_tz": 0
    },
    "id": "CLbwHxeRODyS",
    "outputId": "f5f6b358-bd68-4e0d-eee5-725aa78adf2c"
   },
   "outputs": [
    {
     "data": {
      "image/png": "[encoded data removed]",
      "text/plain": [
       "<Figure size 700x300 with 1 Axes>"
      ]
     },
     "metadata": {},
     "output_type": "display_data"
    }
   ],
   "source": [
    "M = random_maze(20, 10, seed=101)\n",
    "plot_maze(M, figsize=(7, 3))"
   ]
  },
  {
   "cell_type": "markdown",
   "metadata": {
    "id": "zCI_hnpbeTIH"
   },
   "source": [
    "How can we represent this problem in a format that function `bfs` can recognize? This is the demanding part for the programmer.\n",
    "\n",
    "+ A state is a position within the maze. A state will be represented by a pair `(row, column)`.\n",
    "\n",
    "+ A valid move is moving from the current position to a neighboring position as long as there is no wall between them. This is defined in the `valid_steps` function. The function takes a position and returns a list of valid neighboring positions.\n",
    "\n",
    "+ The `is_goal` function takes a position and checks if it is the opposite corner of the maze."
   ]
  },
  {
   "cell_type": "code",
   "execution_count": null,
   "metadata": {
    "id": "nBqdxa5VXU8I"
   },
   "outputs": [],
   "source": [
    "# From module maze_maker:\n",
    "#  * A maze is a triple (maze.width, maze.height, maze.edges) where maze.edges\n",
    "#    is a list of pairs of cells defining which are the valid paths\n",
    "#    between adjacent cells. A cell is a pair (row, column)\n",
    "#  * neighbors4() receives a cell and return its adjacent neighbors\n",
    "#  * edge() returns the ordered pair of two cells\n",
    "class MazeSolver(TreeSearchProblem):\n",
    "  def __init__(self, maze):\n",
    "    self._maze = maze\n",
    "\n",
    "  def start(self):\n",
    "    return (0,0) # the initial cell\n",
    "\n",
    "  def is_goal(self, state):\n",
    "    return state == (self._maze.width-1, self._maze.height-1)\n",
    "\n",
    "  def next_moves(self, state):\n",
    "    return [s1 for s1 in neighbors4(state) if edge(state,s1) in self._maze.edges]"
   ]
  },
  {
   "cell_type": "markdown",
   "metadata": {
    "id": "6f4XVNQNyKnr"
   },
   "source": [
    "With this representation we are ready to execute the search:"
   ]
  },
  {
   "cell_type": "code",
   "execution_count": null,
   "metadata": {
    "colab": {
     "base_uri": "https://localhost:8080/",
     "height": 268
    },
    "executionInfo": {
     "elapsed": 878,
     "status": "ok",
     "timestamp": 1709657298855,
     "user": {
      "displayName": "Joao Pedro Neto",
      "userId": "16588413076175252494"
     },
     "user_tz": 0
    },
    "id": "jFwfV7iayIWs",
    "outputId": "119d1c1e-04d8-4923-f56f-d5627f631862"
   },
   "outputs": [
    {
     "data": {
      "image/png": "[encoded data removed]",
      "text/plain": [
       "<Figure size 700x300 with 1 Axes>"
      ]
     },
     "metadata": {},
     "output_type": "display_data"
    }
   ],
   "source": [
    "solution = next(bfs(MazeSolver(M)))\n",
    "plot_maze(M, figsize=(7, 3), path=solution)"
   ]
  },
  {
   "cell_type": "markdown",
   "metadata": {
    "id": "szZ6JMoHyH_T"
   },
   "source": [
    "<font size=\"+2\">🤩</font>\n",
    "\n",
    "The following animation allows us to visualize the computation that took place.\n",
    "\n",
    "For each step, we observe the path to the current state. The green dots represent the states stored in the frontier for that particular step:"
   ]
  },
  {
   "cell_type": "code",
   "execution_count": null,
   "metadata": {
    "colab": {
     "base_uri": "https://localhost:8080/",
     "height": 216
    },
    "executionInfo": {
     "elapsed": 7,
     "status": "error",
     "timestamp": 1716902654154,
     "user": {
      "displayName": "Joao Pedro Neto",
      "userId": "16588413076175252494"
     },
     "user_tz": -60
    },
    "id": "1KJre99fWsTR",
    "outputId": "1ed92d02-944b-481b-dfc8-74e262c66f2e"
   },
   "outputs": [
    {
     "data": {
      "application/vnd.jupyter.widget-view+json": {
       "model_id": "283f751010b648e6a1ad23a0d142ebf8",
       "version_major": 2,
       "version_minor": 0
      },
      "text/plain": [
       "interactive(children=(IntSlider(value=1, continuous_update=False, description='passo', max=190, min=1), Output…"
      ]
     },
     "metadata": {},
     "output_type": "display_data"
    }
   ],
   "source": [
    "def show(passo, paths, frontiers):\n",
    "  plot_maze(M, figsize=(7,3), path=paths[passo], frontier=frontiers[passo])\n",
    "  plt.show()\n",
    "\n",
    "paths, frontiers = breadth_paths(M)\n",
    "interact(lambda passo : show(passo, paths, frontiers),\n",
    "         passo = widgets.IntSlider(min=1, max=len(paths)-1, value=1,\n",
    "                                   continuous_update = False));"
   ]
  },
  {
   "cell_type": "markdown",
   "metadata": {
    "id": "gd9zy3Jjs2f3"
   },
   "source": [
    "Breadth-first search does not commit to any path. It analyzes the entire frontier, one state at a time. This ensures that the first solution found is the shortest among all possible paths (from the initial state to the final state). It's a very safe search, remaining robust even in the presence of infinite corridors in the maze.\n",
    "\n",
    "The price to pay for not taking risks is that it tends to be slower in finding a solution. Another problem is the risk of the frontier growing too large, as we may run out of space to store all pending states."
   ]
  },
  {
   "cell_type": "markdown",
   "metadata": {
    "id": "B8XFo92hQmzC"
   },
   "source": [
    "### Enumerating Solutions"
   ]
  },
  {
   "cell_type": "markdown",
   "metadata": {
    "id": "28XJEwv2ag9f"
   },
   "source": [
    "Instead of returning the first solution, we can request all solutions from the generator."
   ]
  },
  {
   "cell_type": "markdown",
   "metadata": {
    "id": "1taQ4FiNSe7l"
   },
   "source": [
    "Let's consider an application: given a list of numbers, we want to find all possible combinations of those numbers that add up to a given value.\n",
    "\n",
    "For example, if the list is `[2,3,4,5]`, and we want to sum to `10`, there are several possible solutions such as `(5,5)`, `(3,3,4)`, `(2,2,3,3)`, and so on.\n",
    "\n",
    "As long as we can incorporate the problem requirements into the `start`, `next_moves`, and `is_goal` methods, the search will give us the desired result:"
   ]
  },
  {
   "cell_type": "code",
   "execution_count": null,
   "metadata": {
    "id": "qVUHMJHEZIkt"
   },
   "outputs": [],
   "source": [
    "class SameSumSublists(TreeSearchProblem):\n",
    "  def __init__(self, values, total):\n",
    "    self._values = values\n",
    "    self._total = total\n",
    "\n",
    "  def start(self):\n",
    "    return tuple()\n",
    "\n",
    "  def is_goal(self, state):\n",
    "    return sum(state) == self._total\n",
    "\n",
    "  def next_moves(self, state):\n",
    "    return [state+(n,) for n in self._values if sum(state)+n <= self._total]"
   ]
  },
  {
   "cell_type": "markdown",
   "metadata": {
    "id": "HdP_woj4o8Sf"
   },
   "source": [
    "Since we are not defining an ordering, there will be duplicate solutions. Let's use a set to remove repetitions and print distinct solutions only:"
   ]
  },
  {
   "cell_type": "code",
   "execution_count": null,
   "metadata": {
    "colab": {
     "base_uri": "https://localhost:8080/"
    },
    "executionInfo": {
     "elapsed": 277,
     "status": "ok",
     "timestamp": 1698930256333,
     "user": {
      "displayName": "Joao Pedro Neto",
      "userId": "16588413076175252494"
     },
     "user_tz": 0
    },
    "id": "rvvEpv3Oo440",
    "outputId": "26d37659-faa2-423a-b5ce-882df3707c32"
   },
   "outputs": [
    {
     "data": {
      "text/plain": [
       "{(2, 2, 2, 2, 2),\n",
       " (2, 2, 2, 4),\n",
       " (2, 2, 3, 3),\n",
       " (2, 3, 5),\n",
       " (2, 4, 4),\n",
       " (3, 3, 4),\n",
       " (5, 5)}"
      ]
     },
     "execution_count": 70,
     "metadata": {},
     "output_type": "execute_result"
    }
   ],
   "source": [
    "def showReport(values, total):\n",
    "  return { tuple(sorted(path[-1]))\n",
    "           for path in bfs(SameSumSublists(values, total)) }\n",
    "\n",
    "showReport([2,3,4,5], 10)"
   ]
  },
  {
   "cell_type": "markdown",
   "metadata": {
    "id": "w1E2CIKqdMQv"
   },
   "source": [
    "As happened with `backtrack`, we are no longer thinking about the search algorithm. We are trying to describe the problem in a form that the `bfs` search algorithm can work with. This type of programming, where we focus on representing the problem and not solving it — because we have a general algorithm for solving it — is called **declarative programming**.\n",
    "\n",
    "> If you're curious, here are some of the most famous declarative languages:\n",
    ">\n",
    "> + [SQL](https://en.wikipedia.org/wiki/SQL), used to manipulate and query relational databases.\n",
    ">\n",
    "> + [Regular Expressions](https://en.wikipedia.org/wiki/Regular_expression) (_regex_), used to describe patterns of symbols for text searches.\n",
    ">\n",
    "> + [Prolog](https://en.wikipedia.org/wiki/Prolog), a programming language used in artificial intelligence, inspired by first-order logic in mathematics."
   ]
  },
  {
   "cell_type": "markdown",
   "metadata": {
    "id": "wTAlbBlEYe4u"
   },
   "source": [
    "## Depth Search"
   ]
  },
  {
   "cell_type": "markdown",
   "metadata": {
    "id": "EJhLOvnbJU9u"
   },
   "source": [
    "The \"sibling\" of breadth-first search is depth-first search.\n",
    "\n",
    "Instead of searching the frontier by taking one step in each of its states, we can select one state and explore it completely before moving on to the next. This strategy is called **depth-first search** or **DFS**.\n",
    "\n",
    "The algorithm used to describe DFS is almost identical to that of BFS. The only modification required is in the policy of accessing the frontier states. In BFS we used a queue, while in DFS we must use a stack!"
   ]
  },
  {
   "cell_type": "code",
   "execution_count": null,
   "metadata": {
    "id": "JHfv_Coygmbj"
   },
   "outputs": [],
   "source": [
    "from collections import deque\n",
    "\n",
    "def dfs(problem):\n",
    "  start, next_moves, is_goal = problem.start(), problem.next_moves, problem.is_goal\n",
    "\n",
    "  frontier = deque([start])\n",
    "  paths = {start: [start]}\n",
    "  while frontier:\n",
    "    s = frontier.pop() # the FIFO access is the only difference from bfs\n",
    "    if is_goal(s):\n",
    "      yield paths[s]\n",
    "    else:\n",
    "      for s2 in next_moves(s):\n",
    "        if s2 not in paths:\n",
    "          frontier.append(s2)\n",
    "          paths[s2] = paths[s] + [s2]"
   ]
  },
  {
   "cell_type": "markdown",
   "metadata": {
    "id": "dVRL9zsBy9Kn"
   },
   "source": [
    "To compute the solution using depth-first search, we apply the same parameters we used in breadth-first search:"
   ]
  },
  {
   "cell_type": "code",
   "execution_count": null,
   "metadata": {
    "colab": {
     "base_uri": "https://localhost:8080/",
     "height": 268
    },
    "executionInfo": {
     "elapsed": 749,
     "status": "ok",
     "timestamp": 1709657453756,
     "user": {
      "displayName": "Joao Pedro Neto",
      "userId": "16588413076175252494"
     },
     "user_tz": 0
    },
    "id": "c-w6S0wygsaN",
    "outputId": "88520c20-1fc1-4fdd-9174-36b7efe9e907"
   },
   "outputs": [
    {
     "data": {
      "image/png": "[encoded data removed]",
      "text/plain": [
       "<Figure size 700x300 with 1 Axes>"
      ]
     },
     "metadata": {},
     "output_type": "display_data"
    }
   ],
   "source": [
    "solution = next(dfs(MazeSolver(M)))\n",
    "plot_maze(M, figsize=(7,3), path=solution)"
   ]
  },
  {
   "cell_type": "markdown",
   "metadata": {
    "id": "emcOPx7vzJEb"
   },
   "source": [
    "We can also explore this computation in the following animation:"
   ]
  },
  {
   "cell_type": "code",
   "execution_count": null,
   "metadata": {
    "cellView": "form",
    "colab": {
     "base_uri": "https://localhost:8080/",
     "height": 300,
     "referenced_widgets": [
      "b0d9dda6b0354843b44db8097eddea7f",
      "bd95bbf552f74ae1b4e0074645ace1dd",
      "97828d90435849659875ed05ec7d7a8a",
      "448cfe917599454282106bf8c3e1b745",
      "6b6c344c3f4a49c68ac3eb0ad665c6a4",
      "dc4839b93b55488f89ce79bbfdf34d37",
      "08728e37a785485e8a2d5e0855efcd39"
     ]
    },
    "executionInfo": {
     "elapsed": 1089,
     "status": "ok",
     "timestamp": 1709657458166,
     "user": {
      "displayName": "Joao Pedro Neto",
      "userId": "16588413076175252494"
     },
     "user_tz": 0
    },
    "id": "LxS0xldfYs3a",
    "outputId": "73f1b417-d18c-420e-bc53-e391d6fe5aca"
   },
   "outputs": [
    {
     "data": {
      "application/vnd.jupyter.widget-view+json": {
       "model_id": "c97fe3e95b03472dba8cc56d4aba2863",
       "version_major": 2,
       "version_minor": 0
      },
      "text/plain": [
       "interactive(children=(IntSlider(value=1, continuous_update=False, description='passo', max=140, min=1), Output…"
      ]
     },
     "metadata": {},
     "output_type": "display_data"
    }
   ],
   "source": [
    "def show(passo, paths, frontiers):\n",
    "  plot_maze(M, figsize=(7,3), path=paths[passo], frontier=frontiers[passo])\n",
    "  plt.show()\n",
    "\n",
    "paths, frontiers = depth_paths(M)\n",
    "interact(lambda passo : show(passo, paths, frontiers),\n",
    "         passo = widgets.IntSlider(min=1, max=len(paths)-1, value=1,\n",
    "                                   continuous_update = False));"
   ]
  },
  {
   "cell_type": "markdown",
   "metadata": {
    "id": "XATXcfWYK8KJ"
   },
   "source": [
    "If DFS enters the correct path, it becomes very effective since it doesn't explore the other states in the frontier. Backtracking is of a similar nature to DFS. Backtracking also focuses on a candidate and only moves to others when the current candidate is rejected or turned into a solution.\n",
    "\n",
    "Unlike BFS, DFS can return a path that is not the shortest possible. Another drawback is that if the search enters a path with no end, DFS cannot escape from it, and the computation will not terminate."
   ]
  },
  {
   "cell_type": "markdown",
   "metadata": {
    "id": "lRIQGoR2L1-q"
   },
   "source": [
    "These disadvantages stem from DFS's inability to penalize excessively long paths and its inability to choose more promising paths (BFS shares this second limitation). We will now see an algorithm that attempts to address these issues."
   ]
  },
  {
   "cell_type": "markdown",
   "metadata": {
    "id": "dlFp0aIMiC28"
   },
   "source": [
    "## Heuristic Search"
   ]
  },
  {
   "cell_type": "markdown",
   "metadata": {
    "id": "3OeID6Uh5n2b"
   },
   "source": [
    "In certain problems, we may have access to additional information that aids in exploring the search space. It's not enough information to immediately solve the problem, but it helps us choose the next candidate.\n",
    "\n",
    "When we incorporate this knowledge into a function that helps us choose candidates, we call this function a **heuristic**."
   ]
  },
  {
   "cell_type": "markdown",
   "metadata": {
    "id": "A5_UdjZhLiEH"
   },
   "source": [
    "There are several heuristic search algorithms. Let's introduce one of the most famous: the $A^*$ search (pronounced \"A-star\").\n",
    "\n",
    "Like BFS and DFS, $A^*$ maintains a frontier of candidates to explore. But unlike BFS (which uses a regular queue) and DFS (which uses a stack), $A^*$ uses a priority queue.\n",
    "\n",
    "The priority of state $s$ is a function of two values:\n",
    "\n",
    "- The cost $g(s)$ of the path from the start to $s$.\n",
    "- An estimate $h(s)$ of the cost from $s$ to the solution.\n",
    "\n",
    "In the priority queue, for each candidate $s$, we add the value $g(s) + h(s)$, which determines its position in the queue (and since they are costs, lower is better).\n",
    "\n",
    "The heuristic, for the search to work, must return zero for all candidates that are solutions."
   ]
  },
  {
   "cell_type": "markdown",
   "metadata": {
    "id": "Za35vcyn_7K9"
   },
   "source": [
    "So, for $\\text{A}^*$ to perform a search, the problem needs to specify the following elements:\n",
    "\n",
    "+ an initial state where the search begins.\n",
    "\n",
    "+ a function that, given a state, returns the next states.\n",
    "\n",
    "+ a cost function that, given a state and a neighboring state, informs us of the cost of transitioning from one state to another.\n",
    "\n",
    "+ a heuristic function that, given a state, provides an estimate of the cost to reach the solution.\n",
    "\n",
    "Once again, we create an abstract class for this purpose:"
   ]
  },
  {
   "cell_type": "code",
   "execution_count": null,
   "metadata": {
    "id": "JOdMj76rCNrt"
   },
   "outputs": [],
   "source": [
    "from abc import ABC, abstractmethod\n",
    "\n",
    "class HeuristicProblem(ABC):\n",
    "  @abstractmethod\n",
    "  def start(self): ...\n",
    "\n",
    "  @abstractmethod\n",
    "  def next_moves(self, state): ...\n",
    "\n",
    "  @abstractmethod\n",
    "  def cost(self, state, next_state): ...\n",
    "\n",
    "  @abstractmethod\n",
    "  def heuristic(self, state): ..."
   ]
  },
  {
   "cell_type": "markdown",
   "metadata": {
    "id": "5gllwmTWAhwK"
   },
   "source": [
    "Function `a_star` implements this algoritm:"
   ]
  },
  {
   "cell_type": "code",
   "execution_count": null,
   "metadata": {
    "id": "o8mlGSS1iE_g"
   },
   "outputs": [],
   "source": [
    "from heapq import heappop, heappush\n",
    "\n",
    "def a_star(problem):\n",
    "  \"\"\" Find a shortest sequence of states from start to a goal state \"\"\"\n",
    "  start, next_moves = problem.start(), problem.next_moves\n",
    "  heuristic, cost = problem.heuristic, problem.cost\n",
    "\n",
    "  frontier  = [(heuristic(start), start)] # priority queue sorted by path length f(s)=g(s)+h(s)\n",
    "  previous  = {start: None}               # start state has no previous state; other states will\n",
    "  path_cost = {start: 0}                  # the cost of the best path to a state\n",
    "  path      = lambda s: ([] if (s is None) else path(previous[s])+[s])\n",
    "\n",
    "  while frontier:\n",
    "    f, s = heappop(frontier)\n",
    "    if heuristic(s) == 0:\n",
    "      return path(s)\n",
    "    for s2 in next_moves(s):\n",
    "      g = path_cost[s] + cost(s, s2)\n",
    "      if s2 not in path_cost or g < path_cost[s2]:\n",
    "        heappush(frontier, (g + heuristic(s2), s2))\n",
    "        path_cost[s2] = g\n",
    "        previous[s2] = s"
   ]
  },
  {
   "cell_type": "markdown",
   "metadata": {
    "id": "EOKnlJRy5nTY"
   },
   "source": [
    "We'll solve the maze problem again, taking into account the additional information we have about the maze's dimensions and the location of the exit in the opposite corner. This information allows us to create a heuristic that estimates the cost to reach the solution: _the closer a cell is to the opposite corner, the more promising it is_.\n",
    "\n",
    "We can use the [Manhattan distance](https://en.wikipedia.org/wiki/Taxicab_geometry) metric, which calculates the distance by summing the number of rows and columns between two positions. In terms of the cost of the path, we'll assume that all steps to neighboring cells have the same cost, which is 1."
   ]
  },
  {
   "cell_type": "code",
   "execution_count": null,
   "metadata": {
    "id": "Uk-rBOMPCqAu"
   },
   "outputs": [],
   "source": [
    "class HeuristicMazeSolver(HeuristicProblem):\n",
    "  def __init__(self, maze):\n",
    "    self._maze = maze\n",
    "\n",
    "  def start(self):\n",
    "    return (0,0)\n",
    "\n",
    "  def next_moves(self, s):\n",
    "    return [s1 for s1 in neighbors4(s) if edge(s,s1) in self._maze.edges]\n",
    "\n",
    "  def cost(self, s1, s2):\n",
    "    return 1 # each move always costs 1\n",
    "\n",
    "  def heuristic(self, s):\n",
    "    return abs(s[0]-(self._maze.width-1)) + abs(s[1]-(self._maze.height-1))"
   ]
  },
  {
   "cell_type": "markdown",
   "metadata": {
    "id": "Pj81RAEAEJsE"
   },
   "source": [
    "Let's solve the maze with this search:"
   ]
  },
  {
   "cell_type": "code",
   "execution_count": null,
   "metadata": {
    "colab": {
     "base_uri": "https://localhost:8080/",
     "height": 268
    },
    "executionInfo": {
     "elapsed": 674,
     "status": "ok",
     "timestamp": 1698931456688,
     "user": {
      "displayName": "Joao Pedro Neto",
      "userId": "16588413076175252494"
     },
     "user_tz": 0
    },
    "id": "9ld8Apf-DsoK",
    "outputId": "f8f9ff40-eefe-4ac2-a6f7-e3b28d117650"
   },
   "outputs": [
    {
     "data": {
      "image/png": "[encoded data removed]",
      "text/plain": [
       "<Figure size 700x300 with 1 Axes>"
      ]
     },
     "metadata": {},
     "output_type": "display_data"
    }
   ],
   "source": [
    "solution = a_star(HeuristicMazeSolver(M))\n",
    "plot_maze(M, figsize=(7,3), path=solution)"
   ]
  },
  {
   "cell_type": "markdown",
   "metadata": {
    "id": "ZONW4rezNUTX"
   },
   "source": [
    "Breadth-first search is a specific case of $A^*$ search where the heuristic function is a binary function that returns 0 if the state is a goal state, or 1 otherwise. In other words, BFS corresponds to the situation where the heuristic of A* is not informative during the search.\n",
    "\n",
    "To illustrate this relationship, the following class takes a `TreeSearchProblem` object and converts it into a `HeuristicProblem` object:"
   ]
  },
  {
   "cell_type": "code",
   "execution_count": null,
   "metadata": {
    "id": "KNiAvx6WEoeJ"
   },
   "outputs": [],
   "source": [
    "class TreeSearch2Heuristic(HeuristicProblem):\n",
    "  def __init__(self, problem):\n",
    "    self._problem = problem\n",
    "\n",
    "  def start(self):\n",
    "    return self._problem.start()\n",
    "\n",
    "  def next_moves(self, s):\n",
    "    return self._problem.next_moves(s)\n",
    "\n",
    "  def cost(self, s1, s2):\n",
    "    return 1 # each move always costs 1\n",
    "\n",
    "  def heuristic(self, s):\n",
    "    return 0 if self._problem.is_goal(s) else 1  # h(goal)==0, h(not goal)==1"
   ]
  },
  {
   "cell_type": "markdown",
   "metadata": {
    "id": "s10DHW8WFlx0"
   },
   "source": [
    "We now can use the `a_star` function to have the same behavior as the `bfs` function:"
   ]
  },
  {
   "cell_type": "code",
   "execution_count": null,
   "metadata": {
    "colab": {
     "base_uri": "https://localhost:8080/",
     "height": 268
    },
    "executionInfo": {
     "elapsed": 1023,
     "status": "ok",
     "timestamp": 1698931570539,
     "user": {
      "displayName": "Joao Pedro Neto",
      "userId": "16588413076175252494"
     },
     "user_tz": 0
    },
    "id": "lx70TOD7l6w6",
    "outputId": "6e394acc-0136-4b17-b91e-ec820f7637b4"
   },
   "outputs": [
    {
     "data": {
      "image/png": "[encoded data removed]",
      "text/plain": [
       "<Figure size 700x300 with 1 Axes>"
      ]
     },
     "metadata": {},
     "output_type": "display_data"
    }
   ],
   "source": [
    "solver = TreeSearch2Heuristic(MazeSolver(M))\n",
    "solution = a_star(solver)\n",
    "plot_maze(M, figsize=(7,3), path=solution)"
   ]
  },
  {
   "cell_type": "markdown",
   "metadata": {
    "id": "3OnnNr9Rrl_q"
   },
   "source": [
    "$\\text{A}^*$ search is very flexible and can solve a wide range of different problems.\n",
    "\n",
    "As an example of this flexibility, let's solve two variants of the maze problem.\n",
    "\n",
    "First variant. We have two types of movement:\n",
    "\n",
    "  + Moving normally to a neighboring space costs 1 credit.\n",
    "  + Drilling through the wall to go to the other side costs 20 credits.\n",
    "\n",
    "How to find the minimum cost path? We need to represent this new rule in the cost function:"
   ]
  },
  {
   "cell_type": "code",
   "execution_count": null,
   "metadata": {
    "id": "NqEfeLb4GHZ3"
   },
   "outputs": [],
   "source": [
    "class WallMazeSolver(HeuristicProblem):\n",
    "  def __init__(self, maze, wallCost):\n",
    "    self._maze = maze\n",
    "    self._wallCost = wallCost\n",
    "\n",
    "  def start(self):\n",
    "    return (0,0)\n",
    "\n",
    "  def next_moves(self, s):\n",
    "    return neighbors4(s) # no limitations here\n",
    "\n",
    "  def cost(self, s1, s2):\n",
    "    return 1 if edge(s1,s2) in self._maze.edges else self._wallCost\n",
    "\n",
    "  def heuristic(self, s):\n",
    "    return abs(s[0]-(self._maze.width-1)) + abs(s[1]-(self._maze.height-1))"
   ]
  },
  {
   "cell_type": "code",
   "execution_count": null,
   "metadata": {
    "colab": {
     "base_uri": "https://localhost:8080/",
     "height": 268
    },
    "executionInfo": {
     "elapsed": 741,
     "status": "ok",
     "timestamp": 1698931635378,
     "user": {
      "displayName": "Joao Pedro Neto",
      "userId": "16588413076175252494"
     },
     "user_tz": 0
    },
    "id": "Uo6w8AJrGoIG",
    "outputId": "30cefe71-b3c2-4ab9-8727-705731d48e0d"
   },
   "outputs": [
    {
     "data": {
      "image/png": "[encoded data removed]",
      "text/plain": [
       "<Figure size 700x300 with 1 Axes>"
      ]
     },
     "metadata": {},
     "output_type": "display_data"
    }
   ],
   "source": [
    "solution = a_star(WallMazeSolver(M, 20))\n",
    "plot_maze(M, figsize=(7,3), path=solution)"
   ]
  },
  {
   "cell_type": "markdown",
   "metadata": {
    "id": "-dUEhxWYt3U3"
   },
   "source": [
    "Second variant. What if the maze were a torus (i.e., a sort of donut, where opposite sides connect)? Could we have other solutions if we cross through walls?"
   ]
  },
  {
   "cell_type": "code",
   "execution_count": null,
   "metadata": {
    "id": "mOEBAxVqGv3U"
   },
   "outputs": [],
   "source": [
    "class ToroidalWallMazeSolver(HeuristicProblem):\n",
    "  def __init__(self, maze, wallCost):\n",
    "    self._maze = maze\n",
    "    self._wallCost = wallCost\n",
    "\n",
    "  def start(self):\n",
    "    return (0,0)\n",
    "\n",
    "  def next_moves(self, s):\n",
    "    return neighbors4(s) # no limitations here\n",
    "\n",
    "  def cost(self, s1, s2):\n",
    "    return 1 if edge(s1,s2) in self._maze.edges else self._wallCost\n",
    "\n",
    "  def heuristic(self, s):\n",
    "    return (abs((s[0]-(self._maze.width- 1))%self._maze.width ) +\n",
    "            abs((s[1]-(self._maze.height-1))%self._maze.height) )"
   ]
  },
  {
   "cell_type": "code",
   "execution_count": null,
   "metadata": {
    "colab": {
     "base_uri": "https://localhost:8080/",
     "height": 268
    },
    "executionInfo": {
     "elapsed": 668,
     "status": "ok",
     "timestamp": 1698931666208,
     "user": {
      "displayName": "Joao Pedro Neto",
      "userId": "16588413076175252494"
     },
     "user_tz": 0
    },
    "id": "GdLOfiNKsaCW",
    "outputId": "90ae085a-d54d-4281-a5ba-15a77310e1fc"
   },
   "outputs": [
    {
     "data": {
      "image/png": "[encoded data removed]",
      "text/plain": [
       "<Figure size 700x300 with 1 Axes>"
      ]
     },
     "metadata": {},
     "output_type": "display_data"
    }
   ],
   "source": [
    "solution = a_star(ToroidalWallMazeSolver(M, 20))\n",
    "plot_maze(M, figsize=(7,3), path=solution)"
   ]
  },
  {
   "cell_type": "markdown",
   "metadata": {
    "id": "AyXOO5Yptndf"
   },
   "source": [
    "If the cost of crossing walls were slightly lower, we would have a rather unique solution."
   ]
  },
  {
   "cell_type": "code",
   "execution_count": null,
   "metadata": {
    "colab": {
     "base_uri": "https://localhost:8080/",
     "height": 268
    },
    "executionInfo": {
     "elapsed": 564,
     "status": "ok",
     "timestamp": 1698931684857,
     "user": {
      "displayName": "Joao Pedro Neto",
      "userId": "16588413076175252494"
     },
     "user_tz": 0
    },
    "id": "isGRjFJxttdW",
    "outputId": "25686450-4359-4f80-8662-c1ca49ac16fe"
   },
   "outputs": [
    {
     "data": {
      "image/png": "[encoded data removed]",
      "text/plain": [
       "<Figure size 700x300 with 1 Axes>"
      ]
     },
     "metadata": {},
     "output_type": "display_data"
    }
   ],
   "source": [
    "solution = a_star(ToroidalWallMazeSolver(M, 10))\n",
    "plot_maze(M, figsize=(7,3), path=solution)"
   ]
  },
  {
   "cell_type": "markdown",
   "metadata": {
    "id": "omEdYSMJtsby"
   },
   "source": [
    "The $A^*$ algorithm presents us with an interesting approach to incorporating problem information into the search. A good heuristic allows for an effective exploration of solution space.\n",
    "\n",
    "However, we should not forget the potential size of the solution space. Let $d$ be the length of the best path to the solution, and $b$ be the average number of states to explore. In that case, the complexity of this search is $\\sum_{i=0}^d b^i \\in \\mathcal{O}(b^d)$, an exponential complexity in the size of the solution.\n",
    "\n",
    "The importance of a good heuristic is reflected in how it can reduce the value of $b$. Ideally, a perfect heuristic (an Oracle) would always tell us the best option to take. In that case, the search would become an algorithm with a complexity $\\mathcal{O}(d)$.\n",
    "\n",
    "In general, assuming the solution space is a tree and having access to a reasonable heuristic (that meets certain conditions), the search algorithm has polynomial complexity."
   ]
  },
  {
   "cell_type": "markdown",
   "metadata": {
    "id": "efHjzPkXOA2F"
   },
   "source": [
    "\n",
    "\n",
    "---\n",
    "\n"
   ]
  },
  {
   "cell_type": "markdown",
   "metadata": {
    "id": "gWCeVfnlid6M"
   },
   "source": [
    "## Exercises"
   ]
  },
  {
   "cell_type": "markdown",
   "metadata": {
    "id": "HjPaJfvra7Jd"
   },
   "source": [
    "<font size=\"+4\" color=\"blue;green\"><b>?</b></font> Define function `missing` that, given a sorted list of non-negative integers, returns the smallest number that does not appear in the list.\n",
    "\n",
    "For example, in the list `[0,1,2,6,7,9]`, the first missing value is the number `3`.\n",
    "\n",
    "The function should have logarithmic complexity."
   ]
  },
  {
   "cell_type": "code",
   "execution_count": null,
   "metadata": {
    "id": "XuYP0tijbW7h"
   },
   "outputs": [],
   "source": [
    "def search(L, R, p, next_):\n",
    "  while True:\n",
    "    m = next_(L,R) # computes the next element to search\n",
    "    if m is None:\n",
    "      break        # the search ended\n",
    "    if p(m):       # if m satisfies p,\n",
    "      R = m        #   search [L,m]\n",
    "    else:          # otherwise,\n",
    "      L = m        #   search [m,R]\n",
    "  return L,R\n",
    "\n",
    "def missing(xs):\n",
    "  ..."
   ]
  },
  {
   "cell_type": "code",
   "execution_count": null,
   "metadata": {
    "id": "oKvioQyHbZ3j"
   },
   "outputs": [],
   "source": [
    "assert missing([0, 1, 2, 6, 9, 11, 15]) == 3\n",
    "assert missing([1, 2, 3, 6, 9, 11, 15]) == 0"
   ]
  },
  {
   "cell_type": "code",
   "execution_count": null,
   "metadata": {
    "id": "QYCcRJitbTd2"
   },
   "outputs": [],
   "source": [
    "# the smallest missing number would be the index of the element\n",
    "# which is not equal to its element\n",
    "def missing(xs):\n",
    "  mid = lambda L,R: (L+R)//2 if R-L>1 else None\n",
    "  p   = lambda i: xs[i]!=i\n",
    "  L, R  = search(-1, len(xs), p, mid)\n",
    "  return R if R < len(xs) else None"
   ]
  },
  {
   "cell_type": "markdown",
   "metadata": {
    "id": "mOelUnRfa6ed"
   },
   "source": [
    "\n",
    "\n",
    "---\n",
    "\n"
   ]
  },
  {
   "cell_type": "markdown",
   "metadata": {
    "id": "P7OY-k_tsuNn"
   },
   "source": [
    "**Exponential search** is an improvement over binary search, where the search begins by first finding a search range before executing a binary search for an element $y$.\n",
    "\n",
    "The algorithm starts by checking 1, 2, 4, 8, ... indices to the right until it finds an element smaller than $y$. Let $i$ be the first index for which there is a value greater than $y$. Once the range is defined, a binary search is performed between indices $i/2$ and $i$.\n",
    "\n",
    "This algorithm is $\\mathcal{O}(\\log i)$, where $i$ is the index of $y$ (if it is, or would have been, in the list), while binary search is $\\mathcal{O}(\\log n)$, where $n$ is the size of the list.\n",
    "\n",
    "<font size=\"+4\" color=\"blue;green\"><b>?</b></font> Implement exponential search."
   ]
  },
  {
   "cell_type": "code",
   "execution_count": null,
   "metadata": {
    "id": "Y6OnoWVnltuq"
   },
   "outputs": [],
   "source": [
    "def binary_search(xs, y, i, j):\n",
    "  while i <= j:\n",
    "    mid = (i+j)//2\n",
    "    if xs[mid] == y:\n",
    "      return mid\n",
    "    if xs[mid] < y:\n",
    "      i = mid+1\n",
    "    else:\n",
    "      j = mid-1\n",
    "  return None\n",
    "\n",
    "def exponential_search(xs, y):\n",
    "  ..."
   ]
  },
  {
   "cell_type": "code",
   "execution_count": null,
   "metadata": {
    "id": "5nch91m5oK1Y"
   },
   "outputs": [],
   "source": [
    "xs = [1,4,7,9,11,14,20,60]\n",
    "for i,x in enumerate(xs):\n",
    "  assert exponential_search(xs, x) == i\n",
    "assert exponential_search([1,4,7,9], 5) == None"
   ]
  },
  {
   "cell_type": "markdown",
   "metadata": {
    "id": "YRfUXlcAlsnq"
   },
   "source": [
    "\n",
    "\n",
    "---\n",
    "\n"
   ]
  },
  {
   "cell_type": "markdown",
   "metadata": {
    "id": "qHavqnTSrUCU"
   },
   "source": [
    "<font size=\"+4\" color=\"blue;green\"><b>?</b></font> Research how [interpolation search](https://en.wikipedia.org/wiki/Interpolation_search) works and implement it in Python."
   ]
  },
  {
   "cell_type": "code",
   "execution_count": null,
   "metadata": {
    "id": "MF9vORI-rfui"
   },
   "outputs": [],
   "source": [
    "def interpolation_search(xs, y):\n",
    "  ..."
   ]
  },
  {
   "cell_type": "code",
   "execution_count": null,
   "metadata": {
    "id": "wR63FXilpONm"
   },
   "outputs": [],
   "source": [
    "xs = [1,4,7,9,11,14,20,60]\n",
    "for i,x in enumerate(xs):\n",
    "  assert interpolation_search(xs, x) == i\n",
    "assert interpolation_search([1,4,7,9], 5) == None"
   ]
  },
  {
   "cell_type": "markdown",
   "metadata": {
    "id": "xVpqqfkZsbSW"
   },
   "source": [
    "\n",
    "\n",
    "---\n",
    "\n"
   ]
  },
  {
   "cell_type": "markdown",
   "metadata": {
    "id": "lnmO93Q6ShuG"
   },
   "source": [
    "<font size=\"+4\" color=\"blue;green\"><b>?</b></font> Use backtracking to implement the problem of returning all combinations of $k$ elements from a given sequence."
   ]
  },
  {
   "cell_type": "code",
   "execution_count": null,
   "metadata": {
    "id": "HewAOHpjSNKG"
   },
   "outputs": [],
   "source": [
    "class Combinations(BacktrackProblem):\n",
    "  ..."
   ]
  },
  {
   "cell_type": "code",
   "execution_count": null,
   "metadata": {
    "colab": {
     "base_uri": "https://localhost:8080/"
    },
    "executionInfo": {
     "elapsed": 267,
     "status": "ok",
     "timestamp": 1667928642987,
     "user": {
      "displayName": "Joao Pedro Neto",
      "userId": "16588413076175252494"
     },
     "user_tz": 0
    },
    "id": "IGIK_So-SlvV",
    "outputId": "1e85ed2d-b259-4d4f-8d1c-f534ea706253"
   },
   "outputs": [
    {
     "name": "stdout",
     "output_type": "stream",
     "text": [
      "abc abd abe abf acd ace acf ade adf aef bcd bce bcf bde bdf bef cde cdf cef def \n",
      "(1, 2) (1, 3) (1, 4) (1, 5) (2, 3) (2, 4) (2, 5) (3, 4) (3, 5) (4, 5) "
     ]
    }
   ],
   "source": [
    "for sol in backtrack(Combinations('abcdef', 3)):\n",
    "  print(''.join(sol), end= ' ')\n",
    "\n",
    "print()\n",
    "for sol in backtrack(Combinations([1,2,3,4,5], 2)):\n",
    "  print(sol, end=' ')"
   ]
  },
  {
   "cell_type": "markdown",
   "metadata": {
    "id": "jAlKmut3ShuJ"
   },
   "source": [
    "\n",
    "\n",
    "---\n",
    "\n"
   ]
  },
  {
   "cell_type": "markdown",
   "metadata": {
    "id": "bau0hhxqdotC"
   },
   "source": [
    "<font size=\"+4\" color=\"blue;green\"><b>?</b></font> Define class `TokensSumTo` that, given a positive integer `total`, a positive integer `n`, and a list of positive integers `xs`, is able to return lists with `n` elements from `xs` that sum to `total`. Search via backtracking.\n",
    "\n",
    "For example, for `total=20`, `n=4`, and `xs = [2,5,8,10])`, there are the following solutions: `(2, 2, 8, 8), (2, 5, 5, 8), (5, 5, 5, 5)`."
   ]
  },
  {
   "cell_type": "code",
   "execution_count": null,
   "metadata": {
    "id": "wl7GtdVOfsRw"
   },
   "outputs": [],
   "source": [
    "class TokensSumTo(BacktrackProblem):\n",
    "  ..."
   ]
  },
  {
   "cell_type": "code",
   "execution_count": null,
   "metadata": {
    "colab": {
     "base_uri": "https://localhost:8080/"
    },
    "executionInfo": {
     "elapsed": 246,
     "status": "ok",
     "timestamp": 1668351629857,
     "user": {
      "displayName": "Joao Pedro Neto",
      "userId": "16588413076175252494"
     },
     "user_tz": 0
    },
    "id": "v21NXq0rfXec",
    "outputId": "5161026c-84dc-4004-b0de-84efa3d25851"
   },
   "outputs": [
    {
     "name": "stdout",
     "output_type": "stream",
     "text": [
      "(2, 2, 8, 8)\n",
      "(2, 5, 5, 8)\n",
      "(5, 5, 5, 5)\n"
     ]
    }
   ],
   "source": [
    "for sol in backtrack(TokensSumTo(20, 4, [2,5,8,10])):\n",
    "  print(sol)"
   ]
  },
  {
   "cell_type": "markdown",
   "metadata": {
    "id": "KO8YEtrfykhP"
   },
   "source": [
    "\n",
    "\n",
    "---\n",
    "\n"
   ]
  },
  {
   "cell_type": "markdown",
   "metadata": {
    "id": "riA4kjNRym2t"
   },
   "source": [
    "Define function `partitions` that, given a sequence of values and integer $k$, partition the sequence into $k$ parts. The function should return a list with all possible solutions."
   ]
  },
  {
   "cell_type": "code",
   "execution_count": null,
   "metadata": {
    "id": "kWxkkPy7y36z"
   },
   "outputs": [],
   "source": [
    "class Partitions(BacktrackProblem):\n",
    "  ..."
   ]
  },
  {
   "cell_type": "code",
   "execution_count": null,
   "metadata": {
    "colab": {
     "base_uri": "https://localhost:8080/"
    },
    "executionInfo": {
     "elapsed": 278,
     "status": "ok",
     "timestamp": 1710317261915,
     "user": {
      "displayName": "Joao Pedro Neto",
      "userId": "16588413076175252494"
     },
     "user_tz": 0
    },
    "id": "M5p1-RzWy8XV",
    "outputId": "fd58e958-54f7-40b2-bd32-499ec226c360"
   },
   "outputs": [
    {
     "name": "stdout",
     "output_type": "stream",
     "text": [
      "[1] [2] [3, 4, 5]\n",
      "[1] [2, 3] [4, 5]\n",
      "[1] [2, 3, 4] [5]\n",
      "[1, 2] [3] [4, 5]\n",
      "[1, 2] [3, 4] [5]\n",
      "[1, 2, 3] [4] [5]\n",
      "a b c defg\n",
      "a b cd efg\n",
      "a b cde fg\n",
      "a b cdef g\n",
      "a bc d efg\n",
      "a bc de fg\n",
      "a bc def g\n",
      "a bcd e fg\n",
      "a bcd ef g\n",
      "a bcde f g\n",
      "ab c d efg\n",
      "ab c de fg\n",
      "ab c def g\n",
      "ab cd e fg\n",
      "ab cd ef g\n",
      "ab cde f g\n",
      "abc d e fg\n",
      "abc d ef g\n",
      "abc de f g\n",
      "abcd e f g\n"
     ]
    }
   ],
   "source": [
    "for xs in sorted(partitions([1,2,3,4,5], 3)):\n",
    "  print(*xs)\n",
    "\n",
    "for xs in sorted(partitions('abcdefg', 4)):\n",
    "    print(*xs)"
   ]
  },
  {
   "cell_type": "markdown",
   "metadata": {
    "id": "fnnf23hHdllY"
   },
   "source": [
    "\n",
    "\n",
    "---\n",
    "\n"
   ]
  },
  {
   "cell_type": "markdown",
   "metadata": {
    "id": "Q5Dn9zha5-ME"
   },
   "source": [
    "Given a positive integer $n$, a multiplicative partition is a sequence of divisors of $n$ whose product results in $n$.\n",
    "\n",
    "For example, the multiplicative partitions of $12$ are $(2, 2, 3), (2, 6), (3, 4), (12)$."
   ]
  },
  {
   "cell_type": "markdown",
   "metadata": {
    "id": "QCIeqY7yVfct"
   },
   "source": [
    "The following helper function computes the divisors of a given positive integer:"
   ]
  },
  {
   "cell_type": "code",
   "execution_count": null,
   "metadata": {
    "id": "XmiljPkr5-MH"
   },
   "outputs": [],
   "source": [
    "def divisors(n):\n",
    "  \"\"\" returns list of divisors de n, except 1 \"\"\"\n",
    "  return [i for i in range(2,1+n//2) if n%i==0] + [n] if n>1 else []"
   ]
  },
  {
   "cell_type": "markdown",
   "metadata": {
    "id": "WfWlE4wDVbf-"
   },
   "source": [
    "<font size=\"+4\" color=\"blue;green\"><b>?</b></font> Define class `multiplicativePartitions` that, given a positive integer $n$, computes its multiplicative partitions. Use backtracking."
   ]
  },
  {
   "cell_type": "code",
   "execution_count": null,
   "metadata": {
    "id": "-WqeBCsmTl0H"
   },
   "outputs": [],
   "source": [
    "class MultiplicativePartitions(BacktrackProblem):\n",
    "  ."
   ]
  },
  {
   "cell_type": "code",
   "execution_count": null,
   "metadata": {
    "id": "2lvc7PKL6gfx"
   },
   "outputs": [],
   "source": [
    "for sol in backtrack(MultiplicativePartitions(24)):\n",
    "  print(sol.candidate, end= ' ')\n",
    "# should print (3, 2, 2, 2) (4, 3, 2) (6, 2, 2) (6, 4) (8, 3) (12, 2) (24,)"
   ]
  },
  {
   "cell_type": "markdown",
   "metadata": {
    "id": "Mo5eo1Vu5-MO"
   },
   "source": [
    "\n",
    "\n",
    "---\n",
    "\n"
   ]
  },
  {
   "cell_type": "markdown",
   "metadata": {
    "id": "cxhtwqb3Q8oY"
   },
   "source": [
    "Let's consider triangles made from matches, as shown in the following image:\n",
    "\n",
    "<center><img src='https://raw.githubusercontent.com/jpneto/Prog.I/master/imgs/backtrack_triangle_match.png' width=350px></center>\n",
    "\n",
    "Assume you have a box with $n \\geq 3$ matches. How many triangles can we form (you don't need to use all the matches), assuming that each side of the triangle is composed of an integer number of matches?\n",
    "\n",
    "For example, with seven matches, we have the following solutions: $(1,1,1),(1,2,2),(1,3,3),(2,2,2),(2,2,3)$.\n",
    "\n",
    "<font size=\"+4\" color=\"blue;green\"><b>?</b></font> Use backtracking to find all solution triplets for a given $n$ matches."
   ]
  },
  {
   "cell_type": "code",
   "execution_count": null,
   "metadata": {
    "id": "Ox1CqERb9CO-"
   },
   "outputs": [],
   "source": [
    "class TriangleMatches(BacktrackProblem):\n",
    "  ..."
   ]
  },
  {
   "cell_type": "code",
   "execution_count": null,
   "metadata": {
    "colab": {
     "base_uri": "https://localhost:8080/"
    },
    "executionInfo": {
     "elapsed": 254,
     "status": "ok",
     "timestamp": 1698932523053,
     "user": {
      "displayName": "Joao Pedro Neto",
      "userId": "16588413076175252494"
     },
     "user_tz": 0
    },
    "id": "FhinElZ79CO-",
    "outputId": "7c96ee3b-2df3-40c4-e1b1-5005e67a4016"
   },
   "outputs": [
    {
     "name": "stdout",
     "output_type": "stream",
     "text": [
      "(1, 1, 1) (1, 2, 2) (1, 3, 3) (2, 2, 2) (2, 2, 3) "
     ]
    }
   ],
   "source": [
    "for sol in backtrack(TriangleMatches(7)):\n",
    "  print(sol, end= ' ')"
   ]
  },
  {
   "cell_type": "markdown",
   "metadata": {
    "id": "5KIM9DUQyG6U"
   },
   "source": [
    "\n",
    "\n",
    "---\n",
    "\n"
   ]
  },
  {
   "cell_type": "markdown",
   "metadata": {
    "id": "nZL2ErshRab-"
   },
   "source": [
    "It is possible to arrange, for certain values of $n$, the first $n$ natural numbers in such a way that the sum of two consecutive numbers is always a square [[1](https://math.stackexchange.com/questions/1676413/for-which-n-can-1-2-n-be-rearranged-so-that-the-sum-of-each-two-adjacent)]. The values of $n$ for which this is valid are:\n",
    "\n",
    "$$n = 15,16,17,23,25,26,27,28,29, \\ldots$$\n",
    "\n",
    "The following image shows a solution for $n=35$,\n",
    "\n",
    "<center><img src='https://raw.githubusercontent.com/jpneto/Prog.I/master/imgs/sum_adjacent_squares.jpg' width=400px></center>\n",
    "\n",
    "<font size=\"+4\" color=\"blue;green\"><b>?</b></font> Use backtracking to find, given $n$, a solution for this problem.\n",
    "\n",
    "<!--\n",
    "ref: https://math.stackexchange.com/questions/1676413\n",
    "ref: https://math.stackexchange.com/questions/1169177\n",
    "ref: https://oeis.org/A090461\n",
    "ref: https://math.stackexchange.com/questions/1168983\n",
    "-->"
   ]
  },
  {
   "cell_type": "code",
   "execution_count": null,
   "metadata": {
    "id": "NYhA3xawGxZd"
   },
   "outputs": [],
   "source": [
    "class PerfectSquareSequence(BacktrackProblem):\n",
    "  ..."
   ]
  },
  {
   "cell_type": "code",
   "execution_count": null,
   "metadata": {
    "colab": {
     "base_uri": "https://localhost:8080/"
    },
    "executionInfo": {
     "elapsed": 2102,
     "status": "ok",
     "timestamp": 1698932643474,
     "user": {
      "displayName": "Joao Pedro Neto",
      "userId": "16588413076175252494"
     },
     "user_tz": 0
    },
    "id": "zLT0ix4QKk3y",
    "outputId": "3808f7f7-03e5-4179-c334-f27ed963b8fa"
   },
   "outputs": [
    {
     "name": "stdout",
     "output_type": "stream",
     "text": [
      "15 : (8, 1, 15, 10, 6, 3, 13, 12, 4, 5, 11, 14, 2, 7, 9)\n",
      "16 : (8, 1, 15, 10, 6, 3, 13, 12, 4, 5, 11, 14, 2, 7, 9, 16)\n",
      "17 : (16, 9, 7, 2, 14, 11, 5, 4, 12, 13, 3, 6, 10, 15, 1, 8, 17)\n",
      "18 : ()\n",
      "19 : ()\n",
      "20 : ()\n",
      "21 : ()\n",
      "22 : ()\n",
      "23 : (2, 23, 13, 12, 4, 21, 15, 10, 6, 19, 17, 8, 1, 3, 22, 14, 11, 5, 20, 16, 9, 7, 18)\n",
      "24 : ()\n",
      "25 : (2, 23, 13, 12, 24, 25, 11, 14, 22, 3, 1, 8, 17, 19, 6, 10, 15, 21, 4, 5, 20, 16, 9, 7, 18)\n",
      "26 : (2, 14, 22, 3, 13, 23, 26, 10, 6, 19, 17, 8, 1, 15, 21, 4, 12, 24, 25, 11, 5, 20, 16, 9, 7, 18)\n",
      "27 : (1, 8, 17, 19, 6, 3, 13, 12, 24, 25, 11, 14, 22, 27, 9, 16, 20, 5, 4, 21, 15, 10, 26, 23, 2, 7, 18)\n",
      "28 : (1, 15, 10, 26, 23, 13, 3, 6, 19, 17, 8, 28, 21, 4, 12, 24, 25, 11, 5, 20, 16, 9, 27, 22, 14, 2, 7, 18)\n",
      "29 : (1, 24, 25, 11, 5, 4, 12, 13, 3, 6, 19, 17, 8, 28, 21, 15, 10, 26, 23, 2, 14, 22, 27, 9, 16, 20, 29, 7, 18)\n"
     ]
    }
   ],
   "source": [
    "for n in range(15,30):\n",
    "  try:\n",
    "    print(n, ':', next(backtrack(PerfectSquareSequence(n))))\n",
    "  except:\n",
    "    print(n, ': ()') # no solution found"
   ]
  },
  {
   "cell_type": "markdown",
   "metadata": {
    "id": "BgiqxeV2weCa"
   },
   "source": [
    "\n",
    "\n",
    "---\n",
    "\n"
   ]
  },
  {
   "cell_type": "markdown",
   "metadata": {
    "id": "7W9zSV43yIPy"
   },
   "source": [
    "<font size=\"+4\" color=\"blue;green\"><b>?</b></font> Given a list of matches of various sizes, we want to distribute them in a way that produces a square.\n",
    "\n",
    "For example, if the list of match sizes is `1,1,2,2,2`, one solution is as follows:\n",
    "\n",
    "<center><img src='https://raw.githubusercontent.com/jpneto/Prog.I/master/imgs/backtrack_square_match.png' width=200px></center>\n",
    "\n",
    "Implement a backtracking search that produces all possible solutions. Avoid returning solutions that are the same by rotating the square."
   ]
  },
  {
   "cell_type": "markdown",
   "metadata": {
    "id": "y0kPvj6L3tPD"
   },
   "source": [
    "The next code defines a representation for the state (`St` namedtuple). A state, herein, consists of the current distribution of the matches on the sides of the square (a tuple of four tuples) and another tuple with the matches yet to be distributed.\n",
    "\n",
    "It also provides an auxiliary function that adds a match to one of the sides of the square."
   ]
  },
  {
   "cell_type": "code",
   "execution_count": null,
   "metadata": {
    "id": "KfsyyB1s3tth"
   },
   "outputs": [],
   "source": [
    "from collections import namedtuple\n",
    "\n",
    "# square : a tuple of 4 tuples defining the size matches of each square side\n",
    "# matches: a tuple with the remaining matches to place\n",
    "St = namedtuple('St', 'square matches')\n",
    "\n",
    "def add_match(square, n, new_match):\n",
    "  \"\"\" helper function: adds a match to the n-th square's edge \"\"\"\n",
    "  new_square = tuple()\n",
    "  for i in range(4):\n",
    "    if i == n:\n",
    "      new_square += (square[i] + (new_match,),)\n",
    "    else:\n",
    "      new_square += (square[i],)\n",
    "  return new_square"
   ]
  },
  {
   "cell_type": "code",
   "execution_count": null,
   "metadata": {
    "id": "3IvMlFsj3UW6"
   },
   "outputs": [],
   "source": [
    "class SquareMatches(BacktrackProblem):\n",
    "  ..."
   ]
  },
  {
   "cell_type": "code",
   "execution_count": null,
   "metadata": {
    "colab": {
     "base_uri": "https://localhost:8080/"
    },
    "executionInfo": {
     "elapsed": 320,
     "status": "ok",
     "timestamp": 1683878025782,
     "user": {
      "displayName": "Joao Pedro Neto",
      "userId": "16588413076175252494"
     },
     "user_tz": -60
    },
    "id": "uQhyaxPm0Kg3",
    "outputId": "3f01599c-44b2-46a9-98a1-8d91af68b78e"
   },
   "outputs": [
    {
     "name": "stdout",
     "output_type": "stream",
     "text": [
      "(1, 1) (2,) (2,) (2,)\n"
     ]
    }
   ],
   "source": [
    "for sol in backtrack(SquareMatches([1,1,2,2,2])):\n",
    "  print(*sol.square)"
   ]
  },
  {
   "cell_type": "code",
   "execution_count": null,
   "metadata": {
    "colab": {
     "base_uri": "https://localhost:8080/"
    },
    "executionInfo": {
     "elapsed": 214,
     "status": "ok",
     "timestamp": 1698933028471,
     "user": {
      "displayName": "Joao Pedro Neto",
      "userId": "16588413076175252494"
     },
     "user_tz": 0
    },
    "id": "y25U1gCW30om",
    "outputId": "e79e4322-3138-4d68-9bbd-5c2e06ad3ab7"
   },
   "outputs": [
    {
     "name": "stdout",
     "output_type": "stream",
     "text": [
      "(2, 2, 2, 1) (3, 2, 2) (4, 1, 1, 1) (5, 1, 1)\n",
      "(2, 2, 2, 1) (3, 2, 1, 1) (4, 2, 1) (5, 1, 1)\n",
      "(2, 2, 2, 1) (3, 2, 1, 1) (4, 1, 1, 1) (5, 2)\n",
      "(2, 2, 2, 1) (3, 1, 1, 1, 1) (4, 2, 1) (5, 2)\n",
      "(2, 2, 1, 1, 1) (3, 2, 2) (4, 2, 1) (5, 1, 1)\n",
      "(2, 2, 1, 1, 1) (3, 2, 2) (4, 1, 1, 1) (5, 2)\n",
      "(2, 2, 1, 1, 1) (3, 2, 1, 1) (4, 2, 1) (5, 2)\n",
      "(2, 1, 1, 1, 1, 1) (3, 2, 2) (4, 2, 1) (5, 2)\n",
      "(2, 2, 1, 1, 1) (2, 2, 2, 1) (4, 3) (5, 1, 1)\n",
      "(2, 2, 1, 1, 1) (2, 2, 1, 1, 1) (4, 3) (5, 2)\n",
      "(2, 1, 1, 1, 1, 1) (2, 2, 2, 1) (4, 3) (5, 2)\n"
     ]
    }
   ],
   "source": [
    "for sol in backtrack(SquareMatches([1,4,5,1,2,2,3,2,2,2,1,1,1,1])):\n",
    "  print(*sol.square)"
   ]
  },
  {
   "cell_type": "markdown",
   "metadata": {
    "id": "_J8RdKHZM5SX"
   },
   "source": [
    "\n",
    "\n",
    "---\n",
    "\n"
   ]
  },
  {
   "cell_type": "markdown",
   "metadata": {
    "id": "VoqF-_JPTqJf"
   },
   "source": [
    "This is a puzzle from a children's math book.\n",
    "\n",
    "<center><img src='https://raw.githubusercontent.com/jpneto/Prog.I/master/imgs/math-grade.jpg' width=350px></center>\n",
    "\n",
    "The task is to find a solution using numbers from 1 to 9, without repetitions, such that the sums of the rows, columns, and diagonals match the given totals.\n",
    "\n",
    "<font size=\"+4\" color=\"blue;green\"><b>?</b></font> <font size=\"+4\" color=\"blue;green\"><b>?</b></font> Specify this problem in a `BacktrackProblem` object. Use the `backtrack` function to find a solution.\n",
    "\n",
    "<details>\n",
    "<summary><font color='green'>Hint</font></summary>\n",
    "The `reject` method is the most complicated. Each new number placed must satisfy the various constraints it participates in. For example, the 7th number must validate the first column, the positive diagonal, and the third row.\n",
    "</details>"
   ]
  },
  {
   "cell_type": "code",
   "execution_count": null,
   "metadata": {
    "id": "wYU8XQFSjHJM"
   },
   "outputs": [],
   "source": [
    "class Puzzle1to9(BacktrackProblem):\n",
    "  ..."
   ]
  },
  {
   "cell_type": "code",
   "execution_count": null,
   "metadata": {
    "colab": {
     "base_uri": "https://localhost:8080/"
    },
    "executionInfo": {
     "elapsed": 204,
     "status": "ok",
     "timestamp": 1698933251908,
     "user": {
      "displayName": "Joao Pedro Neto",
      "userId": "16588413076175252494"
     },
     "user_tz": 0
    },
    "id": "-kADNoyokGZq",
    "outputId": "8b523d01-9e30-4e22-dc40-60dc03b4376b"
   },
   "outputs": [
    {
     "name": "stdout",
     "output_type": "stream",
     "text": [
      "9 6 5\n",
      "4 3 7\n",
      "2 1 8\n"
     ]
    }
   ],
   "source": [
    "# totals, from the right upper corner to the left lower corner\n",
    "totais = [10,20,14,11,20,20,10,15]\n",
    "\n",
    "for solution in backtrack(Puzzle1to9(totais)):\n",
    "   print(*solution[ :3])\n",
    "   print(*solution[3:6])\n",
    "   print(*solution[6: ])"
   ]
  },
  {
   "cell_type": "markdown",
   "metadata": {
    "id": "YZgOH7_Pep7U"
   },
   "source": [
    "\n",
    "\n",
    "---\n",
    "\n"
   ]
  },
  {
   "cell_type": "markdown",
   "metadata": {
    "id": "Fc_3t3u4ep7P"
   },
   "source": [
    "A magic square is a $3 \\times 3$ grid with numbers from $1$ to $9$ where all rows, columns, and the two main diagonals sum to $15$.\n",
    "\n",
    "<font size=\"+4\" color=\"blue;green\"><b>?</b></font> Define function `magicSquares` that generates valid solutions for magic squares using backtracking."
   ]
  },
  {
   "cell_type": "code",
   "execution_count": null,
   "metadata": {
    "id": "0-nVk1LVep7Q"
   },
   "outputs": [],
   "source": [
    "def magicSquares():\n",
    "  ..."
   ]
  },
  {
   "cell_type": "code",
   "execution_count": null,
   "metadata": {
    "colab": {
     "base_uri": "https://localhost:8080/"
    },
    "executionInfo": {
     "elapsed": 235,
     "status": "ok",
     "timestamp": 1698933468507,
     "user": {
      "displayName": "Joao Pedro Neto",
      "userId": "16588413076175252494"
     },
     "user_tz": 0
    },
    "id": "ClyywjiykgU1",
    "outputId": "22510d30-ebfb-460e-d322-5c4a27000666"
   },
   "outputs": [
    {
     "name": "stdout",
     "output_type": "stream",
     "text": [
      "2 7 6\n",
      "9 5 1\n",
      "4 3 8\n",
      "-----\n",
      "2 9 4\n",
      "7 5 3\n",
      "6 1 8\n",
      "-----\n",
      "4 3 8\n",
      "9 5 1\n",
      "2 7 6\n",
      "-----\n",
      "4 9 2\n",
      "3 5 7\n",
      "8 1 6\n",
      "-----\n",
      "6 1 8\n",
      "7 5 3\n",
      "2 9 4\n",
      "-----\n",
      "6 7 2\n",
      "1 5 9\n",
      "8 3 4\n",
      "-----\n",
      "8 1 6\n",
      "3 5 7\n",
      "4 9 2\n",
      "-----\n",
      "8 3 4\n",
      "1 5 9\n",
      "6 7 2\n",
      "-----\n"
     ]
    }
   ],
   "source": [
    "for solution in magicSquares():\n",
    "   print(*solution[ :3])\n",
    "   print(*solution[3:6])\n",
    "   print(*solution[6: ])\n",
    "   print('-'*5)"
   ]
  },
  {
   "cell_type": "markdown",
   "metadata": {
    "id": "_7ispaOTTRUQ"
   },
   "source": [
    "\n",
    "\n",
    "---\n",
    "\n"
   ]
  },
  {
   "cell_type": "markdown",
   "metadata": {
    "id": "siN4YWt8VB51"
   },
   "source": [
    "<font size=\"+4\" color=\"blue;green\"><b>?</b></font> <font size=\"+4\" color=\"blue;green\"><b>?</b></font> Consider the problem of covering a rectangle of size $n \\times m$ with up to $k$ smaller rectangles (in an integer grid). Our goal is to enumerate the possible solutions.\n",
    "\n",
    "For example, for a $3 \\times 2$ rectangle with $k=3$, these are the solutions:\n",
    "\n",
    "<center><img src='https://raw.githubusercontent.com/jpneto/Prog.I/master/imgs/rectangle_cover.png' width=600px></center>\n",
    "\n",
    "Use backtracking to find all possible solutions.\n",
    "\n",
    "<details>\n",
    "<summary><font color='green'>Hint</font></summary>\n",
    "The representation of the state is crucial to facilitate implementation. Your state should contain at least three pieces of information: the value of $k$, a sequence of rectangles already used inside the main rectangle (each rectangle can be a tuple), and the area that still needs to be filled. The `next_moves` function should find the next square not yet occupied (consider the main rectangle as a grid of 1x1 squares) and try to use that square as the corner of all possible rectangles to make (considering only the remaining unoccupied area).\n",
    "</details>"
   ]
  },
  {
   "cell_type": "code",
   "execution_count": null,
   "metadata": {
    "id": "83RzdZ4-NV9L"
   },
   "outputs": [],
   "source": [
    "class Rectangles(BacktrackProblem):\n",
    "\n",
    "  def __init__(self, w, h, k):\n",
    "    self.w = w\n",
    "    self.h = h\n",
    "    self.k = k\n",
    "\n",
    "  def start(self):\n",
    "    ...\n",
    "\n",
    "  def reject(self, st):\n",
    "    ...\n",
    "\n",
    "  def accept(self, st):\n",
    "    ...\n",
    "\n",
    "  def next_moves(self, st):\n",
    "    ..."
   ]
  },
  {
   "cell_type": "code",
   "execution_count": null,
   "metadata": {
    "id": "het1gFl6NV9M"
   },
   "outputs": [],
   "source": [
    "assert len(list(backtrack(Rectangles(3,2, 3)))) == 13\n",
    "assert len(list(backtrack(Rectangles(4,3, 4)))) == 140\n",
    "assert len(list(backtrack(Rectangles(3,3, 5)))) == 163\n",
    "assert len(list(backtrack(Rectangles(4,3,10)))) == 3146"
   ]
  },
  {
   "cell_type": "markdown",
   "metadata": {
    "id": "UCiItYHbqsda"
   },
   "source": [
    "A suggested state representation for the problem could be as follows:"
   ]
  },
  {
   "cell_type": "code",
   "execution_count": null,
   "metadata": {
    "id": "yaZW8nWUuE6R"
   },
   "outputs": [],
   "source": [
    "from collections import namedtuple\n",
    "\n",
    "## Problem State\n",
    "# w, width\n",
    "# h, height\n",
    "# k, rectangles left to use\n",
    "# area, area left\n",
    "# rs, tuple of rectangles ordered by upper-left corner (x,y)\n",
    "#     each rectangle is defined by (corner_x,corner_y,width_x,height_y)\n",
    "St = namedtuple('St', 'w h k area rs')"
   ]
  },
  {
   "cell_type": "markdown",
   "metadata": {
    "id": "xmvpCq2FuKt6"
   },
   "source": [
    "If you use this state, execute the following function to visualize your results using `matplotlib`:"
   ]
  },
  {
   "cell_type": "code",
   "execution_count": null,
   "metadata": {
    "id": "1AMe0tIxsTI1"
   },
   "outputs": [],
   "source": [
    "import matplotlib.pyplot as plt\n",
    "from matplotlib.patches import Rectangle\n",
    "\n",
    "def showRects(rects, per_column=1):\n",
    "  width_rect, height_rect = rects[0].w+1.25, rects[0].h+1.25\n",
    "  height_grid = height_rect * (1+(len(rects)//per_column))\n",
    "\n",
    "  fig, ax = plt.subplots(figsize=(16,10))\n",
    "  plt.axis('off')                    # remove axis\n",
    "  plt.axis('equal')                  # axis on same scale\n",
    "  plt.ylim(height_grid, 0)           # invert y axis\n",
    "  ax.plot(width_rect*per_column, height_grid)\n",
    "  ax.get_xaxis().set_visible(False)  # remove axis numbers\n",
    "  ax.get_yaxis().set_visible(False)\n",
    "\n",
    "  rects.sort(key=lambda st: len(st.rs))\n",
    "  for i,rect in enumerate(rects):    # draw rectangles\n",
    "    for x,y,dx,dy in rect.rs:\n",
    "      ax.add_patch(Rectangle((x +  width_rect*(i %per_column),\n",
    "                              y + height_rect*(i//per_column)),\n",
    "                   dx, dy, fill=False))"
   ]
  },
  {
   "cell_type": "markdown",
   "metadata": {},
   "source": [
    "Here's the solution for a different problem instance:"
   ]
  },
  {
   "cell_type": "code",
   "execution_count": null,
   "metadata": {
    "colab": {
     "base_uri": "https://localhost:8080/",
     "height": 650
    },
    "executionInfo": {
     "elapsed": 3261,
     "status": "ok",
     "timestamp": 1683790657911,
     "user": {
      "displayName": "Joao Pedro Neto",
      "userId": "16588413076175252494"
     },
     "user_tz": -60
    },
    "id": "DUVQTDLTsaFz",
    "outputId": "fdca06c6-a137-4ef2-807c-8cc6b58d9559"
   },
   "outputs": [
    {
     "data": {
      "image/png": "[encoded data removed]",
      "text/plain": [
       "<Figure size 1600x1000 with 1 Axes>"
      ]
     },
     "metadata": {},
     "output_type": "display_data"
    }
   ],
   "source": [
    "rects = list(backtrack(Rectangles(4,3,5)))\n",
    "showRects(rects, per_column=25)"
   ]
  },
  {
   "cell_type": "markdown",
   "metadata": {
    "id": "SGw2yhaIxLcK"
   },
   "source": [
    "\n",
    "\n",
    "---\n",
    "\n"
   ]
  },
  {
   "cell_type": "markdown",
   "metadata": {
    "id": "F2GY_mFv8FoY"
   },
   "source": [
    "<font size=\"+4\" color=\"blue;green\"><b>?</b></font> Reimplement the matches problem by defining a suitable `TreeSearchProblem` class."
   ]
  },
  {
   "cell_type": "code",
   "execution_count": null,
   "metadata": {
    "id": "0wCnOAGc8RlW"
   },
   "outputs": [],
   "source": [
    "class TriangleMatches(TreeSearchProblem):\n",
    "  ..."
   ]
  },
  {
   "cell_type": "code",
   "execution_count": null,
   "metadata": {
    "colab": {
     "base_uri": "https://localhost:8080/"
    },
    "executionInfo": {
     "elapsed": 288,
     "status": "ok",
     "timestamp": 1709062671669,
     "user": {
      "displayName": "Joao Pedro Neto",
      "userId": "16588413076175252494"
     },
     "user_tz": 0
    },
    "id": "DRIr85wk8VzC",
    "outputId": "25f031c8-75a5-4e9b-d237-938da572e24c"
   },
   "outputs": [
    {
     "name": "stdout",
     "output_type": "stream",
     "text": [
      "(1, 1, 1) (1, 2, 2) (1, 3, 3) (1, 4, 4) (1, 5, 5) (1, 6, 6) (1, 7, 7) (1, 8, 8) (2, 2, 2) (2, 2, 3) (2, 3, 3) (2, 3, 4) (2, 4, 4) (2, 4, 5) (2, 5, 5) (2, 5, 6) (2, 6, 6) (2, 6, 7) (2, 7, 7) (2, 7, 8) (3, 3, 3) (3, 3, 4) (3, 3, 5) (3, 4, 4) (3, 4, 5) (3, 4, 6) (3, 5, 5) (3, 5, 6) (3, 5, 7) (3, 6, 6) (3, 6, 7) (3, 6, 8) (3, 7, 7) (4, 4, 4) (4, 4, 5) (4, 4, 6) (4, 4, 7) (4, 5, 5) (4, 5, 6) (4, 5, 7) (4, 5, 8) (4, 6, 6) (4, 6, 7) (5, 5, 5) (5, 5, 6) (5, 5, 7) (5, 6, 6) "
     ]
    }
   ],
   "source": [
    "for sol in bfs(TriangleMatches(17)):\n",
    "  print(sol[-1], end=' ')"
   ]
  },
  {
   "cell_type": "markdown",
   "metadata": {
    "id": "OlNOr0zV9CO_"
   },
   "source": [
    "\n",
    "\n",
    "---\n",
    "\n"
   ]
  },
  {
   "cell_type": "markdown",
   "metadata": {
    "id": "OWz1dEwqweCW"
   },
   "source": [
    "<font size=\"+4\" color=\"blue;green\"><b>?</b></font> Define class `GenerateParens`, a subclass of `TreeSearchProblem`, which, given a positive integer $n$, returns an object that can be used by a tree search to generate all well-formed combinations of $n$ pairs of parentheses.\n",
    "\n",
    "For example, for $n=3$, the valid combinations are `((()))`, `(()())`, `(())()`, `()()()`."
   ]
  },
  {
   "cell_type": "code",
   "execution_count": null,
   "metadata": {
    "id": "k4SzlLDxweCX"
   },
   "outputs": [],
   "source": [
    "class GenerateParens(TreeSearchProblem):\n",
    "  ..."
   ]
  },
  {
   "cell_type": "markdown",
   "metadata": {
    "id": "loocUkzGmvIj"
   },
   "source": [
    "\n",
    "\n",
    "---\n",
    "\n"
   ]
  },
  {
   "cell_type": "markdown",
   "metadata": {
    "id": "xIrUeSZluUu9"
   },
   "source": [
    "The following list encodes the roads that connect cities. The index `i` in the list identifies the roads that depart from that city. Each number in that list represents the index of the destination city."
   ]
  },
  {
   "cell_type": "code",
   "execution_count": null,
   "metadata": {
    "id": "BAQqQXfEsS-M"
   },
   "outputs": [],
   "source": [
    "roads = [[1,2,4], [3,4,1], [3], [4], []]"
   ]
  },
  {
   "cell_type": "markdown",
   "metadata": {
    "id": "CVoRa98_M-fw"
   },
   "source": [
    "In the previous example, the first city (index zero) has roads that connect to the second, third, and fifth (the last) city.\n",
    "\n",
    "We want to find all possible paths that, given a list of roads, connect the first city to the last city.\n",
    "\n",
    "<font size=\"+4\" color=\"blue;green\"><b>?</b></font> Specify this problem in a `TreeSearchProblem` object. Try to solve it using both BFS and DFS."
   ]
  },
  {
   "cell_type": "code",
   "execution_count": null,
   "metadata": {
    "id": "Y_zSjsCqM-f1"
   },
   "outputs": [],
   "source": [
    "class CityPaths(TreeSearchProblem):\n",
    "  ..."
   ]
  },
  {
   "cell_type": "code",
   "execution_count": null,
   "metadata": {
    "colab": {
     "base_uri": "https://localhost:8080/"
    },
    "executionInfo": {
     "elapsed": 254,
     "status": "ok",
     "timestamp": 1698934000319,
     "user": {
      "displayName": "Joao Pedro Neto",
      "userId": "16588413076175252494"
     },
     "user_tz": 0
    },
    "id": "TRfurFpRs8ov",
    "outputId": "7c0d1f3e-2587-455f-bbdb-1c60017df931"
   },
   "outputs": [
    {
     "name": "stdout",
     "output_type": "stream",
     "text": [
      "(0, 4) (0, 1, 4) (0, 1, 3, 4) (0, 2, 3, 4) \n",
      "(0, 4) (0, 2, 3, 4) (0, 1, 4) (0, 1, 3, 4) "
     ]
    }
   ],
   "source": [
    "for path in bfs(CityPaths(roads)):\n",
    "  print(path[-1], end=' ')\n",
    "print()\n",
    "for path in dfs(CityPaths(roads)):\n",
    "  print(path[-1], end=' ')"
   ]
  },
  {
   "cell_type": "markdown",
   "metadata": {
    "id": "0RCct3C5M-f8"
   },
   "source": [
    "\n",
    "\n",
    "---\n",
    "\n"
   ]
  },
  {
   "cell_type": "markdown",
   "metadata": {
    "id": "xPYwlN6g9AUQ"
   },
   "source": [
    "Given a string `s`, we wish to find all strings that can be made using at least one of the letters from `s`.\n",
    "\n",
    "For example, for the string `AAB`, the options are `'A', 'AA', 'AAB', 'AB', 'ABA', 'B', 'BA', 'BAA'`.\n",
    "\n",
    "<font size=\"+4\" color=\"blue;green\"><b>?</b></font> Specify this problem in a `TreeSearchProblem` object."
   ]
  },
  {
   "cell_type": "code",
   "execution_count": null,
   "metadata": {
    "id": "yKuKFAaj9AUQ"
   },
   "outputs": [],
   "source": [
    "class Words(TreeSearchProblem):\n",
    "  ..."
   ]
  },
  {
   "cell_type": "markdown",
   "metadata": {
    "id": "WgIeeXg_9AUT"
   },
   "source": [
    "\n",
    "\n",
    "---\n",
    "\n"
   ]
  },
  {
   "cell_type": "markdown",
   "metadata": {
    "id": "IevZQNI0XOWi"
   },
   "source": [
    "An expedition of three missionaries and three cannibals arrives at the river's edge. There is a boat to cross the river, but it can only carry two people. Provide a sequence of trips to get everyone to the opposite bank, with the restriction that the missionaries cannot be in the minority on either bank, i.e., 🙏 $\\not \\lt$ 🦴\n",
    "\n",
    "<font size=\"+4\" color=\"blue;green\"><b>?</b></font> <font size=\"+4\" color=\"blue;green\"><b>?</b></font> Implement a solution using backtracking.\n",
    "\n",
    "<details>\n",
    "<summary><font color='green'>Hint</font></summary>\n",
    "  The main work will be in the <code>next_moves</code> method, which must follow the rules described in the problem statement. Don't forget to include in your state which side of the river the boat is on.\n",
    "</details>"
   ]
  },
  {
   "cell_type": "code",
   "execution_count": null,
   "metadata": {
    "id": "t8ZyRqeAjbGp"
   },
   "outputs": [],
   "source": [
    "class Cannibals(BacktrackProblem):\n",
    "  ..."
   ]
  },
  {
   "cell_type": "code",
   "execution_count": null,
   "metadata": {
    "colab": {
     "base_uri": "https://localhost:8080/"
    },
    "executionInfo": {
     "elapsed": 268,
     "status": "ok",
     "timestamp": 1698934139408,
     "user": {
      "displayName": "Joao Pedro Neto",
      "userId": "16588413076175252494"
     },
     "user_tz": 0
    },
    "id": "fkuuZg8QrOpY",
    "outputId": "745e2dce-284e-4ca0-982c-0f667e9b1762"
   },
   "outputs": [
    {
     "name": "stdout",
     "output_type": "stream",
     "text": [
      "🙏🙏🙏🦴🦴🦴 ⛵🌊🌊 🌼🌼🌼🌼🌼🌼\n",
      "🙏🙏🌼🦴🦴🌼 🌊🌊⛵ 🙏🌼🌼🦴🌼🌼\n",
      "🙏🙏🙏🦴🦴🌼 ⛵🌊🌊 🌼🌼🌼🦴🌼🌼\n",
      "🙏🙏🙏🌼🌼🌼 🌊🌊⛵ 🌼🌼🌼🦴🦴🦴\n",
      "🙏🙏🙏🦴🌼🌼 ⛵🌊🌊 🌼🌼🌼🦴🦴🌼\n",
      "🙏🌼🌼🦴🌼🌼 🌊🌊⛵ 🙏🙏🌼🦴🦴🌼\n",
      "🙏🙏🌼🦴🦴🌼 ⛵🌊🌊 🙏🌼🌼🦴🌼🌼\n",
      "🌼🌼🌼🦴🦴🌼 🌊🌊⛵ 🙏🙏🙏🦴🌼🌼\n",
      "🌼🌼🌼🦴🦴🦴 ⛵🌊🌊 🙏🙏🙏🌼🌼🌼\n",
      "🌼🌼🌼🦴🌼🌼 🌊🌊⛵ 🙏🙏🙏🦴🦴🌼\n",
      "🙏🌼🌼🦴🌼🌼 ⛵🌊🌊 🙏🙏🌼🦴🦴🌼\n",
      "🌼🌼🌼🌼🌼🌼 🌊🌊⛵ 🙏🙏🙏🦴🦴🦴\n"
     ]
    }
   ],
   "source": [
    "# solution with a specific state (you might prefer another state)\n",
    "solution = next(backtrack(Cannibals(3, 3)))\n",
    "for m1,c1,boat,m2,c2 in solution:\n",
    "  boat = '⛵🌊🌊' if boat<0 else '🌊🌊⛵'\n",
    "  m1, m2 = m1*'🙏'+(3-m1)*'🌼', m2*'🙏'+(3-m2)*'🌼'\n",
    "  c1, c2 = c1*'🦴'+(3-c1)*'🌼', c2*'🦴'+(3-c2)*'🌼'\n",
    "  print(f'{m1}{c1} {boat} {m2}{c2}')"
   ]
  },
  {
   "cell_type": "markdown",
   "metadata": {
    "id": "6VZjlhOz8DL6"
   },
   "source": [
    "\n",
    "\n",
    "---\n",
    "\n"
   ]
  },
  {
   "cell_type": "markdown",
   "metadata": {
    "id": "l1J7eNzvxOAD"
   },
   "source": [
    "<font size=\"+4\" color=\"blue;green\"><b>?</b></font> <font size=\"+4\" color=\"blue;green\"><b>?</b></font> Adapt the code from class `Rectangles` to calculate the minimum number of squares needed to cover a given rectangle. Use either breadth-first or depth-first search (choose the most suitable search for the problem)."
   ]
  },
  {
   "cell_type": "code",
   "execution_count": null,
   "metadata": {
    "id": "JIc_J9asxo90"
   },
   "outputs": [],
   "source": [
    "class MinSquares(TreeSearchProblem):\n",
    "  def __init__(self, w, h):\n",
    "    self.w = w\n",
    "    self.h = h\n",
    "\n",
    "  def start(self):\n",
    "    ...\n",
    "\n",
    "  def is_goal(self, st):\n",
    "    ...\n",
    "\n",
    "  def next_moves(self, st):\n",
    "    ..."
   ]
  },
  {
   "cell_type": "code",
   "execution_count": null,
   "metadata": {
    "colab": {
     "base_uri": "https://localhost:8080/",
     "height": 505
    },
    "executionInfo": {
     "elapsed": 570,
     "status": "ok",
     "timestamp": 1698934252669,
     "user": {
      "displayName": "Joao Pedro Neto",
      "userId": "16588413076175252494"
     },
     "user_tz": 0
    },
    "id": "4tE8Ankbx_FS",
    "outputId": "a6572153-1228-459c-e090-e34795c211df"
   },
   "outputs": [
    {
     "data": {
      "image/png": "[encoded data removed]",
      "text/plain": [
       "<Figure size 1600x1000 with 1 Axes>"
      ]
     },
     "metadata": {},
     "output_type": "display_data"
    }
   ],
   "source": [
    "gen = bfs(MinSquares(13,11))\n",
    "sol = next(gen)[-1]\n",
    "showRects([sol])"
   ]
  },
  {
   "cell_type": "code",
   "execution_count": null,
   "metadata": {
    "colab": {
     "base_uri": "https://localhost:8080/",
     "height": 505
    },
    "executionInfo": {
     "elapsed": 2690,
     "status": "ok",
     "timestamp": 1698934262593,
     "user": {
      "displayName": "Joao Pedro Neto",
      "userId": "16588413076175252494"
     },
     "user_tz": 0
    },
    "id": "XELP8LC3yZIE",
    "outputId": "8318d613-08be-47fa-ac55-b221160e29e5"
   },
   "outputs": [
    {
     "data": {
      "image/png": "[encoded data removed]",
      "text/plain": [
       "<Figure size 1600x1000 with 1 Axes>"
      ]
     },
     "metadata": {},
     "output_type": "display_data"
    }
   ],
   "source": [
    "# retorna todas as soluções, usando cada vez mais quadrados\n",
    "sols = [sol[-1] for sol in bfs(MinSquares(5,4))]\n",
    "showRects(sols, per_column=16)"
   ]
  },
  {
   "cell_type": "markdown",
   "metadata": {
    "id": "lUFXjs_nFNwc"
   },
   "source": [
    "\n",
    "\n",
    "---\n",
    "\n"
   ]
  },
  {
   "cell_type": "markdown",
   "metadata": {
    "id": "0h-vlAmnn9wC"
   },
   "source": [
    "Let's consider a grid composed of zeros and ones. Zeros represent mines, and ones represent free houses."
   ]
  },
  {
   "cell_type": "code",
   "execution_count": null,
   "metadata": {
    "id": "xD5CFCLqi5Vk"
   },
   "outputs": [],
   "source": [
    "grid = [[0,0,1,0,0,0,1,1,1,1],\n",
    "        [0,0,1,0,0,0,1,0,0,0],\n",
    "        [1,1,1,1,1,1,1,0,0,0],\n",
    "        [1,1,1,1,0,0,0,0,0,0],\n",
    "        [1,1,1,1,0,0,0,1,1,1],\n",
    "        [0,0,0,1,0,0,0,1,1,1],\n",
    "        [0,0,0,1,1,1,1,1,0,0],\n",
    "        [0,0,0,1,0,0,0,1,0,0],\n",
    "        [1,1,1,1,0,0,0,1,0,0],\n",
    "        [1,1,1,1,0,0,0,1,1,1]]"
   ]
  },
  {
   "cell_type": "markdown",
   "metadata": {
    "id": "pR5gHOjzoSmq"
   },
   "source": [
    "We want to find the shortest path that takes us from the left column to the right column without passing over any mines."
   ]
  },
  {
   "cell_type": "markdown",
   "metadata": {
    "id": "CrzuP-nRIkR8"
   },
   "source": [
    "<font size=\"+4\" color=\"blue;green\"><b>?</b></font> <font size=\"+4\" color=\"blue;green\"><b>?</b></font> Define class `SensorPath`, a subclass of `TreeSearchProblem`, with the specification of this problem.\n",
    "\n",
    "To find the answer, should we use BFS or DFS?\n",
    "\n",
    "<details>\n",
    "<summary><font color='green'>Hint</font></summary>\n",
    "The state should contain the path traveled so far so that the `next_moves` function can reject moves that produce cycles.\n",
    "</details>"
   ]
  },
  {
   "cell_type": "code",
   "execution_count": null,
   "metadata": {
    "id": "mrmojnPLIkR8"
   },
   "outputs": [],
   "source": [
    "class SensorPath(TreeSearchProblem):\n",
    "  ..."
   ]
  },
  {
   "cell_type": "markdown",
   "metadata": {
    "id": "GO7KlnFLIkR-"
   },
   "source": [
    "\n",
    "\n",
    "---\n",
    "\n"
   ]
  },
  {
   "cell_type": "markdown",
   "metadata": {
    "id": "R_q5SFFVYbIp"
   },
   "source": [
    "Donald Knuth is one of the great names in Computer Science. His book _The Art of Computer Programming_ is considered one of the algorithmic bibles. This exercise is inspired by one of his conjectures, which claims that it is possible to express any positive integer starting from the number four using only the unary functions of square root, factorial, and floor.\n",
    "\n",
    "For example,\n",
    "\n",
    "$$\\biggl\\lfloor \\sqrt{\\sqrt{\\sqrt{\\sqrt{\\sqrt{(4!)!}}}}} \\biggr\\rfloor = 5$$\n",
    "\n",
    "This is an interesting problem as a search exercise because it is very easy to compute huge numbers, even for calculating small results. You can see more examples [here](https://oisinmoran.com/projects/root_floor_fact_four).\n",
    "\n",
    "Let's develop a simpler variant. We also start with 4, but the available operations always produce integers (and don't grow as much!):\n",
    "\n",
    "+ Integer square root (i.e., only returns the integer part of the square root)\n",
    "+ Division by two\n",
    "+ Summation from 1 up to the given value\n",
    "+ Squaring the number"
   ]
  },
  {
   "cell_type": "code",
   "execution_count": null,
   "metadata": {
    "id": "djVtlGfj0rVP"
   },
   "outputs": [],
   "source": [
    "ops = {'sqrt' : lambda x: int(x**0.5),\n",
    "       'half' : lambda x: x//2,\n",
    "       'sum'  : lambda x: x*(x+1)//2,\n",
    "       'sq'   : lambda x: x*x,\n",
    "      }"
   ]
  },
  {
   "cell_type": "markdown",
   "metadata": {
    "id": "vYtHZH8ox76Z"
   },
   "source": [
    "For example,\n",
    "\n",
    "$$ \\biggl(\\bigl(\\sum 4\\bigr)/2\\biggr)^2/2 = 12$$"
   ]
  },
  {
   "cell_type": "markdown",
   "metadata": {
    "id": "l2MspZZKlxiQ"
   },
   "source": [
    "<font size=\"+4\" color=\"blue;green\"><b>?</b></font> Define class `Knuth`, subclass of `TreeSearchProblem`, which specifies this problem.\n",
    "\n",
    "One of the search methods, either BFS or DFS, cannot be used. Why?"
   ]
  },
  {
   "cell_type": "code",
   "execution_count": null,
   "metadata": {
    "id": "m6nRIkJ60rVN"
   },
   "outputs": [],
   "source": [
    "class Knuth(TreeSearchProblem):\n",
    "  ..."
   ]
  },
  {
   "cell_type": "markdown",
   "metadata": {
    "id": "LC7xLnYKoDUY"
   },
   "source": [
    "\n",
    "\n",
    "---\n",
    "\n"
   ]
  },
  {
   "cell_type": "markdown",
   "metadata": {
    "id": "8bQaLh4Al5mI"
   },
   "source": [
    "We have access to a grid of non-zero integer values. These values indicate, for each position, an amount of gold that can be collected."
   ]
  },
  {
   "cell_type": "markdown",
   "metadata": {
    "id": "4_LlZXrRZQt1"
   },
   "source": [
    "We can start at any position and move north, south, east, and west as many times as we want, as long as we follow the following rules:\n",
    "\n",
    "+ When we are at a position, we collect all the gold at that position.\n",
    "\n",
    "+ A position cannot be visited more than once.\n",
    "\n",
    "+ Positions without gold cannot be visited.\n",
    "\n",
    "<font size=\"+4\" color=\"blue;green\"><b>?</b></font> <font size=\"+4\" color=\"blue;green\"><b>?</b></font> Define class `MineGold`, subclass of `TreeSearchProblem`, that specifies the problem. Objects of this class receive a grid and can generate all valid paths and the respective collected gold. Use this information to find the path that maximizes gold collection."
   ]
  },
  {
   "cell_type": "code",
   "execution_count": null,
   "metadata": {
    "id": "m-5ongWvgsQL"
   },
   "outputs": [],
   "source": [
    "# two grid examples\n",
    "\n",
    "grid =[[0,6,0],  # max gold: 24\n",
    "       [5,8,7],  # path: 7 -> 8 -> 9\n",
    "       [0,9,0]]\n",
    "\n",
    "grid = [[1, 0, 7],  # max gold: 37\n",
    "        [2, 0, 6],  # path: 7 -> 6 -> 8 -> 4 -> 12\n",
    "        [3, 4, 8],\n",
    "        [0,12, 0],\n",
    "        [9, 0,33]]"
   ]
  },
  {
   "cell_type": "code",
   "execution_count": null,
   "metadata": {
    "id": "oaBWb1zCweW5"
   },
   "outputs": [],
   "source": [
    "class MineGold(TreeSearchProblem):\n",
    "  ..."
   ]
  },
  {
   "cell_type": "markdown",
   "metadata": {
    "id": "bmu-OftfweW6"
   },
   "source": [
    "\n",
    "\n",
    "---\n",
    "\n"
   ]
  },
  {
   "cell_type": "markdown",
   "metadata": {
    "id": "9JfCWcrN_hb5"
   },
   "source": [
    "Consider the following Sudoku puzzle.\n",
    "\n",
    "<center><img src='https://raw.githubusercontent.com/jpneto/Prog.I/master/imgs/sudoku.jpg' width=400px></center>"
   ]
  },
  {
   "cell_type": "markdown",
   "metadata": {
    "id": "aC3Mt0ejZr7y"
   },
   "source": [
    "We will represent a puzzle as a tuple of tuples. For example:"
   ]
  },
  {
   "cell_type": "code",
   "execution_count": null,
   "metadata": {
    "id": "mv6wU9Bx_h25"
   },
   "outputs": [],
   "source": [
    "puzzle = ((5,3,0,  0,7,0,  0,0,0),   # zero means empty cell\n",
    "          (6,0,0,  1,9,5,  0,0,0),\n",
    "          (0,9,8,  0,0,0,  0,6,0),\n",
    "\n",
    "          (8,0,0,  0,6,0,  0,0,3),\n",
    "          (4,0,0,  8,0,3,  0,0,1),\n",
    "          (7,0,0,  0,2,0,  0,0,6),\n",
    "\n",
    "          (0,6,0,  0,0,0,  2,8,0),\n",
    "          (0,0,0,  4,1,9,  0,0,5),\n",
    "          (0,0,0,  0,8,0,  0,7,9))"
   ]
  },
  {
   "cell_type": "markdown",
   "metadata": {
    "id": "doMHjQdlQktV"
   },
   "source": [
    "<font size=\"+4\" color=\"blue;green\"><b>?</b></font> <font size=\"+4\" color=\"blue;green\"><b>?</b></font> Define class `SudokuSolver`, subclass of `TreeSearchProblem`, that specifies the problem.\n",
    "\n",
    "In this situation, would it make more sense to use BFS or DFS for the search?"
   ]
  },
  {
   "cell_type": "markdown",
   "metadata": {
    "id": "h2IpO1VLaBQr"
   },
   "source": [
    "To facilitate the implementation, predicate `is_valid` is available, which checks if a given partial state is valid according to Sudoku rules. We consider that a puzzle state is given as a tuple of tuples, as shown in the `puzzle` variable.\n",
    "\n",
    "<details>\n",
    "<summary><font color='green'>Hint</font></summary>\n",
    "It is suggested to implement two auxiliary functions: `update`, which allows you to insert a number into a square, and `find_next_zero`, which returns the position of the next zero to modify.\n",
    "</details>"
   ]
  },
  {
   "cell_type": "code",
   "execution_count": null,
   "metadata": {
    "id": "vO2Q1qlYQktW"
   },
   "outputs": [],
   "source": [
    "def invalid(row):\n",
    "  ns = [cell for cell in row if cell !=0]\n",
    "  return len(set(ns)) != len(ns)  # repeated numbers\n",
    "\n",
    "def is_valid(state):\n",
    "  for row in state:\n",
    "    if invalid(row):\n",
    "      return False\n",
    "  for col in zip(*state):\n",
    "    if invalid(col):\n",
    "      return False\n",
    "  for cx,cy in [(i,j) for i in [0,3,6] for j in [0,3,6]]:\n",
    "    if invalid(state[cx+dx][cy+dy] for dx in [0,1,2] for dy in [0,1,2]):\n",
    "      return False\n",
    "  return True"
   ]
  },
  {
   "cell_type": "code",
   "execution_count": null,
   "metadata": {
    "id": "bQQkMjnRQktW"
   },
   "outputs": [],
   "source": [
    "class SudokuSolver(TreeSearchProblem):\n",
    "  ..."
   ]
  },
  {
   "cell_type": "markdown",
   "metadata": {
    "id": "wztR-Js8QktX"
   },
   "source": [
    "\n",
    "\n",
    "---\n",
    "\n"
   ]
  },
  {
   "cell_type": "markdown",
   "metadata": {
    "id": "Xdn4JkSCas7h"
   },
   "source": [
    "_blocks world_ is an example of a _toy problem_: i.e., simple problems used to test new techniques and compare them with existing solutions.\n",
    "\n",
    "In this case, we are given a fixed set of stacks with some blocks arranged on them. The idea is to move blocks between columns in order to reach a given goal.\n",
    "\n",
    "<center><img src='https://raw.githubusercontent.com/jpneto/Prog.I/master/imgs/block_world.png' width=800px></center>\n",
    "\n",
    "The rules are:\n",
    "\n",
    "+ You can only move one block at a time.\n",
    "\n",
    "+ You can only move a block from the top of one stack to the top of another stack (which may be empty).\n",
    "\n",
    "+ You can only move a block onto another block of smaller value.\n",
    "\n",
    "In our case, the blocks will be represented by numbers. The goal is to place all the blocks in the first column."
   ]
  },
  {
   "cell_type": "markdown",
   "metadata": {
    "id": "CO06ZUSIBHN7"
   },
   "source": [
    "The state will be represented by a tuple of tuples. Each of the inner tuples describes the blocks it contains. For example:"
   ]
  },
  {
   "cell_type": "code",
   "execution_count": null,
   "metadata": {
    "id": "86HXdz5zgp06"
   },
   "outputs": [],
   "source": [
    "# eg: this initial state...\n",
    "### 6\n",
    "### 5\n",
    "### 1 2 4\n",
    "### 3\n",
    "# ...can be represented by this tuple:\n",
    "world = ((6,), (5,), (1,2,4), (3,))\n",
    "\n",
    "# The goal is to reach\n",
    "### 1 2 3 4 5 6\n",
    "###\n",
    "###\n",
    "###\n",
    "# represented by tuple ((1,2,3,4,5,6), (), (), ())"
   ]
  },
  {
   "cell_type": "markdown",
   "metadata": {
    "id": "hs3UKJ1Zgp05"
   },
   "source": [
    "<font size=\"+4\" color=\"blue;green\"><b>?</b></font> <font size=\"+4\" color=\"blue;green\"><b>?</b></font> Define class `BlocksWorld`, subclass of `HeuristicProblem`, that specifies the problem."
   ]
  },
  {
   "cell_type": "code",
   "execution_count": null,
   "metadata": {
    "id": "GOAuFwT4gp06"
   },
   "outputs": [],
   "source": [
    "class BlocksWorld(HeuristicProblem):\n",
    "  ..."
   ]
  },
  {
   "cell_type": "code",
   "execution_count": null,
   "metadata": {
    "id": "GSoSM20K00e1"
   },
   "outputs": [],
   "source": [
    "solution = a_star(BlocksWorld(world))\n",
    "for step in solution:\n",
    "  for line in step:\n",
    "    print('|', ' '.join([str(i) for i in line]))\n",
    "  print('========')"
   ]
  },
  {
   "cell_type": "markdown",
   "metadata": {
    "id": "qLV2Tw_Pgp09"
   },
   "source": [
    "\n",
    "\n",
    "---\n",
    "\n"
   ]
  },
  {
   "cell_type": "markdown",
   "metadata": {
    "id": "FuYkuV_VRvm7"
   },
   "source": [
    "The [15-puzzle](https://en.wikipedia.org/wiki/15_Puzzle) was a viral puzzle game in the mid-20th century, but it is still quite popular today. The game consists of a 4x4 grid with fifteen square tiles (numbered from 1 to 15) and one empty space through which adjacent tiles can be moved.\n",
    "\n",
    "Here, we will solve a smaller variant, the 8-puzzle:\n",
    "\n",
    "<center><img src='https://raw.githubusercontent.com/jpneto/Prog.I/master/imgs/8_puzzle.png' width=250px></center>\n",
    "\n",
    "Given any position, the goal is to place the tiles in ascending numerical order."
   ]
  },
  {
   "cell_type": "code",
   "execution_count": null,
   "metadata": {
    "id": "bsKbU5Q8Ju8h"
   },
   "outputs": [],
   "source": [
    "# 2 3 8\n",
    "# 1 6 4\n",
    "# 7 0 5\n",
    "initial = (2,3,8,  1,6,4,  7,0,5) # a position (0 is the empty space)"
   ]
  },
  {
   "cell_type": "markdown",
   "metadata": {
    "id": "WqSaTun30rHN"
   },
   "source": [
    "<font size=\"+4\" color=\"blue;green\"><b>?</b></font> <font size=\"+4\" color=\"blue;green\"><b>?</b></font> Define class `EightPuzzle`, a subclass of `HeuristicProblem`, specifying the problem.\n",
    "\n",
    "<details>\n",
    "<summary><font color='green'>Hint</font></summary>\n",
    "Consider as a heuristic the count of numbers that are not in the correct position.\n",
    "</details>\n",
    "\n",
    "Note: About half of the initial positions are unsolvable (there is a [parity argument](https://en.wikipedia.org/wiki/15_puzzle#Solvability) that justifies this statement). In one of these positions, the `a_star` function should not terminate in an error, but instead return `None`."
   ]
  },
  {
   "cell_type": "code",
   "execution_count": null,
   "metadata": {
    "id": "AjHV2Lso0rHP"
   },
   "outputs": [],
   "source": [
    "class EightPuzzle(HeuristicProblem):\n",
    "  def __init__(self, initial, goal=(1,2,3, 4,5,6, 7,8,0)):\n",
    "    self._initial = initial\n",
    "    self._goal = goal\n",
    "\n",
    "  ...\n",
    "\n",
    "  # auxiliary funtion: moves a tile from index i to index j\n",
    "  def move_tile(self, state, i, j):\n",
    "    new_state = tuple()\n",
    "    assert state[j] == 0\n",
    "    for k,x in enumerate(state):\n",
    "      if   k==i: new_state += (0,)\n",
    "      elif k==j: new_state += (state[i],)\n",
    "      else     : new_state += (state[k],)\n",
    "    return new_state"
   ]
  },
  {
   "cell_type": "code",
   "execution_count": null,
   "metadata": {
    "id": "WRXys_vdP8bc"
   },
   "outputs": [],
   "source": [
    "initial = (2,3,8,\n",
    "           1,6,4,\n",
    "           7,0,5)\n",
    "\n",
    "solution = a_star(EightPuzzle(initial))\n",
    "for step in solution:\n",
    "  print(f'{step[:3]}\\n{step[3:6]}\\n{step[6:]}\\n---------')"
   ]
  },
  {
   "cell_type": "markdown",
   "metadata": {
    "id": "JE1gS4GN0rHT"
   },
   "source": [
    "\n",
    "\n",
    "---\n",
    "\n"
   ]
  },
  {
   "cell_type": "markdown",
   "metadata": {
    "id": "02TAmBR-TRUM"
   },
   "source": [
    "In the _Lights Out_ puzzle, you have a grid of lights, some of which are on and others off. Each time you turn on a light, the adjacent lights in the horizontal and vertical directions toggle their state (lights that were on turn off, and vice versa). The goal is to turn on all the lights.\n",
    "\n",
    "<center><img src='https://raw.githubusercontent.com/jpneto/Prog.I/master/imgs/lights_on.png' width=600px></center>\n",
    "\n",
    "<font size=\"+4\" color=\"blue;green\"><b>?</b></font> <font size=\"+4\" color=\"blue;green\"><b>?</b></font> Define the `light_on` function that receives an initial game state and returns a `HeuristicProblem` object that can be used by the $A^*$ algorithm to find a solution to the problem.\n",
    "\n",
    "Note: Some initial positions do not have a solution. In these cases, the `a_star` function should not terminate in an error but return `None`."
   ]
  },
  {
   "cell_type": "code",
   "execution_count": null,
   "metadata": {
    "id": "7i6fXyoSTRUO"
   },
   "outputs": [],
   "source": [
    "class LightOn(HeuristicProblem):\n",
    "  def __init__(self, initial):\n",
    "    self._initial = initial\n",
    "    self._n_rows = len(initial)\n",
    "    self._n_cols = len(initial[0])\n",
    "\n",
    "  ...\n",
    "\n",
    "  # auxiliary function: returns adjacent cells (incl. itself)\n",
    "  def neighbors(self, s, i, j):\n",
    "    cells = [(i,j)]\n",
    "    for dx, dy in [(+1,0), (-1,0), (0,+1), (0,-1)]:\n",
    "      nx, ny = i+dx, j+dy                       # new position\n",
    "      if 0 <= nx < self._n_rows and 0 <= ny < self._n_cols: # if new position is within bounds\n",
    "        cells.append((nx,ny))\n",
    "    return cells\n",
    "\n",
    "  # auxiliary function: flips light (i,j) and its neighbors\n",
    "  def flip(self, s, i, j):\n",
    "    s2, neighbor_cells = tuple(), self.neighbors(s, i, j)\n",
    "    for i in range(self._n_rows):\n",
    "      row = tuple()\n",
    "      for j in range(self._n_cols):\n",
    "        if (i,j) in neighbor_cells:\n",
    "          row += (1-s[i][j],) # flip 0 and 1\n",
    "        else:\n",
    "          row += (s[i][j],)   # not adjacent, so keeps the old value\n",
    "      s2 += (row,)\n",
    "    return s2"
   ]
  },
  {
   "cell_type": "code",
   "execution_count": null,
   "metadata": {
    "id": "Nc3u6QYyVnAv"
   },
   "outputs": [],
   "source": [
    "initial = ((1,1,0),\n",
    "           (0,1,0),\n",
    "           (1,0,1))\n",
    "\n",
    "solution = a_star(LightOn(initial))\n",
    "for step in solution:\n",
    "  print(f'{step[0]}\\n{step[1]}\\n{step[2]}\\n---------')"
   ]
  }
 ],
 "metadata": {
  "colab": {
   "authorship_tag": "ABX9TyO3i0t9LsroUIuy1KPfNfVN",
   "provenance": [],
   "toc_visible": true
  },
  "kernelspec": {
   "display_name": ".venv",
   "language": "python",
   "name": "python3"
  },
  "language_info": {
   "codemirror_mode": {
    "name": "ipython",
    "version": 3
   },
   "file_extension": ".py",
   "mimetype": "text/x-python",
   "name": "python",
   "nbconvert_exporter": "python",
   "pygments_lexer": "ipython3",
   "version": "3.13.1"
  },
  "widgets": {
   "application/vnd.jupyter.widget-state+json": {
    "08728e37a785485e8a2d5e0855efcd39": {
     "model_module": "@jupyter-widgets/base",
     "model_module_version": "1.2.0",
     "model_name": "LayoutModel",
     "state": {
      "_model_module": "@jupyter-widgets/base",
      "_model_module_version": "1.2.0",
      "_model_name": "LayoutModel",
      "_view_count": null,
      "_view_module": "@jupyter-widgets/base",
      "_view_module_version": "1.2.0",
      "_view_name": "LayoutView",
      "align_content": null,
      "align_items": null,
      "align_self": null,
      "border": null,
      "bottom": null,
      "display": null,
      "flex": null,
      "flex_flow": null,
      "grid_area": null,
      "grid_auto_columns": null,
      "grid_auto_flow": null,
      "grid_auto_rows": null,
      "grid_column": null,
      "grid_gap": null,
      "grid_row": null,
      "grid_template_areas": null,
      "grid_template_columns": null,
      "grid_template_rows": null,
      "height": null,
      "justify_content": null,
      "justify_items": null,
      "left": null,
      "margin": null,
      "max_height": null,
      "max_width": null,
      "min_height": null,
      "min_width": null,
      "object_fit": null,
      "object_position": null,
      "order": null,
      "overflow": null,
      "overflow_x": null,
      "overflow_y": null,
      "padding": null,
      "right": null,
      "top": null,
      "visibility": null,
      "width": null
     }
    },
    "448cfe917599454282106bf8c3e1b745": {
     "model_module": "@jupyter-widgets/base",
     "model_module_version": "1.2.0",
     "model_name": "LayoutModel",
     "state": {
      "_model_module": "@jupyter-widgets/base",
      "_model_module_version": "1.2.0",
      "_model_name": "LayoutModel",
      "_view_count": null,
      "_view_module": "@jupyter-widgets/base",
      "_view_module_version": "1.2.0",
      "_view_name": "LayoutView",
      "align_content": null,
      "align_items": null,
      "align_self": null,
      "border": null,
      "bottom": null,
      "display": null,
      "flex": null,
      "flex_flow": null,
      "grid_area": null,
      "grid_auto_columns": null,
      "grid_auto_flow": null,
      "grid_auto_rows": null,
      "grid_column": null,
      "grid_gap": null,
      "grid_row": null,
      "grid_template_areas": null,
      "grid_template_columns": null,
      "grid_template_rows": null,
      "height": null,
      "justify_content": null,
      "justify_items": null,
      "left": null,
      "margin": null,
      "max_height": null,
      "max_width": null,
      "min_height": null,
      "min_width": null,
      "object_fit": null,
      "object_position": null,
      "order": null,
      "overflow": null,
      "overflow_x": null,
      "overflow_y": null,
      "padding": null,
      "right": null,
      "top": null,
      "visibility": null,
      "width": null
     }
    },
    "6b6c344c3f4a49c68ac3eb0ad665c6a4": {
     "model_module": "@jupyter-widgets/base",
     "model_module_version": "1.2.0",
     "model_name": "LayoutModel",
     "state": {
      "_model_module": "@jupyter-widgets/base",
      "_model_module_version": "1.2.0",
      "_model_name": "LayoutModel",
      "_view_count": null,
      "_view_module": "@jupyter-widgets/base",
      "_view_module_version": "1.2.0",
      "_view_name": "LayoutView",
      "align_content": null,
      "align_items": null,
      "align_self": null,
      "border": null,
      "bottom": null,
      "display": null,
      "flex": null,
      "flex_flow": null,
      "grid_area": null,
      "grid_auto_columns": null,
      "grid_auto_flow": null,
      "grid_auto_rows": null,
      "grid_column": null,
      "grid_gap": null,
      "grid_row": null,
      "grid_template_areas": null,
      "grid_template_columns": null,
      "grid_template_rows": null,
      "height": null,
      "justify_content": null,
      "justify_items": null,
      "left": null,
      "margin": null,
      "max_height": null,
      "max_width": null,
      "min_height": null,
      "min_width": null,
      "object_fit": null,
      "object_position": null,
      "order": null,
      "overflow": null,
      "overflow_x": null,
      "overflow_y": null,
      "padding": null,
      "right": null,
      "top": null,
      "visibility": null,
      "width": null
     }
    },
    "97828d90435849659875ed05ec7d7a8a": {
     "model_module": "@jupyter-widgets/output",
     "model_module_version": "1.0.0",
     "model_name": "OutputModel",
     "state": {
      "_dom_classes": [],
      "_model_module": "@jupyter-widgets/output",
      "_model_module_version": "1.0.0",
      "_model_name": "OutputModel",
      "_view_count": null,
      "_view_module": "@jupyter-widgets/output",
      "_view_module_version": "1.0.0",
      "_view_name": "OutputView",
      "layout": "IPY_MODEL_08728e37a785485e8a2d5e0855efcd39",
      "msg_id": "",
      "outputs": [
       {
        "data": {
         "image/png": "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\n",
         "text/plain": "<Figure size 700x300 with 1 Axes>"
        },
        "metadata": {},
        "output_type": "display_data"
       }
      ]
     }
    },
    "b0d9dda6b0354843b44db8097eddea7f": {
     "model_module": "@jupyter-widgets/controls",
     "model_module_version": "1.5.0",
     "model_name": "VBoxModel",
     "state": {
      "_dom_classes": [
       "widget-interact"
      ],
      "_model_module": "@jupyter-widgets/controls",
      "_model_module_version": "1.5.0",
      "_model_name": "VBoxModel",
      "_view_count": null,
      "_view_module": "@jupyter-widgets/controls",
      "_view_module_version": "1.5.0",
      "_view_name": "VBoxView",
      "box_style": "",
      "children": [
       "IPY_MODEL_bd95bbf552f74ae1b4e0074645ace1dd",
       "IPY_MODEL_97828d90435849659875ed05ec7d7a8a"
      ],
      "layout": "IPY_MODEL_448cfe917599454282106bf8c3e1b745"
     }
    },
    "bd95bbf552f74ae1b4e0074645ace1dd": {
     "model_module": "@jupyter-widgets/controls",
     "model_module_version": "1.5.0",
     "model_name": "IntSliderModel",
     "state": {
      "_dom_classes": [],
      "_model_module": "@jupyter-widgets/controls",
      "_model_module_version": "1.5.0",
      "_model_name": "IntSliderModel",
      "_view_count": null,
      "_view_module": "@jupyter-widgets/controls",
      "_view_module_version": "1.5.0",
      "_view_name": "IntSliderView",
      "continuous_update": false,
      "description": "passo",
      "description_tooltip": null,
      "disabled": false,
      "layout": "IPY_MODEL_6b6c344c3f4a49c68ac3eb0ad665c6a4",
      "max": 140,
      "min": 1,
      "orientation": "horizontal",
      "readout": true,
      "readout_format": "d",
      "step": 1,
      "style": "IPY_MODEL_dc4839b93b55488f89ce79bbfdf34d37",
      "value": 99
     }
    },
    "dc4839b93b55488f89ce79bbfdf34d37": {
     "model_module": "@jupyter-widgets/controls",
     "model_module_version": "1.5.0",
     "model_name": "SliderStyleModel",
     "state": {
      "_model_module": "@jupyter-widgets/controls",
      "_model_module_version": "1.5.0",
      "_model_name": "SliderStyleModel",
      "_view_count": null,
      "_view_module": "@jupyter-widgets/base",
      "_view_module_version": "1.2.0",
      "_view_name": "StyleView",
      "description_width": "",
      "handle_color": null
     }
    }
   }
  }
 },
 "nbformat": 4,
 "nbformat_minor": 4
}
