{
 "cells": [
  {
   "cell_type": "markdown",
   "metadata": {
    "jp-MarkdownHeadingCollapsed": true
   },
   "source": [
    "### `setup`"
   ]
  },
  {
   "cell_type": "code",
   "execution_count": 1,
   "metadata": {
    "cellView": "form",
    "colab": {
     "base_uri": "https://localhost:8080/"
    },
    "executionInfo": {
     "elapsed": 271,
     "status": "ok",
     "timestamp": 1710257248706,
     "user": {
      "displayName": "Joao Pedro Neto",
      "userId": "16588413076175252494"
     },
     "user_tz": 0
    },
    "id": "Tj2zoPE1vjbA",
    "outputId": "fb29c465-fd09-4023-fe5c-5c5917ebc589"
   },
   "outputs": [],
   "source": [
    "import matplotlib.pyplot as plt\n",
    "import pygraphviz\n",
    "import networkx as nx\n",
    "from IPython.display import Image\n",
    "\n",
    "def makeGraph(nodes=None, edges=None, digraph=False):\n",
    "  if digraph: g = nx.DiGraph()\n",
    "  else:       g = nx.Graph()\n",
    "  if nodes:   g.add_nodes_from(nodes)\n",
    "  if edges:   g.add_edges_from(edges)\n",
    "  return g\n",
    "\n",
    "\n",
    "def showGraph(g, name='temp', graphviz=True, prog='dot', weights=False):\n",
    "  \"\"\" g        : networkx graph object\n",
    "      name     : defines dot/png temporary filenames\n",
    "      graphviz : if False uses networkx display, otherwise uses Graphviz's\n",
    "      prog     : defines Graphviz's layout engine (egs: dot, neato)\n",
    "      weights  : if True add weights to graph display\n",
    "  \"\"\"\n",
    "  if graphviz:\n",
    "    for node in g.nodes():\n",
    "      g.nodes[node]['width'] = 0.5\n",
    "    if weights:\n",
    "      # for graphviz, nodes/edges with a label attr will be printed\n",
    "      for edge in g.edges():\n",
    "        g.edges[edge]['label'] = g.edges[edge]['weight']\n",
    "    A = nx.nx_agraph.to_agraph(g)\n",
    "    A.draw(f'{name}.png', prog=prog, args='-Gnodesep=0.2 -Granksep=0.25') # write graph as a png file\n",
    "    A.write(f'{name}.dot')           # write graph in DOT notation\n",
    "    display(Image(f'{name}.png'))    # display image\n",
    "  else:\n",
    "    options = { # https://networkx.org/documentation/latest/auto_examples/basic/plot_simple_graph.html\n",
    "        \"font_size\": 12,\n",
    "        \"node_size\": 1000,\n",
    "        \"node_color\": \"white\",\n",
    "        \"edgecolors\": \"black\",\n",
    "        \"linewidths\": 1,\n",
    "        \"width\": 1,\n",
    "        \"with_labels\": True,\n",
    "    }\n",
    "    pos = nx.nx_pydot.graphviz_layout(g, prog=prog)  # get node positions to place labels\n",
    "    nx.draw_networkx(g, pos, **options)\n",
    "    # format color for nodes\n",
    "    colors = [g.nodes[n].get('color', 'white') for n in g.nodes]\n",
    "    nx.draw_networkx_nodes(g, pos, node_color=colors)\n",
    "    # format color and width for edges\n",
    "    colors = [g.edges[a,b].get('color', 'black') for a,b in g.edges]\n",
    "    widths = [g.edges[a,b].get('width', 1)       for a,b in g.edges]\n",
    "    labels = [g.edges[a,b].get('label', '')      for a,b in g.edges]\n",
    "    nx.draw_networkx_edges(g, pos, edge_color=colors, width=widths, label=labels)\n",
    "    # draw weights\n",
    "    if weights:\n",
    "      labels = nx.get_edge_attributes(g, 'weight')\n",
    "      nx.draw_networkx_edge_labels(g, pos, edge_labels=labels)\n",
    "    ax = plt.gca()\n",
    "    ax.margins(0.20)\n",
    "    plt.axis(\"off\")\n",
    "    plt.show()    "
   ]
  },
  {
   "cell_type": "markdown",
   "metadata": {
    "id": "7OO26zHDnf_4"
   },
   "source": [
    "\n",
    "\n",
    "---\n",
    "\n"
   ]
  },
  {
   "cell_type": "markdown",
   "metadata": {
    "id": "qCTMlDqgvkVb"
   },
   "source": [
    "# Chapter - Graphs\n",
    "\n",
    "João Pedro Neto, DI/FCUL"
   ]
  },
  {
   "cell_type": "markdown",
   "metadata": {
    "id": "W1eEqaupv0XY"
   },
   "source": [
    "## Introduction"
   ]
  },
  {
   "cell_type": "markdown",
   "metadata": {
    "id": "g5IRWsd8v3O5"
   },
   "source": [
    "The tree type is a way to generalize the list type, a data structure that has more than one successor for each stored element. This generalization is reflected in a more complex representation of a tree in memory, compared to the simplicity of representing a list. But this cost comes with an important advantage: we can use trees to solve a greater number of problems and, in certain cases, even improve the complexity of solutions to certain problems.\n",
    "\n",
    "In this chapter, we take a new step in this generalization: each stored element can have multiple successors (like a tree) but also multiple predecessors (including themselves!). Structures with this organization we will refer to as **graphs**. And as you would expect, we will be able to solve many new problems with this type of data."
   ]
  },
  {
   "cell_type": "markdown",
   "metadata": {
    "id": "oQRzCxWL4NjA"
   },
   "source": [
    "<center><img src='https://raw.githubusercontent.com/jpneto/Prog.I/master/imgs/ex_graph.png' width=700px></center>"
   ]
  },
  {
   "cell_type": "markdown",
   "metadata": {
    "id": "CgWSqkIs5H9g"
   },
   "source": [
    "A graph is a way to represent relationships between pairs of objects. This idea has applications in multiple domains. The relationship between:\n",
    "\n",
    "+ two cities describes (for example) the existence of a road that connects them\n",
    "+ two people represents a degree of friendship\n",
    "+ two tasks signifies a precedence constraint\n",
    "+ two airports indicates a direct connection\n",
    "+ two functions in a Python program suggests that one calls the other\n",
    "\n",
    "and so on...\n",
    "\n",
    "Another perspective is to view a graph as the representation of different states of a problem and how these states can evolve into subsequent states. For example, the behavior of a traffic light can be modeled by a graph that has three states (green, yellow, and red) and describes how these states change over time (from green to yellow, from yellow to red, from red to green)."
   ]
  },
  {
   "cell_type": "markdown",
   "metadata": {
    "id": "Ejowzp73EW-I"
   },
   "source": [
    "Here is some terminology related to graphs:\n",
    "\n",
    "- In graphs, we refer to the elements stored in the graph as **nodes** or **vertices**.\n",
    "\n",
    "- The connections between nodes are called **edges**.\n",
    "\n",
    "- A **graph** is composed of a finite set of nodes and a finite set of edges, where each edge connects a pair of nodes in the graph. By the definition of a set, in a graph there cannot be two identical edges.\n",
    "\n",
    "- Two nodes separated by an edge are called **adjacent** or **neighbors**.\n",
    "\n",
    "- The **degree** of a node is the number of its neighbors."
   ]
  },
  {
   "cell_type": "markdown",
   "metadata": {},
   "source": [
    "- A **path** is a sequence of nodes $N_1, N_2, \\ldots, N_p$ where each pair $(N_i, N_{i+1})$ is an edge.\n",
    "\n",
    "- A **cycle** is a path that starts and ends at the same node (with no repeating intermediate nodes).\n",
    "\n",
    "- A graph is **acyclic** if it does not contain cycles.\n",
    "\n",
    "- A **component** is a set of nodes that are adjacent to each other without any additional nodes connected to them.\n",
    "\n",
    "- A graph is **connected** if it has only one component or **disconnected** if it has multiple components.\n",
    "\n",
    "- If the direction of edges is relevant, it is called a **directed graph** or **oriented graph**."
   ]
  },
  {
   "cell_type": "markdown",
   "metadata": {
    "id": "e8mQ0Z27EnWc"
   },
   "source": [
    "For directed graphs, the following terminology and concepts apply:\n",
    "\n",
    "- A node $N$ is a **successor** of node $M$ if and only if the edge $(M, N)$ belongs to the graph. It is also said that $M$ is a **predecessor** of $N$.\n",
    "\n",
    "- A node $N$ is **accessible** from another node $M$ if and only if there is a path from $M$ to $N$.\n",
    "\n",
    "- The **descendants** of node $M$ are the set of nodes that are accessible from $M$.\n",
    "\n",
    "- The **ancestors** of node $M$ are the set of nodes from which you can access $M$.\n",
    "\n",
    "- A **weakly connected component** is a set of connected nodes without considering the directions of the edges, while a **strongly connected component** is a set of nodes that are mutually connected considering the directions of the edges."
   ]
  },
  {
   "cell_type": "markdown",
   "metadata": {},
   "source": [
    "For example, in the following directed graph, nodes $2$ and $4$ are successors of $3$. The descendants of $4$ are nodes $2$ and $3$, and node $1$ is not accessible from $4$. Nodes $3$ and $4$ belong to the same strongly connected component.\n",
    "\n",
    "<center><img src='https://raw.githubusercontent.com/jpneto/Prog.I/master/imgs/ex_graph2.png' width=250px></center>"
   ]
  },
  {
   "cell_type": "markdown",
   "metadata": {
    "id": "IKH7lJ-1Qea0"
   },
   "source": [
    "A tree is a particular case of a graph. A graph in the form of a tree:\n",
    "\n",
    "- is a connected and acyclic graph.\n",
    "- if it has $n$ nodes, it will necessarily have $n-1$ edges.\n",
    "- the removal of any edge makes the graph disconnected.\n",
    "- adding a new edge makes the graph cyclic.\n",
    "- there is only one possible path that connects any two nodes."
   ]
  },
  {
   "cell_type": "markdown",
   "metadata": {
    "id": "brGdbSUm7dvo"
   },
   "source": [
    "## Implementing and Visualizing Graphs"
   ]
  },
  {
   "cell_type": "markdown",
   "metadata": {
    "id": "xNVoEUTdyemm"
   },
   "source": [
    "There are two common ways to represent a graph in memory:\n",
    "\n",
    "- Using an **adjacency list**, where, for each node with index `i`, a list is stored containing the indices of its neighboring nodes.\n",
    "\n",
    "For example, if we want to represent the graph from the image above, the list would be:"
   ]
  },
  {
   "cell_type": "code",
   "execution_count": 2,
   "metadata": {
    "id": "6OWm5nO_y5et"
   },
   "outputs": [],
   "source": [
    "g = [[1,2], [], [1,3], [2]] # index zero represents node 1, etc."
   ]
  },
  {
   "cell_type": "markdown",
   "metadata": {
    "id": "Fnt0_l_TzPLs"
   },
   "source": [
    "+ Using an **adjacency matrix**, where each position `i, j` has the value $1$ if there is an edge between the node with index `i` and the node with index `j`, or the value $0$ if there is no such edge.\n",
    "\n",
    "<center><img src='https://raw.githubusercontent.com/jpneto/Prog.I/master/imgs/ex_graph2.png' width=150px></center>\n",
    "\n",
    "Using the same graph:"
   ]
  },
  {
   "cell_type": "code",
   "execution_count": 3,
   "metadata": {
    "id": "W5Y80CIvzhew"
   },
   "outputs": [],
   "source": [
    "g = [[0,1,1,0],  # row i, column j is 1 iff (i,j) ∈ graph\n",
    "     [0,0,0,0],\n",
    "     [0,1,0,1],\n",
    "     [0,0,1,0]]"
   ]
  },
  {
   "cell_type": "markdown",
   "metadata": {
    "id": "ZACYZ7IDz90Y"
   },
   "source": [
    "The adjacency matrix has the advantage of simplicity in dealing with its data structure, but it incurs excessive memory costs, especially in the case of graphs with few edges relative to its number of nodes."
   ]
  },
  {
   "cell_type": "markdown",
   "metadata": {
    "id": "yoRqlUf176mi"
   },
   "source": [
    "However, we will not develop a Graph ADT (Abstract Data Type) here, nor its specification or the associated API. This means we won't be concerned with the problem of representing a graph in memory or implementing the public service that the API would require.\n",
    "\n",
    "Our focus will be on discussing traditional graph algorithms and how they are useful in problem-solving. The examples presented will show that it is possible to use graphs to model very different types of problems.\n",
    "\n",
    "In this context, we have chosen to use a graph module available in the Python ecosystem, the `networkx` [module](https://networkx.org/)."
   ]
  },
  {
   "cell_type": "code",
   "execution_count": 4,
   "metadata": {
    "id": "0XkAVwaA8abr"
   },
   "outputs": [],
   "source": [
    "import networkx as nx"
   ]
  },
  {
   "cell_type": "markdown",
   "metadata": {
    "id": "XFSUJNQV8bmT"
   },
   "source": [
    "Two functions have also been defined (cf. setup) to facilitate the task of creating and visualizing graphs: `makeGraph` and `showGraph`.\n",
    "\n",
    "- The `makeGraph` function can take a sequence of node names and/or a sequence of edge pairs as input. Additionally, there is a parameter called `digraph` that indicates whether the graph to be created is directed or not.\n",
    "\n",
    "- The `showGraph` function displays the structure of the graph and has various visualization parameters (which can be found in the function's definition)."
   ]
  },
  {
   "cell_type": "markdown",
   "metadata": {
    "id": "MEQreSIZ_Rnb"
   },
   "source": [
    "A use case with a list of edges:"
   ]
  },
  {
   "cell_type": "code",
   "execution_count": 5,
   "metadata": {
    "colab": {
     "base_uri": "https://localhost:8080/",
     "height": 292
    },
    "executionInfo": {
     "elapsed": 471,
     "status": "ok",
     "timestamp": 1710254833224,
     "user": {
      "displayName": "Joao Pedro Neto",
      "userId": "16588413076175252494"
     },
     "user_tz": 0
    },
    "id": "Izydc06XGyJ5",
    "outputId": "7e3ff0b5-d678-485b-af97-824911bc0371",
    "scrolled": true
   },
   "outputs": [
    {
     "data": {
      "image/png": "[encoded data removed]",
      "text/plain": [
       "<IPython.core.display.Image object>"
      ]
     },
     "metadata": {},
     "output_type": "display_data"
    }
   ],
   "source": [
    "g = makeGraph(edges=[(1,2),(4,2),(2,3),(1,3),(1,4),(1,5),(5,6),(6,5)], digraph=True)\n",
    "showGraph(g)"
   ]
  },
  {
   "cell_type": "markdown",
   "metadata": {
    "id": "ZJBd5trw_dm7"
   },
   "source": [
    "It is also possible to add other visual elements, as shown in the following example:"
   ]
  },
  {
   "cell_type": "code",
   "execution_count": 11,
   "metadata": {
    "colab": {
     "base_uri": "https://localhost:8080/",
     "height": 314
    },
    "executionInfo": {
     "elapsed": 322,
     "status": "ok",
     "timestamp": 1698756443219,
     "user": {
      "displayName": "Joao Pedro Neto",
      "userId": "16588413076175252494"
     },
     "user_tz": 0
    },
    "id": "dwrH2cTCHBpL",
    "outputId": "73f56b44-79d4-45ad-861f-6f9fa21fc435",
    "scrolled": true
   },
   "outputs": [
    {
     "data": {
      "image/png": "[encoded data removed]",
      "text/plain": [
       "<IPython.core.display.Image object>"
      ]
     },
     "metadata": {},
     "output_type": "display_data"
    }
   ],
   "source": [
    "g.nodes[4]['color']    = 'green' # add color to node\n",
    "g.edges[1, 2]['color'] = 'blue'  # add color to edge\n",
    "g.edges[4, 2]['label'] = ' x'    # associate a label to an edge\n",
    "showGraph(g)"
   ]
  },
  {
   "cell_type": "markdown",
   "metadata": {
    "id": "5XC8slI-ATw0"
   },
   "source": [
    "## Basic Graph Operations"
   ]
  },
  {
   "cell_type": "markdown",
   "metadata": {
    "id": "RpMsfbYOmiVs"
   },
   "source": [
    "The following sections show several functions to retrieve information about a graph and its nodes."
   ]
  },
  {
   "cell_type": "markdown",
   "metadata": {
    "id": "AgcB6s2XDcVZ"
   },
   "source": [
    "### Directed Graphs"
   ]
  },
  {
   "cell_type": "markdown",
   "metadata": {
    "id": "Sx-wVtpuAT9B"
   },
   "source": [
    "Using the previous graph as an example, let's observe the results of the operations that are available to us:"
   ]
  },
  {
   "cell_type": "code",
   "execution_count": 12,
   "metadata": {
    "colab": {
     "base_uri": "https://localhost:8080/",
     "height": 292
    },
    "executionInfo": {
     "elapsed": 357,
     "status": "ok",
     "timestamp": 1698756480115,
     "user": {
      "displayName": "Joao Pedro Neto",
      "userId": "16588413076175252494"
     },
     "user_tz": 0
    },
    "id": "GAQIYuSSAmaS",
    "outputId": "1f2d48a0-a460-45e9-b01c-505c624ff0db",
    "scrolled": true
   },
   "outputs": [
    {
     "data": {
      "image/png": "[encoded data removed]",
      "text/plain": [
       "<IPython.core.display.Image object>"
      ]
     },
     "metadata": {},
     "output_type": "display_data"
    }
   ],
   "source": [
    "g = makeGraph(edges=[(1,2),(4,2),(2,3),(1,3),(1,4),(1,5),(5,6),(6,5)], digraph=True)\n",
    "showGraph(g)"
   ]
  },
  {
   "cell_type": "markdown",
   "metadata": {
    "id": "nsdlTK-nAZo3"
   },
   "source": [
    "+ `successors` returns the successors of a given node"
   ]
  },
  {
   "cell_type": "code",
   "execution_count": 14,
   "metadata": {
    "colab": {
     "base_uri": "https://localhost:8080/"
    },
    "executionInfo": {
     "elapsed": 415,
     "status": "ok",
     "timestamp": 1698756486810,
     "user": {
      "displayName": "Joao Pedro Neto",
      "userId": "16588413076175252494"
     },
     "user_tz": 0
    },
    "id": "Ta-pIv9kAsOj",
    "outputId": "f0f31687-d1aa-4521-88b5-50bd8da941f4"
   },
   "outputs": [
    {
     "data": {
      "text/plain": [
       "[(1, [2, 3, 4, 5]), (2, [3]), (4, [2]), (3, []), (5, [6]), (6, [5])]"
      ]
     },
     "execution_count": 14,
     "metadata": {},
     "output_type": "execute_result"
    }
   ],
   "source": [
    "[(node, list(g.successors(node))) for node in g]"
   ]
  },
  {
   "cell_type": "markdown",
   "metadata": {
    "id": "sMOv_TjuAxz3"
   },
   "source": [
    "+ `predecessors` return the predecessors of a given node"
   ]
  },
  {
   "cell_type": "code",
   "execution_count": 15,
   "metadata": {
    "colab": {
     "base_uri": "https://localhost:8080/"
    },
    "executionInfo": {
     "elapsed": 248,
     "status": "ok",
     "timestamp": 1698756492148,
     "user": {
      "displayName": "Joao Pedro Neto",
      "userId": "16588413076175252494"
     },
     "user_tz": 0
    },
    "id": "tFtFVPKgA6fZ",
    "outputId": "e4553df1-abb4-47a1-c4cf-53d5d80eb1aa"
   },
   "outputs": [
    {
     "data": {
      "text/plain": [
       "[(1, []), (2, [1, 4]), (4, [1]), (3, [2, 1]), (5, [1, 6]), (6, [5])]"
      ]
     },
     "execution_count": 15,
     "metadata": {},
     "output_type": "execute_result"
    }
   ],
   "source": [
    "[(node, list(g.predecessors(node))) for node in g]"
   ]
  },
  {
   "cell_type": "markdown",
   "metadata": {
    "id": "t_mXnjBTBPR6"
   },
   "source": [
    "+ `descendants` and `ancestors` return, respectively, all descendants and ancestors of a given node"
   ]
  },
  {
   "cell_type": "code",
   "execution_count": 16,
   "metadata": {
    "colab": {
     "base_uri": "https://localhost:8080/"
    },
    "executionInfo": {
     "elapsed": 493,
     "status": "ok",
     "timestamp": 1698756501204,
     "user": {
      "displayName": "Joao Pedro Neto",
      "userId": "16588413076175252494"
     },
     "user_tz": 0
    },
    "id": "s2-cWm8CKpqa",
    "outputId": "3ac306d6-9c21-4a85-a8ae-72ba528a8d8c"
   },
   "outputs": [
    {
     "data": {
      "text/plain": [
       "[(1, [2, 3, 4, 5, 6]), (2, [3]), (4, [2, 3]), (3, []), (5, [6]), (6, [5])]"
      ]
     },
     "execution_count": 16,
     "metadata": {},
     "output_type": "execute_result"
    }
   ],
   "source": [
    "[(node, list(nx.descendants(g, node))) for node in g]"
   ]
  },
  {
   "cell_type": "code",
   "execution_count": 18,
   "metadata": {
    "colab": {
     "base_uri": "https://localhost:8080/"
    },
    "executionInfo": {
     "elapsed": 251,
     "status": "ok",
     "timestamp": 1698756513390,
     "user": {
      "displayName": "Joao Pedro Neto",
      "userId": "16588413076175252494"
     },
     "user_tz": 0
    },
    "id": "LsBJOD7HAukn",
    "outputId": "879da721-defc-4d94-fcb8-82ce0e2bceb9"
   },
   "outputs": [
    {
     "data": {
      "text/plain": [
       "[(1, []), (2, [1, 4]), (4, [1]), (3, [1, 2, 4]), (5, [1, 6]), (6, [1, 5])]"
      ]
     },
     "execution_count": 18,
     "metadata": {},
     "output_type": "execute_result"
    }
   ],
   "source": [
    "[(node, list(nx.ancestors  (g, node))) for node in g]"
   ]
  },
  {
   "cell_type": "markdown",
   "metadata": {
    "id": "lb2x3ddkDkvC"
   },
   "source": [
    "+ `weakly_connected_components` returns the graph's weakly connected components"
   ]
  },
  {
   "cell_type": "code",
   "execution_count": 19,
   "metadata": {
    "colab": {
     "base_uri": "https://localhost:8080/"
    },
    "executionInfo": {
     "elapsed": 537,
     "status": "ok",
     "timestamp": 1698756518055,
     "user": {
      "displayName": "Joao Pedro Neto",
      "userId": "16588413076175252494"
     },
     "user_tz": 0
    },
    "id": "t7Fm8VpmENo5",
    "outputId": "4b393f7a-85e3-4298-db83-4443455d175e"
   },
   "outputs": [
    {
     "data": {
      "text/plain": [
       "[{1, 2, 3, 4, 5, 6}]"
      ]
     },
     "execution_count": 19,
     "metadata": {},
     "output_type": "execute_result"
    }
   ],
   "source": [
    "list(nx.weakly_connected_components(g))"
   ]
  },
  {
   "cell_type": "markdown",
   "metadata": {
    "id": "j0SgAT_nEa4R"
   },
   "source": [
    "+ `strongly_connected_components` returns the graph's strongly connected components"
   ]
  },
  {
   "cell_type": "code",
   "execution_count": 20,
   "metadata": {
    "colab": {
     "base_uri": "https://localhost:8080/"
    },
    "executionInfo": {
     "elapsed": 232,
     "status": "ok",
     "timestamp": 1698756520214,
     "user": {
      "displayName": "Joao Pedro Neto",
      "userId": "16588413076175252494"
     },
     "user_tz": 0
    },
    "id": "3ag7aOQ8Egwe",
    "outputId": "3b837097-b493-440d-a9f3-080bc1f5b2ef"
   },
   "outputs": [
    {
     "data": {
      "text/plain": [
       "[{3}, {2}, {4}, {5, 6}, {1}]"
      ]
     },
     "execution_count": 20,
     "metadata": {},
     "output_type": "execute_result"
    }
   ],
   "source": [
    "list(nx.strongly_connected_components(g))"
   ]
  },
  {
   "cell_type": "markdown",
   "metadata": {
    "id": "tbl4pHadjj4b"
   },
   "source": [
    "For a directed graph with $V$ nodes and $E$ edges, the complexities of the last two functions, regarding components, are $\\mathcal{O}(V+E)$."
   ]
  },
  {
   "cell_type": "markdown",
   "metadata": {
    "id": "pMG4mK08DgWx"
   },
   "source": [
    "### Undirected Graphs"
   ]
  },
  {
   "cell_type": "markdown",
   "metadata": {
    "id": "obiKTL9RBfPH"
   },
   "source": [
    "For undirected graphs there is function `neighbors` that returns the adjacent nodes of a given node,"
   ]
  },
  {
   "cell_type": "code",
   "execution_count": 23,
   "metadata": {
    "colab": {
     "base_uri": "https://localhost:8080/",
     "height": 381
    },
    "executionInfo": {
     "elapsed": 295,
     "status": "ok",
     "timestamp": 1698762540995,
     "user": {
      "displayName": "Joao Pedro Neto",
      "userId": "16588413076175252494"
     },
     "user_tz": 0
    },
    "id": "sEsX9X-oBmF4",
    "outputId": "8cb4a33c-a28b-4320-9e3b-d9c17e2b041c",
    "scrolled": true
   },
   "outputs": [
    {
     "data": {
      "image/png": "[encoded data removed]",
      "text/plain": [
       "<IPython.core.display.Image object>"
      ]
     },
     "metadata": {},
     "output_type": "display_data"
    },
    {
     "name": "stdout",
     "output_type": "stream",
     "text": [
      "neighbors of node 1: 2 3 4 5\n",
      "neighbors of node 2: 1 4 3\n",
      "neighbors of node 3: 2 1\n",
      "neighbors of node 4: 2 1\n",
      "neighbors of node 5: 1 6\n",
      "neighbors of node 6: 5\n",
      "neighbors of node 7: 8 9\n",
      "neighbors of node 8: 7\n",
      "neighbors of node 9: 7\n"
     ]
    }
   ],
   "source": [
    "g1 = makeGraph(edges=[(1,2),(4,2),(2,3),(1,3),(1,4),(1,5),(5,6),(7,8),(7,9)])\n",
    "showGraph(g1)\n",
    "\n",
    "for node in range(1,10):\n",
    "  print(f'neighbors of node {node}:', *list(nx.neighbors(g1, node)))"
   ]
  },
  {
   "cell_type": "markdown",
   "metadata": {
    "id": "XJdGkuilCphy"
   },
   "source": [
    "Function `connected_components` returns the different components of an undirected graph, with complexity $\\mathcal{O}(V+E)$:"
   ]
  },
  {
   "cell_type": "code",
   "execution_count": 24,
   "metadata": {
    "colab": {
     "base_uri": "https://localhost:8080/"
    },
    "executionInfo": {
     "elapsed": 243,
     "status": "ok",
     "timestamp": 1698756595543,
     "user": {
      "displayName": "Joao Pedro Neto",
      "userId": "16588413076175252494"
     },
     "user_tz": 0
    },
    "id": "WR9IYpdoCh8I",
    "outputId": "7152d101-f3b2-41cf-c2a2-9fc015448f1e"
   },
   "outputs": [
    {
     "data": {
      "text/plain": [
       "[[1, 2, 3, 4, 5, 6], [8, 9, 7]]"
      ]
     },
     "execution_count": 24,
     "metadata": {},
     "output_type": "execute_result"
    }
   ],
   "source": [
    "[list(c) for c in nx.connected_components(g1)]"
   ]
  },
  {
   "cell_type": "markdown",
   "metadata": {
    "id": "FSlptlKUCyyC"
   },
   "source": [
    "The function allow us to create copies of each component:"
   ]
  },
  {
   "cell_type": "code",
   "execution_count": 25,
   "metadata": {
    "colab": {
     "base_uri": "https://localhost:8080/",
     "height": 220
    },
    "executionInfo": {
     "elapsed": 320,
     "status": "ok",
     "timestamp": 1698762648702,
     "user": {
      "displayName": "Joao Pedro Neto",
      "userId": "16588413076175252494"
     },
     "user_tz": 0
    },
    "id": "5Med02AVC4gH",
    "outputId": "8d1d0abe-cdb5-4758-9fa2-5759acaa354e",
    "scrolled": true
   },
   "outputs": [
    {
     "data": {
      "image/png": "[encoded data removed]",
      "text/plain": [
       "<IPython.core.display.Image object>"
      ]
     },
     "metadata": {},
     "output_type": "display_data"
    }
   ],
   "source": [
    "sub_graphs = [g1.subgraph(c).copy() for c in nx.connected_components(g1)]\n",
    "showGraph(sub_graphs[0])"
   ]
  },
  {
   "cell_type": "code",
   "execution_count": 26,
   "metadata": {
    "colab": {
     "base_uri": "https://localhost:8080/",
     "height": 148
    },
    "executionInfo": {
     "elapsed": 281,
     "status": "ok",
     "timestamp": 1698762651425,
     "user": {
      "displayName": "Joao Pedro Neto",
      "userId": "16588413076175252494"
     },
     "user_tz": 0
    },
    "id": "_g5epHHzDEds",
    "outputId": "317013d5-8492-425d-d853-66c5c7832276",
    "scrolled": true
   },
   "outputs": [
    {
     "data": {
      "image/png": "[encoded data removed]",
      "text/plain": [
       "<IPython.core.display.Image object>"
      ]
     },
     "metadata": {},
     "output_type": "display_data"
    }
   ],
   "source": [
    "showGraph(sub_graphs[1])"
   ]
  },
  {
   "cell_type": "markdown",
   "metadata": {
    "id": "j4nhD427CEjm"
   },
   "source": [
    "## Weighted Graphs"
   ]
  },
  {
   "cell_type": "markdown",
   "metadata": {
    "id": "8uNPmmt6fwVg"
   },
   "source": [
    "A significant graph variant involves numerical values associated with their edges. These values model costs associated with the respective edges. For example, it is typical to define the cost of a path as the sum of the weights of its edges.\n",
    "\n",
    "These costs are useful for solving optimization tasks, as we will see some examples in future sections."
   ]
  },
  {
   "cell_type": "markdown",
   "metadata": {
    "id": "sHZqxyLdgNZ2"
   },
   "source": [
    "How to create a weighted graph using `networkx`:"
   ]
  },
  {
   "cell_type": "code",
   "execution_count": 27,
   "metadata": {
    "colab": {
     "base_uri": "https://localhost:8080/",
     "height": 352
    },
    "executionInfo": {
     "elapsed": 290,
     "status": "ok",
     "timestamp": 1698762807475,
     "user": {
      "displayName": "Joao Pedro Neto",
      "userId": "16588413076175252494"
     },
     "user_tz": 0
    },
    "id": "2lN3Wsm4rUpI",
    "outputId": "be60c928-74ba-422d-8174-1403449bc531",
    "scrolled": true
   },
   "outputs": [
    {
     "data": {
      "image/png": "[encoded data removed]",
      "text/plain": [
       "<IPython.core.display.Image object>"
      ]
     },
     "metadata": {},
     "output_type": "display_data"
    }
   ],
   "source": [
    "g = nx.DiGraph()              # make an empty graph\n",
    "g.add_edge('a','b', weight=4) # attribute 'weight' defines the edge's value\n",
    "g.add_edge('a','c', weight=2)\n",
    "g.add_edge('c','d', weight=12)\n",
    "g.add_edge('d','e', weight=1)\n",
    "g.add_edge('b','e', weight=11)\n",
    "\n",
    "showGraph(g, weights=True)    # weights=True shows all edge's weights"
   ]
  },
  {
   "cell_type": "markdown",
   "metadata": {
    "id": "LgrV2Yc3hZnY"
   },
   "source": [
    "Function `path_weight` computes the total cost of a given path:"
   ]
  },
  {
   "cell_type": "code",
   "execution_count": 29,
   "metadata": {
    "colab": {
     "base_uri": "https://localhost:8080/"
    },
    "executionInfo": {
     "elapsed": 261,
     "status": "ok",
     "timestamp": 1698756659516,
     "user": {
      "displayName": "Joao Pedro Neto",
      "userId": "16588413076175252494"
     },
     "user_tz": 0
    },
    "id": "3DlI3qnohHLy",
    "outputId": "671c70b3-a214-47be-c450-f32b88ce6b26"
   },
   "outputs": [
    {
     "data": {
      "text/plain": [
       "15"
      ]
     },
     "execution_count": 29,
     "metadata": {},
     "output_type": "execute_result"
    }
   ],
   "source": [
    "nx.path_weight(g, 'acde', 'weight')"
   ]
  },
  {
   "cell_type": "markdown",
   "metadata": {
    "id": "2BEIL1BMF09a"
   },
   "source": [
    "## Standard Graph Operations"
   ]
  },
  {
   "cell_type": "markdown",
   "metadata": {
    "id": "rI5q7EzA4oEB"
   },
   "source": [
    "Let's introduce a set of well-known operations that make problem-solving easier through the use of graphs.\n",
    "\n",
    "When discussing the complexity of these operations, we assume a graph with $V$ nodes and $E$ edges."
   ]
  },
  {
   "cell_type": "markdown",
   "metadata": {
    "id": "OdK_1HOSGFPq"
   },
   "source": [
    "### Depth-first Search"
   ]
  },
  {
   "cell_type": "markdown",
   "metadata": {
    "id": "9v6oInsySnvT"
   },
   "source": [
    "One of the most fundamental tasks involving graphs is to traverse all of their nodes. And, just like in trees, there are several alternatives for traversing a graph.\n",
    "\n",
    "One of these traversals is called [Depth-first Search](https://en.wikipedia.org/wiki/Depth-first_search) (DFS). This concept has already been discussed in the chapter on search."
   ]
  },
  {
   "cell_type": "markdown",
   "metadata": {
    "id": "HbPE2w9zS66_"
   },
   "source": [
    "The algorithm for applying DFS to a graph is as follows: choose a vertex and move in-depth through any neighbor. It's essential to keep track of the visited nodes to avoid infinite cycles (something that didn't happen in trees). When you reach a dead end (all neighboring vertices have already been visited), you backtrack and continue along a path with unvisited nodes. When all nodes have been visited, the traversal is complete.\n",
    "\n",
    "The following function implements this algorithm with a time complexity of $\\mathcal{O}(V+E)$, using a stack to keep track of neighboring nodes that haven't been visited yet."
   ]
  },
  {
   "cell_type": "code",
   "execution_count": 30,
   "metadata": {
    "id": "5mWHroPsuu3A"
   },
   "outputs": [],
   "source": [
    "def dfsGraph(g, start):    # «start» is the initial starting node\n",
    "  result, visited, stack = [], set(), [start]\n",
    "  while stack != []:\n",
    "    node = stack.pop()      # using a list as stack\n",
    "    if node not in visited: # if current node is not visited,\n",
    "      result.append(node)   #   add node to DFS path of nodes, and\n",
    "      visited.add(node)     #   add node to visited nodes (prevents repeated visits)\n",
    "      # sorted() so smaller neighbors are visited first (it's a stack)\n",
    "      for sucessor in sorted(nx.neighbors(g, node), reverse=True):\n",
    "        stack.append(sucessor)\n",
    "  return result"
   ]
  },
  {
   "cell_type": "markdown",
   "metadata": {
    "id": "q1XAPxhbUxPX"
   },
   "source": [
    "A use case:"
   ]
  },
  {
   "cell_type": "code",
   "execution_count": 31,
   "metadata": {
    "colab": {
     "base_uri": "https://localhost:8080/",
     "height": 220
    },
    "executionInfo": {
     "elapsed": 348,
     "status": "ok",
     "timestamp": 1698756989159,
     "user": {
      "displayName": "Joao Pedro Neto",
      "userId": "16588413076175252494"
     },
     "user_tz": 0
    },
    "id": "PD_gjZ3rtYb7",
    "outputId": "61c5e588-89c6-4398-8578-06d0fa8ce06c",
    "scrolled": true
   },
   "outputs": [
    {
     "data": {
      "image/png": "[encoded data removed]",
      "text/plain": [
       "<IPython.core.display.Image object>"
      ]
     },
     "metadata": {},
     "output_type": "display_data"
    }
   ],
   "source": [
    "g = makeGraph(edges=[(1,2),(4,2),(2,3),(1,3),(1,5),(5,6)])\n",
    "showGraph(g)"
   ]
  },
  {
   "cell_type": "code",
   "execution_count": 32,
   "metadata": {
    "colab": {
     "base_uri": "https://localhost:8080/"
    },
    "executionInfo": {
     "elapsed": 241,
     "status": "ok",
     "timestamp": 1698756999589,
     "user": {
      "displayName": "Joao Pedro Neto",
      "userId": "16588413076175252494"
     },
     "user_tz": 0
    },
    "id": "7z9hqyY_vXRy",
    "outputId": "ec3b26ea-a018-469b-9b53-c0564ee87fbf"
   },
   "outputs": [
    {
     "name": "stdout",
     "output_type": "stream",
     "text": [
      "2 1 3 5 6 4 "
     ]
    }
   ],
   "source": [
    "for node in dfsGraph(g, 2): # start DFS at node 2\n",
    "  print(node, end=' ')"
   ]
  },
  {
   "cell_type": "markdown",
   "metadata": {
    "id": "ztLBxg9C2Gru"
   },
   "source": [
    "As to be expected, module `networkx` includes this operation in function `dfs_tree`:"
   ]
  },
  {
   "cell_type": "code",
   "execution_count": 33,
   "metadata": {
    "colab": {
     "base_uri": "https://localhost:8080/"
    },
    "executionInfo": {
     "elapsed": 252,
     "status": "ok",
     "timestamp": 1698757017942,
     "user": {
      "displayName": "Joao Pedro Neto",
      "userId": "16588413076175252494"
     },
     "user_tz": 0
    },
    "id": "uMezqMUl12Fo",
    "outputId": "fa605cef-34d7-4da3-9678-b0f51ee3fd27"
   },
   "outputs": [
    {
     "name": "stdout",
     "output_type": "stream",
     "text": [
      "2 1 3 5 6 4 "
     ]
    }
   ],
   "source": [
    "for node in nx.dfs_tree(g, 2):\n",
    "  print(node, end=' ')"
   ]
  },
  {
   "cell_type": "markdown",
   "metadata": {
    "id": "REjSBqkvDdvE"
   },
   "source": [
    "### Breadth-first Search"
   ]
  },
  {
   "cell_type": "markdown",
   "metadata": {
    "id": "VBlH3Dr0Twyx"
   },
   "source": [
    "[Breadth-first Search](https://en.wikipedia.org/wiki/Breadth-first_search) (BFS) is similar to Depth-first Search, but it prioritizes neighboring nodes before traversing the successors of those neighbors."
   ]
  },
  {
   "cell_type": "markdown",
   "metadata": {
    "id": "4w6nKmcIUgjG"
   },
   "source": [
    "The way to implement BFS is to use a queue instead of a stack. This way, you implement a First-In-First-Out (FIFO) system that allows neighboring vertices of the initial node to be visited first.\n",
    "\n",
    "The following function implements Breadth-first Search with a time complexity of $\\mathcal{O}(V+E)$:"
   ]
  },
  {
   "cell_type": "code",
   "execution_count": 34,
   "metadata": {
    "id": "6Pm1LLi0DgFs"
   },
   "outputs": [],
   "source": [
    "from collections import deque # to remove at deque's begin, and add at its end\n",
    "\n",
    "def bfsGraph(g, start):\n",
    "  result, visited, queue = [], set(), deque()\n",
    "  queue.append(start)\n",
    "  while queue:\n",
    "    node = queue.popleft()  # popleft() and append() are both O(1)\n",
    "    if node not in visited:\n",
    "      result.append(node)\n",
    "      visited.add(node)\n",
    "      # sorted() so smaller neighors are visited first\n",
    "      for sucessor in sorted(nx.neighbors(g, node)):\n",
    "        queue.append(sucessor)\n",
    "  return result"
   ]
  },
  {
   "cell_type": "markdown",
   "metadata": {
    "id": "72Kspz3bUzIT"
   },
   "source": [
    "A use case:"
   ]
  },
  {
   "cell_type": "code",
   "execution_count": 35,
   "metadata": {
    "colab": {
     "base_uri": "https://localhost:8080/",
     "height": 220
    },
    "executionInfo": {
     "elapsed": 822,
     "status": "ok",
     "timestamp": 1698757132510,
     "user": {
      "displayName": "Joao Pedro Neto",
      "userId": "16588413076175252494"
     },
     "user_tz": 0
    },
    "id": "XBieu0MKU2O7",
    "outputId": "6eda281d-a4e3-4723-ef1c-57120868cdd2",
    "scrolled": true
   },
   "outputs": [
    {
     "data": {
      "image/png": "[encoded data removed]",
      "text/plain": [
       "<IPython.core.display.Image object>"
      ]
     },
     "metadata": {},
     "output_type": "display_data"
    }
   ],
   "source": [
    "g = makeGraph(edges=[(1,2),(4,2),(2,3),(1,3),(1,5),(5,6)])\n",
    "showGraph(g)"
   ]
  },
  {
   "cell_type": "code",
   "execution_count": 36,
   "metadata": {
    "colab": {
     "base_uri": "https://localhost:8080/"
    },
    "executionInfo": {
     "elapsed": 250,
     "status": "ok",
     "timestamp": 1698757135049,
     "user": {
      "displayName": "Joao Pedro Neto",
      "userId": "16588413076175252494"
     },
     "user_tz": 0
    },
    "id": "6igSVUFnESUA",
    "outputId": "062773a3-7919-428d-e6e9-2f29e615c2d6"
   },
   "outputs": [
    {
     "name": "stdout",
     "output_type": "stream",
     "text": [
      "2 1 3 4 5 6 "
     ]
    }
   ],
   "source": [
    "for node in bfsGraph(g, 2):\n",
    "  print(node, end=' ')"
   ]
  },
  {
   "cell_type": "markdown",
   "metadata": {
    "id": "6edQ9DDREt9t"
   },
   "source": [
    "Using `networkx`,"
   ]
  },
  {
   "cell_type": "code",
   "execution_count": 37,
   "metadata": {
    "colab": {
     "base_uri": "https://localhost:8080/"
    },
    "executionInfo": {
     "elapsed": 246,
     "status": "ok",
     "timestamp": 1698757137407,
     "user": {
      "displayName": "Joao Pedro Neto",
      "userId": "16588413076175252494"
     },
     "user_tz": 0
    },
    "id": "S-t41XcvEt9t",
    "outputId": "6cea4464-0829-4a01-e0a5-01e31f29f028"
   },
   "outputs": [
    {
     "name": "stdout",
     "output_type": "stream",
     "text": [
      "2 1 4 3 5 6 "
     ]
    }
   ],
   "source": [
    "for node in nx.bfs_tree(g, 2):\n",
    "  print(node, end=' ')"
   ]
  },
  {
   "cell_type": "markdown",
   "metadata": {
    "id": "j7v_WlLmFNk_"
   },
   "source": [
    "### Topologic Sort"
   ]
  },
  {
   "cell_type": "markdown",
   "metadata": {
    "id": "NJSKIb8VKlev"
   },
   "source": [
    "[Topological Sort](https://en.wikipedia.org/wiki/Topological_sorting) is a linear ordering of the nodes in a graph. This operation provides a way to «flatten» a graph into a list of nodes.\n",
    "\n",
    "Converting a graph into a list of nodes does involve some loss of information, but for certain problems, it can be sufficient. A typical example occurs when the graph models various tasks, with edges representing mandatory precedences. In other words, an edge $(A, B)$ would mean that task $A$ must be completed before task $B$ can begin. In these situations, topological sorting provides a solution for how to execute the tasks sequentially without violating the precedences imposed by the graph's structure."
   ]
  },
  {
   "cell_type": "code",
   "execution_count": 38,
   "metadata": {
    "colab": {
     "base_uri": "https://localhost:8080/",
     "height": 220
    },
    "executionInfo": {
     "elapsed": 296,
     "status": "ok",
     "timestamp": 1698757224573,
     "user": {
      "displayName": "Joao Pedro Neto",
      "userId": "16588413076175252494"
     },
     "user_tz": 0
    },
    "id": "JSod2GwrFSt2",
    "outputId": "2f760143-e933-4bf9-f342-9b5956cc64dc",
    "scrolled": true
   },
   "outputs": [
    {
     "data": {
      "image/png": "[encoded data removed]",
      "text/plain": [
       "<IPython.core.display.Image object>"
      ]
     },
     "metadata": {},
     "output_type": "display_data"
    }
   ],
   "source": [
    "g = makeGraph(edges=[(1,2),(4,2),(2,3),(1,3),(1,5),(5,6)], digraph=True)\n",
    "showGraph(g)"
   ]
  },
  {
   "cell_type": "markdown",
   "metadata": {
    "id": "FdwsglW2MBXE"
   },
   "source": [
    "To return a topological sort, you can execute the following algorithm with a time complexity of $\\mathcal{O}(V + E)$:\n",
    "\n",
    "1. Start with an empty topological order.\n",
    "\n",
    "2. While there are nodes in the graph:\n",
    "   1. Find a node that has no predecessors.\n",
    "   2. Append that node to the end of the topological order.\n",
    "   3. Remove that node from the graph, along with its edges.\n",
    "\n",
    "3. Return the topological order.\n",
    "\n",
    "The following function implements this algorithm:"
   ]
  },
  {
   "cell_type": "code",
   "execution_count": 39,
   "metadata": {
    "id": "Lly4vi-AbMwb"
   },
   "outputs": [],
   "source": [
    "def topsort(g):\n",
    "  sort = []\n",
    "  g = g.copy()                   # don't modify original graph, work in a copy\n",
    "  while g.number_of_nodes() > 0:\n",
    "    for node in g.nodes:\n",
    "      if g.in_degree(node) == 0: # if node has no ancestors\n",
    "        sort.append(node)        #  add node to result, and\n",
    "        g.remove_node(node)      #  remove it from graph\n",
    "        break\n",
    "  return sort"
   ]
  },
  {
   "cell_type": "markdown",
   "metadata": {
    "id": "aZ0NqvFHdLxK"
   },
   "source": [
    "Let's check the sorting result using the previous graph,"
   ]
  },
  {
   "cell_type": "code",
   "execution_count": 40,
   "metadata": {
    "colab": {
     "base_uri": "https://localhost:8080/"
    },
    "executionInfo": {
     "elapsed": 256,
     "status": "ok",
     "timestamp": 1698757310189,
     "user": {
      "displayName": "Joao Pedro Neto",
      "userId": "16588413076175252494"
     },
     "user_tz": 0
    },
    "id": "J05zMfybcJVm",
    "outputId": "42f2621a-69db-4b2a-c547-e772cd4c8f3a"
   },
   "outputs": [
    {
     "name": "stdout",
     "output_type": "stream",
     "text": [
      "1 4 2 3 5 6 "
     ]
    }
   ],
   "source": [
    "for node in topsort(g):\n",
    "  print(node, end=' ')"
   ]
  },
  {
   "cell_type": "markdown",
   "metadata": {
    "id": "uaKthcjJciKs"
   },
   "source": [
    "Without surprise, topological sort is also available in `networkx`,"
   ]
  },
  {
   "cell_type": "code",
   "execution_count": 41,
   "metadata": {
    "colab": {
     "base_uri": "https://localhost:8080/"
    },
    "executionInfo": {
     "elapsed": 4,
     "status": "ok",
     "timestamp": 1698757312788,
     "user": {
      "displayName": "Joao Pedro Neto",
      "userId": "16588413076175252494"
     },
     "user_tz": 0
    },
    "id": "YJAUZh15FQTV",
    "outputId": "ae0a313a-6cf4-46d3-8463-d742c78e792b"
   },
   "outputs": [
    {
     "name": "stdout",
     "output_type": "stream",
     "text": [
      "1 4 5 2 6 3 "
     ]
    }
   ],
   "source": [
    "for node in nx.topological_sort(g):\n",
    "  print(node, end=' ')"
   ]
  },
  {
   "cell_type": "markdown",
   "metadata": {
    "id": "SOf6UL_EEHnF"
   },
   "source": [
    "### Minimal Spanning Tree"
   ]
  },
  {
   "cell_type": "markdown",
   "metadata": {
    "id": "XCn__xEFEJRN"
   },
   "source": [
    "A [Minimum Spanning Tree](https://en.wikipedia.org/wiki/Minimum_spanning_tree) (MST) of a graph G is a tree that contains all the nodes of G and has the minimum possible sum of its edges.\n",
    "\n",
    "This procedure is useful in situations where each edge has a construction cost, and you want to minimize the cost of the edges without disconnecting the graph. To do this, you choose a subset of the initial edges and create an MST, which connects all the nodes while minimizing the total edge cost."
   ]
  },
  {
   "cell_type": "markdown",
   "metadata": {
    "id": "GUDOjTLxG7Oh"
   },
   "source": [
    "The MST can be computed using [Kruskal's algorithm](https://en.wikipedia.org/wiki/Kruskal's_algorithm), which follows these steps:\n",
    "\n",
    "1. Create a set of trees T, where each tree is a node in the graph.\n",
    "\n",
    "2. Create a set S with all the edges from the graph.\n",
    "\n",
    "3. While S has elements and T is not yet a spanning tree (i.e., it doesn't include all nodes):\n",
    "\n",
    "   1. Remove the edge with the minimum weight from S.\n",
    "\n",
    "   2. If this edge connects two trees in T, add the edge to combine them.\n",
    "\n",
    "This algorithm finds the minimum spanning tree by iteratively selecting edges with the lowest weights and adding them to the growing spanning tree, ensuring that it remains acyclic and connects all nodes.\n",
    "\n",
    "<center><img src='https://raw.githubusercontent.com/jpneto/Prog.I/master/imgs/graph_Kruskal_algorithm.gif' width=250px><br/><i>wikipedia</i></center>   \n",
    "\n",
    "The algorithm has complexity $\\mathcal{O}(E \\log E)$."
   ]
  },
  {
   "cell_type": "markdown",
   "metadata": {
    "id": "WmiMyMVV3TpT"
   },
   "source": [
    "An example:"
   ]
  },
  {
   "cell_type": "code",
   "execution_count": 42,
   "metadata": {
    "colab": {
     "base_uri": "https://localhost:8080/",
     "height": 352
    },
    "executionInfo": {
     "elapsed": 297,
     "status": "ok",
     "timestamp": 1698757385619,
     "user": {
      "displayName": "Joao Pedro Neto",
      "userId": "16588413076175252494"
     },
     "user_tz": 0
    },
    "id": "-EoJu6YlE4hT",
    "outputId": "618b573d-cb4a-43e6-8670-a9d949af941a",
    "scrolled": true
   },
   "outputs": [
    {
     "data": {
      "image/png": "[encoded data removed]",
      "text/plain": [
       "<IPython.core.display.Image object>"
      ]
     },
     "metadata": {},
     "output_type": "display_data"
    }
   ],
   "source": [
    "g = nx.Graph()\n",
    "edges = [(1,2,20),(1,4,80),(1,7,90),(3,4,10),(3,6,50),(4,3,10),\n",
    "         (4,7,20),(5,2,50),(5,7,30),(6,3,10),(6,4,40),(7,1,20)]\n",
    "for a,b,w in edges:\n",
    "  g.add_edge(a,b, weight=w)\n",
    "\n",
    "showGraph(g, weights=True)"
   ]
  },
  {
   "cell_type": "markdown",
   "metadata": {
    "id": "ZpDTsfY5FPaL"
   },
   "source": [
    "Function `minimum_spanning_tree` returns a list of edges defining the MST of a given graph."
   ]
  },
  {
   "cell_type": "code",
   "execution_count": 43,
   "metadata": {
    "colab": {
     "base_uri": "https://localhost:8080/",
     "height": 278
    },
    "executionInfo": {
     "elapsed": 527,
     "status": "ok",
     "timestamp": 1698757988230,
     "user": {
      "displayName": "Joao Pedro Neto",
      "userId": "16588413076175252494"
     },
     "user_tz": 0
    },
    "id": "53wFbsMVE7Bz",
    "outputId": "6a2fb6fe-3121-4209-c434-b25c1d8443df",
    "scrolled": true
   },
   "outputs": [
    {
     "data": {
      "image/png": "[encoded data removed]",
      "text/plain": [
       "<IPython.core.display.Image object>"
      ]
     },
     "metadata": {},
     "output_type": "display_data"
    },
    {
     "name": "stdout",
     "output_type": "stream",
     "text": [
      "totalCost: 110\n"
     ]
    }
   ],
   "source": [
    "mst = nx.minimum_spanning_tree(g)\n",
    "showGraph(mst)\n",
    "\n",
    "print('totalCost:', sum(mst.edges[edge]['weight'] for edge in mst.edges))"
   ]
  },
  {
   "cell_type": "markdown",
   "metadata": {
    "id": "FtL08JimusC-"
   },
   "source": [
    "### Hamiltonian Path"
   ]
  },
  {
   "cell_type": "markdown",
   "metadata": {
    "id": "7frBgjeJGipj"
   },
   "source": [
    "Suppose you needed to find a path that traverses all nodes of a graph, exactly once. These paths are called [Hamiltonian paths](https://en.wikipedia.org/wiki/Hamiltonian_path), and for certain graphs, there may not be a solution.\n",
    "\n",
    "We can use the tools from the search chapter to accomplish this task:"
   ]
  },
  {
   "cell_type": "code",
   "execution_count": 44,
   "metadata": {
    "id": "VomF_wVosIkE"
   },
   "outputs": [
    {
     "ename": "ModuleNotFoundError",
     "evalue": "No module named 'src'",
     "output_type": "error",
     "traceback": [
      "\u001b[0;31m---------------------------------------------------------------------------\u001b[0m",
      "\u001b[0;31mModuleNotFoundError\u001b[0m                       Traceback (most recent call last)",
      "Cell \u001b[0;32mIn[44], line 1\u001b[0m\n\u001b[0;32m----> 1\u001b[0m \u001b[38;5;28;01mfrom\u001b[39;00m\u001b[38;5;250m \u001b[39m\u001b[38;5;21;01msrc\u001b[39;00m\u001b[38;5;21;01m.\u001b[39;00m\u001b[38;5;21;01mcap14\u001b[39;00m\u001b[38;5;250m \u001b[39m\u001b[38;5;28;01mimport\u001b[39;00m TreeSearchProblem, dfs\n\u001b[1;32m      3\u001b[0m \u001b[38;5;28;01mclass\u001b[39;00m\u001b[38;5;250m \u001b[39m\u001b[38;5;21;01mHamiltonianPath\u001b[39;00m(TreeSearchProblem):\n\u001b[1;32m      4\u001b[0m   \u001b[38;5;28;01mdef\u001b[39;00m\u001b[38;5;250m \u001b[39m\u001b[38;5;21m__init__\u001b[39m(\u001b[38;5;28mself\u001b[39m, g, node):\n",
      "\u001b[0;31mModuleNotFoundError\u001b[0m: No module named 'src'"
     ]
    }
   ],
   "source": [
    "from src.cap14 import TreeSearchProblem, dfs\n",
    "\n",
    "class HamiltonianPath(TreeSearchProblem):\n",
    "  def __init__(self, g, node):\n",
    "    self._g = g\n",
    "    self._node = node # starting node\n",
    "\n",
    "  def start(self):\n",
    "    return (self._node,)\n",
    "\n",
    "  def is_goal(self, state):\n",
    "    return len(state) == self._g.number_of_nodes()\n",
    "\n",
    "  def next_moves(self, state):\n",
    "    currentNode = state[-1]\n",
    "    return [state+(nextNode,) for nextNode in nx.neighbors(self._g, currentNode)\n",
    "                              if nextNode not in state]"
   ]
  },
  {
   "cell_type": "markdown",
   "metadata": {
    "id": "jtsCdSQXGsJJ"
   },
   "source": [
    "A use case,"
   ]
  },
  {
   "cell_type": "code",
   "execution_count": 45,
   "metadata": {
    "colab": {
     "base_uri": "https://localhost:8080/"
    },
    "executionInfo": {
     "elapsed": 285,
     "status": "ok",
     "timestamp": 1710254847320,
     "user": {
      "displayName": "Joao Pedro Neto",
      "userId": "16588413076175252494"
     },
     "user_tz": 0
    },
    "id": "z7A1GO6gtqGQ",
    "outputId": "51cd9c6e-60a4-464d-baec-d674f85f4b2f"
   },
   "outputs": [
    {
     "ename": "NameError",
     "evalue": "name 'dfs' is not defined",
     "output_type": "error",
     "traceback": [
      "\u001b[0;31m---------------------------------------------------------------------------\u001b[0m",
      "\u001b[0;31mNameError\u001b[0m                                 Traceback (most recent call last)",
      "Cell \u001b[0;32mIn[45], line 3\u001b[0m\n\u001b[1;32m      1\u001b[0m g \u001b[38;5;241m=\u001b[39m makeGraph(edges\u001b[38;5;241m=\u001b[39m[(\u001b[38;5;241m1\u001b[39m,\u001b[38;5;241m2\u001b[39m),(\u001b[38;5;241m4\u001b[39m,\u001b[38;5;241m2\u001b[39m),(\u001b[38;5;241m2\u001b[39m,\u001b[38;5;241m3\u001b[39m),(\u001b[38;5;241m1\u001b[39m,\u001b[38;5;241m3\u001b[39m),(\u001b[38;5;241m1\u001b[39m,\u001b[38;5;241m4\u001b[39m),(\u001b[38;5;241m1\u001b[39m,\u001b[38;5;241m5\u001b[39m),(\u001b[38;5;241m5\u001b[39m,\u001b[38;5;241m6\u001b[39m),(\u001b[38;5;241m4\u001b[39m,\u001b[38;5;241m6\u001b[39m)])\n\u001b[0;32m----> 3\u001b[0m sol \u001b[38;5;241m=\u001b[39m \u001b[38;5;28mnext\u001b[39m(\u001b[43mdfs\u001b[49m(HamiltonianPath(g,\u001b[38;5;241m1\u001b[39m)))\n\u001b[1;32m      4\u001b[0m \u001b[38;5;28;01mfor\u001b[39;00m node \u001b[38;5;129;01min\u001b[39;00m sol[\u001b[38;5;241m-\u001b[39m\u001b[38;5;241m1\u001b[39m]:\n\u001b[1;32m      5\u001b[0m   \u001b[38;5;28mprint\u001b[39m(node, end\u001b[38;5;241m=\u001b[39m\u001b[38;5;124m'\u001b[39m\u001b[38;5;124m \u001b[39m\u001b[38;5;124m'\u001b[39m)\n",
      "\u001b[0;31mNameError\u001b[0m: name 'dfs' is not defined"
     ]
    }
   ],
   "source": [
    "g = makeGraph(edges=[(1,2),(4,2),(2,3),(1,3),(1,4),(1,5),(5,6),(4,6)])\n",
    "\n",
    "sol = next(dfs(HamiltonianPath(g,1)))\n",
    "for node in sol[-1]:\n",
    "  print(node, end=' ')"
   ]
  },
  {
   "cell_type": "markdown",
   "metadata": {
    "id": "JlwsJzEl4JFb"
   },
   "source": [
    "The `networkx` module does not have a function for calculating the Hamiltonian path. This is likely because the Hamiltonian path problem is not polynomial and can only be solved through brute-force search."
   ]
  },
  {
   "cell_type": "markdown",
   "metadata": {
    "id": "MwcVvWzMP3be"
   },
   "source": [
    "### Eulerian Path"
   ]
  },
  {
   "cell_type": "markdown",
   "metadata": {
    "id": "IAdISa8HP7Ct"
   },
   "source": [
    "Here, we aim to find a path that traverses all the edges of the graph (if possible). This was the original problem that motivated the development of Graph Theory by Leonhard Euler (by the way, the greatest mathematician of all time!). It's the same problem that's famously known as the [Seven Bridges of Königsberg](https://en.wikipedia.org/wiki/Seven_Bridges_of_K%C3%B6nigsberg)."
   ]
  },
  {
   "cell_type": "markdown",
   "metadata": {
    "id": "Qouc-RKy5sl0"
   },
   "source": [
    "A necessary condition for the existence of an Eulerian path, in an undirected graph, is that only zero or two nodes must have an odd degree -- all the others must have even degrees so that every time the path enters an intermediate node, it can also exit from it.\n",
    "\n",
    "There are [several algorithms](https://en.wikipedia.org/wiki/Eulerian_path) that calculate one of these possible paths in $\\mathcal{O}(E)$.\n",
    "\n",
    "<!-- A [documentação](https://networkx.org/documentation/stable/reference/algorithms/generated/networkx.algorithms.euler.eulerian_circuit.html#rc2b6c82f50dc-1) lista a referência do algoritmo usado. -->"
   ]
  },
  {
   "cell_type": "code",
   "execution_count": 46,
   "metadata": {
    "colab": {
     "base_uri": "https://localhost:8080/",
     "height": 220
    },
    "executionInfo": {
     "elapsed": 377,
     "status": "ok",
     "timestamp": 1710254863091,
     "user": {
      "displayName": "Joao Pedro Neto",
      "userId": "16588413076175252494"
     },
     "user_tz": 0
    },
    "id": "eb6fI4ysQWRu",
    "outputId": "e6981bda-de31-4c91-cd66-120bcd6ede53",
    "scrolled": true
   },
   "outputs": [
    {
     "data": {
      "image/png": "[encoded data removed]",
      "text/plain": [
       "<IPython.core.display.Image object>"
      ]
     },
     "metadata": {},
     "output_type": "display_data"
    }
   ],
   "source": [
    "g = makeGraph(edges=[(1,2),(2,3),(1,3),(1,4),(1,5),(5,6),(4,6)])\n",
    "showGraph(g)"
   ]
  },
  {
   "cell_type": "code",
   "execution_count": 47,
   "metadata": {
    "colab": {
     "base_uri": "https://localhost:8080/"
    },
    "executionInfo": {
     "elapsed": 6,
     "status": "ok",
     "timestamp": 1710254864320,
     "user": {
      "displayName": "Joao Pedro Neto",
      "userId": "16588413076175252494"
     },
     "user_tz": 0
    },
    "id": "Vj_gds6iQrQo",
    "outputId": "841b9af5-9068-4d7a-8e7c-2578f59afdfa"
   },
   "outputs": [
    {
     "name": "stdout",
     "output_type": "stream",
     "text": [
      "(1, 5) (5, 6) (6, 4) (4, 1) (1, 3) (3, 2) (2, 1) "
     ]
    }
   ],
   "source": [
    "for node in nx.eulerian_circuit(g):\n",
    "  print(node, end=' ')"
   ]
  },
  {
   "cell_type": "markdown",
   "metadata": {
    "id": "om1Yn4FgWevX"
   },
   "source": [
    "The next animation shows the path found by the algorithm:"
   ]
  },
  {
   "cell_type": "code",
   "execution_count": 48,
   "metadata": {
    "cellView": "form",
    "colab": {
     "base_uri": "https://localhost:8080/",
     "height": 269,
     "referenced_widgets": [
      "7e1d34b15e8446dbbf107799beddab2b",
      "e370ab5c7cdf4778a1dc24434072b8d8",
      "51d19c5fb40b4f8b9853f77ebf220277",
      "8b4772f03ed44ad58e964c82d9b9b9c2",
      "0885e8b88c0a413bb9a40313336f75fc",
      "24df674a2d1242538caaa6b58eced7d4",
      "fb8a037278f8471cb753cc8a93c0e274"
     ]
    },
    "executionInfo": {
     "elapsed": 324,
     "status": "ok",
     "timestamp": 1710254866971,
     "user": {
      "displayName": "Joao Pedro Neto",
      "userId": "16588413076175252494"
     },
     "user_tz": 0
    },
    "id": "_g37h6pTQ2Ru",
    "outputId": "ce612431-1db6-4fc7-ab86-94b2290f4d3c"
   },
   "outputs": [
    {
     "data": {
      "application/vnd.jupyter.widget-view+json": {
       "model_id": "eb017b394f03467390a19f14144ddf0a",
       "version_major": 2,
       "version_minor": 0
      },
      "text/plain": [
       "interactive(children=(IntSlider(value=0, continuous_update=False, description='step', max=6), Output()), _dom_…"
      ]
     },
     "metadata": {},
     "output_type": "display_data"
    }
   ],
   "source": [
    "# Eulerian path animation\n",
    "from ipywidgets import interact, widgets\n",
    "\n",
    "def show(g, circuit, passo):\n",
    "  for a,b in g.edges:\n",
    "    g.edges[(a,b)]['color'] = 'black'\n",
    "    g.edges[(a,b)]['width'] = 1\n",
    "  g.edges[circuit[passo]]['width'] = 2\n",
    "  g.edges[circuit[passo]]['color'] = 'red'\n",
    "  display(showGraph(g))\n",
    "\n",
    "circuit = list(nx.eulerian_circuit(g))\n",
    "interact(lambda step : show(g, circuit, step),\n",
    "         step = widgets.IntSlider(min=0, max=len(circuit)-1, value=0,\n",
    "                                  continuous_update = False));"
   ]
  },
  {
   "cell_type": "markdown",
   "metadata": {
    "id": "o1EPbBJiHzQs"
   },
   "source": [
    "### Shortest Path"
   ]
  },
  {
   "cell_type": "markdown",
   "metadata": {
    "id": "v9vojrNbGMlQ"
   },
   "source": [
    "If the graph has edge weights, it's common to want to minimize the total cost of the path between two nodes. As expected, we need to explore various alternatives until finding the optimal path."
   ]
  },
  {
   "cell_type": "markdown",
   "metadata": {
    "id": "ZiRpqTEykQo8"
   },
   "source": [
    "Given the graph,"
   ]
  },
  {
   "cell_type": "code",
   "execution_count": 49,
   "metadata": {
    "colab": {
     "base_uri": "https://localhost:8080/",
     "height": 536
    },
    "executionInfo": {
     "elapsed": 553,
     "status": "ok",
     "timestamp": 1706858270820,
     "user": {
      "displayName": "Joao Pedro Neto",
      "userId": "16588413076175252494"
     },
     "user_tz": 0
    },
    "id": "gQDcvkbzH121",
    "outputId": "84cd9d05-6bc0-446e-fe5a-bf6a5aabec01",
    "scrolled": true
   },
   "outputs": [
    {
     "data": {
      "image/png": "[encoded data removed]",
      "text/plain": [
       "<IPython.core.display.Image object>"
      ]
     },
     "metadata": {},
     "output_type": "display_data"
    }
   ],
   "source": [
    "g = nx.DiGraph()\n",
    "edges = [(1,2,20),(1,4,80),(1,7,90),(2,6,10),(3,4,10),(3,8,20),(3,6,50),\n",
    "         (4,3,10),(4,7,20),(5,2,50),(5,7,30),(6,3,10),(6,4,40),(7,1,20)]\n",
    "for a,b,w in edges:\n",
    "  g.add_edge(a,b, weight=w)\n",
    "\n",
    "showGraph(g, weights=True)"
   ]
  },
  {
   "cell_type": "markdown",
   "metadata": {
    "id": "v5PlAQfxVPGx"
   },
   "source": [
    "if we wish to move from node $1$ to node $8$ there are several possible paths:\n",
    "\n",
    "+ $1 \\rightarrow 4  \\rightarrow 3  \\rightarrow 8$ with a total cost of $110$\n",
    "\n",
    "+ $1 \\rightarrow 2  \\rightarrow 6 \\rightarrow 4 \\rightarrow 3  \\rightarrow 8$, with a total cost of $100$\n",
    "\n",
    "+ etc."
   ]
  },
  {
   "cell_type": "markdown",
   "metadata": {
    "id": "dYovBRm1Ymaz"
   },
   "source": [
    "There are several algorithms that compute the shortest path between two nodes on a weighted graph:\n",
    "\n",
    "+ [Dijkstra's algorithm](https://en.wikipedia.org/wiki/Dijkstra%27s_algorithm), works with non-negative weights, $\\mathcal{O}(E + V \\log V)$\n",
    "\n",
    "+ [Bellman-Ford algorithm](https://en.wikipedia.org/wiki/Bellman%E2%80%93Ford_algorithm), is slower but the weights can be negative, $\\mathcal{O}(V \\cdot E)$\n",
    "\n",
    "+ [Floyd-Warshall algorithm](https://en.wikipedia.org/wiki/Floyd%E2%80%93Warshall_algorithm), finds the shortest paths costs between all pairs of nodes, $\\mathcal{O}(V^3)$\n",
    "\n",
    "+ [Johnson's algorithm](https://en.wikipedia.org/wiki/Johnson%27s_algorithm),  finds the shortest paths between all pairs of nodes, $\\mathcal{O}(V^2 \\log V + E \\cdot V)$"
   ]
  },
  {
   "cell_type": "markdown",
   "metadata": {
    "id": "q6HvcUpNyUF0"
   },
   "source": [
    "Let's implement the most famous one, Dijkstra's algorithm [[ref](https://bradfieldcs.com/algos/graphs/dijkstras-algorithm/)]:"
   ]
  },
  {
   "cell_type": "code",
   "execution_count": 50,
   "metadata": {
    "colab": {
     "base_uri": "https://localhost:8080/"
    },
    "executionInfo": {
     "elapsed": 380,
     "status": "ok",
     "timestamp": 1706860632624,
     "user": {
      "displayName": "Joao Pedro Neto",
      "userId": "16588413076175252494"
     },
     "user_tz": 0
    },
    "id": "BUAXLRh4rAm2",
    "outputId": "c719b9cb-7964-4ef4-a141-98d222a93b09"
   },
   "outputs": [
    {
     "data": {
      "text/plain": [
       "{1: 0, 2: 20, 4: 50, 7: 70, 6: 30, 3: 40, 8: 60, 5: inf}"
      ]
     },
     "execution_count": 50,
     "metadata": {},
     "output_type": "execute_result"
    }
   ],
   "source": [
    "from heapq import heappop, heappush # priority queue (for faster access)\n",
    "from math import inf as oo\n",
    "\n",
    "def shortest_path_dijkstra(g, start):\n",
    "  \"\"\" returns the shortest distances from 'start' node to all graph nodes \"\"\"\n",
    "  # dist[a] is the shortest distance, so far, from 'start' to node 'a'\n",
    "  distances = {node: 0 if node==start else +oo for node in g.nodes}\n",
    "  pq = [(0,start)]\n",
    "\n",
    "  while pq:\n",
    "    dist, node = heappop(pq)    # node with smaller distance from those visited\n",
    "    if dist <= distances[node]: # only need to check shorter paths (greedy)\n",
    "      for neighbor in nx.neighbors(g, node):\n",
    "        neighbor_distance = dist + g[node][neighbor]['weight']\n",
    "        if neighbor_distance < distances[neighbor]:    # a shorter path was found\n",
    "          distances[neighbor] = neighbor_distance       # keep it,\n",
    "          heappush(pq, (neighbor_distance, neighbor) )  # and explore it\n",
    "\n",
    "  return distances\n",
    "\n",
    "shortest_path_dijkstra(g, 1)"
   ]
  },
  {
   "cell_type": "markdown",
   "metadata": {
    "id": "jhHiug1TiL_E"
   },
   "source": [
    "`networkx` includes all these algorithms:"
   ]
  },
  {
   "cell_type": "code",
   "execution_count": 51,
   "metadata": {
    "colab": {
     "base_uri": "https://localhost:8080/"
    },
    "executionInfo": {
     "elapsed": 249,
     "status": "ok",
     "timestamp": 1698759090144,
     "user": {
      "displayName": "Joao Pedro Neto",
      "userId": "16588413076175252494"
     },
     "user_tz": 0
    },
    "id": "y1NZdgW8IlcJ",
    "outputId": "4e4b3aaa-4717-40ea-ffd5-2e43fde90c86"
   },
   "outputs": [
    {
     "data": {
      "text/plain": [
       "[1, 2, 6, 3, 8]"
      ]
     },
     "execution_count": 51,
     "metadata": {},
     "output_type": "execute_result"
    }
   ],
   "source": [
    "nx.shortest_path(g, 1, 8, weight='weight', method='dijkstra')"
   ]
  },
  {
   "cell_type": "code",
   "execution_count": 52,
   "metadata": {
    "colab": {
     "base_uri": "https://localhost:8080/"
    },
    "executionInfo": {
     "elapsed": 528,
     "status": "ok",
     "timestamp": 1698759091866,
     "user": {
      "displayName": "Joao Pedro Neto",
      "userId": "16588413076175252494"
     },
     "user_tz": 0
    },
    "id": "1XVnTC8jiI1Q",
    "outputId": "a8975129-12dc-4862-9f27-352f717c307b"
   },
   "outputs": [
    {
     "data": {
      "text/plain": [
       "[1, 2, 6, 3, 8]"
      ]
     },
     "execution_count": 52,
     "metadata": {},
     "output_type": "execute_result"
    }
   ],
   "source": [
    "nx.shortest_path(g, 1, 8, weight='weight', method='bellman-ford')"
   ]
  },
  {
   "cell_type": "code",
   "execution_count": 53,
   "metadata": {
    "colab": {
     "base_uri": "https://localhost:8080/"
    },
    "executionInfo": {
     "elapsed": 263,
     "status": "ok",
     "timestamp": 1698765078296,
     "user": {
      "displayName": "Joao Pedro Neto",
      "userId": "16588413076175252494"
     },
     "user_tz": 0
    },
    "id": "LtNiGtTwiPcL",
    "outputId": "d617fe11-707f-4984-f111-dbf78fa1605e"
   },
   "outputs": [
    {
     "name": "stdout",
     "output_type": "stream",
     "text": [
      "paths from 1: [(1, 0), (2, 20), (4, 50), (7, 70), (6, 30), (3, 40), (8, 60), (5, inf)]\n",
      "paths from 2: [(2, 0), (6, 10), (1, 70), (4, 30), (7, 50), (3, 20), (8, 40), (5, inf)]\n",
      "paths from 4: [(4, 0), (3, 10), (7, 20), (1, 40), (2, 60), (6, 60), (8, 30), (5, inf)]\n",
      "paths from 7: [(7, 0), (1, 20), (2, 40), (4, 70), (6, 50), (3, 60), (8, 80), (5, inf)]\n",
      "paths from 6: [(6, 0), (3, 10), (4, 20), (1, 60), (2, 80), (7, 40), (8, 30), (5, inf)]\n",
      "paths from 3: [(3, 0), (4, 10), (8, 20), (6, 50), (1, 50), (2, 70), (7, 30), (5, inf)]\n",
      "paths from 8: [(8, 0), (1, inf), (2, inf), (4, inf), (7, inf), (6, inf), (3, inf), (5, inf)]\n",
      "paths from 5: [(5, 0), (2, 50), (7, 30), (1, 50), (4, 80), (6, 60), (3, 70), (8, 90)]\n"
     ]
    }
   ],
   "source": [
    "for a,b in nx.floyd_warshall(g).items():\n",
    "  print(f'paths from {a}:', list(b.items())) # (n,x) means it costs x to reach node n"
   ]
  },
  {
   "cell_type": "code",
   "execution_count": 54,
   "metadata": {
    "colab": {
     "base_uri": "https://localhost:8080/"
    },
    "executionInfo": {
     "elapsed": 252,
     "status": "ok",
     "timestamp": 1698765084533,
     "user": {
      "displayName": "Joao Pedro Neto",
      "userId": "16588413076175252494"
     },
     "user_tz": 0
    },
    "id": "erpqKLqnjapI",
    "outputId": "f3a05f3c-22ba-4372-ce98-dc9355db6ceb"
   },
   "outputs": [
    {
     "name": "stdout",
     "output_type": "stream",
     "text": [
      "paths from 1: [(1, [1]), (2, [1, 2]), (4, [1, 2, 6, 3, 4]), (7, [1, 2, 6, 3, 4, 7]), (6, [1, 2, 6]), (3, [1, 2, 6, 3]), (8, [1, 2, 6, 3, 8])]\n",
      "paths from 2: [(2, [2]), (6, [2, 6]), (3, [2, 6, 3]), (4, [2, 6, 3, 4]), (8, [2, 6, 3, 8]), (7, [2, 6, 3, 4, 7]), (1, [2, 6, 3, 4, 7, 1])]\n",
      "paths from 4: [(4, [4]), (3, [4, 3]), (7, [4, 7]), (8, [4, 3, 8]), (6, [4, 3, 6]), (1, [4, 7, 1]), (2, [4, 7, 1, 2])]\n",
      "paths from 7: [(7, [7]), (1, [7, 1]), (2, [7, 1, 2]), (4, [7, 1, 2, 6, 3, 4]), (6, [7, 1, 2, 6]), (3, [7, 1, 2, 6, 3]), (8, [7, 1, 2, 6, 3, 8])]\n",
      "paths from 6: [(6, [6]), (3, [6, 3]), (4, [6, 3, 4]), (8, [6, 3, 8]), (7, [6, 3, 4, 7]), (1, [6, 3, 4, 7, 1]), (2, [6, 3, 4, 7, 1, 2])]\n",
      "paths from 3: [(3, [3]), (4, [3, 4]), (8, [3, 8]), (6, [3, 6]), (7, [3, 4, 7]), (1, [3, 4, 7, 1]), (2, [3, 4, 7, 1, 2])]\n",
      "paths from 8: [(8, [8])]\n",
      "paths from 5: [(5, [5]), (2, [5, 2]), (7, [5, 7]), (1, [5, 7, 1]), (6, [5, 2, 6]), (4, [5, 2, 6, 3, 4]), (3, [5, 2, 6, 3]), (8, [5, 2, 6, 3, 8])]\n"
     ]
    }
   ],
   "source": [
    "for a,b in nx.johnson(g).items():\n",
    "  print(f'paths from {a}:', list(b.items())) # all paths are returned"
   ]
  },
  {
   "cell_type": "markdown",
   "metadata": {
    "id": "8HXUKfC_NxC4"
   },
   "source": [
    "The following function returns a path through all the nodes of a graph that minimizes the total cost (the path may pass through the same node multiple times). This variant of the minimum-cost path is known as the [Traveling Salesman Problem](https://en.wikipedia.org/wiki/Travelling_salesman_problem)."
   ]
  },
  {
   "cell_type": "markdown",
   "metadata": {
    "id": "iWRpNgT3EY0r"
   },
   "source": [
    "Consider the next example,"
   ]
  },
  {
   "cell_type": "code",
   "execution_count": 55,
   "metadata": {
    "colab": {
     "base_uri": "https://localhost:8080/",
     "height": 352
    },
    "executionInfo": {
     "elapsed": 449,
     "status": "ok",
     "timestamp": 1698759167829,
     "user": {
      "displayName": "Joao Pedro Neto",
      "userId": "16588413076175252494"
     },
     "user_tz": 0
    },
    "id": "_nIMNNUhoZEr",
    "outputId": "94552bf2-5418-41b3-b36d-2b78fcc0154e",
    "scrolled": true
   },
   "outputs": [
    {
     "data": {
      "image/png": "[encoded data removed]",
      "text/plain": [
       "<IPython.core.display.Image object>"
      ]
     },
     "metadata": {},
     "output_type": "display_data"
    }
   ],
   "source": [
    "g = nx.Graph()\n",
    "edges = [(1,2,20),(1,4,80),(1,7,90),(3,4,10),(3,6,50),(4,3,10),\n",
    "         (4,7,20),(5,2,50),(5,7,30),(6,3,10),(6,4,40),(7,1,20)]\n",
    "for a,b,w in edges:\n",
    "  g.add_edge(a,b, weight=w)\n",
    "\n",
    "showGraph(g, weights=True)"
   ]
  },
  {
   "cell_type": "markdown",
   "metadata": {
    "id": "0TDQauVeEcyD"
   },
   "source": [
    "Let's compute the shortest path thru all the nodes:"
   ]
  },
  {
   "cell_type": "code",
   "execution_count": 56,
   "metadata": {
    "colab": {
     "base_uri": "https://localhost:8080/"
    },
    "executionInfo": {
     "elapsed": 264,
     "status": "ok",
     "timestamp": 1698759189944,
     "user": {
      "displayName": "Joao Pedro Neto",
      "userId": "16588413076175252494"
     },
     "user_tz": 0
    },
    "id": "wJy6_JNVJUlI",
    "outputId": "a28d15a7-eaca-49ca-9ce2-6ac972a62912"
   },
   "outputs": [
    {
     "data": {
      "text/plain": [
       "[5, 2, 1, 7, 4, 3, 6, 3, 4]"
      ]
     },
     "execution_count": 56,
     "metadata": {},
     "output_type": "execute_result"
    }
   ],
   "source": [
    "from networkx.algorithms.approximation import traveling_salesman\n",
    "\n",
    "# This method provides an approximation (TSP is a hard problem)\n",
    "# cycle=False, does not need to end where it starts\n",
    "traveling_salesman.traveling_salesman_problem(g, cycle=False)"
   ]
  },
  {
   "cell_type": "markdown",
   "metadata": {
    "id": "6OJ9WlPBPLO4"
   },
   "source": [
    "Curiously, the Traveling Salesman Problem is much more computationally demanding, with an exponential complexity of $\\mathcal{O}(V \\cdot 2^V)$."
   ]
  },
  {
   "cell_type": "markdown",
   "metadata": {
    "id": "Pff4fNT2nhBF"
   },
   "source": [
    "### Cycle Detection"
   ]
  },
  {
   "cell_type": "markdown",
   "metadata": {
    "id": "ijGQMnDprG5U"
   },
   "source": [
    "We wish to detect cycles in this undirected graph,"
   ]
  },
  {
   "cell_type": "code",
   "execution_count": 57,
   "metadata": {
    "colab": {
     "base_uri": "https://localhost:8080/",
     "height": 352
    },
    "executionInfo": {
     "elapsed": 333,
     "status": "ok",
     "timestamp": 1698766965791,
     "user": {
      "displayName": "Joao Pedro Neto",
      "userId": "16588413076175252494"
     },
     "user_tz": 0
    },
    "id": "0s29nrsfpWLj",
    "outputId": "865beafa-b3c9-4754-9580-5e0a5c3eb072",
    "scrolled": true
   },
   "outputs": [
    {
     "data": {
      "image/png": "[encoded data removed]",
      "text/plain": [
       "<IPython.core.display.Image object>"
      ]
     },
     "metadata": {},
     "output_type": "display_data"
    }
   ],
   "source": [
    "g = nx.Graph()\n",
    "edges = [(1,2,20),(1,4,80),(1,7,90),(3,4,10),(3,6,50),(4,3,10),\n",
    "         (4,7,20),(5,2,50),(5,7,30),(6,3,10),(6,4,40),(7,1,20)]\n",
    "for a,b,w in edges:\n",
    "  g.add_edge(a,b, weight=w)\n",
    "\n",
    "showGraph(g, weights=True)"
   ]
  },
  {
   "cell_type": "markdown",
   "metadata": {
    "id": "Y9jiqWfTpjI_"
   },
   "source": [
    "There are several methods available for finding cycles in both directed and undirected graphs."
   ]
  },
  {
   "cell_type": "markdown",
   "metadata": {
    "id": "KvKTtfE4poXU"
   },
   "source": [
    "+ Function `find_cycle` returns a list of edges that make a cycle starting at a given node, the algorithm has complexity $\\mathcal{O}(V + E)$:"
   ]
  },
  {
   "cell_type": "code",
   "execution_count": 58,
   "metadata": {
    "colab": {
     "base_uri": "https://localhost:8080/"
    },
    "executionInfo": {
     "elapsed": 324,
     "status": "ok",
     "timestamp": 1698759241082,
     "user": {
      "displayName": "Joao Pedro Neto",
      "userId": "16588413076175252494"
     },
     "user_tz": 0
    },
    "id": "ZZ_J-dpWni07",
    "outputId": "8fea185b-5ab6-47a7-b565-6b69ee87354d"
   },
   "outputs": [
    {
     "data": {
      "text/plain": [
       "[(1, 2), (2, 5), (5, 7), (7, 1)]"
      ]
     },
     "execution_count": 58,
     "metadata": {},
     "output_type": "execute_result"
    }
   ],
   "source": [
    "nx.find_cycle(g, source=1)"
   ]
  },
  {
   "cell_type": "markdown",
   "metadata": {
    "id": "oaWZ8sJ-pxhI"
   },
   "source": [
    "+ Function `cycle_basis` returns all fundamental cycles of a graph, i.e., the simplest cycles that can compose all possible graph cycles. The function has  complexity $\\mathcal{O}(E^2\\cdot V / \\log V)$."
   ]
  },
  {
   "cell_type": "code",
   "execution_count": 59,
   "metadata": {
    "colab": {
     "base_uri": "https://localhost:8080/"
    },
    "executionInfo": {
     "elapsed": 291,
     "status": "ok",
     "timestamp": 1698759255154,
     "user": {
      "displayName": "Joao Pedro Neto",
      "userId": "16588413076175252494"
     },
     "user_tz": 0
    },
    "id": "eMTCprGzpc7m",
    "outputId": "4476eaa7-36f1-4a20-bbe3-b9086b75119c"
   },
   "outputs": [
    {
     "data": {
      "text/plain": [
       "[[1, 4, 7], [3, 6, 4], [2, 1, 7, 5]]"
      ]
     },
     "execution_count": 59,
     "metadata": {},
     "output_type": "execute_result"
    }
   ],
   "source": [
    "nx.cycle_basis(g)"
   ]
  },
  {
   "cell_type": "markdown",
   "metadata": {
    "id": "rtUj7o3NqjGq"
   },
   "source": [
    "+ Function `simple_cycles` returns all cycles of a directed graph with complexity $\\mathcal{O}(c(V + E))$, being $c$ the number of cycles."
   ]
  },
  {
   "cell_type": "code",
   "execution_count": 60,
   "metadata": {
    "colab": {
     "base_uri": "https://localhost:8080/",
     "height": 441
    },
    "executionInfo": {
     "elapsed": 1101,
     "status": "ok",
     "timestamp": 1698759294663,
     "user": {
      "displayName": "Joao Pedro Neto",
      "userId": "16588413076175252494"
     },
     "user_tz": 0
    },
    "id": "7Ai1PTpLqfR-",
    "outputId": "0495b0af-5262-41dd-cd28-48c1238e458c",
    "scrolled": true
   },
   "outputs": [
    {
     "data": {
      "image/png": "[encoded data removed]",
      "text/plain": [
       "<IPython.core.display.Image object>"
      ]
     },
     "metadata": {},
     "output_type": "display_data"
    },
    {
     "name": "stdout",
     "output_type": "stream",
     "text": [
      "[1, 4, 7]\n",
      "[1, 7]\n",
      "[3, 4]\n",
      "[3, 6]\n",
      "[3, 6, 4]\n"
     ]
    }
   ],
   "source": [
    "g = nx.DiGraph()\n",
    "for a,b,w in [(1,2,20),(1,4,80),(1,7,90),(3,4,10),(3,6,50),(4,3,10),\n",
    "              (4,7,20),(5,2,50),(5,7,30),(6,3,10),(6,4,40),(7,1,20)]:\n",
    "  g.add_edge(a,b, weight=w)\n",
    "\n",
    "showGraph(g, weights=True)\n",
    "\n",
    "for cycle in nx.simple_cycles(g):\n",
    "  print(cycle)"
   ]
  },
  {
   "cell_type": "markdown",
   "metadata": {
    "id": "12HO5rF2H-YJ"
   },
   "source": [
    "### Transitive Closure and Transitive Reduction"
   ]
  },
  {
   "cell_type": "markdown",
   "metadata": {
    "id": "yfdaKKluIBDD"
   },
   "source": [
    "The [transitive closure](https://en.wikipedia.org/wiki/Transitive_closure) of a directed graph is a new directed graph in which, for each node, an edge is added to all of its descendants.\n",
    "\n",
    "This procedure can be useful if there's the need to repeatedly ask whether a given node is a successor of another. After the transitive closure, we simply check if the nodes in question share an edge. It's a costly process, but needs to be executed only once."
   ]
  },
  {
   "cell_type": "markdown",
   "metadata": {
    "id": "fbmd8L3dIVBf"
   },
   "source": [
    "An example:"
   ]
  },
  {
   "cell_type": "code",
   "execution_count": 61,
   "metadata": {
    "colab": {
     "base_uri": "https://localhost:8080/",
     "height": 220
    },
    "executionInfo": {
     "elapsed": 406,
     "status": "ok",
     "timestamp": 1698759332148,
     "user": {
      "displayName": "Joao Pedro Neto",
      "userId": "16588413076175252494"
     },
     "user_tz": 0
    },
    "id": "6QBDnYV5qpB6",
    "outputId": "774b47fa-9dce-4f66-e795-6fc32614bad7",
    "scrolled": true
   },
   "outputs": [
    {
     "data": {
      "image/png": "[encoded data removed]",
      "text/plain": [
       "<IPython.core.display.Image object>"
      ]
     },
     "metadata": {},
     "output_type": "display_data"
    }
   ],
   "source": [
    "g = makeGraph(edges=[(1,2),(4,2),(2,3),(1,5),(5,6),(4,3)], digraph=True)\n",
    "showGraph(g)"
   ]
  },
  {
   "cell_type": "markdown",
   "metadata": {
    "id": "QSt7us9cIdoI"
   },
   "source": [
    "Node $1$ has two sucessors, $3$ and $6$, without direct edges. These will be added by the transitive closure."
   ]
  },
  {
   "cell_type": "code",
   "execution_count": 62,
   "metadata": {
    "colab": {
     "base_uri": "https://localhost:8080/",
     "height": 220
    },
    "executionInfo": {
     "elapsed": 384,
     "status": "ok",
     "timestamp": 1698759336809,
     "user": {
      "displayName": "Joao Pedro Neto",
      "userId": "16588413076175252494"
     },
     "user_tz": 0
    },
    "id": "c-3JiGueIpht",
    "outputId": "40ac7d3c-ba4a-4aed-9a03-3d657e11dd99",
    "scrolled": true
   },
   "outputs": [
    {
     "data": {
      "image/png": "[encoded data removed]",
      "text/plain": [
       "<IPython.core.display.Image object>"
      ]
     },
     "metadata": {},
     "output_type": "display_data"
    }
   ],
   "source": [
    "g1 = nx.transitive_closure(g)\n",
    "showGraph(g1)"
   ]
  },
  {
   "cell_type": "markdown",
   "metadata": {
    "id": "WSb191NQI2yU"
   },
   "source": [
    "[Transitive reduction](https://en.wikipedia.org/wiki/Transitive_reduction), also known as the minimum equivalent graph, is an operation that performs almost the opposite of transitive closure. It removes edges that can be deduced through transitivity. For example, in the previous graph, node 1 doesn't need to have an edge to 6 if another successor, node 5, can reach it."
   ]
  },
  {
   "cell_type": "code",
   "execution_count": 63,
   "metadata": {
    "colab": {
     "base_uri": "https://localhost:8080/",
     "height": 220
    },
    "executionInfo": {
     "elapsed": 713,
     "status": "ok",
     "timestamp": 1698759345675,
     "user": {
      "displayName": "Joao Pedro Neto",
      "userId": "16588413076175252494"
     },
     "user_tz": 0
    },
    "id": "LsrqRPdbJWNl",
    "outputId": "abf0d4e4-10f5-4c3c-ecf9-b3282f51dd0c",
    "scrolled": true
   },
   "outputs": [
    {
     "data": {
      "image/png": "[encoded data removed]",
      "text/plain": [
       "<IPython.core.display.Image object>"
      ]
     },
     "metadata": {},
     "output_type": "display_data"
    }
   ],
   "source": [
    "g2 = nx.transitive_reduction(g1)\n",
    "showGraph(g2)"
   ]
  },
  {
   "cell_type": "markdown",
   "metadata": {
    "id": "doUR2K7mJu9u"
   },
   "source": [
    "Notice that the original $(4,3)$ edge was also removed. This shows that transitive reduction is not the inverse operation of transitive closure."
   ]
  },
  {
   "cell_type": "markdown",
   "metadata": {
    "id": "JwX063j2RMYI"
   },
   "source": [
    "Both operations have complexity $\\mathcal{O}(V^3)$"
   ]
  },
  {
   "cell_type": "markdown",
   "metadata": {
    "id": "DjcQhJEDVnhM"
   },
   "source": [
    "### Graph Coloring"
   ]
  },
  {
   "cell_type": "markdown",
   "metadata": {
    "id": "W98G6r_4V83Q"
   },
   "source": [
    "Coloring a graph with n colors means assigning a color to each node in such a way that no pair of neighboring nodes share the same color. This is a fundamental problem in graph theory and has many practical applications, such as scheduling and map coloring."
   ]
  },
  {
   "cell_type": "markdown",
   "metadata": {
    "id": "LRU5qzEmYnKE"
   },
   "source": [
    "Let's first select some [colors](https://graphviz.org/doc/info/colors.html) available on Graphviz,"
   ]
  },
  {
   "cell_type": "code",
   "execution_count": 64,
   "metadata": {
    "id": "h182gy6RYl7h"
   },
   "outputs": [],
   "source": [
    "colors = ['green2', 'gold3', 'salmon', 'blue', 'red3', 'darkviolet', 'cyan']"
   ]
  },
  {
   "cell_type": "markdown",
   "metadata": {
    "id": "bV1M2VYTYyr2"
   },
   "source": [
    "and use the following graph,"
   ]
  },
  {
   "cell_type": "code",
   "execution_count": 65,
   "metadata": {
    "colab": {
     "base_uri": "https://localhost:8080/",
     "height": 292
    },
    "executionInfo": {
     "elapsed": 433,
     "status": "ok",
     "timestamp": 1698769122952,
     "user": {
      "displayName": "Joao Pedro Neto",
      "userId": "16588413076175252494"
     },
     "user_tz": 0
    },
    "id": "AMp-8PIxWKPv",
    "outputId": "5e80eceb-b179-41b1-b59c-db78d560ff11",
    "scrolled": true
   },
   "outputs": [
    {
     "data": {
      "image/png": "[encoded data removed]",
      "text/plain": [
       "<IPython.core.display.Image object>"
      ]
     },
     "metadata": {},
     "output_type": "display_data"
    }
   ],
   "source": [
    "g = makeGraph(edges=[(1,2),(1,4),(1,7),(3,4),(3,6),(4,7),(5,2),(5,7),(6,3),(7,1)])\n",
    "showGraph(g)"
   ]
  },
  {
   "cell_type": "markdown",
   "metadata": {
    "id": "GdIH4ojEY23d"
   },
   "source": [
    "To color it:"
   ]
  },
  {
   "cell_type": "code",
   "execution_count": 66,
   "metadata": {
    "colab": {
     "base_uri": "https://localhost:8080/",
     "height": 292
    },
    "executionInfo": {
     "elapsed": 310,
     "status": "ok",
     "timestamp": 1698769124318,
     "user": {
      "displayName": "Joao Pedro Neto",
      "userId": "16588413076175252494"
     },
     "user_tz": 0
    },
    "id": "cymWIC03EpPt",
    "outputId": "885f5901-1fbb-493f-d296-3a3b5c31f6e7"
   },
   "outputs": [
    {
     "data": {
      "image/png": "[encoded data removed]",
      "text/plain": [
       "<IPython.core.display.Image object>"
      ]
     },
     "metadata": {},
     "output_type": "display_data"
    }
   ],
   "source": [
    "coloring = nx.coloring.greedy_color(g)\n",
    "\n",
    "for node,i in coloring.items():\n",
    "  g.nodes[node]['color'] = colors[i]\n",
    "\n",
    "showGraph(g)"
   ]
  },
  {
   "cell_type": "markdown",
   "metadata": {
    "id": "F6lvKeEAaj8T"
   },
   "source": [
    "A variant of this problem is to determine whether a graph can be colored with only two colors. A graph with this property is called a [bipartite graph](https://en.wikipedia.org/wiki/Bipartite_graph). In a bipartite graph, you can divide the nodes into two sets, and there are no edges that connect nodes within the same set. Bipartite graphs have numerous applications, such as modeling relationships between two distinct classes of objects."
   ]
  },
  {
   "cell_type": "markdown",
   "metadata": {
    "id": "86TxQIp1fNPO"
   },
   "source": [
    "Let's consider an example where each edge connects an even-numbered node to an odd-numbered node. This graph is necessarily bipartite (can you see why?)."
   ]
  },
  {
   "cell_type": "code",
   "execution_count": 67,
   "metadata": {
    "colab": {
     "base_uri": "https://localhost:8080/",
     "height": 238
    },
    "executionInfo": {
     "elapsed": 4,
     "status": "ok",
     "timestamp": 1698769126389,
     "user": {
      "displayName": "Joao Pedro Neto",
      "userId": "16588413076175252494"
     },
     "user_tz": 0
    },
    "id": "MQdHuhLdblBf",
    "outputId": "c4cd5d42-44fe-4dc1-b588-5df700f5da99"
   },
   "outputs": [
    {
     "name": "stdout",
     "output_type": "stream",
     "text": [
      "True\n"
     ]
    },
    {
     "data": {
      "image/png": "[encoded data removed]",
      "text/plain": [
       "<IPython.core.display.Image object>"
      ]
     },
     "metadata": {},
     "output_type": "display_data"
    }
   ],
   "source": [
    "from networkx.algorithms.bipartite import color, is_bipartite\n",
    "\n",
    "g = makeGraph(edges=[(1,2),(1,4),(1,6),(3,2),(3,6),(4,1),(4,5),(5,6)])\n",
    "coloring = color(g)\n",
    "\n",
    "for node,i in coloring.items():\n",
    "  g.nodes[node]['color'] = colors[i]\n",
    "\n",
    "print(is_bipartite(g))\n",
    "showGraph(g)"
   ]
  },
  {
   "cell_type": "markdown",
   "metadata": {
    "id": "1MZtAk8OuJfu"
   },
   "source": [
    "In a bipartite graph, you may want to perform a node matching, which means pairing each node with a neighbor of a different color. To achieve this, you can use the `minimum_weight_full_matching` function, which finds the minimum-cost matching (i.e., it minimizes the sum of the selected edges for the matching)."
   ]
  },
  {
   "cell_type": "code",
   "execution_count": 70,
   "metadata": {
    "colab": {
     "base_uri": "https://localhost:8080/",
     "height": 220
    },
    "executionInfo": {
     "elapsed": 310,
     "status": "ok",
     "timestamp": 1698769157573,
     "user": {
      "displayName": "Joao Pedro Neto",
      "userId": "16588413076175252494"
     },
     "user_tz": 0
    },
    "id": "qbTiurB2t20N",
    "outputId": "9d0e9005-a00a-4656-f8c3-edb6c5c67e86",
    "scrolled": true
   },
   "outputs": [
    {
     "data": {
      "image/png": "[encoded data removed]",
      "text/plain": [
       "<IPython.core.display.Image object>"
      ]
     },
     "metadata": {},
     "output_type": "display_data"
    }
   ],
   "source": [
    "from networkx.algorithms.bipartite import minimum_weight_full_matching\n",
    "\n",
    "g = makeGraph(edges=[(1,2),(1,4),(1,6),(3,2),(3,6),(4,1),(4,5),(5,6)])\n",
    "pairing = minimum_weight_full_matching(g)\n",
    "\n",
    "for i,(a,b) in enumerate(pairing.items()):\n",
    "  g.edges[a,b]['color'] = colors[i]\n",
    "  g.edges[a,b]['penwidth'] = 5\n",
    "  #g.nodes[a]['style'] = 'filled'\n",
    "  #g.nodes[a]['fillcolor'] = colors[i]\n",
    "  #g.nodes[b]['fillcolor'] = colors[i]\n",
    "showGraph(g)"
   ]
  },
  {
   "cell_type": "markdown",
   "metadata": {
    "id": "kmpu5pD7blUh"
   },
   "source": [
    "The `networkx` module has another feature related to graph coloring, the `equitable_color` function. This function aims to use all available colors while trying to color an equal number of nodes for each color. It helps achieve a balanced coloring of the graph with respect to the number of nodes assigned to each color."
   ]
  },
  {
   "cell_type": "code",
   "execution_count": null,
   "metadata": {
    "colab": {
     "base_uri": "https://localhost:8080/",
     "height": 292
    },
    "executionInfo": {
     "elapsed": 602,
     "status": "ok",
     "timestamp": 1698769209556,
     "user": {
      "displayName": "Joao Pedro Neto",
      "userId": "16588413076175252494"
     },
     "user_tz": 0
    },
    "id": "6rnEWtGBa7wJ",
    "outputId": "4bdbbc3c-5ed3-428f-ff8b-3681d07cab3a"
   },
   "outputs": [],
   "source": [
    "g = makeGraph(edges=[(1,2),(1,4),(1,7),(3,4),(3,6),(4,7),(5,2),(5,7),(6,3),(7,1),(2,8)])\n",
    "maxDegree = max(degree for _,degree in g.degree())\n",
    "coloring = nx.coloring.equitable_color(g, num_colors=maxDegree+1)\n",
    "\n",
    "for node,i in coloring.items():\n",
    "  g.nodes[node]['color'] = colors[i]\n",
    "\n",
    "showGraph(g)"
   ]
  },
  {
   "cell_type": "markdown",
   "metadata": {
    "id": "PPcGpXPaPi07"
   },
   "source": [
    "## An application: 2-SAT"
   ]
  },
  {
   "cell_type": "markdown",
   "metadata": {
    "id": "Uj6RRTh0rCJZ"
   },
   "source": [
    "Let's consider the problem of satisfying a 2-CNF formula, which is a conjunction of disjunctions of two Boolean variables (or their negations).\n",
    "\n",
    "An example of a 2-CNF formula: `(x1 ∨ x2) ∧ (¬x1 ∨ ¬x2)`\n",
    "\n",
    "Is it possible to satisfy this example? Yes, we can assign `x1 = True` and `x2 = False`.\n",
    "\n",
    "Another example: `(x1 ∨ x2) ∧ (¬x1 ∨ x2) ∧ (¬x2 ∨ x3) ∧ (¬x2 ∨¬x3)`\n",
    "\n",
    "In this case, it's not possible to satisfy the problem. We could calculate the eight rows of the truth table to verify this fact.\n",
    "\n",
    "This problem is called 2-SAT because we aim to satisfy clauses with two variables."
   ]
  },
  {
   "cell_type": "markdown",
   "metadata": {
    "id": "QqQTmg5hiwc_"
   },
   "source": [
    "The more general problem (where a disjunction can have $n$ variables) is called SAT, and it is $\\mathcal{NP}$-complete. This complexity class represents problems for which no polynomial-time solutions are known, only exponential ones.\n",
    "\n",
    "However, the 2-SAT problem is polynomial in complexity and can be solved using graph operations."
   ]
  },
  {
   "cell_type": "markdown",
   "metadata": {
    "id": "PDO3xLKpi9hc"
   },
   "source": [
    "The first step is to understand how a 2-CNF formula can be translated into a graph.\n",
    "\n",
    "To do this, we construct what is called an _implication graph_. We know that `(a ∨ b)` is equivalent to `(¬a ⇒ b)` and `(¬b ⇒ a)`. We use this rule of logic to represent these implications as directed edges in a graph. Each pair of variables `x` and `¬x` will be represented by two distinct nodes.\n",
    "\n",
    "Let's do an example. To simplify, we use positive integers `i` to represent `xi` and their negatives `-i` to represent `¬xi`."
   ]
  },
  {
   "cell_type": "code",
   "execution_count": 71,
   "metadata": {
    "id": "Gn4L-cQqrcAb"
   },
   "outputs": [],
   "source": [
    "problem = [(1,2), (2,-3)]  # represents (x1 ∨ x2) ∧ (x2 ∨ ¬x3)"
   ]
  },
  {
   "cell_type": "markdown",
   "metadata": {
    "id": "oo9NWAIrtMiu"
   },
   "source": [
    "The next fuction defines the implication graph:"
   ]
  },
  {
   "cell_type": "code",
   "execution_count": 72,
   "metadata": {
    "id": "kAZWaQ7EtQJx"
   },
   "outputs": [],
   "source": [
    "def implicationGraph(problem):\n",
    "  nodes = {x for pair in problem for clause in pair for x in (-clause, clause)}\n",
    "  edges = [(-a,b) for a,b in problem] + [(-b,a) for a,b in problem]\n",
    "  return makeGraph(nodes, edges, digraph=True)"
   ]
  },
  {
   "cell_type": "markdown",
   "metadata": {
    "id": "hHYCoMXXtXb-"
   },
   "source": [
    "This is its structure,"
   ]
  },
  {
   "cell_type": "code",
   "execution_count": 73,
   "metadata": {
    "colab": {
     "base_uri": "https://localhost:8080/",
     "height": 148
    },
    "executionInfo": {
     "elapsed": 307,
     "status": "ok",
     "timestamp": 1698759601766,
     "user": {
      "displayName": "Joao Pedro Neto",
      "userId": "16588413076175252494"
     },
     "user_tz": 0
    },
    "id": "ASBgSeY8taip",
    "outputId": "75928e4a-b644-421c-a454-ce14606c0fa3"
   },
   "outputs": [
    {
     "data": {
      "image/png": "[encoded data removed]",
      "text/plain": [
       "<IPython.core.display.Image object>"
      ]
     },
     "metadata": {},
     "output_type": "display_data"
    }
   ],
   "source": [
    "showGraph(implicationGraph(problem))"
   ]
  },
  {
   "cell_type": "markdown",
   "metadata": {
    "id": "47CvOah7Pl6O"
   },
   "source": [
    "Creating this representation is useful for solving 2-SAT due to the following property:\n",
    "\n",
    "<center>A 2-CNF formula is satisfiable if and only if no variable x<br/> belongs to the same strong connected component (SCC) as its negation ¬x.</center>\n"
   ]
  },
  {
   "cell_type": "markdown",
   "metadata": {
    "id": "cI2i1HE9jugA"
   },
   "source": [
    "The [algorithm](https://en.wikipedia.org/wiki/2-satisfiability#Strongly_connected_components) for finding the variable assignment to satisfy the problem is as follows:\n",
    "\n",
    "1. Calculate the SCCs (Strongly Connected Components) of the implication graph.\n",
    "\n",
    "2. Check if any variable and its negation belong to the same SCC. If they do, the problem has no solution, and the algorithm can stop.\n",
    "\n",
    "3. Build the [condensation](https://en.wikipedia.org/wiki/Strongly_connected_component#Definitions) of the implication graph, which means contracting each SCC into a single node (the `networkx` module has a function for this purpose).\n",
    "\n",
    "4. Perform a topological sort of the condensation graph and reverse that order.\n",
    "\n",
    "5. For each component in the reversed order, assign the value true to each of its variables (if an assignment hasn't already been made for that variable)."
   ]
  },
  {
   "cell_type": "markdown",
   "metadata": {
    "id": "paWnYoDDWp2D"
   },
   "source": [
    "The steps described in the algorithm are not trivial, and there are some complex calculations involved. Fortunately, many of these difficulties can be resolved using `networkx` module's API.\n",
    "\n",
    "The next function implements the algorithm:"
   ]
  },
  {
   "cell_type": "code",
   "execution_count": 74,
   "metadata": {
    "id": "HR7Dr1TrP-QR"
   },
   "outputs": [],
   "source": [
    "def solve2SAT(problem):\n",
    "  g = implicationGraph(problem)\n",
    "\n",
    "  sccs = nx.strongly_connected_components(g) # compute the SCCs\n",
    "  for scc in sccs:\n",
    "    if any(-node in scc for node in scc):    # if any SSC has both x and ¬x...\n",
    "      return [None]                          #  contradiction found\n",
    "\n",
    "  condensed = nx.condensation(g)             # condensation of the implication graph\n",
    "  reversed_topsort = reversed(list(nx.topological_sort(condensed)))\n",
    "  true_assignments = set()                   # which variables will be assigned as true\n",
    "  for condensed_node in reversed_topsort:\n",
    "    # 'members' has the nodes of the SSC that the condensed_node represents\n",
    "    for var in condensed.nodes[condensed_node]['members']:\n",
    "      if var not in true_assignments and -var not in true_assignments: # if not yet assigned\n",
    "        true_assignments.add(var)\n",
    "  return true_assignments"
   ]
  },
  {
   "cell_type": "markdown",
   "metadata": {
    "id": "axbOHvkHWkXZ"
   },
   "source": [
    "Some problem examples:"
   ]
  },
  {
   "cell_type": "code",
   "execution_count": 75,
   "metadata": {
    "colab": {
     "base_uri": "https://localhost:8080/"
    },
    "executionInfo": {
     "elapsed": 241,
     "status": "ok",
     "timestamp": 1698759673363,
     "user": {
      "displayName": "Joao Pedro Neto",
      "userId": "16588413076175252494"
     },
     "user_tz": 0
    },
    "id": "7YGleJUKPvtY",
    "outputId": "8cf3e476-7196-4b66-d57f-1a84dc3e6095"
   },
   "outputs": [
    {
     "data": {
      "text/plain": [
       "{-1, 2, 3}"
      ]
     },
     "execution_count": 75,
     "metadata": {},
     "output_type": "execute_result"
    }
   ],
   "source": [
    "#problem = [(1,2),(2,-3)]                # (a or b) and (b or ¬c)\n",
    "problem = [(-3,2), (2,3),(-2,3),(-3,-1)] # (¬c or b) and (b or c) and (¬b or c) and (¬c or ¬a)\n",
    "#problem = [(1,2),(-1,2),(-2,3),(-2,-3)] # unsatisfiable problem\n",
    "\n",
    "solve2SAT(problem)"
   ]
  },
  {
   "cell_type": "markdown",
   "metadata": {
    "id": "R9ZjhhG822t8"
   },
   "source": [
    "## Exercises"
   ]
  },
  {
   "cell_type": "markdown",
   "metadata": {
    "id": "QjeBJYPoG3GJ"
   },
   "source": [
    "Consider the various divisors of a positive integer $n$. If we connect these divisors according to the prime factors of $n$, we obtain a lattice. Let's look at an example for $n=120$ (the prime factors of $120$ are $2, 3, 5$):\n",
    "\n",
    "<br>\n",
    "\n",
    "<center><img src='https://raw.githubusercontent.com/jpneto/Prog.I/master/imgs/ex_divisors_lattice.gif' width=300px></center>"
   ]
  },
  {
   "cell_type": "markdown",
   "metadata": {
    "id": "JAlJIw29HnXH"
   },
   "source": [
    "The following functions are available:\n",
    "\n",
    "- `primefactors`: returns a list of prime factors of a given positive integer.\n",
    "\n",
    "- `divisors`: returns a list of divisors of a given positive integer."
   ]
  },
  {
   "cell_type": "code",
   "execution_count": null,
   "metadata": {
    "id": "22GqBE9AHX0N"
   },
   "outputs": [],
   "source": [
    "from sympy import primefactors\n",
    "\n",
    "def divisors(n):\n",
    "  return [i for i in range(1,n+1) if n%i==0]"
   ]
  },
  {
   "cell_type": "markdown",
   "metadata": {
    "id": "VxzqU8mmHky9"
   },
   "source": [
    "<font size=\"+4\" color=\"blue;green\"><b>?</b></font> Define function `factorsGraph` that takes a positive integer $n$ and produces a visualization of a graph with the same structure to the example above."
   ]
  },
  {
   "cell_type": "code",
   "execution_count": null,
   "metadata": {
    "id": "E096ca0mIY13"
   },
   "outputs": [],
   "source": [
    "def factorsGraph(n):\n",
    "  pass"
   ]
  },
  {
   "cell_type": "markdown",
   "metadata": {
    "id": "eg0HBHGX7Zms"
   },
   "source": [
    "\n",
    "\n",
    "---\n",
    "\n"
   ]
  },
  {
   "cell_type": "markdown",
   "metadata": {
    "id": "mnJOcaOeEXwu"
   },
   "source": [
    "Ana has a set of tasks to complete. Each task is numbered, and some can only begin when others finish. The pair `(i, j)` indicates that task `i` must be completed before task `j` can start. Ana can only perform one task at a time.\n",
    "\n",
    "<font size=\"+4\" color=\"blue;green\"><b>?</b></font> Define predicate `isPossible` that takes a list of task constraints and checks if Ana can perform all the tasks without infracting the imposed constraints."
   ]
  },
  {
   "cell_type": "code",
   "execution_count": null,
   "metadata": {
    "id": "aMVHZ06ADaoA"
   },
   "outputs": [],
   "source": [
    "tasks1 = [(8,9),(1,4),(1,2),(4,2),(4,3),(3,2),(5,2),(3,5),(8,2),(8,6)]\n",
    "tasks2 = [(1,2),(2,3),(3,4),(4,1)]"
   ]
  },
  {
   "cell_type": "code",
   "execution_count": null,
   "metadata": {
    "id": "iiN4Zp-sE6ZR"
   },
   "outputs": [],
   "source": [
    "def isPossible(tasks):\n",
    "  ..."
   ]
  },
  {
   "cell_type": "code",
   "execution_count": null,
   "metadata": {
    "id": "mA69BnVIE-9o"
   },
   "outputs": [],
   "source": [
    "assert     isPossible(tasks1)\n",
    "assert not isPossible(tasks2)"
   ]
  },
  {
   "cell_type": "markdown",
   "metadata": {
    "id": "XFoQF4bQGB-v"
   },
   "source": [
    "\n",
    "\n",
    "---\n",
    "\n"
   ]
  },
  {
   "cell_type": "markdown",
   "metadata": {
    "id": "QbhFmEHnS0je"
   },
   "source": [
    "In a class of $n$ students, there is one and only one popular student whom the rest of the class considers as a friend. We will represent the friendship relations with a list of pairs `(i, j)` which indicates that the student with number `i` is a friend of the student with number `j` (please note that friendships are not necessarily symmetric).\n",
    "\n",
    "<font size=\"+4\" color=\"blue;green\"><b>?</b></font> Define function `bestFriend` that, given a list of friendships, returns the number of the popular student."
   ]
  },
  {
   "cell_type": "code",
   "execution_count": null,
   "metadata": {
    "id": "yzFCj566SttS"
   },
   "outputs": [],
   "source": [
    "friends = [(1,2),(2,1),(1,3),(2,3),\n",
    "           (4,3),(3,2),(3,5),(5,3),\n",
    "           (2,5),(6,3),(3,7),(7,3),\n",
    "          ]"
   ]
  },
  {
   "cell_type": "code",
   "execution_count": null,
   "metadata": {
    "id": "KNr2-gJVT-uJ"
   },
   "outputs": [],
   "source": [
    "def bestFriend(friends):\n",
    "  pass"
   ]
  },
  {
   "cell_type": "code",
   "execution_count": null,
   "metadata": {
    "id": "hyLA-0JcUr_f"
   },
   "outputs": [],
   "source": [
    "assert bestFriend(friends) == 3"
   ]
  },
  {
   "cell_type": "markdown",
   "metadata": {
    "id": "zhdtBiBZSsfJ"
   },
   "source": [
    "\n",
    "\n",
    "---\n",
    "\n"
   ]
  },
  {
   "cell_type": "markdown",
   "metadata": {
    "id": "tJ0otrTodZAh"
   },
   "source": [
    "We received a report from a prison that lists documented alliances between various pairs of detainees. It is known that there are only alliances between members of the same gang, and there are no alliances between members of different gangs. Since the exact number of gangs is unknown, it was important to have an estimate of the actual number based on the gathered information.\n",
    "\n",
    "<font size=\"+4\" color=\"blue;green\"><b>?</b></font> Define funtion `n_gangs` that, given a list of alliances, returns the minimal possible number of prison _gangs_."
   ]
  },
  {
   "cell_type": "code",
   "execution_count": null,
   "metadata": {
    "id": "9570GEqQenpu"
   },
   "outputs": [],
   "source": [
    "alliances = [(1,4),(4,13),(13,22),(31,13),(1,13),(2,8),(8,14),(14,23),(44,23),\n",
    "             (3,6),(6,12),(45,12),(27,15),(15,45),(91,92)]"
   ]
  },
  {
   "cell_type": "code",
   "execution_count": null,
   "metadata": {
    "id": "zJQ-PG5efOdO"
   },
   "outputs": [],
   "source": [
    "def n_gangs(alliances):\n",
    "  pass"
   ]
  },
  {
   "cell_type": "code",
   "execution_count": null,
   "metadata": {
    "id": "osAyFlbBfQoa"
   },
   "outputs": [],
   "source": [
    "assert n_gangs(alliances) == 4"
   ]
  },
  {
   "cell_type": "markdown",
   "metadata": {
    "id": "lk9F4Pa_dYIX"
   },
   "source": [
    "\n",
    "\n",
    "---\n",
    "\n"
   ]
  },
  {
   "cell_type": "markdown",
   "metadata": {
    "id": "JRufPVi_DD-u"
   },
   "source": [
    "Jorge has to take a set of courses, and some of them have mandatory prerequisites."
   ]
  },
  {
   "cell_type": "code",
   "execution_count": null,
   "metadata": {
    "id": "Hf7AFueJBhkO"
   },
   "outputs": [],
   "source": [
    "precedencias = {\n",
    "  'Calc II'    : ['Calc I'],\n",
    "  'Calc III'   : ['Calc I', 'Calc II'],\n",
    "  'Prog II'    : ['Prog I'],\n",
    "  'Otimizacao' : ['Calc I', 'Matª Discreta'],\n",
    "  'Estatistica': ['Probabilidade', 'Calc I'],\n",
    "  'Base Dados' : ['Prog II', 'Otimizacao'],\n",
    "}"
   ]
  },
  {
   "cell_type": "markdown",
   "metadata": {
    "id": "UGK7AIAdRHlS"
   },
   "source": [
    "<font size=\"+4\" color=\"blue;green\"><b>?</b></font> Determine a sequence of courses that respects the prerequisites if the courses are taken in that order."
   ]
  },
  {
   "cell_type": "markdown",
   "metadata": {
    "id": "faiQU8zHRdZf"
   },
   "source": [
    "\n",
    "\n",
    "---\n",
    "\n"
   ]
  },
  {
   "cell_type": "markdown",
   "metadata": {
    "id": "0NRoey62-T_X"
   },
   "source": [
    "Let's consider in this problem only prime numbers with four digits.\n",
    "\n",
    "The following function is used to define list `ps` with all four-number prime numbers."
   ]
  },
  {
   "cell_type": "code",
   "execution_count": null,
   "metadata": {
    "id": "pDHecZgS7aVX"
   },
   "outputs": [],
   "source": [
    " def primes(n):\n",
    "  \"\"\" Returns a list of primes < n\n",
    "      ref: https://stackoverflow.com/a/3035188 \"\"\"\n",
    "  sieve = [True] * n\n",
    "  for i in range(3,int(n**0.5)+1,2):\n",
    "    if sieve[i]:\n",
    "      sieve[i*i::2*i]=[False]*((n-i*i-1)//(2*i)+1)\n",
    "  return [2] + [i for i in range(3,n,2) if sieve[i]]\n",
    "\n",
    "ps = [p for p in primes(10_000) if p>999]  # primes with four digits"
   ]
  },
  {
   "cell_type": "markdown",
   "metadata": {
    "id": "X-PAANGQ-hTs"
   },
   "source": [
    "We consider two numbers to be neighbors if they differ by only a single digit. For example, 1033 and 1031 are neighbors, but 1033 and 1051 are not.\n",
    "\n",
    "The following predicate checks if two numbers are neighbors."
   ]
  },
  {
   "cell_type": "code",
   "execution_count": null,
   "metadata": {
    "id": "tF_WOC6R7pPP"
   },
   "outputs": [],
   "source": [
    "def adjacent(p1, p2, digits=4):\n",
    "  return sum(d1==d2 for d1,d2 in zip(str(p1), str(p2))) == digits-1"
   ]
  },
  {
   "cell_type": "markdown",
   "metadata": {
    "id": "2vb_UCSX-3jk"
   },
   "source": [
    "Let a _mutation_ be the change of only one digit in a prime number, resulting in another prime number. For example, the change from $1033$ to $1031$ is a mutation. However, the change from $1033$ to $1034$ is not a mutation because $1034$ is not prime."
   ]
  },
  {
   "cell_type": "markdown",
   "metadata": {
    "id": "kzb_SJqi9_Wr"
   },
   "source": [
    "<font size=\"+4\" color=\"blue;green\"><b>?</b></font> Given two four-digit prime numbers, $p_1$ and $p_2$, calculate the minimum number of mutations required to go from $p_1$ to $p_2$.\n",
    "\n",
    "For example, given $p_1 = 1033$ and $p_2 = 8179$, it takes a minimum of six mutations: $1033 \\rightarrow 1031 \\rightarrow 1051 \\rightarrow 1151 \\rightarrow 1171 \\rightarrow 8171 \\rightarrow 8179$."
   ]
  },
  {
   "cell_type": "code",
   "execution_count": null,
   "metadata": {
    "id": "Er9TT8xEAkSo"
   },
   "outputs": [],
   "source": []
  },
  {
   "cell_type": "markdown",
   "metadata": {
    "id": "9taGwSOuDZcX"
   },
   "source": [
    "\n",
    "\n",
    "---\n",
    "\n"
   ]
  },
  {
   "cell_type": "markdown",
   "metadata": {
    "id": "FIrLevRxGC8A"
   },
   "source": [
    "The kingdom of graffiti has a set of cities connected by one-way roads (yes, it's strange). It has been decided to name one of their cities as the royal city. The only condition is that all cities must be able to reach it via the kingdom's roads. Let's assume that there is at least one city meeting these conditions.\n",
    "\n",
    "<font size=\"+4\" color=\"blue;green\"><b>?</b></font> Define function `candidates` that takes a list of pairs, where `(i, j)` describes the road from city `i` to city `j`, and returns the set of cities that can become royal."
   ]
  },
  {
   "cell_type": "markdown",
   "metadata": {
    "id": "Rs3cIG7yK4Tl"
   },
   "source": [
    "An example of a list of roads:"
   ]
  },
  {
   "cell_type": "code",
   "execution_count": null,
   "metadata": {
    "id": "VsixGg2hJw89"
   },
   "outputs": [],
   "source": [
    "cities = [(4,4),(1,2),(3,2),(4,3),(2,1)]"
   ]
  },
  {
   "cell_type": "code",
   "execution_count": null,
   "metadata": {
    "id": "FTTZ5Qc5NQEH"
   },
   "outputs": [],
   "source": [
    "def candidates(roads):\n",
    "  pass"
   ]
  },
  {
   "cell_type": "code",
   "execution_count": null,
   "metadata": {
    "id": "jdSFxN8JNRce"
   },
   "outputs": [],
   "source": [
    "assert candidates(cities) == {1,2}"
   ]
  },
  {
   "cell_type": "markdown",
   "metadata": {
    "id": "GNE3TlS7Kx02"
   },
   "source": [
    "\n",
    "\n",
    "---\n",
    "\n"
   ]
  },
  {
   "cell_type": "markdown",
   "metadata": {
    "id": "Ax_OtJJyRgpy"
   },
   "source": [
    "The government wants to connect seven cities with underground internet cables. The cost of a connection between two cities is proportional to their distance.\n",
    "\n",
    "The distances are given in the following table:"
   ]
  },
  {
   "cell_type": "code",
   "execution_count": null,
   "metadata": {
    "id": "aa6DKqDCSBxd"
   },
   "outputs": [],
   "source": [
    "distances = [\n",
    "    [   0, 150, 200, 120,  90, 130, 400 ],\n",
    "    [   0,   0, 130,  85, 120, 340, 160 ],\n",
    "    [   0,   0,   0,  50,  90, 200, 210 ],\n",
    "    [   0,   0,   0,   0, 120, 260, 140 ],\n",
    "    [   0,   0,   0,   0,   0,  80,  60 ],\n",
    "    [   0,   0,   0,   0,   0,   0,  95 ],\n",
    "    [   0,   0,   0,   0,   0,   0,   0 ],\n",
    "]"
   ]
  },
  {
   "cell_type": "markdown",
   "metadata": {
    "id": "X3Xgzp8lR_AK"
   },
   "source": [
    "<font size=\"+4\" color=\"blue;green\"><b>?</b></font> Specify which cities should have direct connections so that the final cost of connections is minimized. Also, calculate the total cost."
   ]
  },
  {
   "cell_type": "markdown",
   "metadata": {
    "id": "3LjELO8KUgk3"
   },
   "source": [
    "\n",
    "\n",
    "---\n",
    "\n"
   ]
  },
  {
   "cell_type": "markdown",
   "metadata": {
    "id": "iyhjG7zJohgH"
   },
   "source": [
    "A computer game is being developed, and one of the classes defines the behavior of a type of [NPC](https://en.wikipedia.org/wiki/Non-player_character).\n",
    "\n",
    "We were provided with the NPC's behavior model as a graph of states and transitions between states. Each state represents a possible psychological situation (the NPC is angry, afraid, etc.) and is identified by a number.\n",
    "\n",
    "The following graph shows an example of an NPC's behavioral model:"
   ]
  },
  {
   "cell_type": "code",
   "execution_count": null,
   "metadata": {
    "id": "DbHhBeU1QhtW"
   },
   "outputs": [],
   "source": [
    "g = nx.random_k_out_graph(20, k=3, alpha=0.25, seed=101)\n",
    "showGraph(g)"
   ]
  },
  {
   "cell_type": "markdown",
   "metadata": {
    "id": "Hmd7yQMLTFHH"
   },
   "source": [
    "<font size=\"+4\" color=\"blue;green\"><b>?</b></font> Define function `canBecome` which takes the NPC model and two psychological states, `state1` and `state2`, and checks if it's possible to start in the first state and end in the second state according to the valid transitions allowed by the model."
   ]
  },
  {
   "cell_type": "code",
   "execution_count": null,
   "metadata": {
    "id": "jJiRgKJsTciM"
   },
   "outputs": [],
   "source": [
    "def canBecome(g, state1, state2):\n",
    "  pass"
   ]
  },
  {
   "cell_type": "code",
   "execution_count": null,
   "metadata": {
    "id": "9I7EIPaBTqao"
   },
   "outputs": [],
   "source": [
    "assert     canBecome(g, 13, 18)\n",
    "assert not canBecome(g, 10, 19)"
   ]
  },
  {
   "cell_type": "markdown",
   "metadata": {
    "id": "j1AMQvLmQglQ"
   },
   "source": [
    "\n",
    "\n",
    "---\n"
   ]
  },
  {
   "cell_type": "markdown",
   "metadata": {
    "id": "16eHZ7GRJsgi"
   },
   "source": [
    "<font size=\"+4\" color=\"blue;green\"><b>?</b></font> In a city in Northern Europe, there is a community composed of a set of neighborhoods. During the winter, a heavy snowfall covered all the roads connecting these neighborhoods. The administration needs to rent a snowplow machine but has a very limited budget. Unable to clear all the roads, it was decided to choose the cheapest solution that allows everyone to drive to any neighborhood.\n",
    "\n",
    "Given the following cleaning costs for various roads, show what the cheapest possible solution is."
   ]
  },
  {
   "cell_type": "code",
   "execution_count": null,
   "metadata": {
    "colab": {
     "base_uri": "https://localhost:8080/",
     "height": 444
    },
    "executionInfo": {
     "elapsed": 327,
     "status": "ok",
     "timestamp": 1698770962022,
     "user": {
      "displayName": "Joao Pedro Neto",
      "userId": "16588413076175252494"
     },
     "user_tz": 0
    },
    "id": "aGgA6YaTKXT6",
    "outputId": "98d39472-3722-41e6-c9e2-d5c147bf7cd3"
   },
   "outputs": [],
   "source": [
    "g = nx.Graph()\n",
    "for a,b,w in [(1,3,10),(1,4,80),(1,7,90),(3,4,10),(3,6,50),(4,3,10),\n",
    "              (3,7,20),(5,6,10),(5,7,30),(6,3,10),(6,4,40),(7,1,20)]:\n",
    "  g.add_edge(a,b, weight=w)\n",
    "\n",
    "showGraph(g, weights=True)"
   ]
  },
  {
   "cell_type": "markdown",
   "metadata": {
    "id": "PnfY7GICXgvt"
   },
   "source": [
    "\n",
    "\n",
    "---\n",
    "\n"
   ]
  },
  {
   "cell_type": "markdown",
   "metadata": {
    "id": "PFbCPGkTpDsc"
   },
   "source": [
    "Let's consider a task execution system that manages a set of resources.\n",
    "\n",
    "The task execution system follows these rules:\n",
    "\n",
    "- Each task needs to request resources to work.\n",
    "- Each resource can only be used by one task at a time.\n",
    "- A resource, if not in use, is _free_; otherwise, it is _occupied_.\n",
    "- If a task requests an occupied resource, it has to wait until the resource becomes free.\n",
    "- A task can always release a resource that was requested for it.\n",
    "- If multiple tasks request the same resource, the resource is assigned to the task that requested it first."
   ]
  },
  {
   "cell_type": "markdown",
   "metadata": {
    "id": "vWL-vbgZg9BH"
   },
   "source": [
    "There are two types of commands, `ask` and `end`, which request a resource and release a resource, respectively. We will define these commands as triples `(order, task, resource)`.\n",
    "\n",
    "Examples of command lists:"
   ]
  },
  {
   "cell_type": "code",
   "execution_count": null,
   "metadata": {
    "id": "Hk4BfyA3XpQ5"
   },
   "outputs": [],
   "source": [
    "ops1 = [('ask','a',1),  # «a» requests and receives «1»\n",
    "        ('ask','b',2),  # «b» requests and receives «2»\n",
    "        ('ask','a',2),  # «a» requests and waits for «2»\n",
    "        ('ask','b',1),  # «b» requests and waits for «1»\n",
    "       ]\n",
    "\n",
    "ops2 = [('ask','a',1),\n",
    "        ('ask','b',2),\n",
    "        ('ask','a',2),\n",
    "        ('end','a',1),\n",
    "        ('ask','b',1),\n",
    "       ]"
   ]
  },
  {
   "cell_type": "markdown",
   "metadata": {
    "id": "LdLCBeBCpvS4"
   },
   "source": [
    "A problem occurs when a task requests a resource that another task has already requested, and vice versa. In this situation, both tasks will be waiting for each other indefinitely – assuming they are both stubborn and do not release the resources they already have – because neither of them can finish until they receive the resource they requested. This situation is called a _deadlock_.\n",
    "\n",
    "In the `ops1` list, the fourth command, `('ask', 'b', 1)`, results in a deadlock because task `a` has resource 1 and is waiting for resource 2, while task `b` has resource 2 and is waiting for resource 1."
   ]
  },
  {
   "cell_type": "markdown",
   "metadata": {
    "id": "irp2Kl5mhXpU"
   },
   "source": [
    "<font size=\"+4\" color=\"blue;green\"><b>?</b></font> <font size=\"+4\" color=\"blue;green\"><b>?</b></font> Define function `findDeadlock`  that takes a list of commands and executes the commands sequentially. If it detects a deadlock, it should return the command that caused it. If there is no problem, the function should return `None`.\n",
    "\n",
    "<details>\n",
    "<summary><font color='green'>Tips</font></summary>\n",
    "We can model tasks and resources as a bipartite graph. There are two possible relationships between tasks and resources: either a task uses a resource, or a task is waiting for a resource. How can we model this in our graph?\n",
    "</details>\n",
    "\n",
    "<details>\n",
    "<summary><font color='green'>Extra Tips</font></summary>\n",
    "To model this in a bipartite graph, you can create two sets of nodes: one set for tasks and another set for resources. Then, you can add edges between tasks and resources to represent the \"use\" relationship, and you can add edges between tasks and resources to represent the \"waiting\" relationship. This way, you have a bipartite graph where tasks and resources are connected based on their relationships.\n",
    "</details>"
   ]
  },
  {
   "cell_type": "code",
   "execution_count": null,
   "metadata": {
    "id": "rJHGceAZeWu7"
   },
   "outputs": [],
   "source": [
    "def findDeadlock(ops):\n",
    "  pass"
   ]
  },
  {
   "cell_type": "code",
   "execution_count": null,
   "metadata": {
    "colab": {
     "base_uri": "https://localhost:8080/"
    },
    "executionInfo": {
     "elapsed": 357,
     "status": "ok",
     "timestamp": 1698771485060,
     "user": {
      "displayName": "Joao Pedro Neto",
      "userId": "16588413076175252494"
     },
     "user_tz": 0
    },
    "id": "etftAHliZMlY",
    "outputId": "e65112a8-b449-468b-fe5c-74ebf0068e30"
   },
   "outputs": [
    {
     "name": "stdout",
     "output_type": "stream",
     "text": [
      "('ask', 'b', 1)\n",
      "None\n"
     ]
    }
   ],
   "source": [
    "print(findDeadlock(ops1))\n",
    "print(findDeadlock(ops2))"
   ]
  },
  {
   "cell_type": "markdown",
   "metadata": {
    "id": "tnBgmyPLl9n5"
   },
   "source": [
    "\n",
    "\n",
    "---\n",
    "\n"
   ]
  },
  {
   "cell_type": "markdown",
   "metadata": {
    "id": "7eNUalqtruwV"
   },
   "source": [
    "Consider that we want to implement a prototype of a spreadsheet.\n",
    "\n",
    "It has 26 columns identified from 'A' to 'Z', and an unlimited number of rows. The valid values in each cell are one of the following options:\n",
    "\n",
    "- an integer\n",
    "- a formula `sum(cell1, cell2)` that returns the sum of the two referenced cells\n",
    "- a formula `max(cell1, cell2)` that returns the maximum value of the two referenced cells\n",
    "\n",
    "A spreadsheet is represented by a list of triples `(column, row, cell content)`.\n",
    "\n",
    "Here is an example:"
   ]
  },
  {
   "cell_type": "code",
   "execution_count": null,
   "metadata": {
    "id": "lHU8Ydzzl-is"
   },
   "outputs": [],
   "source": [
    "spreadsheet = [\n",
    "   ('A',1,'-10'),\n",
    "   ('B',1,'20'),\n",
    "   ('C',1,'sum(A1,B1)'),\n",
    "   ('D',1,'sum(A1,C1)'),\n",
    "   ('E',1,'max(F1,D1)'),\n",
    "   ('F',1,'55'),\n",
    "  ]"
   ]
  },
  {
   "cell_type": "markdown",
   "metadata": {
    "id": "jPd1LeyftVwr"
   },
   "source": [
    "<font size=\"+4\" color=\"blue;green\"><b>?</b></font> <font size=\"+4\" color=\"blue;green\"><b>?</b></font> Define function `evalSheet`  that takes a spreadsheet and returns a dictionary containing keys for every cell that has content, with the associated value being the value of the cell's content after executing all the formulas.\n",
    "\n",
    "Assume no circular references in the spreadsheet."
   ]
  },
  {
   "cell_type": "markdown",
   "metadata": {
    "id": "KKMm-JMkLFA1"
   },
   "source": [
    "In the given example, the dictionary to be returned will have the following values:\n",
    "\n",
    "    {('A', 1): -10,\n",
    "     ('B', 1): 20,\n",
    "     ('C', 1): 10,\n",
    "     ('D', 1): 0,\n",
    "     ('E', 1): 55,\n",
    "     ('F', 1): 55 }"
   ]
  },
  {
   "cell_type": "markdown",
   "metadata": {
    "id": "w8ARqUSQtWk6"
   },
   "source": [
    "<details>\n",
    "<summary><font color='green'>Tips</font></summary>\n",
    "We need to evaluate certain cells before others. It really is a priority ;-)</details>"
   ]
  },
  {
   "cell_type": "code",
   "execution_count": null,
   "metadata": {
    "id": "igDJgnegLn2I"
   },
   "outputs": [],
   "source": [
    "def evalSheet(spreadsheet):\n",
    "  pass"
   ]
  },
  {
   "cell_type": "code",
   "execution_count": null,
   "metadata": {
    "id": "toP6_8TDprMz"
   },
   "outputs": [],
   "source": [
    "evalSheet(spreadsheet)"
   ]
  },
  {
   "cell_type": "markdown",
   "metadata": {
    "id": "H0TtQvEzXMXW"
   },
   "source": [
    "\n",
    "\n",
    "---\n",
    "\n"
   ]
  },
  {
   "cell_type": "markdown",
   "metadata": {
    "id": "_3BSIUeQau9L"
   },
   "source": [
    "The secret service is trying to retrace the route of a spy who started a journey in Lisbon to visit other cities. It is known that the spy bought tickets between various cities, visiting them one or more times. However, the dates of the travels are unknown. It will be necessary to reconstruct the possible routes that account for all the known tickets.\n",
    "\n",
    "<font size=\"+4\" color=\"blue;green\"><b>?</b></font> <font size=\"+4\" color=\"blue;green\"><b>?</b></font> Given a list with the tickets, print all possible paths that use all tickets.\n",
    "\n",
    "<details>\n",
    "<summary><font color='green'>Tips</font></summary>\n",
    "If cities are nodes in a graph, travels are edges. We need to visit all edges. What type of transversal helps us to achieve this goal?\n",
    "</details>"
   ]
  },
  {
   "cell_type": "code",
   "execution_count": null,
   "metadata": {
    "executionInfo": {
     "elapsed": 4,
     "status": "ok",
     "timestamp": 1710316490375,
     "user": {
      "displayName": "Joao Pedro Neto",
      "userId": "16588413076175252494"
     },
     "user_tz": 0
    },
    "id": "h-BCBJhxXNm0"
   },
   "outputs": [],
   "source": [
    "tickets = [[\"Lisboa\",  \"Coimbra\"],\n",
    "           [\"Lisboa\",  \"Aveiro\"],\n",
    "           [\"Coimbra\", \"Aveiro\"],\n",
    "           [\"Porto\",   \"Aveiro\"],\n",
    "           [\"Aveiro\",  \"Lisboa\"],\n",
    "           [\"Aveiro\",  \"Coimbra\"],\n",
    "           [\"Aveiro\",  \"Porto\"]]"
   ]
  },
  {
   "cell_type": "markdown",
   "metadata": {
    "id": "CnU1lWK3eS9p"
   },
   "source": [
    "\n",
    "\n",
    "---\n",
    "\n"
   ]
  },
  {
   "cell_type": "markdown",
   "metadata": {
    "id": "FlE7t0p8p1NY"
   },
   "source": [
    "<font size=\"+4\" color=\"blue;green\"><b>?</b></font> <font size=\"+4\" color=\"blue;green\"><b>?</b></font> Define function `minimalString` that, given two positive integers $n,k$, generates a _string_ with minimal size such that any arrangement with repetitions of $n$ digits between $0$ and $k-1$ is included in that _string_.\n",
    "\n",
    "Possible examples for certain values of $n,k$:\n",
    "\n",
    " + For $n=2, k=2$, one possible _string_ is `00110` since it contains `00`, `01`, `10`, and `11`.\n",
    "\n",
    " + For $n=2, k=3$, one possible _string_ is `0022120110`\n",
    "\n",
    " + For $n=4, k=2$, one possible _string_ is `0000111101100101000`\n",
    "\n",
    " + For $n=3, k=4$, one possible _string_ is `000333233133032232132031231131030230130022212202112102012001110100`  \n",
    "\n",
    "<details>\n",
    "<summary><font color='green'>Tips</font></summary>\n",
    "Define a graph with all possible connections between nodes, where each node is one possible arrangement with repetition. What transversal would help us pass thru all nodes?\n",
    "</details>"
   ]
  },
  {
   "cell_type": "code",
   "execution_count": null,
   "metadata": {
    "id": "MjnKlRrRlU94"
   },
   "outputs": [],
   "source": [
    "def minimalString(n, k):\n",
    "  pass"
   ]
  }
 ],
 "metadata": {
  "colab": {
   "authorship_tag": "ABX9TyOI/OKkuk7DRFKv9ab5ae4P",
   "provenance": [],
   "toc_visible": true
  },
  "kernelspec": {
   "display_name": ".venv",
   "language": "python",
   "name": "python3"
  },
  "language_info": {
   "codemirror_mode": {
    "name": "ipython",
    "version": 3
   },
   "file_extension": ".py",
   "mimetype": "text/x-python",
   "name": "python",
   "nbconvert_exporter": "python",
   "pygments_lexer": "ipython3",
   "version": "3.13.1"
  },
  "widgets": {
   "application/vnd.jupyter.widget-state+json": {
    "0885e8b88c0a413bb9a40313336f75fc": {
     "model_module": "@jupyter-widgets/base",
     "model_module_version": "1.2.0",
     "model_name": "LayoutModel",
     "state": {
      "_model_module": "@jupyter-widgets/base",
      "_model_module_version": "1.2.0",
      "_model_name": "LayoutModel",
      "_view_count": null,
      "_view_module": "@jupyter-widgets/base",
      "_view_module_version": "1.2.0",
      "_view_name": "LayoutView",
      "align_content": null,
      "align_items": null,
      "align_self": null,
      "border": null,
      "bottom": null,
      "display": null,
      "flex": null,
      "flex_flow": null,
      "grid_area": null,
      "grid_auto_columns": null,
      "grid_auto_flow": null,
      "grid_auto_rows": null,
      "grid_column": null,
      "grid_gap": null,
      "grid_row": null,
      "grid_template_areas": null,
      "grid_template_columns": null,
      "grid_template_rows": null,
      "height": null,
      "justify_content": null,
      "justify_items": null,
      "left": null,
      "margin": null,
      "max_height": null,
      "max_width": null,
      "min_height": null,
      "min_width": null,
      "object_fit": null,
      "object_position": null,
      "order": null,
      "overflow": null,
      "overflow_x": null,
      "overflow_y": null,
      "padding": null,
      "right": null,
      "top": null,
      "visibility": null,
      "width": null
     }
    },
    "24df674a2d1242538caaa6b58eced7d4": {
     "model_module": "@jupyter-widgets/controls",
     "model_module_version": "1.5.0",
     "model_name": "SliderStyleModel",
     "state": {
      "_model_module": "@jupyter-widgets/controls",
      "_model_module_version": "1.5.0",
      "_model_name": "SliderStyleModel",
      "_view_count": null,
      "_view_module": "@jupyter-widgets/base",
      "_view_module_version": "1.2.0",
      "_view_name": "StyleView",
      "description_width": "",
      "handle_color": null
     }
    },
    "51d19c5fb40b4f8b9853f77ebf220277": {
     "model_module": "@jupyter-widgets/output",
     "model_module_version": "1.0.0",
     "model_name": "OutputModel",
     "state": {
      "_dom_classes": [],
      "_model_module": "@jupyter-widgets/output",
      "_model_module_version": "1.0.0",
      "_model_name": "OutputModel",
      "_view_count": null,
      "_view_module": "@jupyter-widgets/output",
      "_view_module_version": "1.0.0",
      "_view_name": "OutputView",
      "layout": "IPY_MODEL_fb8a037278f8471cb753cc8a93c0e274",
      "msg_id": "",
      "outputs": [
       {
        "data": {
         "image/png": "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\n",
         "text/plain": "<IPython.core.display.Image object>"
        },
        "metadata": {},
        "output_type": "display_data"
       },
       {
        "data": {
         "text/plain": "None"
        },
        "metadata": {},
        "output_type": "display_data"
       }
      ]
     }
    },
    "7e1d34b15e8446dbbf107799beddab2b": {
     "model_module": "@jupyter-widgets/controls",
     "model_module_version": "1.5.0",
     "model_name": "VBoxModel",
     "state": {
      "_dom_classes": [
       "widget-interact"
      ],
      "_model_module": "@jupyter-widgets/controls",
      "_model_module_version": "1.5.0",
      "_model_name": "VBoxModel",
      "_view_count": null,
      "_view_module": "@jupyter-widgets/controls",
      "_view_module_version": "1.5.0",
      "_view_name": "VBoxView",
      "box_style": "",
      "children": [
       "IPY_MODEL_e370ab5c7cdf4778a1dc24434072b8d8",
       "IPY_MODEL_51d19c5fb40b4f8b9853f77ebf220277"
      ],
      "layout": "IPY_MODEL_8b4772f03ed44ad58e964c82d9b9b9c2"
     }
    },
    "8b4772f03ed44ad58e964c82d9b9b9c2": {
     "model_module": "@jupyter-widgets/base",
     "model_module_version": "1.2.0",
     "model_name": "LayoutModel",
     "state": {
      "_model_module": "@jupyter-widgets/base",
      "_model_module_version": "1.2.0",
      "_model_name": "LayoutModel",
      "_view_count": null,
      "_view_module": "@jupyter-widgets/base",
      "_view_module_version": "1.2.0",
      "_view_name": "LayoutView",
      "align_content": null,
      "align_items": null,
      "align_self": null,
      "border": null,
      "bottom": null,
      "display": null,
      "flex": null,
      "flex_flow": null,
      "grid_area": null,
      "grid_auto_columns": null,
      "grid_auto_flow": null,
      "grid_auto_rows": null,
      "grid_column": null,
      "grid_gap": null,
      "grid_row": null,
      "grid_template_areas": null,
      "grid_template_columns": null,
      "grid_template_rows": null,
      "height": null,
      "justify_content": null,
      "justify_items": null,
      "left": null,
      "margin": null,
      "max_height": null,
      "max_width": null,
      "min_height": null,
      "min_width": null,
      "object_fit": null,
      "object_position": null,
      "order": null,
      "overflow": null,
      "overflow_x": null,
      "overflow_y": null,
      "padding": null,
      "right": null,
      "top": null,
      "visibility": null,
      "width": null
     }
    },
    "e370ab5c7cdf4778a1dc24434072b8d8": {
     "model_module": "@jupyter-widgets/controls",
     "model_module_version": "1.5.0",
     "model_name": "IntSliderModel",
     "state": {
      "_dom_classes": [],
      "_model_module": "@jupyter-widgets/controls",
      "_model_module_version": "1.5.0",
      "_model_name": "IntSliderModel",
      "_view_count": null,
      "_view_module": "@jupyter-widgets/controls",
      "_view_module_version": "1.5.0",
      "_view_name": "IntSliderView",
      "continuous_update": false,
      "description": "step",
      "description_tooltip": null,
      "disabled": false,
      "layout": "IPY_MODEL_0885e8b88c0a413bb9a40313336f75fc",
      "max": 6,
      "min": 0,
      "orientation": "horizontal",
      "readout": true,
      "readout_format": "d",
      "step": 1,
      "style": "IPY_MODEL_24df674a2d1242538caaa6b58eced7d4",
      "value": 6
     }
    },
    "fb8a037278f8471cb753cc8a93c0e274": {
     "model_module": "@jupyter-widgets/base",
     "model_module_version": "1.2.0",
     "model_name": "LayoutModel",
     "state": {
      "_model_module": "@jupyter-widgets/base",
      "_model_module_version": "1.2.0",
      "_model_name": "LayoutModel",
      "_view_count": null,
      "_view_module": "@jupyter-widgets/base",
      "_view_module_version": "1.2.0",
      "_view_name": "LayoutView",
      "align_content": null,
      "align_items": null,
      "align_self": null,
      "border": null,
      "bottom": null,
      "display": null,
      "flex": null,
      "flex_flow": null,
      "grid_area": null,
      "grid_auto_columns": null,
      "grid_auto_flow": null,
      "grid_auto_rows": null,
      "grid_column": null,
      "grid_gap": null,
      "grid_row": null,
      "grid_template_areas": null,
      "grid_template_columns": null,
      "grid_template_rows": null,
      "height": null,
      "justify_content": null,
      "justify_items": null,
      "left": null,
      "margin": null,
      "max_height": null,
      "max_width": null,
      "min_height": null,
      "min_width": null,
      "object_fit": null,
      "object_position": null,
      "order": null,
      "overflow": null,
      "overflow_x": null,
      "overflow_y": null,
      "padding": null,
      "right": null,
      "top": null,
      "visibility": null,
      "width": null
     }
    }
   }
  }
 },
 "nbformat": 4,
 "nbformat_minor": 4
}
