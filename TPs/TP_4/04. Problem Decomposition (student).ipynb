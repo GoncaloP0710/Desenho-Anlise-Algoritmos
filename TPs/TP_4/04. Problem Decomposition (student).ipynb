{
 "cells": [
  {
   "cell_type": "markdown",
   "metadata": {
    "id": "q4Ve2xykW-XO"
   },
   "source": [
    "# Chapter - Problem Decomposition\n",
    "\n",
    "João Pedro Neto, DI/FCUL"
   ]
  },
  {
   "cell_type": "markdown",
   "metadata": {
    "id": "XVjWO72JpcZ-"
   },
   "source": [
    "## Introduction"
   ]
  },
  {
   "cell_type": "markdown",
   "metadata": {
    "id": "KKyNO35E9jNl"
   },
   "source": [
    "In the context of programming, we are accustomed to solving a complex problem through a sequence of simpler problems. The existence of programming concepts such as functions, classes, objects, or modules were designed to assist the programmer in these kinds of tasks.\n",
    "\n",
    "<!-- There is also a vast literature on how to perform the analysis and design of problems, introducing techniques that enable the implementation of larger-scale applications. All of this falls under the domain of Software Engineering, a topic beyond the scope of this course. -->"
   ]
  },
  {
   "cell_type": "markdown",
   "metadata": {
    "id": "BSl6gxH94LH3"
   },
   "source": [
    "The objective of this chapter is related to this theme, but in a more specific context: given an instance of a problem $P$, how to solve it from simpler instances of $P$. How to decompose a problem into subproblems in order to create an efficient algorithm that solves it?\n",
    "\n",
    "These questions have a recursive nature. Therefore, it will come as no surprise the importance that recursion will have in this chapter."
   ]
  },
  {
   "cell_type": "markdown",
   "metadata": {
    "id": "MK5tHhRWE0nS"
   },
   "source": [
    "We will refer to the following problem-solving techniques:\n",
    "\n",
    "- Divide and Conquer\n",
    "- Greedy Algorithms\n",
    "- Dynamic Programming\n",
    "\n",
    "These techniques do not have a fixed format or a single algorithm. They refer to ideas and strategies on how to approach and solve problems for which an exhaustive search (what we call «brute force») would result in algorithms with excessive complexity. In each of the sections, we will solve classical problems that, hopefully, help the reader gain intuition about these topics."
   ]
  },
  {
   "cell_type": "markdown",
   "metadata": {
    "id": "GlRgqHUJ9X2p"
   },
   "source": [
    "## Divide and Conquer"
   ]
  },
  {
   "cell_type": "markdown",
   "metadata": {
    "id": "J3lh1-JiZBtd"
   },
   "source": [
    "If we didn't have access to the `**` operator, how would we implement the exponentiation operation $x^n$ for $n \\geq 0$ as an integer?"
   ]
  },
  {
   "cell_type": "code",
   "execution_count": 1,
   "metadata": {
    "id": "JjHknx1gZPc_"
   },
   "outputs": [],
   "source": [
    "def power(x, n):\n",
    "  res = 1\n",
    "  for _ in range(n):\n",
    "    res *= x\n",
    "  return res"
   ]
  },
  {
   "cell_type": "code",
   "execution_count": 5,
   "metadata": {
    "id": "hR2QbkVWOvWa"
   },
   "outputs": [],
   "source": [
    "assert power(2,11) == 2048"
   ]
  },
  {
   "cell_type": "markdown",
   "metadata": {
    "id": "lv4QdngffXHK"
   },
   "source": [
    "We used the definition of exponentiation as a sequence of multiplications. This implementation performs a number of iterations proportional to the value of the exponent.\n",
    "\n",
    "But it's possible to do better. Consider the following equations:\n",
    "\n",
    "$$x^n = (x^{n/2})^2, \\text{n is even}$$\n",
    "\n",
    "$$x^n = x \\times (x^{(n-1)/2})^2, \\text{n is odd}$$\n",
    "\n",
    "This tells us that if we have the power of half of $n$, we can calculate the power of $n$. And this definition can be used recursively to calculate only half of the half, and so on.\n",
    "\n",
    "The following function implements this idea and performs a number of iterations proportional to the logarithm of the exponent value:"
   ]
  },
  {
   "cell_type": "code",
   "execution_count": 4,
   "metadata": {
    "id": "LKexkp77OR1v"
   },
   "outputs": [],
   "source": [
    "def power(x, n):\n",
    "  if n==0:\n",
    "    return 1\n",
    "  y = power(x, n//2)\n",
    "  return y*y if n%2==0 else y*y*x"
   ]
  },
  {
   "cell_type": "markdown",
   "metadata": {
    "id": "N1TxndgQa58H"
   },
   "source": [
    "This second approach illustrates the essence of **divide and conquer**.\n",
    "\n",
    "The divide and conquer technique seeks to divide the original problem into one or more simpler subproblems -- usually half the size --, whose solutions can be used to calculate the solution to the original problem. This problem-solving process has a recursive nature (although it is not mandatory to implement it using recursion)."
   ]
  },
  {
   "cell_type": "markdown",
   "metadata": {
    "id": "EtC-zKc0bwsy"
   },
   "source": [
    "For example, sorting algorithms like *merge sort* and *quick sort* use this technique when they divide the original sequence into two halves and recursively sort them. Another classic example is *binary search*, which selects only one half of the sequence to continue searching for the desired element."
   ]
  },
  {
   "cell_type": "markdown",
   "metadata": {
    "id": "GeyueruMJcFw"
   },
   "source": [
    "In general terms, we could consider the following function as a template for this idea:"
   ]
  },
  {
   "cell_type": "code",
   "execution_count": 6,
   "metadata": {
    "id": "aRWqhZp6JkIL"
   },
   "outputs": [],
   "source": [
    "def divide_conquer(state, divide, conquer, is_base=lambda xs: len(xs)<=1):\n",
    "  if is_base(state):\n",
    "    return state\n",
    "\n",
    "  state1, state2 = divide(state)\n",
    "  new_state1 = divide_conquer(state1, divide, conquer, is_base)\n",
    "  new_state2 = divide_conquer(state2, divide, conquer, is_base)\n",
    "  return conquer(new_state1, new_state2)"
   ]
  },
  {
   "cell_type": "markdown",
   "metadata": {
    "id": "95ZytXxBJxQ1"
   },
   "source": [
    "For example, *merge sort* could be implemented as follows:"
   ]
  },
  {
   "cell_type": "code",
   "execution_count": 7,
   "metadata": {
    "id": "nuioKUVZJ3Yc"
   },
   "outputs": [],
   "source": [
    "def mergesort(lst):\n",
    "  def divide(xs):\n",
    "    return xs[:len(xs)//2], xs[len(xs)//2:]\n",
    "\n",
    "  def conquer(xs,ys):\n",
    "    res, i, j = [], 0, 0\n",
    "    while i<len(xs) and j<len(ys):\n",
    "      if xs[i] < ys[j]:\n",
    "        res.append(xs[i]); i += 1\n",
    "      else:\n",
    "        res.append(ys[j]); j += 1\n",
    "    return res + xs[i:] + ys[j:]\n",
    "\n",
    "  return divide_conquer(lst, divide, conquer)"
   ]
  },
  {
   "cell_type": "code",
   "execution_count": 9,
   "metadata": {
    "id": "OER7d4S0KbC7"
   },
   "outputs": [],
   "source": [
    "assert mergesort([7,4,6,1,9,3,8]) == [1, 3, 4, 6, 7, 8, 9]"
   ]
  },
  {
   "cell_type": "markdown",
   "metadata": {
    "id": "bxxDSH3_KDWv"
   },
   "source": [
    "However, for most problems, it's neither practical nor efficient to rigidly structure the algorithm in this way. We will explore solutions that follow the divide and conquer idea but are more flexible in their implementation."
   ]
  },
  {
   "cell_type": "markdown",
   "metadata": {
    "id": "L3ZIVWeiJtcp"
   },
   "source": [
    "We will now proceed to showcase several examples of applying this technique."
   ]
  },
  {
   "cell_type": "markdown",
   "metadata": {
    "id": "FjVhUWyPcf54"
   },
   "source": [
    "### The Fibonacci Sequence"
   ]
  },
  {
   "cell_type": "markdown",
   "metadata": {
    "id": "3TU9wVGOWixP"
   },
   "source": [
    "For the next problem, let's recall the Fibonacci sequence:\n",
    "\n",
    "$$F_0 = F_1 = 1$$\n",
    "\n",
    "$$F_n = F_{n-2} + F_{n-1}$$\n",
    "\n",
    "A typical function to calculate the n-th value is as follows:"
   ]
  },
  {
   "cell_type": "code",
   "execution_count": 10,
   "metadata": {
    "id": "2tJHPYRrW5jM"
   },
   "outputs": [],
   "source": [
    "def fib(n):\n",
    "  x, y = 1, 1\n",
    "  for _ in range(n-2):\n",
    "    x, y = y, x+y\n",
    "  return y"
   ]
  },
  {
   "cell_type": "code",
   "execution_count": 11,
   "metadata": {
    "id": "jCHADu80SIkr"
   },
   "outputs": [],
   "source": [
    "assert fib(60) == 1548008755920"
   ]
  },
  {
   "cell_type": "markdown",
   "metadata": {
    "id": "uocsOIgnUb-q"
   },
   "source": [
    "Now, consider the following matrix equivalence:\n",
    "\n",
    "$$\\left[\\begin{array}{cc}\n",
    "0 & 1\\\\\n",
    "1 & 1 \\end{array} \\right]\n",
    "\\left[\\begin{array}{c}\n",
    "x\\\\\n",
    "y \\end{array}\\right]\n",
    "=\n",
    "\\left[\\begin{array}{c}\n",
    "y\\\\\n",
    "x+y \\end{array}\\right]$$\n",
    "\n",
    "If we observe the relationship between the values in the two vectors, we notice that this matrix multiplication corresponds to an iteration to calculate the next Fibonacci number!\n",
    "\n",
    "This tells us that to calculate the n-th number, we need to multiply the matrix $n$ times, starting with an appropriate vector:\n",
    "\n",
    "$$\\left[\\begin{array}{cc}\n",
    "0 & 1\\\\\n",
    "1 & 1 \\end{array} \\right]^n\n",
    "\\left[\\begin{array}{c}\n",
    "1\\\\\n",
    "0 \\end{array}\\right]\n",
    "=\n",
    "\\left[\\begin{array}{c}\n",
    "F_{n-1}\\\\\n",
    "F_{n} \\end{array}\\right]$$"
   ]
  },
  {
   "cell_type": "markdown",
   "metadata": {
    "id": "6uzYpNfJVb6_"
   },
   "source": [
    "Matrix exponentiation can be speed-up using the same technique we used for integer exponentiation.\n",
    "\n",
    "First, we define the multiplication of $2 \\times 2$ matrices:"
   ]
  },
  {
   "cell_type": "code",
   "execution_count": 12,
   "metadata": {
    "id": "2Wz5uWUePwvE"
   },
   "outputs": [],
   "source": [
    "# a 2x2 matrix is represented as a tuple with four components\n",
    "\n",
    "def multMat(m1, m2):   # multiply  ⌈ a b ⌉ * ⌈ e f ⌉\n",
    "  a,b, c,d = m1        #           ⌊ c d ⌋   ⌊ g h ⌋\n",
    "  e,f, g,h = m2\n",
    "  return a*e+b*g, a*f+b*h, c*e+d*g, c*f+d*h"
   ]
  },
  {
   "cell_type": "markdown",
   "metadata": {
    "id": "yJM1hV20VxPB"
   },
   "source": [
    "And the power function has the same structure as the `power` function:"
   ]
  },
  {
   "cell_type": "code",
   "execution_count": 13,
   "metadata": {
    "id": "44-eiGYCRKRW"
   },
   "outputs": [],
   "source": [
    "def powerMat(m, n):\n",
    "  if n==0:\n",
    "    return 1,0,0,1  # identity matrix\n",
    "\n",
    "  y = powerMat(m, n//2)\n",
    "  y_sqr = multMat(y,y)\n",
    "  return y_sqr if n%2==0 else multMat(y_sqr, m)"
   ]
  },
  {
   "cell_type": "markdown",
   "metadata": {
    "id": "0l1zgAK9V-Jb"
   },
   "source": [
    "With these functions, we can implement the Fibonacci function with a logarithmic number of invocations:"
   ]
  },
  {
   "cell_type": "code",
   "execution_count": 14,
   "metadata": {
    "id": "HkGKATlrRfVh"
   },
   "outputs": [],
   "source": [
    "def fib(n):\n",
    "  return powerMat((0,1,1,1), n)[2]  # return _,_,c,_ = (0,1,1,1)**n"
   ]
  },
  {
   "cell_type": "markdown",
   "metadata": {
    "id": "e0q6PVkHmOXa"
   },
   "source": [
    "Let's test it with a very large number:"
   ]
  },
  {
   "cell_type": "code",
   "execution_count": 15,
   "metadata": {
    "colab": {
     "base_uri": "https://localhost:8080/"
    },
    "executionInfo": {
     "elapsed": 254,
     "status": "ok",
     "timestamp": 1707472196275,
     "user": {
      "displayName": "Joao Pedro Neto",
      "userId": "16588413076175252494"
     },
     "user_tz": 0
    },
    "id": "JaA_QAdslj_H",
    "outputId": "8390e2e0-ac0e-4c47-fb9f-e3e218d4980f"
   },
   "outputs": [
    {
     "name": "stdout",
     "output_type": "stream",
     "text": [
      "fib(150k) has 31348 digits\n"
     ]
    }
   ],
   "source": [
    "import sys\n",
    "\n",
    "# changing Python's configuration to handle such a large number!!\n",
    "sys.set_int_max_str_digits(50_000)\n",
    "\n",
    "print(f'fib(150k) has {len(str(fib(150_000)))} digits')"
   ]
  },
  {
   "cell_type": "markdown",
   "metadata": {
    "id": "oD3ZAfiZrgOD"
   },
   "source": [
    "To conclude, what is the complexity of these two implementations? The immediate answer would be to say that the first one has a complexity of $\\mathcal{O}(n)$ and the second one is $\\mathcal{O}(\\log n)$ in terms of the n-th value of the sequence.\n",
    "\n",
    "However, there's a detail we're overlooking: these arithmetic operations are not of constant complexity. Adding two numbers with n digits is $\\mathcal{O}(n)$, and multiplying is $\\mathcal{O}(n \\log n)$. This means that their respective complexities will be $\\mathcal{O}(n^2)$ and $\\mathcal{O}(n (\\log n)^2)$.\n",
    "\n",
    "> note: The complexity referred here is in relation to value $n$. However, value $n$ grows exponentially with the number of bits used - which is the true measure of space. Therefore, when discussing the complexity $C$ of an algorithm in relation to a numeric input $n$, and not its bits, these complexities are called pseudo-$C$. For example, the first Fibonacci function implements a pseudo-quadratic algorithm."
   ]
  },
  {
   "cell_type": "markdown",
   "metadata": {
    "id": "Ewh_mlKxc5Sz"
   },
   "source": [
    "### Karatsuba Multiplication"
   ]
  },
  {
   "cell_type": "markdown",
   "metadata": {
    "id": "UIs95vICdBuG"
   },
   "source": [
    "The Karatsuba algorithm allows for faster multiplication of large integers compared to the traditional multiplication algorithm we learn in school (which has quadratic complexity)."
   ]
  },
  {
   "cell_type": "markdown",
   "metadata": {
    "id": "gaaxpAp0eTYJ"
   },
   "source": [
    "Let's consider integers $x$ and $y$ for which we want to calculate $x \\times y$, where the largest number has $n$ digits.\n",
    "\n",
    "Let $m = 10^{\\lfloor n/2 \\rfloor}$, then:\n",
    "\n",
    "$$x = x_1 m + x_0$$\n",
    "\n",
    "$$y = y_1 m + y_0$$\n",
    "\n",
    "with $x_0,y_0 < m$."
   ]
  },
  {
   "cell_type": "markdown",
   "metadata": {
    "id": "czDVJ4hEhRFC"
   },
   "source": [
    "Developing the multiplication,\n",
    "\n",
    "$$\\begin{array}{lcl}\n",
    "x \\times y & = & (x_1 m + x_0) \\times (y_1 m + y_0) \\\\\n",
    "           & = & \\underbrace{x_1y_1}_{z_2}m^2 + \\underbrace{(x_1y_0+x_0y_1)}_{z_1}m + \\underbrace{x_0y_0}_{z_0} \\\\\n",
    "\\end{array}$$\n",
    "\n",
    "To directly calculate the expressions $z_0, z_1, z_2$ requires four multiplications.\n",
    "\n",
    "However, the Russian mathematician Anatoly Karatsuba observed that to calculate $z_1$, we don't need two multiplications, but only one (with some extra additions):\n",
    "\n",
    "$$z_1 = (x_1+x_0)\\times(y_1+y_0) - z_2 - z_0$$"
   ]
  },
  {
   "cell_type": "markdown",
   "metadata": {
    "id": "WDxNxz-giBUi"
   },
   "source": [
    "In summary, we can perform faster multiplications by breaking numbers into half-digits and recursively calculating the multiplications of simpler numbers. The cost function is given by $T(n) = 3T(n/2) + n$, which [implies](https://www.wolframalpha.com/input?i=T%28n%29+%3D+3T%28n%2F2%29+%2B+n) that the complexity of multiplication decreases from $\\mathcal{O}(n^2)$ to $\\mathcal{O}(n^{\\log_2 3}) \\approx \\mathcal{O}(n^{1.585})$.\n",
    "\n",
    "In Python:"
   ]
  },
  {
   "cell_type": "code",
   "execution_count": 19,
   "metadata": {
    "id": "eQgT7VyDjCt8"
   },
   "outputs": [],
   "source": [
    "def karatsuba(x, y):\n",
    "  if x < 10 or y < 10: # if one is already quite smaller,\n",
    "    return x*y         #  just multiply\n",
    "\n",
    "  n = max(len(str(x)), len(str(y))) # digits of larger number\n",
    "  m = 10**(n//2)\n",
    "  x1, x0 = divmod(x, m)\n",
    "  y1, y0 = divmod(y, m)\n",
    "\n",
    "  z0 = karatsuba(x0, y0)\n",
    "  z2 = karatsuba(x1, y1)\n",
    "  z1 = karatsuba(x1+x0, y1+y0) - z2 - z0\n",
    "\n",
    "  return z2*m**2 + z1*m + z0"
   ]
  },
  {
   "cell_type": "code",
   "execution_count": 20,
   "metadata": {
    "id": "kUdsFr29kQvn"
   },
   "outputs": [],
   "source": [
    "x, y = 123456789, 987654321\n",
    "assert karatsuba(x, y) == x * y"
   ]
  },
  {
   "cell_type": "markdown",
   "metadata": {
    "id": "J5AZJQGjYII0"
   },
   "source": [
    "### Maximum Subarray"
   ]
  },
  {
   "cell_type": "markdown",
   "metadata": {
    "id": "WEBw8zpQYHPr"
   },
   "source": [
    "The Maximum Subarray problem, also known as the Range Sum Query (RSQ), refers to the problem of finding, in a list of $n$ elements, a sequence of consecutive elements that has maximum sum.\n",
    "\n",
    "For example, in `23 -10 12 9 -40 32 12 -4 10 6`, the sequence with the maximum sum is `32 12 -4 10 6`, and its total sum is $56$."
   ]
  },
  {
   "cell_type": "markdown",
   "metadata": {
    "id": "i3gLePVHYtrI"
   },
   "source": [
    "A first solution is to test all combinations of sublists and keep the one with the highest sum:"
   ]
  },
  {
   "cell_type": "code",
   "execution_count": 21,
   "metadata": {
    "id": "mLkzuRsWYfao"
   },
   "outputs": [],
   "source": [
    "def RSQ(xs):\n",
    "  n, result = len(xs), 0\n",
    "  for i in range(n):\n",
    "    result = max(result, *[sum(xs[i:j+1]) for j in range(i,n)])\n",
    "  return result"
   ]
  },
  {
   "cell_type": "code",
   "execution_count": 22,
   "metadata": {
    "id": "pvyVBdWpZKeQ"
   },
   "outputs": [],
   "source": [
    "assert RSQ([23,-10,12,9,-40,32,12,-4,10,6]) == 56\n",
    "assert RSQ([-1,-2,-4,-3]) == 0"
   ]
  },
  {
   "cell_type": "markdown",
   "metadata": {
    "id": "cB4jnwzTZhrm"
   },
   "source": [
    "This algorithm is $\\mathcal{O}(n^2)$."
   ]
  },
  {
   "cell_type": "markdown",
   "metadata": {
    "id": "QbNQ7olfZr7U"
   },
   "source": [
    "We can use the divide and conquer technique to achieve a solution with better complexity: we divide the list into two equal-sized lists, calculate the RSQ for both lists, and then combine the results.\n",
    "\n",
    "First attempt:"
   ]
  },
  {
   "cell_type": "code",
   "execution_count": 23,
   "metadata": {
    "id": "UMGONWxiaDiK"
   },
   "outputs": [],
   "source": [
    "def RSQ(xs):\n",
    "  if len(xs) <= 1:\n",
    "    return xs[0] if xs else 0\n",
    "  mid = len(xs)//2\n",
    "  return max(RSQ(xs[:mid]), RSQ(xs[mid:]))"
   ]
  },
  {
   "cell_type": "markdown",
   "metadata": {
    "id": "q55qjbJRaBA9"
   },
   "source": [
    "However, if we test it with the previous assertions, we'll notice that there's a problem with this algorithm: the optimal sequence of elements can be split between the two halves. In other words, we need to be more careful in combining the two results.\n",
    "\n",
    "We need to include a third value in the result combination. This value includes the middle element and extends the sum to the left and right as far as possible. As long as we can perform this task in linear time, we're good, because the recurrence relation of this recursive function will be\n",
    "\n",
    "$$T(n) = 2T(n/2) + \\mathcal{O}(n) \\propto \\mathcal{O}(n \\log n)$$\n",
    "\n",
    "an improvement over the previous quadratic solution."
   ]
  },
  {
   "cell_type": "markdown",
   "metadata": {
    "id": "uZte-C89d5td"
   },
   "source": [
    "Here's the algorithm in Python:"
   ]
  },
  {
   "cell_type": "code",
   "execution_count": 24,
   "metadata": {
    "id": "YBFs5qNib0Hq"
   },
   "outputs": [],
   "source": [
    "# this code does not use slicing to reduce the number of list objects\n",
    "def RSQ(xs, left=None, right=None):\n",
    "  if left is None:\n",
    "    left, right = 0, len(xs)-1\n",
    "  if right-left <= 1:\n",
    "    return xs[left] if left==right else 0\n",
    "\n",
    "  mid = (left+right)//2\n",
    "  maxLsum = currentSum = 0          # compute maximum sum to the left\n",
    "  for i in range(mid, left-1, -1):\n",
    "    currentSum += xs[i]\n",
    "    maxLsum = max(maxLsum, currentSum)\n",
    "\n",
    "  maxRsum = currentSum = 0          # compute maximum sum to the right\n",
    "  for i in range(mid+1, right+1):\n",
    "    currentSum += xs[i]\n",
    "    maxRsum = max(maxRsum, currentSum)\n",
    "\n",
    "  return max(maxLsum+maxRsum,       # select highest value between three options\n",
    "             RSQ(xs, left,  mid),\n",
    "             RSQ(xs, mid+1, right))"
   ]
  },
  {
   "cell_type": "markdown",
   "metadata": {
    "id": "Wi84meQk_hC1"
   },
   "source": [
    "### Number of Inversions"
   ]
  },
  {
   "cell_type": "markdown",
   "metadata": {
    "id": "1zwGRUNi_jYu"
   },
   "source": [
    "Given a sequence with comparable elements, how far is it from being sorted?\n",
    "\n",
    "This question is useful when comparing rankings. For example, in a streaming service, you can compare movie ratings among various users (each customer has their own ranking) to find customers with similar tastes. This information is important for making personalized recommendations.\n",
    "\n",
    "One measure to answer this question is to count how many inversions exist in the sequence, i.e., how many pairs of numbers are in the wrong order. For example, the sequence `[1,3,5,2,4,6]` has three inversions: `(3,2), (5,2), (5,4)`."
   ]
  },
  {
   "cell_type": "markdown",
   "metadata": {
    "id": "Dnh4tR8wmfqN"
   },
   "source": [
    "An algorithmic approach would be to compare all possible pairs among the $n$ numbers, which would have a time complexity of $\\mathcal{O}(n^2)$.\n",
    "\n",
    "However, applying the divide and conquer technique allows us to improve this complexity. The idea is as follows:\n",
    "\n",
    "1. Split the sequence into two halves.\n",
    "2. Calculate the inversions in each half.\n",
    "3. Calculate the inversions between the two halves.\n",
    "4. The final result will be the sum of the results from the previous two steps.\n",
    "\n",
    "This divide and conquer approach can significantly reduce the time complexity when compared to the brute-force method."
   ]
  },
  {
   "cell_type": "markdown",
   "metadata": {
    "id": "H28a3IJOmw_H"
   },
   "source": [
    "How to implement this algorithm efficiently? Each half should be sorted to facilitate the process. Therefore, we have a `merge` function that takes two sorted sequences (very similar to _merge sort_) but with the additional concern of counting how many pairs of values are found inverted (which can be done in linear time). The complexity of this algorithm is $\\mathcal{O}(n \\log n)$.\n",
    "\n",
    "For example, consider the list `[3,1,5,2,6,4]`. Each half we recursively invoke, `[3,1,5]` and `[2,6,4]`, will return as sorted `[1,3,5]` (with one inversion detected) and `[2,4,6]` (also with one inversion). The merging process will detect that `3` is inverted with `2`, and that `5` has two inversions with `2` and `4`. Thus, the total number of inversions is 1 + 1 + 3 = 5.\n",
    "\n",
    "In Python:"
   ]
  },
  {
   "cell_type": "code",
   "execution_count": 25,
   "metadata": {
    "id": "5hjP3yB6_jpB"
   },
   "outputs": [],
   "source": [
    "def n_inversions(xs, a=None, b=None):\n",
    "  if a is None:\n",
    "    a, b = 0, len(xs)\n",
    "  if a == b-1:\n",
    "    return 0\n",
    "  # split sequence into two halves\n",
    "  mid = (a+b)//2\n",
    "  return n_inversions(xs, a, mid) + n_inversions(xs, mid, b) + merge(xs, a, mid, b)\n",
    "\n",
    "def merge(xs, a, mid, b):\n",
    "  count, tmp = 0, [0]*(b-a)\n",
    "  low, high = a, mid\n",
    "  for i in range(a, b):  # merge sequences\n",
    "    if high >= b or (low < mid and xs[low] <= xs[high]):\n",
    "      tmp[i-a] = xs[low]\n",
    "      low += 1\n",
    "    else:\n",
    "      count += mid-low # count number of inversions found\n",
    "      tmp[i-a] = xs[high]\n",
    "      high += 1\n",
    "  xs[a:b] = tmp\n",
    "  return count"
   ]
  },
  {
   "cell_type": "code",
   "execution_count": 26,
   "metadata": {
    "id": "FZgou74yBlzX"
   },
   "outputs": [],
   "source": [
    "assert n_inversions([3,1,5,2,6,4]) == 5\n",
    "assert n_inversions([1,3,5,2,4,6]) == 3"
   ]
  },
  {
   "cell_type": "markdown",
   "metadata": {
    "id": "d4adhYlGc-Qw"
   },
   "source": [
    "### Nearest Neighbors"
   ]
  },
  {
   "cell_type": "markdown",
   "metadata": {
    "id": "TvBrjzEhdCQ2"
   },
   "source": [
    "Another classic problem is finding, given $n$ points, the pair of points that are closest to each other.\n",
    "\n",
    "The brute-force approach tells us to compare the distance between all pairs of points, which results in an $\\mathcal{O}(n^2)$ algorithm."
   ]
  },
  {
   "cell_type": "code",
   "execution_count": 27,
   "metadata": {
    "id": "MN71-gXaIU0Z"
   },
   "outputs": [],
   "source": [
    "def dist(p, q):\n",
    "  return ((p[0]-q[0])**2 + (p[1]-q[1])**2)**0.5\n",
    "\n",
    "def closest_bruteforce(ps):\n",
    "  return min((dist(p,q),p,q) for i,p in enumerate(ps)\n",
    "                             for   q in ps[i+1:])"
   ]
  },
  {
   "cell_type": "markdown",
   "metadata": {
    "id": "mfysl5GHGmxZ"
   },
   "source": [
    "But we can implement a smarter solution:\n",
    "\n",
    "1. Sort the points by the x-coordinate.\n",
    "\n",
    "2. Divide the points into two sets separated by the median line of the points.\n",
    "\n",
    "3. Invoke the algorithm recursively for these two halves, obtaining the minimum distances $d_L$ and $d_R$.\n",
    "\n",
    "4. Find the minimum distance $d_{LR}$ between points from the two halves.\n",
    "\n",
    "5. Return min($d_L$, $d_R$, $d_{LR}$).\n"
   ]
  },
  {
   "cell_type": "markdown",
   "metadata": {
    "id": "LRjwDRm2XD2s"
   },
   "source": [
    "In step 4, for each point near the boundary -- points within a distance less than min($d_L$, $d_R$) --, it can [be](https://www.cs.ubc.ca/~liorma/cpsc320/files/closest-points.pdf) [shown](https://github.com/jpneto/Prog.I/raw/master/docs/closest-points.pdf) that there are at most six points for which you need to calculate the distance.\n",
    "\n",
    "This implies that step 4 can be performed in linear time (see the `closest_border` function), and the overall complexity of the algorithm is $\\mathcal{O}(n \\log n)$."
   ]
  },
  {
   "cell_type": "markdown",
   "metadata": {
    "id": "OeqyCmt1TcdV"
   },
   "source": [
    "The main function:"
   ]
  },
  {
   "cell_type": "code",
   "execution_count": 28,
   "metadata": {
    "id": "v8g-LSlTJVa7"
   },
   "outputs": [],
   "source": [
    "def closest(ps, xx=None, yy=None):\n",
    "  if xx is None:\n",
    "    # this sorting is useful to speed up some parts of the algorithm\n",
    "    xx = sorted(ps, key=lambda p:p[0]) # sort by x coordinates\n",
    "    yy = sorted(ps, key=lambda p:p[1]) # sort by y coordinates\n",
    "\n",
    "  if len(xx) < 6: # with a small number of pts, better to brute force\n",
    "    return closest_bruteforce(xx)\n",
    "\n",
    "  # split points into two halves\n",
    "  mid = len(xx)//2\n",
    "  leftX,  leftY  = xx[:mid], [pt for pt in xx if pt[0] <= xx[mid][0]]\n",
    "  rightX, rightY = xx[mid:], [pt for pt in xx if pt[0] >  xx[mid][0]]\n",
    "\n",
    "  # search closest points for each half\n",
    "  dL, pL, qL = closest(ps, leftX,  leftY)\n",
    "  dR, pR, qR = closest(ps, rightX, rightY)\n",
    "\n",
    "  if dL <= dR:            # select minimum half\n",
    "    d, p, q = dL, pL, qL\n",
    "  else:\n",
    "    d, p, q = dR, pR, qR\n",
    "\n",
    "  dLR, pLR, qLR = closest_border(xx, yy, d, p, q) # search border\n",
    "\n",
    "  if d <= dLR:            # compare minimum half with border result\n",
    "    return d, p, q\n",
    "  else:\n",
    "    return dLR, pLR, qLR"
   ]
  },
  {
   "cell_type": "markdown",
   "metadata": {
    "id": "cUK6B2n8Text"
   },
   "source": [
    "and the function that calculates the minimum distance between points on the boundary:"
   ]
  },
  {
   "cell_type": "code",
   "execution_count": 29,
   "metadata": {
    "id": "pNqZaJ6CNRHx"
   },
   "outputs": [],
   "source": [
    "def closest_border(xx, yy, d, p, q):\n",
    "  midX = xx[len(xx)//2][0]\n",
    "  pts   = [x for x in yy if midX-d <= x[0] <= midX+d] # points not further than d from mid_x\n",
    "\n",
    "  dLR, pLR, qLR = d, p, q\n",
    "  for i in range(len(pts)-1):\n",
    "    # check only 6 pts after each pts[i]; cf. [Cormen 3ed, pgs 1039-43]\n",
    "    for j in range(i+1, min(i+7, len(pts))):\n",
    "      d2 = dist(pts[i], pts[j])\n",
    "      if d2 < dLR:\n",
    "        dLR, pLR, qLR = d2, pts[i], pts[j]\n",
    "  return dLR, pLR, qLR"
   ]
  },
  {
   "cell_type": "markdown",
   "metadata": {
    "id": "3jwmlJCYTpJJ"
   },
   "source": [
    "A use case with the random generation of many points to compare the results obtained by the two solutions:"
   ]
  },
  {
   "cell_type": "code",
   "execution_count": 30,
   "metadata": {
    "colab": {
     "base_uri": "https://localhost:8080/"
    },
    "executionInfo": {
     "elapsed": 9504,
     "status": "ok",
     "timestamp": 1699525846858,
     "user": {
      "displayName": "Joao Pedro Neto",
      "userId": "16588413076175252494"
     },
     "user_tz": 0
    },
    "id": "KGnAivTbR9Y2",
    "outputId": "5251c308-9159-4cf5-8756-8901f347a4f4"
   },
   "outputs": [
    {
     "name": "stdout",
     "output_type": "stream",
     "text": [
      "815 ms ± 1.76 ms per loop (mean ± std. dev. of 5 runs, 1 loop each)\n",
      "14.9 ms ± 170 µs per loop (mean ± std. dev. of 5 runs, 1 loop each)\n"
     ]
    }
   ],
   "source": [
    "from random import randint, seed\n",
    "\n",
    "def rnd_pts(n, M=10**4, seed_id=124):\n",
    "  seed(seed_id)\n",
    "  return [(randint(-M, M), randint(-M, M)) for i in range(n)]\n",
    "\n",
    "ps = rnd_pts(2000)\n",
    "assert closest_bruteforce(ps) == closest(ps)\n",
    "\n",
    "%timeit -n1 -r5 closest_bruteforce(ps)\n",
    "%timeit -n1 -r5 closest(ps)"
   ]
  },
  {
   "cell_type": "markdown",
   "metadata": {
    "id": "4y9D_HBZu3Uu"
   },
   "source": [
    "### Meet in the Middle"
   ]
  },
  {
   "cell_type": "markdown",
   "metadata": {
    "id": "7V9vb91yT8aK"
   },
   "source": [
    "Consider the following problem: Given a list $xs$ with at most $40$ elements, output how many subsets of $xs$ sum to $x$."
   ]
  },
  {
   "cell_type": "markdown",
   "metadata": {
    "id": "6o_DLoUiVJDB"
   },
   "source": [
    "Let's first try a brute force solution: just compute the powerset of $xs$ and count those that sum to $x$."
   ]
  },
  {
   "cell_type": "code",
   "execution_count": 31,
   "metadata": {
    "id": "od32Z9hXTtKi"
   },
   "outputs": [],
   "source": [
    "from itertools import combinations\n",
    "\n",
    "def powerset(xs):\n",
    "  yield from (s for n in range(len(xs)+1)\n",
    "                for s in combinations(xs, n))\n",
    "\n",
    "def subset_sum(xs, x):\n",
    "  return sum(sum(subset) == x for subset in powerset(xs))\n",
    "\n",
    "assert subset_sum(range(6), 5) == 6 # [5], [0,5], [1,4], [2,3], [0,1,4], [0,2,3]\n",
    "assert subset_sum(range(12), 18) == 64"
   ]
  },
  {
   "cell_type": "markdown",
   "metadata": {
    "id": "iFQQGbwrWAl7"
   },
   "source": [
    "Computing the powerset is $\\mathcal{O}(2^n)$ so this means around $2^{40}$ operations as a worst case, i.e., a trillion operations, which is just too large."
   ]
  },
  {
   "cell_type": "markdown",
   "metadata": {
    "id": "EmmxWYymvPgQ"
   },
   "source": [
    "Now consider a different approach: split the original list into two equal size sublists. Compute the powerset of each. Then, for a left result of $y$ check if exists a right result of $y-x$. Every time this happens accumulate the counter."
   ]
  },
  {
   "cell_type": "code",
   "execution_count": 32,
   "metadata": {
    "id": "vUY-NrAbWeLy"
   },
   "outputs": [],
   "source": [
    "from collections import Counter\n",
    "\n",
    "def subset_sum2(xs, x):\n",
    "  mid = len(xs)//2\n",
    "  left_sums  = Counter(sum(s) for s in powerset(xs[:mid]))\n",
    "  right_sums = Counter(sum(s) for s in powerset(xs[mid:]))\n",
    "\n",
    "  return sum(left_sums[y] * right_sums[x-y] for y in range(x+1))\n",
    "\n",
    "assert subset_sum2(range(6), 5) == 6\n",
    "assert subset_sum2(range(12), 18) == 64"
   ]
  },
  {
   "cell_type": "markdown",
   "metadata": {
    "id": "UzTshbQ6ZhjG"
   },
   "source": [
    "By splitting the problem in half, and searching compatible values from both partial solutions, we get an algorithm $\\mathcal{O}(n \\cdot 2^{n/2})$, still exponential but with a slower growth.\n",
    "\n",
    "For $n=40$ the previous trillion number of operations reduces to tens of millions of operations."
   ]
  },
  {
   "cell_type": "code",
   "execution_count": 33,
   "metadata": {
    "colab": {
     "base_uri": "https://localhost:8080/"
    },
    "executionInfo": {
     "elapsed": 33408,
     "status": "ok",
     "timestamp": 1715696449750,
     "user": {
      "displayName": "Joao Pedro Neto",
      "userId": "16588413076175252494"
     },
     "user_tz": -60
    },
    "id": "T5lkiyIRYaDF",
    "outputId": "515028d1-4230-4726-83ad-968d237c6e09"
   },
   "outputs": [
    {
     "name": "stdout",
     "output_type": "stream",
     "text": [
      "448 ms ± 5.23 ms per loop (mean ± std. dev. of 7 runs, 1 loop each)\n",
      "686 µs ± 3.13 µs per loop (mean ± std. dev. of 7 runs, 1,000 loops each)\n"
     ]
    }
   ],
   "source": [
    "%timeit subset_sum(range(21), 23)\n",
    "%timeit subset_sum2(range(21), 23)"
   ]
  },
  {
   "cell_type": "markdown",
   "metadata": {
    "id": "XhofDS5fvo9X"
   },
   "source": [
    "This in essence is the strategy denoted **meet in the middle** or **bidirectional search**. It works on difficult problems when the instance size is too large for a brute force approach, but not that large to brute force half the input."
   ]
  },
  {
   "cell_type": "markdown",
   "metadata": {
    "id": "aAWT_4KS7JPz"
   },
   "source": [
    "A context where this technique is useful is when searching a path thru a very large graph. It will be faster to start from both directions and try to find a common node.\n",
    "\n",
    "It is possible to process this using a search technique, as BFS, by seeding the two starting points, and processing each path alternatively. By keeping which nodes were visited in a cache, if a node from one path is in the cache from the other path, then we found the common node."
   ]
  },
  {
   "cell_type": "markdown",
   "metadata": {
    "id": "qwiubYEA9bh9"
   },
   "source": [
    "## Greedy Algorithms"
   ]
  },
  {
   "cell_type": "markdown",
   "metadata": {
    "id": "38C8NiHMvxG6"
   },
   "source": [
    "In a problem with **optimal substructure**, it is possible to find the optimal solution by combining the optimal solutions of its subproblems.\n",
    "\n",
    "In these problems, if it can be demonstrated that at each step we can choose only the «best» local option to find the global optimal solution (referred to as the _**greedy choice property**_), then we can use the so-called **greedy algorithms**.\n",
    "\n",
    "> Proving when a problem is amenable to a greedy solution requires non-trivial mathematical arguments. For this reason, we will not delve into the [theory](https://en.wikipedia.org/wiki/Matroid) used, as it is beyond the scope of this course."
   ]
  },
  {
   "cell_type": "markdown",
   "metadata": {
    "id": "uCkRQPWzUddp"
   },
   "source": [
    "A greedy algorithm, by selecting only one subproblem to compute, tends to be very fast.\n",
    "\n",
    "It is not hard to find one or more greedy strategies for a given problem. Unfortunately, a greedy approach does not always work to find the optimal solution, even if it often provides an approximate solution that is reasonably close to that optimal solution (this will be the topic of a future chapter)."
   ]
  },
  {
   "cell_type": "markdown",
   "metadata": {
    "id": "oSxkHQLI5f3m"
   },
   "source": [
    "A classic example is minimizing the number of coins needed to represent an amount. For instance, given the Euro coins, what is the minimum number of coins to sum up to $n$ cents?\n",
    "\n",
    "A greedy algorithm that, for the current amount, chooses the largest possible coin allows us to find the answer:"
   ]
  },
  {
   "cell_type": "code",
   "execution_count": 34,
   "metadata": {
    "id": "ejEtBDHs54gI"
   },
   "outputs": [],
   "source": [
    "def minCoins(n, coins=[200,100,50,20,10,5,2,1]): # coins in cents, reversed sorted\n",
    "  result = 0\n",
    "  for coin in coins:\n",
    "    result += n//coin # take as many as possible from the current coin\n",
    "    n %= coin         # just take care of the remainder\n",
    "  return result"
   ]
  },
  {
   "cell_type": "code",
   "execution_count": 35,
   "metadata": {
    "id": "bFyAG4fc6X2p"
   },
   "outputs": [],
   "source": [
    "assert minCoins(458) == 6   # 200+200+50+5+2+1 -> six coins"
   ]
  },
  {
   "cell_type": "markdown",
   "metadata": {
    "id": "Hs3g4w3ZvEzC"
   },
   "source": [
    "It's worth noting that this reasoning of choosing the largest coin at each step doesn't work for all possible sets of coins$^{(*)}$. For example,"
   ]
  },
  {
   "cell_type": "code",
   "execution_count": 36,
   "metadata": {
    "colab": {
     "base_uri": "https://localhost:8080/"
    },
    "executionInfo": {
     "elapsed": 247,
     "status": "ok",
     "timestamp": 1699544678931,
     "user": {
      "displayName": "Joao Pedro Neto",
      "userId": "16588413076175252494"
     },
     "user_tz": 0
    },
    "id": "o60b4KL6vRsH",
    "outputId": "9e76eb5f-d765-4e95-ec46-05caac7ae26b"
   },
   "outputs": [
    {
     "data": {
      "text/plain": [
       "3"
      ]
     },
     "execution_count": 36,
     "metadata": {},
     "output_type": "execute_result"
    }
   ],
   "source": [
    "minCoins(6, coins=[4,3,3,1]) # best solution is 3+3 -> two coins"
   ]
  },
  {
   "cell_type": "markdown",
   "metadata": {
    "id": "RpyUlJrGtcHf"
   },
   "source": [
    "> <font size=\"-1\">$^{(*)}$ When the greedy approach works for the coin problem, it is said that the set of coins is _canonical_, but determining whether a set of coins is canonical or not is a non-trivial task, [[1](https://math.stackexchange.com/questions/4139845/change-making-problem-pearson-algorithm-to-check-the-optimality-of-greedy-solu), [2](https://math.stackexchange.com/questions/3121896/what-property-of-a-coin-system-makes-it-canonical)].</font>"
   ]
  },
  {
   "cell_type": "markdown",
   "metadata": {
    "id": "v47wPrJrH7Gg"
   },
   "source": [
    "Two mentioned problems in the chapter about Graphs, finding the shortest path between two nodes (via Dijkstra's algorithm) and finding the minimal spanning tree, can both be solved using greedy algorithms. The $A^*$ search algorithm also employs a greedy strategy to choose the next candidate for exploration.\n",
    "\n",
    "Let's explore some other classic problems that are solved using this technique."
   ]
  },
  {
   "cell_type": "markdown",
   "metadata": {
    "id": "xF8LVMNy4tNS"
   },
   "source": [
    "### Knapsack Problem (fractional version)"
   ]
  },
  {
   "cell_type": "markdown",
   "metadata": {
    "id": "f3cehybq40Ml"
   },
   "source": [
    "The knapsack problem corresponds to having a set of objects, each with a weight $w_i$ and a value $v_i$, that we can place in a backpack with a certain capacity $C$. We wish the maximize the value of what we can carry in the backpack.\n",
    "\n",
    "The fractional version tells us that we can divide the objects into units of weight (e.g., kilograms) before putting them in the backpack."
   ]
  },
  {
   "cell_type": "markdown",
   "metadata": {
    "id": "e5w5ZEvf5kkT"
   },
   "source": [
    "This problem has a greedy solution: we should sort the objects by their values per kilogram and fill the knapsack with the most valuable kilograms first."
   ]
  },
  {
   "cell_type": "code",
   "execution_count": 37,
   "metadata": {
    "id": "LtiwTu6S50G4"
   },
   "outputs": [],
   "source": [
    "def fracKnapsack(capacity, values, weigths):\n",
    "  units = [v/weigths[i] for i,v in enumerate(values) for _ in range(weigths[i])]\n",
    "  units.sort(reverse=True)\n",
    "  return sum(units[:capacity])"
   ]
  },
  {
   "cell_type": "code",
   "execution_count": 38,
   "metadata": {
    "colab": {
     "base_uri": "https://localhost:8080/"
    },
    "executionInfo": {
     "elapsed": 353,
     "status": "ok",
     "timestamp": 1699545619823,
     "user": {
      "displayName": "Joao Pedro Neto",
      "userId": "16588413076175252494"
     },
     "user_tz": 0
    },
    "id": "_xY1a75_6dcw",
    "outputId": "737dd9ff-3bb4-42b6-cc19-caa67efa9fbf"
   },
   "outputs": [
    {
     "data": {
      "text/plain": [
       "9.5"
      ]
     },
     "execution_count": 38,
     "metadata": {},
     "output_type": "execute_result"
    }
   ],
   "source": [
    "fracKnapsack(7, values=[4,8,2], weigths=[8,4,5])"
   ]
  },
  {
   "cell_type": "markdown",
   "metadata": {
    "id": "JUQsAfe2v0iy"
   },
   "source": [
    "### Task Scheduling"
   ]
  },
  {
   "cell_type": "markdown",
   "metadata": {
    "id": "9svGCRjEv2z1"
   },
   "source": [
    "Let's consider a set of tasks with start and end times that can be scheduled in a room. There are overlapping time slots, which means we have to decide which tasks to schedule. We want to book the room for the maximum number of tasks possible."
   ]
  },
  {
   "cell_type": "markdown",
   "metadata": {
    "id": "6NMkLz-V1F3h"
   },
   "source": [
    "This problem can be solved with a greedy algorithm: among the available tasks, schedule the one that finishes as early as possible and is compatible with the tasks already scheduled.\n",
    "\n",
    "Any compatible task that finishes later cannot result in a better solution. For example, if I have two compatible tasks, one ending at 15:00 and the other ending at 16:00, it is never preferable to choose the one ending at 16:00.\n",
    "\n",
    "The following function implements this idea. To facilitate the algorithm, it sorts the list of tasks in ascending order according to their end time."
   ]
  },
  {
   "cell_type": "code",
   "execution_count": 39,
   "metadata": {
    "id": "ffBIRYiuzSE4"
   },
   "outputs": [],
   "source": [
    "def schedule(tasks):\n",
    "  tasks.sort(key=lambda t: t[1])   # sort by ending time\n",
    "  result = [tasks[0]]              # always add first task\n",
    "  k = 0\n",
    "  for m in range(1,len(tasks)):\n",
    "    if tasks[m][0] >= tasks[k][1]: # select the compatible task that ends sooner\n",
    "      result.append(tasks[m])\n",
    "      k = m\n",
    "  return result"
   ]
  },
  {
   "cell_type": "code",
   "execution_count": 40,
   "metadata": {
    "colab": {
     "base_uri": "https://localhost:8080/"
    },
    "executionInfo": {
     "elapsed": 2,
     "status": "ok",
     "timestamp": 1699545771566,
     "user": {
      "displayName": "Joao Pedro Neto",
      "userId": "16588413076175252494"
     },
     "user_tz": 0
    },
    "id": "UlivCE2rwmiE",
    "outputId": "77473eac-b6f2-4282-9ea3-2e0b6a4bdb89"
   },
   "outputs": [
    {
     "data": {
      "text/plain": [
       "[(1, 4), (5, 7), (7, 11), (12, 16)]"
      ]
     },
     "execution_count": 40,
     "metadata": {},
     "output_type": "execute_result"
    }
   ],
   "source": [
    "tasks = [(1,4), (6,10), (3,5), (0,6), (5,9), (5,7), (2,14), (12,16), (3,9), (7,11), (8,12)]\n",
    "schedule(tasks)"
   ]
  },
  {
   "cell_type": "markdown",
   "metadata": {
    "id": "xN61pOtu3k71"
   },
   "source": [
    "An alternative solution would be to choose the task that starts as late as possible while being compatible with the already scheduled tasks. With this option, the list of tasks would be constructed from the end to the beginning."
   ]
  },
  {
   "cell_type": "markdown",
   "metadata": {
    "id": "fSZBxpEb-XIr"
   },
   "source": [
    "### Interval Coverage"
   ]
  },
  {
   "cell_type": "markdown",
   "metadata": {
    "id": "YnaasZGbFonJ"
   },
   "source": [
    "The interval covering problem is as follows:\n",
    "\n",
    "Given an initial interval $[L, R]$ and a set of intervals $[a_i, b_i]$, find the minimum number of these intervals needed to cover the entire initial interval. Interval intersections are allowed."
   ]
  },
  {
   "cell_type": "markdown",
   "metadata": {
    "id": "VGGV7MHM1LbF"
   },
   "source": [
    "This problem also has a greedy solution. First, we sort the intervals in ascending order of their start values $a_i$, and in case of ties, we sort in descending order of their end values $b_i$. For example, $[0,2] < [0,1] < [1,2]$.\n",
    "\n",
    "The idea is to keep track of the best interval encountered so far that satisfies having its start value $a_i$ to the left of the desired value. When an interval appears with an end value $b_i$ greater than the current best, we update the best interval since it is better than the intervals found so far. For example, if $L=0$ and we have the interval $[-1,4]$, and then the interval $[0,5]$ appears, we prefer to keep the latter because it covers the initial interval starting from zero.\n",
    "\n",
    "When an interval appears with a start value $a_i$ to the right of the desired value, we need to keep the best interval found so far. Continuing the example, if after $[0,5]$, we encounter $[2,7]$, we must keep $[0,5]$ because no more intervals will appear that will cover zero (remember that we sorted the intervals)."
   ]
  },
  {
   "cell_type": "markdown",
   "metadata": {
    "id": "XTca4YJ83Piz"
   },
   "source": [
    "The new interval may or may not be interesting. In the case of $[2,7]$, we keep it (for now). Say, the next interval is $[2,4]$. This is not useful because those values are already included in $[0,5]$ that we just kept. If the next interval is $[5,10]$ we can keep it (for now) and drop $[2,7]$.\n",
    "\n",
    "We repeat this process until the last interval kept has an end value $b_i$ greater than $R$, or a situation occurs where one of the values we are looking for to the left or right cannot be satisfied. In the second case, we need to report that the problem instance has no solution."
   ]
  },
  {
   "cell_type": "markdown",
   "metadata": {
    "id": "doXySF5uHH_u"
   },
   "source": [
    "The following function implements the described algorithm:"
   ]
  },
  {
   "cell_type": "code",
   "execution_count": 41,
   "metadata": {
    "id": "ONyTi3Xa-ZWC"
   },
   "outputs": [],
   "source": [
    "from collections import namedtuple\n",
    "Interval = namedtuple('Interval', 'left right')\n",
    "\n",
    "def coverage(L, R, intervals):\n",
    "  intervals.sort(key=lambda p:(p[0],-p[1]))\n",
    "  result = []\n",
    "  needLeft = L                      # from where we still need to cover\n",
    "  currentBest = Interval(L,L)       # our best interval so far\n",
    "  haveCurrentBest = False\n",
    "  feasible = True\n",
    "\n",
    "  for a,b in intervals:\n",
    "    if a <= needLeft:               # is this an interval that covers needLeft?\n",
    "      if b > currentBest.right:     # and covers even more to the right?\n",
    "        currentBest = Interval(a,b) # if so, keep it\n",
    "        haveCurrentBest = True\n",
    "    else:                           # ok, no more intervals will cover needLeft\n",
    "      if haveCurrentBest:           # if we have a good interval\n",
    "        result.append(currentBest)  #  include in it the solution\n",
    "        needLeft = currentBest.right\n",
    "        haveCurrentBest = False\n",
    "        if currentBest.right >= R:  # no need to continue, found a minimal cover\n",
    "          break\n",
    "      if a <= needLeft:             # needLeft might've changed, need to recheck\n",
    "        if b > currentBest.left:\n",
    "          currentBest = Interval(a,b)\n",
    "          haveCurrentBest = True\n",
    "      else:                         # if this interval does not cover needLeft\n",
    "        feasible = False            # no next ones will cover it,\n",
    "        break                       # so no solution exists\n",
    "\n",
    "  if haveCurrentBest:                  # don't forget the last interval\n",
    "    result.append(currentBest)\n",
    "    feasible = currentBest.right >= R  # but it might not be enough...\n",
    "\n",
    "  return [(a,b) for a,b in result] if feasible else None"
   ]
  },
  {
   "cell_type": "markdown",
   "metadata": {
    "id": "0ZePAvZCHZ2C"
   },
   "source": [
    "A use case:"
   ]
  },
  {
   "cell_type": "code",
   "execution_count": 42,
   "metadata": {
    "colab": {
     "base_uri": "https://localhost:8080/"
    },
    "executionInfo": {
     "elapsed": 509,
     "status": "ok",
     "timestamp": 1707474778108,
     "user": {
      "displayName": "Joao Pedro Neto",
      "userId": "16588413076175252494"
     },
     "user_tz": 0
    },
    "id": "OlTs9H7E-bNc",
    "outputId": "4b105d44-08a7-4d71-c7d3-01790f63cbf5"
   },
   "outputs": [
    {
     "data": {
      "text/plain": [
       "[(-15, 5), (3, 14), (14, 17), (16, 37)]"
      ]
     },
     "execution_count": 42,
     "metadata": {},
     "output_type": "execute_result"
    }
   ],
   "source": [
    "intervals = [(34,59), (-16,-14), (1,4), (30,52), (46,66), (3,14), (46,52), (15,31), (38,55),\n",
    "             (46,49), (14,17), (69,85), (16,37), (54,66), (-7,0), (-15,5), (37,39), (-14,-13)]\n",
    "coverage(-12, 33, intervals)"
   ]
  },
  {
   "cell_type": "markdown",
   "metadata": {
    "id": "_kq8FN-y0UyD"
   },
   "source": [
    "### Huffman Coding"
   ]
  },
  {
   "cell_type": "markdown",
   "metadata": {
    "id": "WBpbEWqq0X2X"
   },
   "source": [
    "This problem is from the field of Information Theory, regarding information compression.\n",
    "\n",
    "The common way to represent characters in binary is through the ASCII encoding (now part of the Unicode standard) that dedicates a fixed number of seven bits to each letter. We can observe some examples with the help of the following functions:"
   ]
  },
  {
   "cell_type": "code",
   "execution_count": 43,
   "metadata": {
    "id": "osr14hT30-wu"
   },
   "outputs": [],
   "source": [
    "to_binary   = lambda c: bin(ord(c))[2:] # convert to ASCII binary representation\n",
    "binary_code = lambda msg: ''.join(map(to_binary, msg)) # convert string to bits"
   ]
  },
  {
   "cell_type": "code",
   "execution_count": 44,
   "metadata": {
    "colab": {
     "base_uri": "https://localhost:8080/"
    },
    "executionInfo": {
     "elapsed": 4,
     "status": "ok",
     "timestamp": 1707474848586,
     "user": {
      "displayName": "Joao Pedro Neto",
      "userId": "16588413076175252494"
     },
     "user_tz": 0
    },
    "id": "_tynnckiADYJ",
    "outputId": "5bb86b8d-36ce-462f-bb77-a3dcf9696c1b"
   },
   "outputs": [
    {
     "name": "stdout",
     "output_type": "stream",
     "text": [
      "1101000\n",
      "1101000110010111011001101100110111110000011101111101111111001011011001100100\n"
     ]
    }
   ],
   "source": [
    "print(binary_code('h'))\n",
    "print(binary_code('hello world'))"
   ]
  },
  {
   "cell_type": "markdown",
   "metadata": {
    "id": "yTePZHTq19YU"
   },
   "source": [
    "However, this encoding is not efficient when it comes to the number of bits used. We know that some letters are more frequent than others, yet all letters consume the same amount of memory. ASCII was designed to facilitate computer memory management. However, for data transmission, it's not an efficient option.\n",
    "\n",
    "The issue of reducing the number of bits for communication purposes was a concern as far back as the telegraph era. Morse code reflects the frequencies of letters in the English language: an `e`, the most common letter, is represented by `.`; while the letter `q` is represented by `--.-`, a string four times longer.\n",
    "\n",
    "In 1951, David Huffman found an algorithm that, given the frequencies of the letters in question, can calculate an optimal encoding in terms of memory usage. The algorithm has a greedy nature and is highly effective at finding the answer:"
   ]
  },
  {
   "cell_type": "markdown",
   "metadata": {
    "id": "luFqNIDi2OLz"
   },
   "source": [
    "1. Create an empty min-priority queue.\n",
    "\n",
    "2. For each unique letter in the message, create a binary tree with that letter and its frequency and insert it into the queue.\n",
    "\n",
    "3. While the queue has more than one tree:\n",
    "\n",
    "   a. Remove the two trees with the lowest priority (priority is determined by the tree's frequency).\n",
    "\n",
    "   b. Create a new tree with a frequency equal to the sum of the frequencies of the two removed trees, and make the two removed trees its children.\n",
    "\n",
    "   c. Insert this new tree back into the queue."
   ]
  },
  {
   "cell_type": "markdown",
   "metadata": {
    "id": "7v7yfoo2EYFx"
   },
   "source": [
    "For example, for the letters `\"abcdefghi\"` with frequencies `[4, 5, 6, 9, 11, 12, 15, 16, 20]`, the algorithm should create the following tree:"
   ]
  },
  {
   "cell_type": "markdown",
   "metadata": {
    "id": "RH8dsVLV0lPh"
   },
   "source": [
    "<center><img src='https://raw.githubusercontent.com/jpneto/Prog.I/master/imgs/huffman_tree.png' width=650px><br>ref: Magnus Hetland, «Python Algorithms»</center>"
   ]
  },
  {
   "cell_type": "markdown",
   "metadata": {
    "id": "m8cyWXzjEnUU"
   },
   "source": [
    "Function `huffman_tree` implements this algorithm:"
   ]
  },
  {
   "cell_type": "code",
   "execution_count": 46,
   "metadata": {
    "id": "uJV-E0Zt06nz"
   },
   "outputs": [],
   "source": [
    "from heapq     import heapify, heappush, heappop\n",
    "from itertools import count\n",
    "\n",
    "def huffman_tree(seq, freq):\n",
    "  \"\"\" ref: Magnus Hetland, 'Python Algorithms', chapter 7 \"\"\"\n",
    "  num = count()\n",
    "  trees = list(zip(freq, num, seq))             # «num» ensures a valid ordering\n",
    "  heapify(trees)                                # min-heap based on frequencies\n",
    "  while len(trees) > 1:                         # until there's just one tree:\n",
    "    fa, _, a = heappop(trees)                   #  get the two 'smallest' trees\n",
    "    fb, _, b = heappop(trees)\n",
    "    heappush(trees, (fa+fb, next(num), [a, b])) #  combine and add new tree\n",
    "  return trees[0][-1]"
   ]
  },
  {
   "cell_type": "markdown",
   "metadata": {
    "id": "AnGCuj2ZF_Yr"
   },
   "source": [
    "Let's compute the coding tree for the previous example:"
   ]
  },
  {
   "cell_type": "code",
   "execution_count": 47,
   "metadata": {
    "colab": {
     "base_uri": "https://localhost:8080/"
    },
    "executionInfo": {
     "elapsed": 283,
     "status": "ok",
     "timestamp": 1699546362341,
     "user": {
      "displayName": "Joao Pedro Neto",
      "userId": "16588413076175252494"
     },
     "user_tz": 0
    },
    "id": "TjIpQr5B-sF3",
    "outputId": "b3787fbf-a12f-4c42-b084-4d30d1461d99"
   },
   "outputs": [
    {
     "data": {
      "text/plain": [
       "[['i', [['a', 'b'], 'e']], [['f', 'g'], [['c', 'd'], 'h']]]"
      ]
     },
     "execution_count": 47,
     "metadata": {},
     "output_type": "execute_result"
    }
   ],
   "source": [
    "seq = \"abcdefghi\"\n",
    "frq = [4, 5, 6, 9, 11, 12, 15, 16, 20]\n",
    "huffman_tree(seq, frq)"
   ]
  },
  {
   "cell_type": "markdown",
   "metadata": {
    "id": "TeqedtyoGRpe"
   },
   "source": [
    "We can use function `codes` to calculate the codes for each letter:"
   ]
  },
  {
   "cell_type": "code",
   "execution_count": 50,
   "metadata": {
    "id": "1ynMuDP-3Hfv"
   },
   "outputs": [],
   "source": [
    "def codes(tree, prefix=\"\"):\n",
    "  \"\"\" ref: Magnus Hetland, 'Python Algorithms', chapter 7 \"\"\"\n",
    "  if len(tree) == 1:\n",
    "    yield (tree, prefix)                      # a leaf with its code\n",
    "  else:\n",
    "    for bit, child in zip(\"01\", tree):        # left is 0, right is 1\n",
    "      yield from codes(child, prefix + bit)   # get codes recursively"
   ]
  },
  {
   "cell_type": "code",
   "execution_count": 51,
   "metadata": {
    "colab": {
     "base_uri": "https://localhost:8080/"
    },
    "executionInfo": {
     "elapsed": 252,
     "status": "ok",
     "timestamp": 1699546454012,
     "user": {
      "displayName": "Joao Pedro Neto",
      "userId": "16588413076175252494"
     },
     "user_tz": 0
    },
    "id": "yDqG7vb9GWaS",
    "outputId": "271c47ab-de69-4587-8dc3-46fbfb4d012a"
   },
   "outputs": [
    {
     "data": {
      "text/plain": [
       "[('i', '00'),\n",
       " ('a', '0100'),\n",
       " ('b', '0101'),\n",
       " ('e', '011'),\n",
       " ('f', '100'),\n",
       " ('g', '101'),\n",
       " ('c', '1100'),\n",
       " ('d', '1101'),\n",
       " ('h', '111')]"
      ]
     },
     "execution_count": 51,
     "metadata": {},
     "output_type": "execute_result"
    }
   ],
   "source": [
    "list(codes(huffman_tree(seq, frq)))"
   ]
  },
  {
   "cell_type": "markdown",
   "metadata": {
    "id": "WWJgHZ5-GGo2"
   },
   "source": [
    "Let's see the result it produces with a slightly longer sentence.\n",
    "\n",
    "Here is the ASCII binary representation:"
   ]
  },
  {
   "cell_type": "code",
   "execution_count": 52,
   "metadata": {
    "colab": {
     "base_uri": "https://localhost:8080/",
     "height": 160
    },
    "executionInfo": {
     "elapsed": 254,
     "status": "ok",
     "timestamp": 1699546621557,
     "user": {
      "displayName": "Joao Pedro Neto",
      "userId": "16588413076175252494"
     },
     "user_tz": 0
    },
    "id": "CizW6AoQ1vmF",
    "outputId": "ffa71a62-09f4-499f-d1d8-8efc2ee46a18"
   },
   "outputs": [
    {
     "data": {
      "text/plain": [
       "'110000111011101000001100101111100011000011101101111000011011001100101100000111001111001011101110111010011001011101110110001111001011000001110111110100111101001101000100000110111111011101101100111100110000011011001101111111011111001011110010110001111000011110011110010110000011011001100101111010011101001100101111001011100111000001110100110100011000011110100100000110001111000011101110100000110001011001011000001110101111001111001011100100100000111010011011111000001110100110010111100111110100100000111010011010001100101100000110000111011001100111110111111100101101001111010011010001101101100000111011111001011000001100001111001011001011000001100101111100011100001101100110000111010011101110110100111011101100111'"
      ]
     },
     "execution_count": 52,
     "metadata": {},
     "output_type": "execute_result"
    }
   ],
   "source": [
    "msg = 'an example sentence with only lowercase letters that can be used to test the algorithm we are explaining'\n",
    "msg_ascii = binary_code(msg)\n",
    "msg_ascii"
   ]
  },
  {
   "cell_type": "markdown",
   "metadata": {
    "id": "BDzZCjnqGnXN"
   },
   "source": [
    "To create the Huffman code for any string, we define two more auxiliary functions:"
   ]
  },
  {
   "cell_type": "code",
   "execution_count": 53,
   "metadata": {
    "id": "8Br1kgkD15yj"
   },
   "outputs": [],
   "source": [
    "from collections import Counter\n",
    "\n",
    "def encoding_map(msg):\n",
    "  \"\"\" return unique letters from 'msg' and their frequencies \"\"\"\n",
    "  data = Counter(msg).items()\n",
    "  seq, freq = ''.join(map(lambda p:p[0], data)), list(map(lambda p:p[1], data))\n",
    "  return {letter:code for letter, code in codes(huffman_tree(seq, freq))}\n",
    "\n",
    "def huffman_encode(msg, encoding):\n",
    "  \"\"\" apply Huffman encoding to msg \"\"\"\n",
    "  return ''.join(map(lambda c: encoding[c], msg))"
   ]
  },
  {
   "cell_type": "markdown",
   "metadata": {
    "id": "T8A_bmt2GxPT"
   },
   "source": [
    "Then:"
   ]
  },
  {
   "cell_type": "code",
   "execution_count": 54,
   "metadata": {
    "colab": {
     "base_uri": "https://localhost:8080/",
     "height": 107
    },
    "executionInfo": {
     "elapsed": 8,
     "status": "ok",
     "timestamp": 1699546625988,
     "user": {
      "displayName": "Joao Pedro Neto",
      "userId": "16588413076175252494"
     },
     "user_tz": 0
    },
    "id": "fmlgwn1x3IVm",
    "outputId": "9f1a07d3-ff7d-488a-b591-84cac45a5839"
   },
   "outputs": [
    {
     "data": {
      "text/plain": [
       "'10011000111101000001001000010001001101011110011101100001010110000111010111101111110000101100111111010100001100010001110110110100111110111011011101001001110111101101010100101011101100111110101100110010101110111010011000111001001101111001010001110100101111101011010111010101001101011101011001101111100101100001111010110111100001011001000011110111110111110011101110111110100000000100110100111000100011000100000011'"
      ]
     },
     "execution_count": 54,
     "metadata": {},
     "output_type": "execute_result"
    }
   ],
   "source": [
    "encoding = encoding_map(msg)\n",
    "msg_huffman = huffman_encode(msg, encoding)\n",
    "msg_huffman"
   ]
  },
  {
   "cell_type": "markdown",
   "metadata": {
    "id": "T-FIE5GwG0LV"
   },
   "source": [
    "We can already see that the encoded string has become shorter. Let's calculate the compression ratio:"
   ]
  },
  {
   "cell_type": "code",
   "execution_count": 55,
   "metadata": {
    "colab": {
     "base_uri": "https://localhost:8080/"
    },
    "executionInfo": {
     "elapsed": 2,
     "status": "ok",
     "timestamp": 1699546627792,
     "user": {
      "displayName": "Joao Pedro Neto",
      "userId": "16588413076175252494"
     },
     "user_tz": 0
    },
    "id": "Cur18XKVG70Q",
    "outputId": "7f0914c5-8831-4298-fbfa-a9843304a16a"
   },
   "outputs": [
    {
     "name": "stdout",
     "output_type": "stream",
     "text": [
      "57.7%\n"
     ]
    }
   ],
   "source": [
    "print(f'{len(msg_huffman) / len(msg_ascii):3.1%}')"
   ]
  },
  {
   "cell_type": "markdown",
   "metadata": {
    "id": "sNWlc9mSHGyT"
   },
   "source": [
    "We have reduced the binary representation by almost half! Of course, to decode it, we need to transmit the binary tree with the codes, which may not be efficient for transmitting a small number of characters. However, for texts with hundreds or more characters, compression has a clear advantage."
   ]
  },
  {
   "cell_type": "markdown",
   "metadata": {
    "id": "gS9xgvVHHs8M"
   },
   "source": [
    "To complete the example, let's perform the decoding:"
   ]
  },
  {
   "cell_type": "code",
   "execution_count": 56,
   "metadata": {
    "id": "PTQpa0958k6_"
   },
   "outputs": [],
   "source": [
    "def decoding_map(encoding):\n",
    "  \"\"\" just invert encoding dictionary \"\"\"\n",
    "  return {v:k for k,v in encoding.items()}\n",
    "\n",
    "def huffman_decode(bits, decoding):\n",
    "  \"\"\" apply decoding to binary message 'bits' \"\"\"\n",
    "  key, res = '', []\n",
    "  for bit in bits:\n",
    "    key += bit\n",
    "    if key in decoding:\n",
    "      res.append(decoding[key])\n",
    "      key = ''\n",
    "  return ''.join(res)"
   ]
  },
  {
   "cell_type": "code",
   "execution_count": 57,
   "metadata": {
    "colab": {
     "base_uri": "https://localhost:8080/",
     "height": 53
    },
    "executionInfo": {
     "elapsed": 323,
     "status": "ok",
     "timestamp": 1699546677496,
     "user": {
      "displayName": "Joao Pedro Neto",
      "userId": "16588413076175252494"
     },
     "user_tz": 0
    },
    "id": "oh6qQyNJ9P1H",
    "outputId": "1bce0e98-a13d-4c5d-8615-734d9aa0a9f5"
   },
   "outputs": [
    {
     "data": {
      "text/plain": [
       "'an example sentence with only lowercase letters that can be used to test the algorithm we are explaining'"
      ]
     },
     "execution_count": 57,
     "metadata": {},
     "output_type": "execute_result"
    }
   ],
   "source": [
    "huffman_decode(msg_huffman, decoding_map(encoding))"
   ]
  },
  {
   "cell_type": "markdown",
   "metadata": {
    "id": "DcMXyOdq0vh7"
   },
   "source": [
    "A final quote, not about greedy algorithms, but about free lunches:\n",
    "\n",
    "> If a lossless compression reduces the size of one input, the pigeonhole principle says it must increase the size of some input. That's usually not a problem because in practice you care more about *probable* inputs than *possible* inputs.\" — John D Cook\n",
    "\n",
    "(imagine a telegrapher sending a sequence of one thousand `q`'s...)"
   ]
  },
  {
   "cell_type": "markdown",
   "metadata": {
    "id": "f9JMmp0U9bS6"
   },
   "source": [
    "## Dynamic Programming"
   ]
  },
  {
   "cell_type": "markdown",
   "metadata": {
    "id": "QUh9hR9Z4ZVp"
   },
   "source": [
    "Dynamic programming (DP) is a problem-solving technique for problems with optimal substructure, much like greedy algorithms. However, DP has a broader application domain and, when applicable, ensures the correctness of the solution.\n",
    "\n",
    "The characteristic that problems must have, for DP to be used, is that they exhibit _overlapping subproblems_, meaning that subproblems share common sub-subproblems. When this occurs, a divide-and-conquer solution will inevitably perform more computation than necessary. What a DP algorithm does is store the solutions of the subproblems it solves, so that they can be reused later. This allows for the creation of algorithms with better time complexity at the cost of some increase in space complexity.\n",
    "\n",
    "One difference from the divide-and-conquer technique is that DP decomposes the problem into overlapping subproblems or partitions that are not mutually exclusive, while divide-and-conquer algorithms work better when such overlap is not present.\n",
    "\n",
    "The primary areas where DP is applied are in counting and optimization. In the rest of this section, we will solve some classical examples to help you understand how to use this technique for analyzing and solving problems."
   ]
  },
  {
   "cell_type": "markdown",
   "metadata": {
    "id": "7DFS_tLE5BVn"
   },
   "source": [
    "As a first example, let's consider again the problem of returning the smallest number of coins.\n",
    "\n",
    "Given a total of $n$ cents, with coins $c_1, c_2, \\ldots, c_k$, and $M_n$ being the smallest number of coins that sum to $n$ cents, we can decompose the problem using the following recursive relationship:\n",
    "\n",
    "$$M_0 = 0$$\n",
    "\n",
    "$$M_n = 1 + \\min(M_{n-c}), ~ ~ c \\in \\{c_1, c_2, \\ldots, c_k\\}$$\n",
    "\n",
    "In other words, we need zero coins to make change for zero cents (the base case), and to make change for $n$ cents, we have to choose the coin $c$ that minimizes the number of coins for the remaining change, i.e., $n-c$ cents.\n",
    "\n",
    "In Python:"
   ]
  },
  {
   "cell_type": "code",
   "execution_count": 58,
   "metadata": {
    "id": "mn4a1-rIBhQc"
   },
   "outputs": [],
   "source": [
    "from math import inf as oo\n",
    "\n",
    "def minCoins(n, coins, cache=None):\n",
    "  if cache is None:\n",
    "    cache = {0:0} # zero cents need zero coins\n",
    "\n",
    "  if n not in cache:\n",
    "    cache[n] = 1 + min((minCoins(n-c, coins, cache)\n",
    "                        for c in coins if c<=n), default=+oo)\n",
    "  return cache[n] # the default value deals with empty (impossible) combinations"
   ]
  },
  {
   "cell_type": "code",
   "execution_count": 63,
   "metadata": {
    "id": "yUteDb88FMg-"
   },
   "outputs": [],
   "source": [
    "assert minCoins(458, (200,100,50,20,10,5,2,1)) == 6\n",
    "assert minCoins(6, (4,3,3,1)) == 2              # this instance failed in the greedy approach\n",
    "assert minCoins(6249, (186,419,83,408)) == 20\n",
    "assert minCoins(62, (186,419,83,408)) == +oo    # impossible instance"
   ]
  },
  {
   "cell_type": "markdown",
   "metadata": {
    "id": "-7WcVAjnUZR1"
   },
   "source": [
    "This solution is an example of a **top-down** approach. The algorithm is recursive, where the current problem instance invokes simpler instances, using memoization to avoid redundant computations. The complexity is $\\mathcal{O}(n)$ because we calculate at most $n+1$ distinct values (the change from zero to $n$ cents)."
   ]
  },
  {
   "cell_type": "markdown",
   "metadata": {
    "id": "iNZr1MGlqtWZ"
   },
   "source": [
    "> As a sidenote, Python provides a caching decorator `cache` that performs automatic memoization. Solving this problem again:"
   ]
  },
  {
   "cell_type": "code",
   "execution_count": 64,
   "metadata": {
    "id": "u1bhZ61aE99h"
   },
   "outputs": [],
   "source": [
    "from functools import cache\n",
    "\n",
    "@cache\n",
    "def minCoins(n, coins):\n",
    "  if n==0:\n",
    "    return 0 # zero cents need zero coins\n",
    "\n",
    "  return 1 + min((minCoins(n-c, coins) for c in coins if c<=n), default=+oo)"
   ]
  },
  {
   "cell_type": "markdown",
   "metadata": {
    "id": "AfLAp6Ql5l4y"
   },
   "source": [
    "Certain problem resolutions work better in a **bottom-up** approach. In these solutions, we start with the smallest problem instances and build larger instances from them. Typically, these solutions result in iterative algorithms rather than recursive ones.\n",
    "\n",
    "Let's look at an implementation of the same problem using this approach.\n",
    "\n",
    "The following algorithm creates a list `sols` to store solutions. Each index `i` of the list represents the minimum number of coins to make change for `i` cents.\n",
    "\n",
    "The loop will iterate through all the intermediate amounts, calculating the minimum based on previous positions in the list. For example, if we have coins of $10$ and $25$ cents, to calculate `sols[30]`, we will use the values of `sols[20]` ($30-10$ cents) and `sols[5]` ($30-25$ cents)."
   ]
  },
  {
   "cell_type": "code",
   "execution_count": 65,
   "metadata": {
    "id": "7x7i2WcZHMTA"
   },
   "outputs": [],
   "source": [
    "def minCoins(n, coins):\n",
    "  sols = [0] + [inf]*n  # sols[i] == minimum coins for amount i\n",
    "\n",
    "  for i in range(1,n+1):\n",
    "    sols[i] = 1 + min((sols[i-c] for c in coins if c<=i), default=+oo)\n",
    "\n",
    "  return sols[n]"
   ]
  },
  {
   "cell_type": "markdown",
   "metadata": {
    "id": "1IpquE8pJ3Ov"
   },
   "source": [
    "Complexity is again $\\mathcal{O}(n)$."
   ]
  },
  {
   "cell_type": "markdown",
   "metadata": {
    "id": "EaZeZofF59LX"
   },
   "source": [
    "Optimization problems are often associated with similar counting problems. For the problem of finding the minimum number of coins, we can solve a similar problem of calculating how many different combinations of coins, denoted as $C_n$, sum to $n$ cents.\n",
    "\n",
    "For example, with coins of $1$, $3$, and $4$ cents, there are six ways to make $5$ cents: `1+1+1+1+1`, `1+1+3`, `1+3+1`, `1+4`, `3+1+1`, `4+1` (here, the order of the coins matters).\n",
    "\n",
    "In this case, the problem decomposition would be as follows:\n",
    "\n",
    "$$C_0 = 1$$\n",
    "\n",
    "$$C_n = \\sum_{c ~ \\in ~ \\text{coins}} C_{n-c}$$\n",
    "\n",
    "There's one way to represent zero cents (with no coins). For any other amount, we take each of the coins one by one, calculate these subproblems, and return their sum.\n",
    "\n",
    "In Python:"
   ]
  },
  {
   "cell_type": "code",
   "execution_count": 66,
   "metadata": {
    "id": "uO8j_FIvH2l7"
   },
   "outputs": [],
   "source": [
    "@cache\n",
    "def countCoins(n, coins):\n",
    "  if n==0:\n",
    "    return 1  # there's one way to represent zero cents\n",
    "\n",
    "  return sum(countCoins(n-c, coins) for c in coins if c<=n)"
   ]
  },
  {
   "cell_type": "code",
   "execution_count": 67,
   "metadata": {
    "id": "9_Wt6jyUBDOt"
   },
   "outputs": [],
   "source": [
    "assert countCoins(5, (1,3,4)) == 6\n",
    "\n",
    "# how many ways are there to sum one Euro?\n",
    "assert countCoins(100, (1,2,5,10,20,50,100,200)) == 119310010658418457688202"
   ]
  },
  {
   "cell_type": "markdown",
   "metadata": {
    "id": "1Aap3yYiKFt8"
   },
   "source": [
    "It is not easy to formulate a dynamic programming solution. One approach is to think about the structure of an optimal solution, and how it can be derived from subproblems. This tends to recursive algorihtms that can be, if the programmer prefers, adapted to an iterative, bottom-up approach that fills arrays or matrices with subsolutions."
   ]
  },
  {
   "cell_type": "markdown",
   "metadata": {
    "id": "nlu7gNOLJ6BA"
   },
   "source": [
    "### Cutting Sticks"
   ]
  },
  {
   "cell_type": "markdown",
   "metadata": {
    "id": "s7a6P0A9K1Pi"
   },
   "source": [
    "Consider that you have a tree trunk of length $n$ meters and a cutter that costs $m$ credits to cut a trunk of $m$ meters. You want to cut the trunk at positions $m_1, m_2, \\ldots, m_k$ while minimizing the total number of credits spent."
   ]
  },
  {
   "cell_type": "markdown",
   "metadata": {
    "id": "KT_NjIXxL8yF"
   },
   "source": [
    "Let's consider an instance with a trunk of length $n=10$ meters and the cuts at $2, 4, 7$ meters. There are multiple possible solutions. For example, if the sequence of cuts is $2, 7, 4$, the cost will be $25$ credits. If it is $7, 4, 2$, the cost will be $21$ credits.\n",
    "\n",
    "<center><img src='https://raw.githubusercontent.com/jpneto/Prog.I/master/imgs/cutting_sticks.png' width=500px></center>"
   ]
  },
  {
   "cell_type": "markdown",
   "metadata": {
    "id": "lWKuOhIiNlOp"
   },
   "source": [
    "This problem exhibits optimal substructure: the optimal cut of a trunk section is always the same and can be used to cut trunks that include that section.\n",
    "\n",
    "Furthermore, the subproblem of cutting the section from the first, say, 75% of the trunk shares sub-subproblems with the subproblem of cutting the last 75% of the trunk. In other words, there is an overlap of subproblems. These two characteristics indicate that we can solve the original problem using dynamic programming."
   ]
  },
  {
   "cell_type": "markdown",
   "metadata": {
    "id": "jwAGzHoARoiQ"
   },
   "source": [
    "Let $C_{i, j}$ be the minimum cost of cutting between measurements $i$ and $j$. The recursive relationship that defines this problem is as follows:\n",
    "\n",
    "$$C_{i,i} = C_{i,i+1} = 0$$\n",
    "\n",
    "$$C_{i,j} = \\min(C_{i,k} + C_{k,j} + (m_j-m_i) ), ~ ~ k \\in \\{i+1, \\ldots, j-1\\}$$"
   ]
  },
  {
   "cell_type": "markdown",
   "metadata": {
    "id": "lN2kMhAgM4dE"
   },
   "source": [
    "The following **top-down** solution recursively tests the cost of cutting each of the options $m_k$ and stores the one that results in the minimum value. To avoid an exponential search for solutions, we store the previously found solutions in a cache:"
   ]
  },
  {
   "cell_type": "code",
   "execution_count": 68,
   "metadata": {
    "id": "-LPotQXmuqq-"
   },
   "outputs": [],
   "source": [
    "def cutSticks(n, cuts, i=None, j=None, cache=None):\n",
    "  if cache is None:\n",
    "    cuts = [0]+cuts+[n]               # add extremities\n",
    "    i, j = 0, len(cuts)-1             # define search interval\n",
    "    cache = {}                        # init cache\n",
    "    for k in range(n+1):\n",
    "      cache[k,k] = cache[k,k+1] = 0   # sticks of size 0 and 1 have no cost\n",
    "\n",
    "  if (i,j) not in cache:\n",
    "    cache[i,j] = min(cutSticks(n, cuts, i, k, cache) +\n",
    "                     cutSticks(n, cuts, k, j, cache) + cuts[j] - cuts[i]\n",
    "                     for k in range(i+1,j))\n",
    "  return cache[i,j]"
   ]
  },
  {
   "cell_type": "markdown",
   "metadata": {
    "id": "u5VxGT7aNfLB"
   },
   "source": [
    "The solution has to go through all combinations of $m$ cuts, resulting in a time complexity of $\\mathcal{O}(m^2)$.\n",
    "\n",
    "Here are some use cases:"
   ]
  },
  {
   "cell_type": "code",
   "execution_count": 69,
   "metadata": {
    "id": "IZwfWQbbximx"
   },
   "outputs": [],
   "source": [
    "assert cutSticks( 10, [2,4,7]) == 20\n",
    "assert cutSticks(100, [25,50,75]) == 200\n",
    "assert cutSticks(725, [34,38,90,92,136,168,314,386,501,529,560,661]) == 2486"
   ]
  },
  {
   "cell_type": "markdown",
   "metadata": {
    "id": "DEVDNVhqKCWA"
   },
   "source": [
    "### Longest Increasing Subsequence"
   ]
  },
  {
   "cell_type": "markdown",
   "metadata": {
    "id": "830cXKgbVIFC"
   },
   "source": [
    "The Longest Increasing Subsequence (LIS) problem is the task of, given a list of elements, finding the longest sequence of increasing elements, not necessarily adjacent to each other.\n",
    "\n",
    "For example, for the list `[4,2,8,5,6,3]`, two possible LIS are `[4,5,6]` or `[2,5,6]`. We cannot include the eight because it would prevent us from including the five and the six."
   ]
  },
  {
   "cell_type": "markdown",
   "metadata": {
    "id": "FLKe-2DsWPMk"
   },
   "source": [
    "Our bottom-up solution starts by calculating the increasing subsequences from index zero up to index `i`. With this information, we can then calculate the increasing subsequence for index `i+1`.\n",
    "\n",
    "In the example list `[4,2,8,5,6,3]`, our progressive calculations would create the following increasing subsequences:\n",
    "\n",
    "    0  [4]\n",
    "    1  [2]\n",
    "    2  [4,8]\n",
    "    3  [4,5]\n",
    "    4  [4,5,6]\n",
    "    5  [2,3]\n",
    "\n",
    "The LIS will be the increasing subsequence with the greatest length."
   ]
  },
  {
   "cell_type": "code",
   "execution_count": 70,
   "metadata": {
    "id": "cP-MQlP7GSRf"
   },
   "outputs": [],
   "source": [
    "def LIS(xs):\n",
    "  incs = [[] for _ in range(len(xs))] # incs[i] will have the IS from xs[:i]\n",
    "  incs[0].append(xs[0])               # initialize with the first IS\n",
    "\n",
    "  for i in range(1,len(xs)):\n",
    "    js = [j for j in range(i) if xs[j] < xs[i]]              # select all possible candidates\n",
    "    if js:\n",
    "      incs[i] = incs[max(js, key=lambda j: len(incs[j]))][:] # clone the largest IS to incs[i]\n",
    "    incs[i].append(xs[i])                                    # and add the current xs[i]\n",
    "\n",
    "  return max(incs, key=len) # LIS is the largest IS (duh!)"
   ]
  },
  {
   "cell_type": "markdown",
   "metadata": {
    "id": "-Z7coekVXbEO"
   },
   "source": [
    "Due to the loop and list comprehension, the algorithm is $\\mathcal{O}(n^2)$.\n",
    "\n",
    "A use case:"
   ]
  },
  {
   "cell_type": "code",
   "execution_count": 71,
   "metadata": {
    "colab": {
     "base_uri": "https://localhost:8080/"
    },
    "executionInfo": {
     "elapsed": 242,
     "status": "ok",
     "timestamp": 1674154928172,
     "user": {
      "displayName": "Joao Pedro Neto",
      "userId": "16588413076175252494"
     },
     "user_tz": 0
    },
    "id": "_w2Sx0ef-JPc",
    "outputId": "a9df5838-9f94-4605-8087-5323c361530d"
   },
   "outputs": [
    {
     "data": {
      "text/plain": [
       "[0, 4, 6, 9, 13, 15]"
      ]
     },
     "execution_count": 71,
     "metadata": {},
     "output_type": "execute_result"
    }
   ],
   "source": [
    "xs = [0, 8, 4, 12, 2, 10, 6, 14, 1, 9, 5, 13, 3, 11, 7, 15, 3]\n",
    "LIS(xs)"
   ]
  },
  {
   "cell_type": "markdown",
   "metadata": {
    "id": "ZUNEqxNm-Lwm"
   },
   "source": [
    "> It is possible to introduce optimizations to solve the problem in $\\mathcal{O}(n \\log k)$, where $k$ is the dimension of the solution. We will not discuss the [algorithm](https://en.wikipedia.org/wiki/Longest_increasing_subsequence)."
   ]
  },
  {
   "cell_type": "markdown",
   "metadata": {
    "id": "rsxhvuDd0PQZ"
   },
   "source": [
    "### Knapsack Problem (integer version)"
   ]
  },
  {
   "cell_type": "markdown",
   "metadata": {
    "id": "LMgs30IBKwnq"
   },
   "source": [
    "Let's go back to the knapsack problem described above with a modification: it's necessary to choose the whole object (we cannot split it into units). With this new rule, a greedy solution -- starting by choosing the fractional units from most valuable object -- no longer works."
   ]
  },
  {
   "cell_type": "markdown",
   "metadata": {
    "id": "cdj_3NQULfOA"
   },
   "source": [
    "But we can use DP to solve the problem. Let $C$ be the capacity, and $k$ objects with values $v_1, \\ldots, v_k$ and weights $w_i, \\ldots, w_k$.\n",
    "\n",
    "The total value $V_{C,S}$ for capacity $C$ and set $S$ of available objects is given by:\n",
    "\n",
    "$$V_{0,S} = 0$$\n",
    "\n",
    "$$V_{C,\\emptyset} = 0$$\n",
    "\n",
    "$$V_{C,S} = \\max( v_1 +V_{C-w_1,S-\\{1\\}} , V_{C,S-\\{1\\}} )$$\n",
    "\n",
    "In summary, the value is zero if the capacity is zero or there are no more objects to choose from (the base cases of recursion). Otherwise, the value is the maximum of two options: choosing the first object (if it's not too heavy) or not choosing.\n",
    "\n",
    "This is where the recursion step comes in. We have again a top-down approach, and we must remember to memorize the solutions we find:"
   ]
  },
  {
   "cell_type": "code",
   "execution_count": 72,
   "metadata": {
    "id": "AjJc8dsR0Qdv"
   },
   "outputs": [],
   "source": [
    "def knapsack(capacity, values, weigths, idx=0, cache=None):\n",
    "  if cache is None:\n",
    "    cache = {}\n",
    "\n",
    "  key = (idx,capacity)\n",
    "  if key not in cache:\n",
    "    if idx==len(values) or capacity==0:\n",
    "      cache[key] = 0\n",
    "    elif weigths[idx] > capacity: # if item is too heavy, skip it\n",
    "      cache[key] = knapsack(capacity, values, weigths, idx+1)\n",
    "    else:\n",
    "      cache[key] = max(values[idx] +\n",
    "                       knapsack(capacity-weigths[idx], # either use it,\n",
    "                                values, weigths, idx+1, cache),\n",
    "                       knapsack(capacity,              # or not\n",
    "                                values, weigths, idx+1, cache))\n",
    "  return cache[key]"
   ]
  },
  {
   "cell_type": "markdown",
   "metadata": {
    "id": "R5fksq2nOIO9"
   },
   "source": [
    "Some use cases:"
   ]
  },
  {
   "cell_type": "code",
   "execution_count": 73,
   "metadata": {
    "id": "dzu1eJEv0qlo"
   },
   "outputs": [],
   "source": [
    "assert knapsack(10, [10,19,10], [5,6,5]) == 20\n",
    "assert knapsack(24, [13,30,15,12,36,5,12], [5,10,6,2,19,1,2]) == 75"
   ]
  },
  {
   "cell_type": "markdown",
   "metadata": {
    "id": "I2vmDT6sOTpA"
   },
   "source": [
    "In this implementation, we are only returning the maximum value, not the objects that should be chosen. To do that, we would need to adapt the algorithm to also store the chosen elements in the cache."
   ]
  },
  {
   "cell_type": "code",
   "execution_count": 74,
   "metadata": {
    "id": "KNYwqGw9OkUK"
   },
   "outputs": [],
   "source": [
    "def knapsack2(capacity, values, weigths, idx=0, cache=None):\n",
    "  if cache is None:\n",
    "    cache = {}\n",
    "\n",
    "  key = (idx,capacity)\n",
    "  if key not in cache:\n",
    "    if idx==len(values) or capacity==0:\n",
    "      cache[key] = (0, [])\n",
    "    elif weigths[idx] > capacity:  # if item is too heavy, skip it\n",
    "      cache[key] = knapsack2(capacity, values, weigths, idx+1)\n",
    "    else:\n",
    "      sol1 = knapsack2(capacity-weigths[idx], values, weigths, idx+1, cache)\n",
    "      sol2 = knapsack2(capacity,              values, weigths, idx+1, cache)\n",
    "      if sol1[0]+values[idx] >= sol2[0]:\n",
    "        cache[key] = (sol1[0]+values[idx], sol1[1]+[idx])\n",
    "      else:\n",
    "        cache[key] = (sol2[0]            , sol2[1]+[idx])\n",
    "  return cache[key]"
   ]
  },
  {
   "cell_type": "markdown",
   "metadata": {
    "id": "wTZ90OiiQJXH"
   },
   "source": [
    "Note that now, in addition to the maximum value, the indices of the chosen objects are also returned:"
   ]
  },
  {
   "cell_type": "code",
   "execution_count": 75,
   "metadata": {
    "colab": {
     "base_uri": "https://localhost:8080/"
    },
    "executionInfo": {
     "elapsed": 358,
     "status": "ok",
     "timestamp": 1699601898673,
     "user": {
      "displayName": "Joao Pedro Neto",
      "userId": "16588413076175252494"
     },
     "user_tz": 0
    },
    "id": "Itkz4zgQPJvC",
    "outputId": "ce019eec-6aa7-4e3b-b5bc-ddb5c1263184"
   },
   "outputs": [
    {
     "data": {
      "text/plain": [
       "(75, [5, 3, 2, 1, 0])"
      ]
     },
     "execution_count": 75,
     "metadata": {},
     "output_type": "execute_result"
    }
   ],
   "source": [
    "knapsack2(24, [13,30,15,12,36,5,12], [5,10,6,2,19,1,2])"
   ]
  },
  {
   "cell_type": "markdown",
   "metadata": {
    "id": "lSVcP3gXcHsp"
   },
   "source": [
    "### Matrix Multiplication\n"
   ]
  },
  {
   "cell_type": "markdown",
   "metadata": {
    "id": "WSlENnw8K6vR"
   },
   "source": [
    "Consider that we need to multiply $n$ matrices in sequence, $A_1 A_2 \\ldots A_n$. It is known that the dimensions between consecutive matrices must be compatible. However, the order in which we choose to multiply them has consequences for the number of arithmetic operations required.\n",
    "\n",
    "For example, consider three matrices $A_1, A_2, A_3$ with dimensions $10\\times 50, 50 \\times 5, 5 \\times 100$. There are two multiplication options:\n",
    "\n",
    "- If we choose $(A_1 A_2) A_3$, we need $10\\times 50 \\times 5 + 10 \\times 5 \\times 100 = 7500$ operations.\n",
    "- If we choose $A_1(A_2A_3)$, we will spend $50\\times 5 \\times 100 + 10 \\times 50 \\times 100 = 75000$ operations. (!)"
   ]
  },
  {
   "cell_type": "markdown",
   "metadata": {
    "id": "efv8JYUqVJXv"
   },
   "source": [
    "The decomposition of the problem in terms of Dynamic Programming (DP) is as follows:\n",
    "\n",
    "Let $C_{i,j}$ be the minimum cost of multiplying $A_i \\times A_{i+1} \\times \\ldots \\times A_j$,\n",
    "\n",
    "$$C_{i,i} = 0$$\n",
    "\n",
    "$$C_{i,j} = \\min(C_{i,k} + C_{k+1,j} + m_{i-1,k,j}), ~ ~ k \\in \\{i, \\ldots, j-1\\}  $$\n",
    "\n",
    "where $m_{i-1,k,j}$ is the cost of multiplying $(A_iA_{i+1}\\ldots A_k)(A_{k+1}\\ldots A_j)$"
   ]
  },
  {
   "cell_type": "markdown",
   "metadata": {
    "id": "zwjaZQNoWgkW"
   },
   "source": [
    "In other words, the minimum possible cost is the minimum between the costs of the various possible choices to split $A_i \\times A_{i+1} \\times \\ldots \\times A_j$ into two multiplications.\n",
    "\n",
    "For example, to calculate the minimum cost of $A_1A_2A_3A_4$, we need to analyze the costs of $A_1(A_2A_3A_4)$, $(A_1A_2)(A_3A_4)$, and $(A_1A_2A_3)A_4$."
   ]
  },
  {
   "cell_type": "markdown",
   "metadata": {
    "id": "GnuJxOPhW9eU"
   },
   "source": [
    "In Python, with a bottom-up approach:"
   ]
  },
  {
   "cell_type": "code",
   "execution_count": 76,
   "metadata": {
    "id": "2jI27tPhoIZM"
   },
   "outputs": [],
   "source": [
    "from math import inf as oo\n",
    "\n",
    "def matMult(A):\n",
    "  n = len(A)\n",
    "  # cost[i][j] is minimal number of ops to compute A_i*A_{i+1}*...*A_j\n",
    "  cost = [[+oo for _ in range(n)] for _ in range(n)]\n",
    "\n",
    "  for i in range(1,n):\n",
    "    cost[i][i] = 0\n",
    "\n",
    "  for delta in range(2,n):  # delta, number of matrices multiplied\n",
    "    for i in range(1,n-delta+1):\n",
    "      j = i+delta-1\n",
    "      cost[i][j] = min(cost[i][k] + cost[k+1][j] + A[i-1]*A[k]*A[j]\n",
    "                       for k in range(i,j))\n",
    "  return cost[1][-1]"
   ]
  },
  {
   "cell_type": "markdown",
   "metadata": {
    "id": "UIR1Hlm8XWzP"
   },
   "source": [
    "Let's check the first example:"
   ]
  },
  {
   "cell_type": "code",
   "execution_count": 77,
   "metadata": {
    "id": "FJ4SSb8Lqw0i"
   },
   "outputs": [],
   "source": [
    "assert matMult([10, 50, 5, 100]) == 7500"
   ]
  },
  {
   "cell_type": "markdown",
   "metadata": {
    "id": "08Q93-wCYD8y"
   },
   "source": [
    "This algorithm is $\\mathcal{O}(n^3)$"
   ]
  },
  {
   "cell_type": "markdown",
   "metadata": {
    "id": "9oqfMYzpdh_i"
   },
   "source": [
    "\n",
    "\n",
    "---\n",
    "\n"
   ]
  },
  {
   "cell_type": "markdown",
   "metadata": {
    "id": "jhmrf9YbPUP1"
   },
   "source": [
    "Three problem decomposition techniques have been introduced. We can distinguish these techniques by how they deal with the different generated subproblems:\n",
    "\n",
    "- In divide and conquer, the problem is split into subproblems that do not interact with each other.\n",
    "  \n",
    "- In dynamic programming, the problem has optimal substructure and is divided into subproblems that share sub-subproblems.\n",
    "\n",
    "- In greedy algorithms, the problem has optimal substructure and only requires the answer to the «best» subproblem.\n",
    "\n",
    "Graphically:\n",
    "\n",
    "<center><img src='https://raw.githubusercontent.com/jpneto/Prog.I/master/imgs/DQ vs DP vs greedy.png' width=750px></center>\n",
    "\n",
    "<!--\n",
    "%%svg\n",
    "\n",
    "<svg width=\"800\" height=\"150\" xmlns=\"http://www.w3.org/2000/svg\">\n",
    " <g>\n",
    "  <title>Layer 1</title>\n",
    "  <ellipse ry=\"10\" rx=\"20\" id=\"svg_1\" cy=\"18.84444\" cx=\"178.10742\" stroke=\"#000\" fill=\"#fff\"/>\n",
    "  <ellipse ry=\"10\" rx=\"20\" id=\"svg_3\" cy=\"60.49272\" cx=\"128.10742\" stroke=\"#000\" fill=\"#fff\"/>\n",
    "  <ellipse ry=\"10\" rx=\"20\" id=\"svg_4\" cy=\"60.49272\" cx=\"224.11116\" stroke=\"#000\" fill=\"#fff\"/>\n",
    "  <ellipse ry=\"10\" rx=\"20\" id=\"svg_5\" cy=\"109.01743\" cx=\"87.11436\" stroke=\"#000\" fill=\"#fff\"/>\n",
    "  <ellipse ry=\"10\" rx=\"20\" id=\"svg_6\" cy=\"109.01743\" cx=\"149.11116\" stroke=\"#000\" fill=\"#fff\"/>\n",
    "  <ellipse ry=\"10\" rx=\"20\" id=\"svg_7\" cy=\"109.01743\" cx=\"207.17639\" stroke=\"#000\" fill=\"#fff\"/>\n",
    "  <ellipse ry=\"10\" rx=\"20\" id=\"svg_8\" cy=\"109.01743\" cx=\"270.18013\" stroke=\"#000\" fill=\"#fff\"/>\n",
    "  <ellipse ry=\"10\" rx=\"20\" id=\"svg_16\" cy=\"18.84444\" cx=\"604.01743\" stroke=\"#000\" fill=\"#fff\"/>\n",
    "  <ellipse ry=\"10\" rx=\"20\" id=\"svg_17\" cy=\"60.49273\" cx=\"604.01743\" stroke=\"#000\" fill=\"#fff\"/>\n",
    "  <ellipse ry=\"10\" rx=\"20\" id=\"svg_18\" cy=\"109.01742\" cx=\"604.01743\" stroke=\"#000\" fill=\"#fff\"/>\n",
    "  <line id=\"svg_19\" y2=\"50.84444\" x2=\"136.10742\" y1=\"25.84444\" x1=\"164.10742\" stroke=\"#000\" fill=\"none\"/>\n",
    "  <line id=\"svg_20\" y2=\"50.84444\" x2=\"136.10742\" y1=\"25.84444\" x1=\"164.10742\" stroke=\"#000\" fill=\"none\"/>\n",
    "  <line id=\"svg_22\" y2=\"50.84444\" x2=\"136.10742\" y1=\"25.84444\" x1=\"164.10742\" stroke=\"#000\" fill=\"none\"/>\n",
    "  <line id=\"svg_24\" y2=\"50.51852\" x2=\"219.7037\" y1=\"27.55556\" x1=\"191.55555\" stroke=\"#000\" fill=\"none\"/>\n",
    "  <line id=\"svg_25\" y2=\"97.92593\" x2=\"268.59259\" y1=\"69.03704\" x1=\"235.25925\" stroke=\"#000\" fill=\"none\"/>\n",
    "  <line id=\"svg_26\" y2=\"97.92593\" x2=\"207.11111\" y1=\"69.77778\" x1=\"218.96296\" stroke=\"#000\" fill=\"none\"/>\n",
    "  <line id=\"svg_27\" y2=\"98.66667\" x2=\"149.33333\" y1=\"69.77778\" x1=\"136.74074\" stroke=\"#000\" fill=\"none\"/>\n",
    "  <line id=\"svg_28\" y2=\"98.66667\" x2=\"90.81481\" y1=\"68.2963\" x1=\"113.77778\" stroke=\"#000\" fill=\"none\"/>\n",
    "  <ellipse ry=\"10\" rx=\"20\" id=\"svg_29\" cy=\"18.84444\" cx=\"425.59567\" stroke=\"#000\" fill=\"#fff\"/>\n",
    "  <ellipse ry=\"10\" rx=\"20\" id=\"svg_30\" cy=\"60.49272\" cx=\"375.59567\" stroke=\"#000\" fill=\"#fff\"/>\n",
    "  <ellipse ry=\"10\" rx=\"20\" id=\"svg_31\" cy=\"60.49272\" cx=\"471.59941\" stroke=\"#000\" fill=\"#fff\"/>\n",
    "  <ellipse ry=\"10\" rx=\"20\" id=\"svg_32\" cy=\"109.01743\" cx=\"334.60262\" stroke=\"#000\" fill=\"#fff\"/>\n",
    "  <ellipse ry=\"10\" rx=\"20\" id=\"svg_33\" cy=\"109.01743\" cx=\"396.59941\" stroke=\"#000\" fill=\"#fff\"/>\n",
    "  <ellipse ry=\"10\" rx=\"20\" id=\"svg_34\" cy=\"109.01743\" cx=\"454.66464\" stroke=\"#000\" fill=\"#fff\"/>\n",
    "  <ellipse ry=\"10\" rx=\"20\" id=\"svg_35\" cy=\"109.01743\" cx=\"517.66838\" stroke=\"#000\" fill=\"#fff\"/>\n",
    "  <line id=\"svg_36\" y2=\"50.84444\" x2=\"383.59567\" y1=\"25.84444\" x1=\"411.59567\" stroke=\"#000\" fill=\"none\"/>\n",
    "  <line id=\"svg_37\" y2=\"50.84444\" x2=\"383.59567\" y1=\"25.84444\" x1=\"411.59567\" stroke=\"#000\" fill=\"none\"/>\n",
    "  <line id=\"svg_38\" y2=\"50.84444\" x2=\"383.59567\" y1=\"25.84444\" x1=\"411.59567\" stroke=\"#000\" fill=\"none\"/>\n",
    "  <line id=\"svg_39\" y2=\"50.51852\" x2=\"467.19195\" y1=\"27.55556\" x1=\"439.04381\" stroke=\"#000\" fill=\"none\"/>\n",
    "  <line id=\"svg_40\" y2=\"97.92593\" x2=\"516.08084\" y1=\"69.03704\" x1=\"482.74751\" stroke=\"#000\" fill=\"none\"/>\n",
    "  <line id=\"svg_41\" y2=\"97.92593\" x2=\"454.59936\" y1=\"69.77778\" x1=\"466.45121\" stroke=\"#000\" fill=\"none\"/>\n",
    "  <line id=\"svg_42\" y2=\"98.66667\" x2=\"396.82158\" y1=\"69.77778\" x1=\"384.22899\" stroke=\"#000\" fill=\"none\"/>\n",
    "  <line id=\"svg_43\" y2=\"98.66667\" x2=\"338.30307\" y1=\"68.2963\" x1=\"361.26603\" stroke=\"#000\" fill=\"none\"/>\n",
    "  <line id=\"svg_44\" y2=\"100.14815\" x2=\"510.8148\" y1=\"64.59259\" x1=\"393.77776\" stroke=\"#000\" fill=\"none\"/>\n",
    "  <line id=\"svg_45\" y2=\"100.14815\" x2=\"407.1111\" y1=\"68.2963\" x1=\"458.22221\" stroke=\"#000\" fill=\"none\"/>\n",
    "  <line id=\"svg_46\" y2=\"50.53174\" x2=\"604.14813\" y1=\"29.77778\" x1=\"604.14813\" stroke=\"#000\" fill=\"none\"/>\n",
    "  <line id=\"svg_47\" y2=\"99.44444\" x2=\"604.14813\" y1=\"70.44444\" x1=\"604.14813\" stroke=\"#000\" fill=\"none\"/>\n",
    "  <text xml:space=\"preserve\" text-anchor=\"start\" font-family=\"Noto Sans JP\" font-size=\"14\" stroke-width=\"0\" id=\"svg_48\" y=\"139.40741\" x=\"126.42301\" stroke=\"#000\" fill=\"#000000\">divide and conquer</text>\n",
    "  <text xml:space=\"preserve\" text-anchor=\"start\" font-family=\"Noto Sans JP\" font-size=\"14\" stroke-width=\"0\" id=\"svg_49\" y=\"139.40741\" x=\"373.83939\" stroke=\"#000\" fill=\"#000000\">dynamic programming</text>\n",
    "  <text xml:space=\"preserve\" text-anchor=\"start\" font-family=\"Noto Sans JP\" font-size=\"14\" stroke-width=\"0\" id=\"svg_50\" y=\"139.40741\" x=\"553.85875\" stroke=\"#000\" fill=\"#000000\">greedy algorithm</text>\n",
    " </g>\n",
    "\n",
    "</svg>\n",
    "-->"
   ]
  },
  {
   "cell_type": "markdown",
   "metadata": {
    "id": "6gSnepDjL7aK"
   },
   "source": [
    "Some steps to consider when trying to solve a programming problem P:\n",
    "\n",
    "+ Is P a well-known problem? Is it a variant of a known problem? Perhaps it is a known problem in desguise... If so, start by studying the solutions found in the literature.\n",
    "\n",
    "+ If we do some type of fast pre-processing, like sorting or filtering the input data, does it simplify the problem?\n",
    "\n",
    "+ Is a simple, direct and stupid brute-force approach fast enough? Are you using appropriate data structures?\n",
    "\n",
    "+ Does a greedy algorithm solves the problem? Can you find some counter-examples? If those exist, what do they say about the problem structure?\n",
    "\n",
    "+ Can we easily split it into two or more parts, to use a divide and conquer approach? Can the solution exist between the parts? If so, how easy is to combine the results?\n",
    "\n",
    "+ Ok, nothing else works so far... Can you apply dynamic programming? Try first a top-down approach. Don't forget to cache the results.\n",
    "\n",
    "+ And what about getting back to brute-force, but using searching techniques, like backtracking?\n",
    "\n",
    "+ Are you sure there is an efficient way to solve it? Is there a possibility that the problem has exponential complexity? (we have a chapter about this)\n",
    "\n",
    "+ Can we accept a sub-optimal solution? If so, perhaps some greedy strategies deserve another look (we also have a chapter about this)"
   ]
  },
  {
   "cell_type": "markdown",
   "metadata": {
    "id": "sqSDTJH4ZAws"
   },
   "source": [
    "## Exercises"
   ]
  },
  {
   "cell_type": "markdown",
   "metadata": {
    "id": "AzlGG-sMZS8Y"
   },
   "source": [
    "<font size=\"+4\" color=\"blue;green\"><b>?</b></font> Define function `missing` that, given a list of non-negative integers in ascending order, returns the smallest element not present in the list. Your implementation should have logarithmic complexity.\n",
    "\n",
    "<details>\n",
    "<summary><font color='green'>Hint</font></summary>\n",
    "Review chapter 14 and use function `search` that generalizes binary search.\n",
    "</details>"
   ]
  },
  {
   "cell_type": "code",
   "execution_count": null,
   "metadata": {
    "id": "9DFjOkjNZ4YH"
   },
   "outputs": [],
   "source": [
    "def missing(xs):\n",
    "  ..."
   ]
  },
  {
   "cell_type": "code",
   "execution_count": null,
   "metadata": {
    "id": "a2DcdOPVZ5_B"
   },
   "outputs": [],
   "source": [
    "assert missing([0,1,2,4,5,6,8]) == 3\n",
    "assert missing([1,2,4,5,6,8,9]) == 0\n",
    "assert missing([0,1,2,3,4,5,6]) == 7"
   ]
  },
  {
   "cell_type": "markdown",
   "metadata": {
    "id": "DQTRkqv6Xe9B"
   },
   "source": [
    "\n",
    "\n",
    "---\n",
    "\n"
   ]
  },
  {
   "cell_type": "markdown",
   "metadata": {
    "id": "eJgrs3UpW1Yc"
   },
   "source": [
    "There is a formula used in fixed-rate loans that defines the monthly installment to be paid given the initial amount, the number of months for payment, and the monthly interest. This formula is implemented in the following function:"
   ]
  },
  {
   "cell_type": "code",
   "execution_count": null,
   "metadata": {
    "id": "INrk7BptUa8H"
   },
   "outputs": [],
   "source": [
    "def exactPayment(n_months, total, interest):\n",
    "  r, n = interest-1, n_months\n",
    "  return total * (r*(1+r)**n) / ((1+r)**n-1)"
   ]
  },
  {
   "cell_type": "markdown",
   "metadata": {
    "id": "I-Z4VXViW8rd"
   },
   "source": [
    "For example, if we want to repay 1000 euros over 20 months with 1% interest per month:"
   ]
  },
  {
   "cell_type": "code",
   "execution_count": null,
   "metadata": {
    "colab": {
     "base_uri": "https://localhost:8080/"
    },
    "executionInfo": {
     "elapsed": 3,
     "status": "ok",
     "timestamp": 1699602591829,
     "user": {
      "displayName": "Joao Pedro Neto",
      "userId": "16588413076175252494"
     },
     "user_tz": 0
    },
    "id": "FZ-Ed4-pU--U",
    "outputId": "b25abc56-440c-494d-8964-a0a18bdc1908"
   },
   "outputs": [
    {
     "data": {
      "text/plain": [
       "55.41531489055138"
      ]
     },
     "execution_count": 15,
     "metadata": {},
     "output_type": "execute_result"
    }
   ],
   "source": [
    "exactPayment(20, 1000.0, 1.01)"
   ]
  },
  {
   "cell_type": "markdown",
   "metadata": {
    "id": "D3recLSrSuX-"
   },
   "source": [
    "Let's assume in this exercise that we were not aware of the formula but would like to calculate the monthly installment through approximation.\n",
    "\n",
    "<font size=\"+4\" color=\"blue;green\"><b>?</b></font> Use the divide and conquer strategy to define function `findPayment` that produces an approximate result to six decimal places of the previous function."
   ]
  },
  {
   "cell_type": "code",
   "execution_count": null,
   "metadata": {
    "id": "p9kjqPLQXiwH"
   },
   "outputs": [],
   "source": [
    "def findPayment(n_months, total, interest):\n",
    "  ..."
   ]
  },
  {
   "cell_type": "markdown",
   "metadata": {
    "id": "3cOoOuifrYnZ"
   },
   "source": [
    "\n",
    "\n",
    "---\n",
    "\n"
   ]
  },
  {
   "cell_type": "markdown",
   "metadata": {
    "id": "sEN5pbuCrZbx"
   },
   "source": [
    "<font size=\"+4\" color=\"blue;green\"><b>?</b></font> Solve the next easy puzzle (from Paul Vaderlind's et.al., _The Inquisitive Problem Solver_) with pen and paper. Then solve it using binary search:\n",
    "\n",
    "> My bathroom scale is set incorrectly but otherwise it works fine. It shows 10 kilograms when Dan stands on it, 14 kilograms when Sarah stands on it, but 22.5 kilograms when Dan and Sarah are both on it. Is the scale set too high?"
   ]
  },
  {
   "cell_type": "code",
   "execution_count": null,
   "metadata": {
    "id": "WRgD1V_fr2u5"
   },
   "outputs": [],
   "source": []
  },
  {
   "cell_type": "markdown",
   "metadata": {
    "id": "iNPGquY3r9Bk"
   },
   "source": [
    "\n",
    "\n",
    "---\n",
    "\n"
   ]
  },
  {
   "cell_type": "markdown",
   "metadata": {
    "id": "u9HY0NKI1v2h"
   },
   "source": [
    "<font size=\"+4\" color=\"blue;green\"><b>?</b></font> You are given a list of integers up to size $1000$. We wish to count how many increasing subsequences are there of length $3$.\n",
    "\n",
    "For instance, for list `[2,1,5,7,3,4]` there are the following subsequences: `[2,5,7], [2,3,4], [1,5,7], [1,3,4]` so the result should be $4$."
   ]
  },
  {
   "cell_type": "markdown",
   "metadata": {
    "id": "bVGdpuIg2Yp5"
   },
   "source": [
    "The standard brute force approach has cubic complexity:"
   ]
  },
  {
   "cell_type": "code",
   "execution_count": null,
   "metadata": {
    "id": "0Vnwmbh02TjQ"
   },
   "outputs": [],
   "source": [
    "def count_ss3(ns):\n",
    "  count = 0\n",
    "  for i,x in enumerate(ns):\n",
    "    for j,y in enumerate(ns[i+1:], start=i+1):\n",
    "      for z in ns[j+1:]:\n",
    "        if x < y < z:\n",
    "          count += 1\n",
    "  return count"
   ]
  },
  {
   "cell_type": "code",
   "execution_count": null,
   "metadata": {
    "id": "sFQA-ymp22VH"
   },
   "outputs": [],
   "source": [
    "assert count_ss3([2,1,5,7,3,4]) == 4"
   ]
  },
  {
   "cell_type": "markdown",
   "metadata": {
    "id": "RZyn4TAz27GX"
   },
   "source": [
    "<font size=\"+4\" color=\"blue;green\"><b>?</b></font> Improve this code to achieve quadratic complexity."
   ]
  },
  {
   "cell_type": "markdown",
   "metadata": {
    "id": "nPxoz9xo1un1"
   },
   "source": [
    "\n",
    "\n",
    "---\n",
    "\n"
   ]
  },
  {
   "cell_type": "markdown",
   "metadata": {
    "id": "55beK_f6yi7u"
   },
   "source": [
    "<font size=\"+4\" color=\"blue;green\"><b>?</b></font> Consider a list `xs` of positive integers. Find all quadruples of elements in `xs` such as `xs[a] * xs[b] * xs[c] == xs[d]` where `a < b < c < d`."
   ]
  },
  {
   "cell_type": "markdown",
   "metadata": {
    "id": "PoiTwvKI2erD"
   },
   "source": [
    "For example, with `xs = [2,1,4,6,8,3,5,10,30,24,12]` these are the solutions:\n",
    "\n",
    "    ( 2, 1, 4, 8) -->  2 *  1 *  4 ==  8\n",
    "    ( 2, 1, 6,12) -->  2 *  1 *  6 == 12\n",
    "    ( 2, 1, 5,10) -->  2 *  1 *  5 == 10\n",
    "    ( 2, 4, 3,24) -->  2 *  4 *  3 == 24\n",
    "    ( 2, 3, 5,30) -->  2 *  3 *  5 == 30\n",
    "    ( 1, 4, 6,24) -->  1 *  4 *  6 == 24\n",
    "    ( 1, 4, 3,12) -->  1 *  4 *  3 == 12\n",
    "    ( 1, 6, 5,30) -->  1 *  6 *  5 == 30\n",
    "    ( 1, 8, 3,24) -->  1 *  8 *  3 == 24\n",
    "    ( 1, 3,10,30) -->  1 *  3 * 10 == 30"
   ]
  },
  {
   "cell_type": "markdown",
   "metadata": {
    "id": "YzDHwt-h2UUI"
   },
   "source": [
    "This problem has a standard $\\mathcal{O}(n^4)$ solution with four loops:"
   ]
  },
  {
   "cell_type": "code",
   "execution_count": 78,
   "metadata": {
    "executionInfo": {
     "elapsed": 195,
     "status": "ok",
     "timestamp": 1732815516766,
     "user": {
      "displayName": "Joao Pedro Neto",
      "userId": "16588413076175252494"
     },
     "user_tz": 0
    },
    "id": "IsFRVEju1Il8"
   },
   "outputs": [],
   "source": [
    "def triple_mults(xs):\n",
    "  for a in range(len(xs)):\n",
    "    for b in range(a+1, len(xs)):\n",
    "      for c in range(b+1, len(xs)):\n",
    "        for d in range(c+1, len(xs)):\n",
    "          if xs[a] * xs[b] * xs[c] == xs[d]:\n",
    "            yield (xs[a], xs[b], xs[c], xs[d])"
   ]
  },
  {
   "cell_type": "code",
   "execution_count": 79,
   "metadata": {
    "colab": {
     "base_uri": "https://localhost:8080/"
    },
    "executionInfo": {
     "elapsed": 172,
     "status": "ok",
     "timestamp": 1732815655359,
     "user": {
      "displayName": "Joao Pedro Neto",
      "userId": "16588413076175252494"
     },
     "user_tz": 0
    },
    "id": "JJLQVTfN2oCx",
    "outputId": "48e32a65-4638-4a53-98db-a201881e3527"
   },
   "outputs": [
    {
     "name": "stdout",
     "output_type": "stream",
     "text": [
      "(2, 1, 4, 8) (2, 1, 6, 12) (2, 1, 5, 10) (2, 4, 3, 24) (2, 3, 5, 30) (1, 4, 6, 24) (1, 4, 3, 12) (1, 6, 5, 30) (1, 8, 3, 24) (1, 3, 10, 30)\n"
     ]
    }
   ],
   "source": [
    "xs = [2,1,4,6,8,3,5,10,30,24,12]\n",
    "print(*triple_mults(xs))"
   ]
  },
  {
   "cell_type": "markdown",
   "metadata": {
    "id": "OrN4Lbb22qEF"
   },
   "source": [
    "Implement a $\\mathcal{O}(n^2)$ solution inspired in the _meet in the middle_ approach."
   ]
  },
  {
   "cell_type": "code",
   "execution_count": null,
   "metadata": {
    "id": "Lts6MqnO3LGE"
   },
   "outputs": [],
   "source": [
    "def triple_mults(xs):\n",
    "  ..."
   ]
  },
  {
   "cell_type": "markdown",
   "metadata": {
    "id": "BaZlOui1yiBK"
   },
   "source": [
    "\n",
    "\n",
    "---\n",
    "\n"
   ]
  },
  {
   "cell_type": "markdown",
   "metadata": {
    "id": "KRuSSyrqxCNH"
   },
   "source": [
    "<font size=\"+4\" color=\"blue;green\"><b>?</b></font> <font size=\"+4\" color=\"blue;green\"><b>?</b></font> Given a list with $2*n$ integers, split into two partitions each of size $n\\lt 16$ to minimize the absolute difference of their sums, and return that difference.\n",
    "\n"
   ]
  },
  {
   "cell_type": "markdown",
   "metadata": {
    "id": "pODY2Lanxhf3"
   },
   "source": [
    "The next program uses backtrack to find the solution:"
   ]
  },
  {
   "cell_type": "code",
   "execution_count": null,
   "metadata": {
    "id": "VVemLfGKxmqS"
   },
   "outputs": [],
   "source": [
    "def min_diff(ns):\n",
    "\n",
    "  def solve(i, sum1, len1, sum2, len2):\n",
    "    \"\"\" i: current index\n",
    "        sum1, sum2: current partition sums\n",
    "        len1, len2: current partition lengths \"\"\"\n",
    "    if len1 == sz//2 and sum1 == half:\n",
    "      return sum1, sum2+sum(ns[i:])\n",
    "\n",
    "    if len2 == sz//2 and sum2 == half:\n",
    "      return sum1+sum(ns[i:]), sum2\n",
    "\n",
    "    if sz-i == len1-len2:\n",
    "      return sum1, sum2+sum(ns[i:])\n",
    "\n",
    "    if sz-i == len2-len1:\n",
    "      return sum1+sum(ns[i:]), sum2\n",
    "\n",
    "    sol1_1, sol1_2 = solve(i+1, sum1+ns[i], len1+1, sum2, len2)\n",
    "    sol2_1, sol2_2 = solve(i+1, sum1, len1, sum2+ns[i], len2+1)\n",
    "\n",
    "    if abs(sol1_1-sol1_2) < abs(sol2_1-sol2_2):\n",
    "      return sol1_1, sol1_2\n",
    "    else:\n",
    "      return sol2_1, sol2_2\n",
    "\n",
    "  sz, half = len(ns), sum(ns)//2\n",
    "  xs, ys = solve(0, 0, 0, 0, 0)\n",
    "  return abs(xs-ys)"
   ]
  },
  {
   "cell_type": "code",
   "execution_count": null,
   "metadata": {
    "id": "z62dPmL2zNyE"
   },
   "outputs": [],
   "source": [
    "assert min_diff([0,6,11,17,18,24]) == 6 # [0,11,24] [6,17,18]"
   ]
  },
  {
   "cell_type": "markdown",
   "metadata": {
    "id": "BpM7nU6byAjh"
   },
   "source": [
    "However, it is too slow:"
   ]
  },
  {
   "cell_type": "code",
   "execution_count": null,
   "metadata": {
    "colab": {
     "base_uri": "https://localhost:8080/"
    },
    "executionInfo": {
     "elapsed": 30954,
     "status": "ok",
     "timestamp": 1715718422516,
     "user": {
      "displayName": "Joao Pedro Neto",
      "userId": "16588413076175252494"
     },
     "user_tz": -60
    },
    "id": "qR4Wb6IhyCTd",
    "outputId": "69a2c835-2352-4946-ccb5-c04ebc5917e4"
   },
   "outputs": [
    {
     "name": "stdout",
     "output_type": "stream",
     "text": [
      "3.84 s ± 467 ms per loop (mean ± std. dev. of 7 runs, 1 loop each)\n"
     ]
    }
   ],
   "source": [
    "xs = list(range(24))\n",
    "%timeit min_diff(xs)"
   ]
  },
  {
   "cell_type": "markdown",
   "metadata": {
    "id": "OrrEUCaGxcdU"
   },
   "source": [
    "To speed the calculations use a _meet in the middle_ approach."
   ]
  },
  {
   "cell_type": "markdown",
   "metadata": {
    "id": "5_IJYZxBw-G1"
   },
   "source": [
    "\n",
    "\n",
    "---\n",
    "\n"
   ]
  },
  {
   "cell_type": "markdown",
   "metadata": {
    "id": "mZyy0wKN4ITg"
   },
   "source": [
    "<center><img src='https://static.mathigon.org/cms/5d23833f6ca757a100c079407ea6694c.png' width=250px></center>\n",
    "\n",
    "The mathematics of Ancient Egypt only allowed fractions in the form $1/n$.\n",
    "\n",
    "In this way, other fractions smaller than one, such as $3/4$ or $6/7$, were represented as sums of Egyptian fractions. Any fraction can be represented in this way (in fact, there are several possible solutions). For example,\n",
    "\n",
    "$$3/4 = 1/2 + 1/4$$\n",
    "\n",
    "$$6/7 = 1/2 + 1/3 + 1/42$$\n",
    "\n",
    "This way of representing fractions had some advantages. For example, if it were necessary to distribute three bags of wheat among four workers, how would one do it? In Egyptian notation, the answer is immediate: each worker receives half a bag plus a quarter of a bag.\n",
    "\n",
    "<font size=\"+4\" color=\"blue;green\"><b>?</b></font> Define function `egyptians`  that takes a fraction (an object of the `Fraction` class) and returns a list of the corresponding Egyptian fractions.\n",
    "\n",
    "This problem admits a greedy approach."
   ]
  },
  {
   "cell_type": "code",
   "execution_count": null,
   "metadata": {
    "id": "kfD3ZvX-46GY"
   },
   "outputs": [],
   "source": [
    "from fractions import Fraction\n",
    "\n",
    "def egyptians(n):\n",
    "  ..."
   ]
  },
  {
   "cell_type": "code",
   "execution_count": null,
   "metadata": {
    "id": "DLfVbxXd3RCb"
   },
   "outputs": [],
   "source": [
    "assert egyptians(Fraction( 3, 4)) == [Fraction(1, 2), Fraction(1, 4)]\n",
    "assert egyptians(Fraction( 6, 7)) == [Fraction(1, 2), Fraction(1, 3), Fraction(1, 42)]\n",
    "assert egyptians(Fraction(61,66)) == [Fraction(1, 2), Fraction(1, 3), Fraction(1, 11)]"
   ]
  },
  {
   "cell_type": "markdown",
   "metadata": {
    "id": "tMoqewGx2lE9"
   },
   "source": [
    "\n",
    "\n",
    "---\n",
    "\n"
   ]
  },
  {
   "cell_type": "markdown",
   "metadata": {
    "id": "W_rcp-Yh1gIK"
   },
   "source": [
    "There are $N$ boxes where we want to store $M$ objects, $1 \\leq M \\leq 2N$. Each object has a weight $w_i$, and each box can contain up to two objects.\n",
    "\n",
    "<font size=\"+4\" color=\"blue;green\"><b>?</b></font> Define function `loadBalance` that takes value $N$ and a set of weights $w_1, \\ldots, w_M$, and distributes the objects among the boxes to minimize the difference between the box with the heaviest load and the box with the lightest load.\n",
    "\n",
    "Solve the problem using a greedy strategy."
   ]
  },
  {
   "cell_type": "code",
   "execution_count": null,
   "metadata": {
    "id": "3eTTJHHq4Tl5"
   },
   "outputs": [],
   "source": [
    "def loadBalance(N, ws):\n",
    "  ..."
   ]
  },
  {
   "cell_type": "code",
   "execution_count": null,
   "metadata": {
    "colab": {
     "base_uri": "https://localhost:8080/"
    },
    "executionInfo": {
     "elapsed": 2,
     "status": "ok",
     "timestamp": 1699603453738,
     "user": {
      "displayName": "Joao Pedro Neto",
      "userId": "16588413076175252494"
     },
     "user_tz": 0
    },
    "id": "7uY8c8YS24rQ",
    "outputId": "74d481c1-92ff-4b70-abd3-2fad1987dab1"
   },
   "outputs": [
    {
     "name": "stdout",
     "output_type": "stream",
     "text": [
      "[(10, None), (8, None), (6, 3)]\n",
      "[(14, None), (12, None), (9, 1), (8, 2), (8, 3), (6, 5)]\n"
     ]
    }
   ],
   "source": [
    "print(loadBalance(3, [3,6,8,10]))\n",
    "print(loadBalance(6, [6,8,2,1,5,3,12,8,14,9]))"
   ]
  },
  {
   "cell_type": "markdown",
   "metadata": {
    "id": "nPddQTcj1JC-"
   },
   "source": [
    "\n",
    "\n",
    "---\n",
    "\n"
   ]
  },
  {
   "cell_type": "markdown",
   "metadata": {
    "id": "_Gho5FoA6rqS"
   },
   "source": [
    "We have $n$ files $f_0, f_1, \\ldots, f_{n-1}$ with customer records that we want to merge into a single file (the order of records does not matter). We can merge two files $f_i, f_j$ at a time. Merging them costs $n_i + n_j$, where $n_k$ is the number of records in file $f_k$.\n",
    "\n",
    "<font size=\"+4\" color=\"blue;green\"><b>?</b></font> Define function `cost` which takes a list of file dimensions and indicates the minimum cost to merge all files into one.\n",
    "\n",
    "This problem admits a greedy strategy."
   ]
  },
  {
   "cell_type": "code",
   "execution_count": null,
   "metadata": {
    "id": "5PLFfWvI7arr"
   },
   "outputs": [],
   "source": [
    "def cost(ns):\n",
    "  ..."
   ]
  },
  {
   "cell_type": "code",
   "execution_count": null,
   "metadata": {
    "id": "s5FrAqUo9IXb"
   },
   "outputs": [],
   "source": [
    "ns = [500, 120, 400, 1000, 80, 130, 250]\n",
    "\n",
    "assert cost(ns) == 2480"
   ]
  },
  {
   "cell_type": "markdown",
   "metadata": {
    "id": "z6K_kklC6pnQ"
   },
   "source": [
    "\n",
    "\n",
    "---\n",
    "\n"
   ]
  },
  {
   "cell_type": "markdown",
   "metadata": {
    "id": "Kz8eMEJp7RiO"
   },
   "source": [
    "There is a set of $T$ tasks that need to be performed, and each one has a difficulty level $t_i$. Your company has $W$ workers, each with an efficiency level $w_j$. A worker's cost is given by its efficiency. A task can only be performed by a worker who has an efficiency level greater than or equal to its difficulty level. And each worker can only perform a single task.\n",
    "\n",
    "<font size=\"+4\" color=\"blue;green\"><b>?</b></font> Define the `budget` function that takes a list of task difficulties and a list of worker efficiencies and returns the minimum possible cost to perform all tasks, or `None` if it is impossible to complete the given tasks.\n",
    "\n",
    "Solve using a greedy strategy."
   ]
  },
  {
   "cell_type": "code",
   "execution_count": null,
   "metadata": {
    "id": "oqXTgMcg8u06"
   },
   "outputs": [],
   "source": [
    "def budget(tasks, workers):\n",
    "  ..."
   ]
  },
  {
   "cell_type": "code",
   "execution_count": null,
   "metadata": {
    "id": "UcVixwuZ46Z5"
   },
   "outputs": [],
   "source": [
    "assert budget([5,4], [7,8,4]) == 11\n",
    "assert budget([1234567,2345], [12345610,23564,123456,2,3,2344]) == 12369174"
   ]
  },
  {
   "cell_type": "markdown",
   "metadata": {
    "id": "jW0lhJl1456I"
   },
   "source": [
    "\n",
    "\n",
    "---\n",
    "\n"
   ]
  },
  {
   "cell_type": "markdown",
   "metadata": {
    "id": "E4GqcR02D1wj"
   },
   "source": [
    "There will be a vote in $N$ cities with populations $c_1, \\ldots, c_N$. It is necessary to distribute $M$ ballot boxes among the cities. Each city must have at least one ballot box. If a city has multiple ballot boxes, its residents are divided equally among all the boxes.\n",
    "\n",
    "<font size=\"+4\" color=\"blue;green\"><b>?</b></font> Define the `assignBallots` function that proposes a distribution of ballot boxes per city to minimize the maximum number of voters assigned to a ballot box. The function should also return this minimum number of voters per box.\n",
    "\n",
    "Solve using a greedy strategy."
   ]
  },
  {
   "cell_type": "code",
   "execution_count": null,
   "metadata": {
    "id": "EhjpYn7OFcEq"
   },
   "outputs": [],
   "source": [
    "def assignBallots(nBallots, cities):\n",
    "  ..."
   ]
  },
  {
   "cell_type": "code",
   "execution_count": null,
   "metadata": {
    "colab": {
     "base_uri": "https://localhost:8080/"
    },
    "executionInfo": {
     "elapsed": 256,
     "status": "ok",
     "timestamp": 1699606028985,
     "user": {
      "displayName": "Joao Pedro Neto",
      "userId": "16588413076175252494"
     },
     "user_tz": 0
    },
    "id": "vUe3yHfMATtf",
    "outputId": "fe860d7c-56e3-460c-ea72-9a1349bd236f"
   },
   "outputs": [
    {
     "data": {
      "text/plain": [
       "(625, {'b': 4, 'c': 6, 'a': 1, 'd': 1})"
      ]
     },
     "execution_count": 32,
     "metadata": {},
     "output_type": "execute_result"
    }
   ],
   "source": [
    "assignBallots(12, {'a':500, 'b':2500, 'c':3500, 'd':200})"
   ]
  },
  {
   "cell_type": "markdown",
   "metadata": {
    "id": "PBVri3l79xQ4"
   },
   "source": [
    "\n",
    "\n",
    "---\n",
    "\n"
   ]
  },
  {
   "cell_type": "markdown",
   "metadata": {
    "id": "eGKsah0BkKIK"
   },
   "source": [
    "At McDonald's, McNugget packages contain $6, 9,$ or $20$ pieces. A number is a _mcnugget_ if it is the sum of a set of McNugget packages. It is known that, starting from $44$, all numbers are _mcnugget_.\n",
    "\n",
    "<font size=\"+4\" color=\"blue;green\"><b>?</b></font> Define the generator `mcNugget` that generates all numbers that are **not** _mcnugget_."
   ]
  },
  {
   "cell_type": "code",
   "execution_count": null,
   "metadata": {
    "id": "Y0hUTSmKkxeS"
   },
   "outputs": [],
   "source": [
    "def non_mcNugget():\n",
    "  ..."
   ]
  },
  {
   "cell_type": "code",
   "execution_count": null,
   "metadata": {
    "colab": {
     "base_uri": "https://localhost:8080/"
    },
    "executionInfo": {
     "elapsed": 442,
     "status": "ok",
     "timestamp": 1712649447329,
     "user": {
      "displayName": "Joao Pedro Neto",
      "userId": "16588413076175252494"
     },
     "user_tz": -60
    },
    "id": "sQMD4ADDjpQt",
    "outputId": "3d815d33-e4f3-4751-9b2d-991ac44b0f43"
   },
   "outputs": [
    {
     "name": "stdout",
     "output_type": "stream",
     "text": [
      "1 2 3 4 5 7 8 10 11 13 14 16 17 19 22 23 25 28 31 34 37 43 "
     ]
    }
   ],
   "source": [
    "assert len(list(non_mcNugget())) == 22\n",
    "\n",
    "for n in non_mcNugget():\n",
    "  print(n, end=' ')"
   ]
  },
  {
   "cell_type": "markdown",
   "metadata": {
    "id": "yVba5xgXk5Zb"
   },
   "source": [
    "\n",
    "\n",
    "---\n",
    "\n"
   ]
  },
  {
   "cell_type": "markdown",
   "metadata": {
    "id": "ZyjS_h-Ur9_z"
   },
   "source": [
    "<font size=\"+4\" color=\"blue;green\"><b>?</b></font> Define function `computeAdditions` that, given two positive integers $N, K$, calculates in how many ways we can sum to $N$ with exactly $K$ non-negative integers.\n",
    "\n",
    "For example, for $N=3, K=3$, there are ten possibilities: `1+1+1, 1+2+0, 1+0+2, 2+1+0, 2+0+1, 0+1+2, 0+2+1, 3+0+0, 0+3+0, 0+0+3`.\n",
    "\n",
    "As these results grow too quickly, return the result modulo $10^6$."
   ]
  },
  {
   "cell_type": "code",
   "execution_count": null,
   "metadata": {
    "id": "-Gvk_NNAvQE1"
   },
   "outputs": [],
   "source": [
    "def computeAdditions(N, K):\n",
    "  ..."
   ]
  },
  {
   "cell_type": "code",
   "execution_count": null,
   "metadata": {
    "id": "z5aCawe0tKef"
   },
   "outputs": [],
   "source": [
    "assert computeAdditions(3,3) == 10\n",
    "assert computeAdditions(63,59) == 649440\n",
    "assert computeAdditions(33,39) == 100730"
   ]
  },
  {
   "cell_type": "markdown",
   "metadata": {
    "id": "H5GgJIHchGiA"
   },
   "source": [
    "\n",
    "\n",
    "---\n",
    "\n"
   ]
  },
  {
   "cell_type": "markdown",
   "metadata": {
    "id": "uEK-yACOd4QW"
   },
   "source": [
    "The problem known as _maximum sum in sequence_ or _range sum query_ (RSQ) refers to the problem of finding, in a list, a sequence of consecutive elements with maximum sum.\n",
    "\n",
    "For example, given the sequence `23 -10 12 9 -40 32 12 -4 10 6`, the sequence with the maximum sum is `32 12 -4 10 6`, and the total sum is $56$.\n",
    "\n",
    "<font size=\"+4\" color=\"blue;green\"><b>?</b></font> Define function `RSQ` that, given a list of integers, returns the maximum possible sum of a sequence in that list. If only negative values exist, the function should return zero. Implement the function to be $\\mathcal{O}(n)$.\n",
    "\n",
    "<details>\n",
    "<summary><font color='green'>Hint</font></summary>\n",
    "  Investigate Kadane's algorithm.\n",
    "</details>"
   ]
  },
  {
   "cell_type": "code",
   "execution_count": null,
   "metadata": {
    "id": "VFnM4IDOiv1_"
   },
   "outputs": [],
   "source": [
    "def RSQ(xs):\n",
    "  ..."
   ]
  },
  {
   "cell_type": "code",
   "execution_count": null,
   "metadata": {
    "id": "hkOZXQQaf9aj"
   },
   "outputs": [],
   "source": [
    "assert RSQ([23,-10,12,9,-40,32,12,-4,10,6]) == 56\n",
    "assert RSQ([-1,-2,-4,-3]) == 0"
   ]
  },
  {
   "cell_type": "markdown",
   "metadata": {
    "id": "IKoa6eHMkOqc"
   },
   "source": [
    "Reimplement the function to return the sublist with maximum sum."
   ]
  },
  {
   "cell_type": "code",
   "execution_count": null,
   "metadata": {
    "id": "w-0KmesBkcyK"
   },
   "outputs": [],
   "source": []
  },
  {
   "cell_type": "code",
   "execution_count": null,
   "metadata": {
    "id": "8iNqDZCSj9oG"
   },
   "outputs": [],
   "source": [
    "assert RSQ([23,-10,12,9,-40,32,12,-4,10,6]) == [32, 12, -4, 10, 6]"
   ]
  },
  {
   "cell_type": "markdown",
   "metadata": {
    "id": "utfrdYwod2xx"
   },
   "source": [
    "\n",
    "\n",
    "---\n",
    "\n"
   ]
  },
  {
   "cell_type": "markdown",
   "metadata": {
    "id": "s793WtHHp_IV"
   },
   "source": [
    "<font size=\"+4\" color=\"blue;green\"><b>?</b></font> Define function `subsetsum` that, given a positive integer $n$ and a list of positive integers, returns a pair `(report, list)`. If possible, `list` is a list of elements from the given list whose sum is $n$ (and `report` is `True`). If no solution is possible, the function should return `(False, None)`.\n",
    "\n",
    "Use dynamic programming in your solution."
   ]
  },
  {
   "cell_type": "code",
   "execution_count": null,
   "metadata": {
    "id": "FUeTzEjTqmaw"
   },
   "outputs": [],
   "source": [
    "def subsetsum(n, xs):\n",
    "  ..."
   ]
  },
  {
   "cell_type": "code",
   "execution_count": null,
   "metadata": {
    "colab": {
     "base_uri": "https://localhost:8080/"
    },
    "executionInfo": {
     "elapsed": 254,
     "status": "ok",
     "timestamp": 1712686423955,
     "user": {
      "displayName": "Joao Pedro Neto",
      "userId": "16588413076175252494"
     },
     "user_tz": -60
    },
    "id": "8pZIJIXRn3B3",
    "outputId": "95c5a67b-620d-4b9a-922e-a3c070ba64da"
   },
   "outputs": [
    {
     "name": "stdout",
     "output_type": "stream",
     "text": [
      "(True, (4, 5, 3))\n",
      "(False, ())\n"
     ]
    }
   ],
   "source": [
    "print(subsetsum(12, [3,6,1,5,4]))\n",
    "print(subsetsum(17, [3,6,1,5,4]))"
   ]
  },
  {
   "cell_type": "code",
   "execution_count": null,
   "metadata": {
    "id": "JmdK0pNDFsHS"
   },
   "outputs": [],
   "source": []
  },
  {
   "cell_type": "markdown",
   "metadata": {
    "id": "MiYg0iGgXgNz"
   },
   "source": [
    "\n",
    "\n",
    "---\n",
    "\n"
   ]
  },
  {
   "cell_type": "markdown",
   "metadata": {
    "id": "Mr7mWZ54ko4T"
   },
   "source": [
    "The _weighted independent set_ (WIS) of a graph is a set of non-adjacent vertices. If each vertex has a value, the maximal WIS is the WIS that has a maximum sum of vertex values. The solution requires an algorithm with exponencial complexity.\n",
    "\n",
    "Here we consider a path graph, which consists of a sequence of edges $(v_i, v_{i+1})$, just like the next example:\n",
    "\n",
    "<center><img src='https://raw.githubusercontent.com/jpneto/Prog.I/master/imgs/path_graph_eg.png' width=300px></center>\n",
    "\n",
    "In this example, the maximal WIS consists of the second and fourth vertices to a total sum of eight.\n",
    "\n",
    "<font size=\"+4\" color=\"blue;green\"><b>?</b></font> Define function `max_weighted_independent_set` that returns the total sum of its maximal WIS, using dynamic programming."
   ]
  },
  {
   "cell_type": "code",
   "execution_count": null,
   "metadata": {
    "id": "AALr2xowFboO"
   },
   "outputs": [],
   "source": [
    "def max_weighted_independent_set(ws):\n",
    "  ..."
   ]
  },
  {
   "cell_type": "code",
   "execution_count": null,
   "metadata": {
    "id": "WBqiWN-fFfTQ"
   },
   "outputs": [],
   "source": [
    "assert max_weighted_independent_set([1,4,5,4]) == 8\n",
    "\n",
    "from random import seed, shuffle\n",
    "seed(101); xs = list(range(1250)); shuffle(xs)\n",
    "\n",
    "assert max_weighted_independent_set(xs) == 458853"
   ]
  },
  {
   "cell_type": "markdown",
   "metadata": {
    "id": "-VVMTrP5kleN"
   },
   "source": [
    "\n",
    "\n",
    "---\n",
    "\n"
   ]
  },
  {
   "cell_type": "markdown",
   "metadata": {
    "id": "y6RffJ_HhEi-"
   },
   "source": [
    "A list is wiggly if the elements at odd indices are greater than their neighboring elements. For example, `[2,3,1,3,1,2]` is a wiggly list.\n",
    "\n",
    "<font size=\"+4\" color=\"blue;green\"><b>?</b></font> <font size=\"+4\" color=\"blue;green\"><b>?</b></font> Define function `wiggle_sort` that takes a list and returns a wiggly list with the same elements. Assume that the given list can be wiggled. Implement the function in linear time."
   ]
  },
  {
   "cell_type": "code",
   "execution_count": null,
   "metadata": {
    "id": "YHTtVfavhxAr"
   },
   "outputs": [],
   "source": [
    "def wiggle_sort(xs):\n",
    "  ..."
   ]
  },
  {
   "cell_type": "markdown",
   "metadata": {
    "id": "jeM7yZ5ar-w3"
   },
   "source": [
    "\n",
    "\n",
    "---\n",
    "\n"
   ]
  },
  {
   "cell_type": "markdown",
   "metadata": {
    "id": "A7GJhqjv4goz"
   },
   "source": [
    "The Longest Common Subsequence (LCS) is the largest common string between two given strings, if we do not require the characters to be consecutive. For example, given the strings `abcdeyf` and `xaxxbxxcdxxxf`, the LCS is `abcdf`.\n",
    "\n",
    "Search the internet by the name of the problem and study how this problem can be solved using dynamic programming.\n",
    "\n",
    "<font size=\"+4\" color=\"blue;green\"><b>?</b></font> <font size=\"+4\" color=\"blue;green\"><b>?</b></font> Define function `lcs` that, given two strings, returns their Longest Common Subsequence."
   ]
  },
  {
   "cell_type": "code",
   "execution_count": null,
   "metadata": {
    "id": "o2IP8WJ7i-R_"
   },
   "outputs": [],
   "source": [
    "def lcs(s1, s2):\n",
    "  ..."
   ]
  },
  {
   "cell_type": "code",
   "execution_count": null,
   "metadata": {
    "id": "nPq0Rk4J6Qd7"
   },
   "outputs": [],
   "source": [
    "assert lcs('abcdeyf', 'xaxxbxxcdxxxf') == 'abcdf'"
   ]
  },
  {
   "cell_type": "markdown",
   "metadata": {
    "id": "va9eGVB8i3lP"
   },
   "source": [
    "\n",
    "\n",
    "---\n",
    "\n"
   ]
  },
  {
   "cell_type": "markdown",
   "metadata": {
    "id": "PhVNILklYo3O"
   },
   "source": [
    "A sequence is bitonic if it starts with elements in ascending order and then the remaining elements are in descending order. For example, `[1,2,3,4,3,2,1]` or `[1,4,8,0]` are bitonic.\n",
    "\n",
    "<font size=\"+4\" color=\"blue;green\"><b>?</b></font> <font size=\"+4\" color=\"blue;green\"><b>?</b></font> Define the function `LBS` that, given a list of elements, returns the longest bitonic subsequence of non-consecutive elements.\n",
    "\n",
    "This problem is called the Longest Bitonic Subsequence (LBS).\n",
    "\n",
    "<details>\n",
    "<summary><font color='green'>Hint</font></summary>\n",
    "Review the solution for the Longest Common Subsequence. Why not use that algorithm in the first increasing phase and its mirror image in the second decreasing phase?\n",
    "</details>"
   ]
  },
  {
   "cell_type": "code",
   "execution_count": null,
   "metadata": {
    "id": "_6gM94akZili"
   },
   "outputs": [],
   "source": [
    "def LBS(xs):\n",
    "  ..."
   ]
  },
  {
   "cell_type": "code",
   "execution_count": null,
   "metadata": {
    "colab": {
     "base_uri": "https://localhost:8080/"
    },
    "executionInfo": {
     "elapsed": 218,
     "status": "ok",
     "timestamp": 1674154712769,
     "user": {
      "displayName": "Joao Pedro Neto",
      "userId": "16588413076175252494"
     },
     "user_tz": 0
    },
    "id": "EM27ojxTRiki",
    "outputId": "48de427e-abea-41b2-b67c-ece138eaefaa"
   },
   "outputs": [
    {
     "name": "stdout",
     "output_type": "stream",
     "text": [
      "[0, 8, 12, 14, 13, 11, 7, 3]\n",
      "[4, 5, 9, 7, 6, 3, 1]\n"
     ]
    }
   ],
   "source": [
    "print(LBS([0, 8, 4, 12, 2, 10, 6, 14, 1, 9, 5, 13, 3, 11, 7, 15, 3]))\n",
    "print(LBS([4, 2, 5, 9, 7, 6, 10, 3, 1]))"
   ]
  },
  {
   "cell_type": "markdown",
   "metadata": {
    "id": "YyTC_P8ZZqwZ"
   },
   "source": [
    "\n",
    "\n",
    "---\n",
    "\n"
   ]
  },
  {
   "cell_type": "markdown",
   "metadata": {
    "id": "VWASMiXY2ZfW"
   },
   "source": [
    "Consider a grid of size $n \\times n$ and a robot placed in one of the cells with coordinates $(x, y)$. The robot moves randomly to one of the four adjacent cells with equal probability. If the robot moves out of the grid, it does not survive.\n",
    "\n",
    "<font size=\"+4\" color=\"blue;green\"><b>?</b></font> Define the function `survival` that takes the grid dimensions, the coordinates of the initial position, and the number of steps the robot is supposed to take, and returns the probability of survival."
   ]
  },
  {
   "cell_type": "code",
   "execution_count": null,
   "metadata": {
    "id": "gvAxPEp182dX"
   },
   "outputs": [],
   "source": [
    "def survival(n, x, y, steps):\n",
    "  ..."
   ]
  },
  {
   "cell_type": "code",
   "execution_count": null,
   "metadata": {
    "id": "AkSp632H1umG"
   },
   "outputs": [],
   "source": [
    "from math import isclose\n",
    "\n",
    "assert isclose(survival( 5,  2,  2,  3), 0.9375)\n",
    "assert isclose(survival( 7,  3,  3,  3), 1.0)\n",
    "assert isclose(survival( 1,  0,  0,  3), 0.0)\n",
    "assert isclose(survival(21, 10, 10, 50), 0.89, rel_tol=1e-3)"
   ]
  },
  {
   "cell_type": "markdown",
   "metadata": {
    "id": "qaHJBWD24LxW"
   },
   "source": [
    "\n",
    "\n",
    "---\n",
    "\n"
   ]
  },
  {
   "cell_type": "markdown",
   "metadata": {
    "id": "HrMQY8-suZCH"
   },
   "source": [
    "Now we have placed the robot in the upper-left corner of another grid. This grid has, in some cells, a coin. The robot can move, in each turn, one cell to the right or one cell down. Every time the robot passes through a cell with a coin, it collects it.\n",
    "\n",
    "<font size=\"+4\" color=\"blue;green\"><b>?</b></font> Define function `collect` that takes a grid and returns the maximum number of coins that can be collected until the robot reaches the bottom-right corner."
   ]
  },
  {
   "cell_type": "code",
   "execution_count": null,
   "metadata": {
    "id": "aqTowdH4wgI9"
   },
   "outputs": [],
   "source": [
    "def collect(grid):\n",
    "  ..."
   ]
  },
  {
   "cell_type": "code",
   "execution_count": null,
   "metadata": {
    "id": "NZPDUPfMuZCH"
   },
   "outputs": [],
   "source": [
    "grid = [[0,0,1,1,0,0],\n",
    "        [0,1,1,1,0,1],\n",
    "        [0,0,1,0,0,1],\n",
    "        [1,0,1,1,1,1],\n",
    "        [1,1,1,0,1,0]]\n",
    "\n",
    "assert collect(grid) == 7"
   ]
  },
  {
   "cell_type": "markdown",
   "metadata": {
    "id": "AHfqRbx0uZCG"
   },
   "source": [
    "\n",
    "\n",
    "---\n",
    "\n"
   ]
  },
  {
   "cell_type": "markdown",
   "metadata": {
    "id": "pdAPQEBr7R87"
   },
   "source": [
    "<font size=\"+4\" color=\"blue;green\"><b>?</b></font> Define function `partition` that takes a list of integers and returns a pair of lists containing all the elements of the original list, and having the same sum. If it is not possible to partition the list, the function should return `None`.\n",
    "\n",
    "For example, for the list `[3,6,1,5,3]`, the function could return, for example, the pair `[3,6], [1,3,5]`."
   ]
  },
  {
   "cell_type": "code",
   "execution_count": null,
   "metadata": {
    "id": "ujckWRNS8yYJ"
   },
   "outputs": [],
   "source": [
    "def partition(xs):\n",
    "  ..."
   ]
  },
  {
   "cell_type": "code",
   "execution_count": null,
   "metadata": {
    "colab": {
     "base_uri": "https://localhost:8080/"
    },
    "executionInfo": {
     "elapsed": 3,
     "status": "ok",
     "timestamp": 1674163968858,
     "user": {
      "displayName": "Joao Pedro Neto",
      "userId": "16588413076175252494"
     },
     "user_tz": 0
    },
    "id": "F57f_lU27NQx",
    "outputId": "69254518-307b-4ed8-839f-f6def4241750"
   },
   "outputs": [
    {
     "name": "stdout",
     "output_type": "stream",
     "text": [
      "([3, 6], [1, 3, 5])\n",
      "([1, 3, 3, 7, 9], [1, 2, 8, 12])\n"
     ]
    }
   ],
   "source": [
    "print(partition([3,6,1,5,3]))\n",
    "print(partition([7,9,1,3,12,8,3,2,1]))"
   ]
  },
  {
   "cell_type": "markdown",
   "metadata": {
    "id": "01sCwwGs8afl"
   },
   "source": [
    "\n",
    "\n",
    "---\n",
    "\n"
   ]
  },
  {
   "cell_type": "markdown",
   "metadata": {
    "id": "PZK2uGxsbvXK"
   },
   "source": [
    "<font size=\"+4\" color=\"blue;green\"><b>?</b></font> Define function `levenshtein(word1, word2)` that returns the minimum number of editing operations needed to transform one word into another.\n",
    "\n",
    "The editing operations can be the following:\n",
    "\n",
    "+ Insert a letter at any position\n",
    "    \n",
    "+ Delete a letter\n",
    "    \n",
    "+ Replace one letter with another letter\n",
    "\n",
    "For example, the distance between `para` and `prol` is three because we need three operations to transform one into the other, that is, `para -> pra -> pro -> prol`.\n",
    "\n",
    "Your solution should have quadratic complexity, both in time and space, in relation to the number of characters in the given words.\n",
    "\n",
    "<details>\n",
    "<summary><font color='green'>Hint</font></summary>\n",
    "You should represent the information in a matrix where each row corresponds to the letters of the 1st word, and the columns to the letters of the 2nd word. In the given example, the matrix would be initialized like this:\n",
    "\n",
    "<pre>\n",
    "        p  r  o  l\n",
    "  [[ 0  1  2  3  4]\n",
    " p [ 1  0  0  0  0]\n",
    " a [ 2  0  0  0  0]\n",
    " r [ 3  0  0  0  0]\n",
    " a [ 4  0  0  0  0]]</pre>\n",
    "Each position [i][j] in the matrix will represent the distance between the strings word1[:i] and word2[:j]. The final solution after filling the matrix will be in the bottom right cell.\n",
    "\n",
    "It is possible to fill the matrix starting from the rows above, from left to right. For this example, the matrix, after being filled, will have the following values:\n",
    "<pre>\n",
    "        p  r  o  l\n",
    "  [[ 0  1  2  3  4]\n",
    " p [ 1  0  1  2  3]\n",
    " a [ 2  1  1  2  3]\n",
    " r [ 3  2  1  2  3]\n",
    " a [ 4  3  2  2  3]]</pre>\n",
    " </details>"
   ]
  },
  {
   "cell_type": "code",
   "execution_count": null,
   "metadata": {
    "id": "Az-JZgp0dJei"
   },
   "outputs": [],
   "source": [
    "def levenshtein(s1, s2):\n",
    "  ..."
   ]
  },
  {
   "cell_type": "code",
   "execution_count": null,
   "metadata": {
    "id": "1_LW8NUgdETF"
   },
   "outputs": [],
   "source": [
    "assert levenshtein('para', 'prol') == 3\n",
    "assert levenshtein('programming', 'python') == 9"
   ]
  }
 ],
 "metadata": {
  "colab": {
   "authorship_tag": "ABX9TyMH/Ogr/XFE1agwfU2UBdB8",
   "provenance": [],
   "toc_visible": true
  },
  "kernelspec": {
   "display_name": "Python 3 (ipykernel)",
   "language": "python",
   "name": "python3"
  },
  "language_info": {
   "codemirror_mode": {
    "name": "ipython",
    "version": 3
   },
   "file_extension": ".py",
   "mimetype": "text/x-python",
   "name": "python",
   "nbconvert_exporter": "python",
   "pygments_lexer": "ipython3",
   "version": "3.11.7"
  }
 },
 "nbformat": 4,
 "nbformat_minor": 4
}
