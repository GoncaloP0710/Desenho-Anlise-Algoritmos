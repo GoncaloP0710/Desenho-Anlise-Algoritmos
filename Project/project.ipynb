{
 "cells": [
  {
   "cell_type": "markdown",
   "id": "31113be5",
   "metadata": {},
   "source": [
    "# Persistent Data Structures\n",
    "\n",
    "#### Goncalo Pinto - fc58178\n",
    "\n",
    "\n",
    "<div align=\"center\">\n",
    "<a href=\"#introduction\"><kbd> <br>Introduction<br> </kbd></a>&ensp;&ensp;\n",
    "<a href=\"#motivation\"><kbd> <br>Motivation & historical background<br> </kbd></a>&ensp;&ensp;\n",
    "<a href=\"#design\"><kbd> <br>Design of the algorithms<br> </kbd></a>&ensp;&ensp;\n",
    "<a href=\"#reference\"><kbd> <br>References<br> </kbd></a>&ensp;&ensp;\n",
    "</div>\n"
   ]
  },
  {
   "cell_type": "markdown",
   "id": "89ed9b1e",
   "metadata": {
    "notebookRunGroups": {
     "groupValue": "1"
    }
   },
   "source": [
    "<a id=\"introduction\"></a>\n",
    "<img src=\"https://readme-typing-svg.herokuapp.com?font=Lexend+Giga&size=25&pause=1000&color=CCA9DD&vCenter=true&width=350&height=25&lines=Introduction\" width=\"600\"/>"
   ]
  },
  {
   "cell_type": "markdown",
   "id": "b873b42b",
   "metadata": {},
   "source": [
    "A persistent data structure is a data structure that preserves the previous versions of itself when modified, allowing access to any historical version. In other words, once a change is made to the structure, both the original and modified versions remain accessible. This is particularly useful in scenarios where you need to keep track of the history of updates or backtrack to previous states of the data structure.\n",
    "\n",
    "- A data structure is `partially persistent` if all versions can be accessed but only the newest version can be modified. \n",
    "\n",
    "- `Fully persistent` if every version can be both accessed and modified. \n",
    "\n",
    "- `Confluently persistent` is when we merge two or more versions to get a new version.\n",
    "\n",
    "These types of data structures are particularly common in logical and functional programming, as languages in those paradigms discourage (or fully forbid) the use of mutable data. \n"
   ]
  },
  {
   "cell_type": "markdown",
   "id": "f5ae0132",
   "metadata": {},
   "source": [
    "## Partially persistent data structure\n",
    "\n",
    "A partially persistent data structure is a data structure in which old versions are remembered and can always be inspected. However, only the latest version of the data structure can be modified.\n",
    "\n",
    "General theoretical schemes are known (e.g. the fat node method ) for making any data structure partially persistent.\n",
    "\n",
    "#### Pros\n",
    "\n",
    "- You can query any previous version of the data structure\n",
    "- Simpler to implement and more efficient than fully or confluently persistent structures.\n",
    "- Number of versions and extra memory needed is often limited.\n",
    "- Worst-case guarantees, updates and queries are predictable.\n",
    "\n",
    "#### Cons\n",
    "\n",
    "- You can’t modify old versions — only the latest one can be updated.\n",
    "- New version created on every update, which can increase memory usage over time.\n",
    "- Requires extra logic for version tracking. Compared to regular (non-persistent) data structures, persistence adds code and logic complexity."
   ]
  },
  {
   "cell_type": "markdown",
   "id": "d067be8c",
   "metadata": {},
   "source": [
    "## Fully persistent data structure\n",
    "\n",
    "A fully persistent structure offers accesses to its previous versions for queries and updates, where each update operation on a version of the data structure creates a new branch from this version for the new version.\n",
    "\n",
    "In a fully persistent structure, if update operation i applies to version j < i, the result of the update is version i; version j is not changed by the update. We denote by n the number of nodes in the current version.\n",
    "\n",
    "#### Pros\n",
    "\n",
    "- You can update any version, not just the latest — each update creates a new branch in the version tree.\n",
    "- Ideal for situations where different branches of computation must operate independently from the same data snapshot.\n",
    "- Old versions remain unchanged, ensuring reproducibility and safety.\n",
    "\n",
    "#### Cons\n",
    "\n",
    "- More difficult to implement than partial persistence\n",
    "- Branching versions can lead to faster memory growth, especially if changes are frequent or deep.\n",
    "- Multiple active branches may make the logic and debugging of versioned behavior more complex.\n",
    "- Some operations on older versions may become slower (e.g., in ropes or trees) due to versioning overhead."
   ]
  },
  {
   "cell_type": "markdown",
   "id": "806ad8dd",
   "metadata": {},
   "source": [
    "## Confluently persistent data structure\n",
    "\n",
    "A data structure is called confluently persistent if there is a meld operation that creates a new version from two previous versions so that branches in a version tree are joined and a version DAG is formed.\n",
    "\n",
    "Confluently Persistent Sets and Maps are functional binary search trees that support efficient set operations both when operands are disjoint and when they are overlapping.\n",
    "\n",
    "#### Pros\n",
    "\n",
    "- Supports a meld operation: you can combine two or more past versions to create a new version\n",
    "- Unlike full persistence (which forms a tree), confluent persistence allows merging branches into a directed acyclic graph (DAG) of versions.\n",
    "- Ideal for use cases involving merging divergent states (distributed systems, version control...)\n",
    "- Excellent for multi-user environments or simulations that need to branch and later reconcile state.\n",
    "\n",
    "#### Cons\n",
    "\n",
    "- Requires careful tracking of merged nodes and resolution of conflicts — significant algorithmic overhead.\n",
    "- If two merged versions changed the same data, you need a way to resolve which value wins.\n",
    "- Tracking and combining overlapping histories can result in significant duplication.\n",
    "- Ensuring structural invariants hold after merges adds implementation complexity."
   ]
  },
  {
   "cell_type": "markdown",
   "id": "ffdec100",
   "metadata": {},
   "source": [
    "## Partial versus full persistence\n",
    "\n",
    "In the partial persistence model, a programmer may query any previous version of a data structure, but may only update the latest version. This implies a linear ordering among each version of the data structure. \n",
    "\n",
    "In the fully persistent model, both updates and queries are allowed on any version of the data structure. In some cases the performance characteristics of querying or updating older versions of a data structure may be allowed to degrade, as is true with the rope data structure. More flexible than partial persistence — you can branch off from any point in the past and continue."
   ]
  },
  {
   "cell_type": "markdown",
   "id": "e8d5bed0",
   "metadata": {},
   "source": [
    "<a id=\"motivation\"></a>\n",
    "\n",
    "---\n",
    "\n",
    "<a id=\"motivation&historicalbackground\"></a>\n",
    "<img src=\"https://readme-typing-svg.herokuapp.com?font=Lexend+Giga&size=25&pause=1000&color=CCA9DD&vCenter=true&width=350&height=25&lines=Motivation &\" width=\"600\"/>\n",
    "\n",
    "<img src=\"https://readme-typing-svg.herokuapp.com?font=Lexend+Giga&size=25&pause=1000&color=CCA9DD&vCenter=true&width=350&height=25&lines=Background\" width=\"600\"/>"
   ]
  },
  {
   "cell_type": "markdown",
   "id": "f5ff3660",
   "metadata": {},
   "source": [
    "The concept of persistent data structure was introduced in Driscoll, Sarnak, Sleator, and Tarjan's 1986 article \"Making Data Structures Persistent\". \n",
    "\n",
    "The paper explores the advantages of using a data structure powerfull enghou to store previous stages of it self and compares it to a ephemeral one. It also exposed the 3 different types of persistence: Partial Persistence, Full Persistence and Confluent Persistence.\n",
    "\n",
    "The study intruduced different thecniques such as: The Fat Node Method, The Node-Copying Method or the The Node-Splitting Method."
   ]
  },
  {
   "cell_type": "markdown",
   "id": "b502676a",
   "metadata": {},
   "source": [
    "Over the years, there has been significant progress in this area, leading to more efficient implementations of persistent data structures.\n",
    "\n",
    "The paper titled \"Partially Persistent Data Structures of Bounded Degree with Constant Update Time\" by Gerth Stølting Brodal (1996) presents a method for making data structures partially persistent while guaranteeing constant worst-case time for updates and access operations — a significant improvement over earlier techniques that only offered amortized efficiency.\n",
    "\n"
   ]
  },
  {
   "cell_type": "markdown",
   "id": "18e482a9",
   "metadata": {},
   "source": [
    "---\n",
    "\n",
    "<a id=\"design\"></a>\n",
    "<img src=\"https://readme-typing-svg.herokuapp.com?font=Lexend+Giga&size=25&pause=1000&color=CCA9DD&vCenter=true&width=350&height=25&lines=Algorithms Design\" width=\"600\"/>"
   ]
  },
  {
   "cell_type": "markdown",
   "id": "f623a260",
   "metadata": {},
   "source": [
    "\n",
    "---\n",
    "\n",
    "<a id=\"references\"></a>\n",
    "<img src=\"https://readme-typing-svg.herokuapp.com?font=Lexend+Giga&size=25&pause=1000&color=CCA9DD&vCenter=true&width=350&height=25&lines=References\" width=\"600\"/>\n",
    "\n",
    "\n",
    "### Articles and Tutorials\n",
    "- [Introduction to Persistent Data Structures](https://arpitbhayani.me/blogs/persistent-data-structures-introduction/) - A beginner-friendly overview of persistent data structures.\n",
    "- [Partial Persistence](https://sungsoo.github.io/2014/01/18/partial-persistence.html) - A concise explanation of partial persistence.\n",
    "\n",
    "### Research Papers\n",
    "- [Partially Persistent Data Structures of Bounded Degree with Constant Update Time](https://www.cs.au.dk/~gerth/papers/njc96.pdf) - Gerth Stølting Brodal's seminal paper on partially persistent data structures.\n",
    "- [MIT Advanced Algorithms Lecture Notes](https://ocw.mit.edu/courses/6-854j-advanced-algorithms-fall-2005/2165d83010dc7633bce397ea75f889f9_lec05_1999.pdf) - Lecture notes discussing persistence in data structures.\n",
    "- https://www.cs.cmu.edu/~sleator/papers/making-data-structures-persistent.pdf\n",
    "- https://arxiv.org/pdf/1301.3388\n",
    "- https://www.cs.cmu.edu/~sleator/papers/another-persistence.pdf\n",
    "\n",
    "### Online Guides\n",
    "- [USACO Guide: Persistent Data Structures](https://usaco.guide/adv/persistent?lang=cpp) - A practical guide for competitive programming.\n",
    "\n",
    "### Encyclopedic Resources\n",
    "- [Wikipedia: Persistent Data Structure](https://en.wikipedia.org/wiki/Persistent_data_structure) - A general overview of persistent data structures.\n",
    "\n",
    "### Additional Resources\n",
    "- [Lirias Repository](https://lirias.kuleuven.be/retrieve/19369) - A collection of academic resources on persistence.\n"
   ]
  },
  {
   "cell_type": "markdown",
   "id": "aa196d64",
   "metadata": {},
   "source": []
  }
 ],
 "metadata": {
  "kernelspec": {
   "display_name": ".venv",
   "language": "python",
   "name": "python3"
  },
  "language_info": {
   "codemirror_mode": {
    "name": "ipython",
    "version": 3
   },
   "file_extension": ".py",
   "mimetype": "text/x-python",
   "name": "python",
   "nbconvert_exporter": "python",
   "pygments_lexer": "ipython3",
   "version": "3.13.3"
  }
 },
 "nbformat": 4,
 "nbformat_minor": 5
}
