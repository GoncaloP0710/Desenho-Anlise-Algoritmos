{
 "cells": [
  {
   "cell_type": "markdown",
   "id": "31113be5",
   "metadata": {},
   "source": [
    "# Persistent Data Structures\n",
    "\n",
    "#### Goncalo Pinto - fc58178\n",
    "\n",
    "\n",
    "<div align=\"center\">\n",
    "<a href=\"#introduction\"><kbd> <br> Introduction<br> </kbd></a>&ensp;&ensp;\n",
    "</div>\n"
   ]
  },
  {
   "cell_type": "markdown",
   "id": "89ed9b1e",
   "metadata": {
    "notebookRunGroups": {
     "groupValue": "1"
    }
   },
   "source": [
    "<a id=\"introduction\"></a>\n",
    "<img src=\"https://readme-typing-svg.herokuapp.com?font=Lexend+Giga&size=25&pause=1000&color=CCA9DD&vCenter=true&width=350&height=25&lines=Introduction\" width=\"600\"/>"
   ]
  },
  {
   "cell_type": "markdown",
   "id": "b873b42b",
   "metadata": {},
   "source": [
    "A persistent data structure is a data structure that preserves the previous versions of itself when modified, allowing access to any historical version. In other words, once a change is made to the structure, both the original and modified versions remain accessible. This is particularly useful in scenarios where you need to keep track of the history of updates or backtrack to previous states of the data structure.\n",
    "\n",
    "- A data structure is `partially persistent` if all versions can be accessed but only the newest version can be modified. \n",
    "\n",
    "- `Fully persistent` if every version can be both accessed and modified. \n",
    "\n",
    "- `Confluently persistent` is when we merge two or more versions to get a new version.\n",
    "\n",
    "These types of data structures are particularly common in logical and functional programming, as languages in those paradigms discourage (or fully forbid) the use of mutable data. \n"
   ]
  },
  {
   "cell_type": "markdown",
   "id": "f5ae0132",
   "metadata": {},
   "source": [
    "## Partially persistent data structure\n",
    "\n",
    "A partially persistent data structure is a data structure in which old versions are remembered and can always be inspected. However, only the latest version of the data structure can be modified.\n",
    "\n",
    "<div align=\"center\">\n",
    "  <img src=\"/Project/assets/partially-persistent-data-structure.png\" alt=\"plot\" width=\"500\"/>\n",
    "  <p><em>Figure: Anime list hpa test Results</em></p>\n",
    "</div>\n",
    "\n",
    "General theoretical schemes are known (e.g. the fat node method ) for making any data structure partially persistent.\n",
    "\n",
    "#### Pros\n",
    "\n",
    "- You can query any previous version of the data structure\n",
    "- Simpler to implement and more efficient than fully or confluently persistent structures.\n",
    "- Number of versions and extra memory needed is often limited.\n",
    "- Worst-case guarantees (as in Brodal’s paper), updates and queries are predictable."
   ]
  },
  {
   "cell_type": "markdown",
   "id": "d067be8c",
   "metadata": {},
   "source": [
    "## Fully persistent data structure\n",
    "\n",
    "\n"
   ]
  },
  {
   "cell_type": "markdown",
   "id": "ffdec100",
   "metadata": {},
   "source": [
    "## Partial versus full persistence\n",
    "\n",
    "In the partial persistence model, a programmer may query any previous version of a data structure, but may only update the latest version. This implies a linear ordering among each version of the data structure. \n",
    "\n",
    "In the fully persistent model, both updates and queries are allowed on any version of the data structure. In some cases the performance characteristics of querying or updating older versions of a data structure may be allowed to degrade, as is true with the rope data structure. \n",
    "\n"
   ]
  },
  {
   "cell_type": "markdown",
   "id": "e8d5bed0",
   "metadata": {},
   "source": [
    "---\n",
    "\n",
    "<a id=\"motivation&historicalbackground\"></a>\n",
    "<img src=\"https://readme-typing-svg.herokuapp.com?font=Lexend+Giga&size=25&pause=1000&color=CCA9DD&vCenter=true&width=350&height=25&lines=Motivation &\" width=\"600\"/>\n",
    "\n",
    "<img src=\"https://readme-typing-svg.herokuapp.com?font=Lexend+Giga&size=25&pause=1000&color=CCA9DD&vCenter=true&width=350&height=25&lines=Background\" width=\"600\"/>"
   ]
  },
  {
   "cell_type": "markdown",
   "id": "b502676a",
   "metadata": {},
   "source": [
    "The paper titled \"Partially Persistent Data Structures of Bounded Degree with Constant Update Time\" by Gerth Stølting Brodal presents a method for making data structures partially persistent while guaranteeing constant worst-case time for updates and access operations — a significant improvement over earlier techniques that only offered amortized efficiency.\n",
    "\n",
    "\n",
    "Previous work (like Driscoll et al., 1986) showed how to make pointer-based data structures partially persistent. However:\n",
    "- Worst-case update time could be as high as O(n).\n",
    "- Only amortized O(1) updates were guaranteed.\n",
    "\n",
    "This paper improves on that by designing a method that:\n",
    "- Keeps the in-degree and out-degree of nodes bounded.\n",
    "- Achieves worst-case constant time for both queries and updates."
   ]
  },
  {
   "cell_type": "markdown",
   "id": "f623a260",
   "metadata": {},
   "source": [
    "---\n",
    "\n",
    "<a id=\"references\"></a>\n",
    "<img src=\"https://readme-typing-svg.herokuapp.com?font=Lexend+Giga&size=25&pause=1000&color=CCA9DD&vCenter=true&width=350&height=25&lines=References\" width=\"600\"/>\n",
    "\n",
    "\n",
    "### Articles and Tutorials\n",
    "- [Introduction to Persistent Data Structures](https://arpitbhayani.me/blogs/persistent-data-structures-introduction/) - A beginner-friendly overview of persistent data structures.\n",
    "- [Partial Persistence](https://sungsoo.github.io/2014/01/18/partial-persistence.html) - A concise explanation of partial persistence.\n",
    "\n",
    "### Research Papers\n",
    "- [Partially Persistent Data Structures of Bounded Degree with Constant Update Time](https://www.cs.au.dk/~gerth/papers/njc96.pdf) - Gerth Stølting Brodal's seminal paper on partially persistent data structures.\n",
    "- [MIT Advanced Algorithms Lecture Notes](https://ocw.mit.edu/courses/6-854j-advanced-algorithms-fall-2005/2165d83010dc7633bce397ea75f889f9_lec05_1999.pdf) - Lecture notes discussing persistence in data structures.\n",
    "\n",
    "### Online Guides\n",
    "- [USACO Guide: Persistent Data Structures](https://usaco.guide/adv/persistent?lang=cpp) - A practical guide for competitive programming.\n",
    "\n",
    "### Encyclopedic Resources\n",
    "- [Wikipedia: Persistent Data Structure](https://en.wikipedia.org/wiki/Persistent_data_structure) - A general overview of persistent data structures.\n",
    "\n",
    "### Additional Resources\n",
    "- [Lirias Repository](https://lirias.kuleuven.be/retrieve/19369) - A collection of academic resources on persistence.\n"
   ]
  }
 ],
 "metadata": {
  "kernelspec": {
   "display_name": ".venv",
   "language": "python",
   "name": "python3"
  },
  "language_info": {
   "codemirror_mode": {
    "name": "ipython",
    "version": 3
   },
   "file_extension": ".py",
   "mimetype": "text/x-python",
   "name": "python",
   "nbconvert_exporter": "python",
   "pygments_lexer": "ipython3",
   "version": "3.13.3"
  }
 },
 "nbformat": 4,
 "nbformat_minor": 5
}
